{
 "cells": [
  {
   "cell_type": "code",
   "execution_count": 1,
   "metadata": {},
   "outputs": [],
   "source": [
    "import h5py\n",
    "import os"
   ]
  },
  {
   "cell_type": "code",
   "execution_count": 59,
   "metadata": {},
   "outputs": [],
   "source": [
    "ground = h5py.File('g_hhh12_12.h5', 'r')\n",
    "g = ground['X']\n",
    "\n",
    "ele_zs = h5py.File('e_zs_hhh12_12.h5', 'r')\n",
    "ezs = ele_zs['X']\n",
    "\n",
    "ele_sd = h5py.File('e_sd_hhh12_12.h5', 'r')\n",
    "esd = ele_sd['X']"
   ]
  },
  {
   "cell_type": "code",
   "execution_count": 60,
   "metadata": {},
   "outputs": [],
   "source": [
    "#进行样条差值\n",
    "import scipy.interpolate as spi\n",
    "import numpy as np"
   ]
  },
  {
   "cell_type": "markdown",
   "metadata": {},
   "source": [
    "## 高速交通速度"
   ]
  },
  {
   "cell_type": "code",
   "execution_count": 63,
   "metadata": {},
   "outputs": [],
   "source": [
    "#写h5py文件\n",
    "dataset = h5py.File(os.path.join(\"inte_e_sd_12_new_linear.h5\"), 'w')\n",
    "dataset.create_dataset('X',(len(esd),16,16),dtype='f')\n",
    "for i in range(len(esd)): \n",
    "    x = np.linspace(0,12,12)#x\n",
    "    y = np.linspace(0,12,12)#y\n",
    "\n",
    "    newfunc = spi.interp2d(x, y, esd[i], kind='linear') \n",
    "    # 计算100*100的网格上的插值\n",
    "    xnew = np.linspace(0,12,16)#x\n",
    "    ynew = np.linspace(0,12,16)#y\n",
    "    fnew = newfunc(xnew, ynew)#仅仅是y值   100*100的值\n",
    "    inputs = fnew\n",
    "    dataset['X'][i] = list(inputs)\n",
    "dataset.close()"
   ]
  },
  {
   "cell_type": "code",
   "execution_count": 76,
   "metadata": {},
   "outputs": [],
   "source": [
    "iesd = h5py.File('inte_e_sd_12_new_linear.h5', 'r')\n",
    "X1 = iesd['X']"
   ]
  },
  {
   "cell_type": "code",
   "execution_count": 77,
   "metadata": {},
   "outputs": [
    {
     "data": {
      "text/plain": [
       "133"
      ]
     },
     "execution_count": 77,
     "metadata": {},
     "output_type": "execute_result"
    }
   ],
   "source": [
    "np.count_nonzero(X1[0])"
   ]
  },
  {
   "cell_type": "code",
   "execution_count": 78,
   "metadata": {},
   "outputs": [
    {
     "data": {
      "text/plain": [
       "array([[  0.        ,   0.        ,   0.        ,   0.        ,\n",
       "          0.        ,   0.        ,   0.        ,   0.        ,\n",
       "          0.        ,   0.        ,   0.        ,   0.        ,\n",
       "          0.        ,   0.        ,   0.        ,   0.        ],\n",
       "       [  0.        ,   0.        ,  21.55657768,  36.95413589,\n",
       "          3.07951117,   0.        ,  14.9805336 ,  32.45782089,\n",
       "          4.9935112 ,   0.        ,   0.        ,   0.        ,\n",
       "          0.        ,   0.        ,   0.        ,   0.        ],\n",
       "       [  0.        ,   0.        ,  29.14053345,  49.9552002 ,\n",
       "          4.16293335,   0.        ,  10.8949337 ,  23.6056881 ,\n",
       "          3.63164449,   0.        ,   0.        ,   0.        ,\n",
       "          0.        ,   0.        ,   0.        ,   0.        ],\n",
       "       [  0.        ,   0.        ,  23.07946587,  42.11040115,\n",
       "         15.17653275,   4.24266672,   0.        ,   1.71093345,\n",
       "         11.12106705,   5.1328001 ,   0.        ,   0.        ,\n",
       "          0.        ,   0.        ,   0.        ,   0.        ],\n",
       "       [  0.        ,   0.        ,   1.92328882,  15.17653275,\n",
       "         55.71226501,  19.79911041,   0.        ,   7.98435593,\n",
       "         51.89831543,  23.95306778,   0.        ,   0.        ,\n",
       "          0.        ,   0.        ,   0.        ,   0.        ],\n",
       "       [  0.        ,   0.        ,   0.        ,  13.4119997 ,\n",
       "         62.58933258,  50.73333359,  25.54199982,   2.85155582,\n",
       "         18.53511238,  35.06266403,  29.45333099,   0.        ,\n",
       "          0.        ,  21.05955505,  28.9568882 ,   0.        ],\n",
       "       [ 22.65600014,   6.04159975,   0.        ,   8.25239944,\n",
       "         38.51119995,  55.27199936,  47.4557991 ,  21.86079979,\n",
       "          3.36320019,  23.85719872,  26.50799942,   0.        ,\n",
       "          0.        ,  18.95359993,  26.06119919,   0.        ],\n",
       "       [ 49.08800125,  13.09013367,   0.        ,   0.        ,\n",
       "          0.        ,  39.92488861,  57.79320145,  47.36506653,\n",
       "          7.28693342,   0.        ,   2.9460001 ,   8.82142258,\n",
       "          8.6390667 ,   4.00835562,   0.        ,   0.        ],\n",
       "       [  7.55200005,   2.01386666,   0.        ,   0.        ,\n",
       "          0.        ,  39.8417778 ,  39.22080231,   7.28693342,\n",
       "          1.12106669,   0.        ,  19.14900017,  57.33924866,\n",
       "         56.15393448,  26.05430984,   0.        ,   0.        ],\n",
       "       [  0.        ,  29.80559921,  39.73866653,  30.96320152,\n",
       "          2.58026671,  15.93066692,  14.33760071,   0.        ,\n",
       "          0.        ,   0.        ,   8.8380003 ,  29.0466671 ,\n",
       "         56.90599823,  30.10186577,  11.98079967,  44.92799759],\n",
       "       [ 20.43666649,  38.56711197,  53.48118591,  54.79888916,\n",
       "         24.76074028,   7.34333277,   8.28733349,  17.95588875,\n",
       "          2.7624445 ,   0.        ,   0.        ,   2.86933327,\n",
       "         34.43199921,  20.08533287,  13.31199932,  49.91999817],\n",
       "       [ 57.22266769,  15.25937843,  26.11591148,  57.10693359,\n",
       "         61.30257416,  20.5613327 ,  24.98606682,  54.13647842,\n",
       "          8.32868862,   0.        ,   0.        ,   0.        ,\n",
       "          0.        ,   0.        ,   1.3523556 ,   5.07133341],\n",
       "       [ 12.26200008,   3.2698667 ,   5.59626675,  12.23719978,\n",
       "         13.13626575,   4.40599966,  26.35080147,  57.09340286,\n",
       "          8.78359985,   0.        ,   0.        ,   0.        ,\n",
       "          0.        ,   0.        ,  16.22826576,  60.85599899],\n",
       "       [  0.        ,  24.0259552 ,  17.473423  ,   0.        ,\n",
       "          0.        ,   0.        ,  12.47073364,  27.01992416,\n",
       "          4.15691137,   0.        ,   0.        ,   0.        ,\n",
       "          0.        ,   0.        ,   9.46648884,  35.49933243],\n",
       "       [ 16.69600105,  37.487957  ,  32.57279968,  14.6517334 ,\n",
       "          1.22097778,   0.        ,   0.        ,   0.        ,\n",
       "          0.        ,   0.        ,   0.        ,   0.        ,\n",
       "          0.        ,   0.        ,   0.        ,   0.        ],\n",
       "       [ 62.61000061,  16.69600105,  32.05066681,  54.94400024,\n",
       "          4.57866669,   0.        ,   0.        ,   0.        ,\n",
       "          0.        ,   0.        ,   0.        ,   0.        ,\n",
       "          0.        ,   0.        ,   0.        ,   0.        ]], dtype=float32)"
      ]
     },
     "execution_count": 78,
     "metadata": {},
     "output_type": "execute_result"
    }
   ],
   "source": [
    "X1[0]"
   ]
  },
  {
   "cell_type": "code",
   "execution_count": 30,
   "metadata": {},
   "outputs": [
    {
     "data": {
      "text/plain": [
       "(16, 16)"
      ]
     },
     "execution_count": 30,
     "metadata": {},
     "output_type": "execute_result"
    }
   ],
   "source": [
    "np.shape(X[0])"
   ]
  },
  {
   "cell_type": "code",
   "execution_count": 81,
   "metadata": {},
   "outputs": [],
   "source": [
    "#写h5py文件\n",
    "dataset = h5py.File(os.path.join(\"inte_e_sd_12_new_quintic.h5\"), 'w')\n",
    "dataset.create_dataset('X',(len(esd),16,16),dtype='f')\n",
    "for i in range(len(esd)): \n",
    "    x = np.linspace(0,12,12)#x\n",
    "    y = np.linspace(0,12,12)#y\n",
    "\n",
    "    newfunc = spi.interp2d(x, y, esd[i], kind='quintic') \n",
    "#     newfunc = spi.Rbf(x,y,esd[i],function='multiquadric')\n",
    "    # 计算100*100的网格上的插值\n",
    "    xnew = np.linspace(0,12,16)#x\n",
    "    ynew = np.linspace(0,12,16)#y\n",
    "    fnew = newfunc(xnew, ynew)#仅仅是y值   100*100的值\n",
    "    inputs = fnew\n",
    "    dataset['X'][i] = list(inputs)\n",
    "dataset.close()"
   ]
  },
  {
   "cell_type": "code",
   "execution_count": 82,
   "metadata": {},
   "outputs": [],
   "source": [
    "iesd = h5py.File('inte_e_sd_12_new_quintic.h5', 'r')\n",
    "X = iesd['X']"
   ]
  },
  {
   "cell_type": "code",
   "execution_count": null,
   "metadata": {},
   "outputs": [],
   "source": []
  },
  {
   "cell_type": "code",
   "execution_count": 83,
   "metadata": {},
   "outputs": [
    {
     "data": {
      "text/plain": [
       "array([[ -1.81088974e-15,  -4.82803994e-15,   4.59790702e-15,\n",
       "          1.10990949e-16,  -2.97555051e-15,   4.07016949e-15,\n",
       "          2.06999902e-15,  -9.08563538e-15,  -9.18748178e-15,\n",
       "         -3.31537960e-17,   3.84031525e-15,   5.91065467e-16,\n",
       "         -2.29747681e-16,   2.10212317e-15,   2.07901061e-15,\n",
       "         -2.86356799e-16],\n",
       "       [  7.34596014e+00,  -6.88214874e+00,   2.33758659e+01,\n",
       "          4.24426193e+01,   1.44700727e+01,  -2.18997631e+01,\n",
       "          2.06643677e+01,   7.72285538e+01,   4.24847527e+01,\n",
       "         -9.64358997e+00,  -1.76998615e+01,  -2.82598853e+00,\n",
       "          1.26830265e-01,  -1.15496378e+01,  -1.69809475e+01,\n",
       "          2.15727305e+00],\n",
       "       [ -5.58509350e+00,  -5.73203392e+01,   7.33572464e+01,\n",
       "          6.36735306e+01,  -6.99034786e+00,  -6.48313761e+00,\n",
       "          2.53990231e+01,   7.51517963e+00,  -2.66676521e+01,\n",
       "         -3.46785808e+00,   1.90506687e+01,   1.33763611e+00,\n",
       "         -1.88265777e+00,   1.23282347e+01,   8.90520191e+00,\n",
       "         -1.63525748e+00],\n",
       "       [  2.90314817e+00,  -2.46981850e+01,   3.82518921e+01,\n",
       "          4.40247765e+01,   1.27284851e+01,  -3.95794797e+00,\n",
       "         -6.74165058e+00,   3.87498617e+00,   1.95574875e+01,\n",
       "          3.38377547e+00,  -1.08730001e+01,  -5.72458863e-01,\n",
       "          1.24026525e+00,  -7.00534678e+00,  -4.50776434e+00,\n",
       "          8.45157623e-01],\n",
       "       [  1.32948995e+00,   2.47578430e+01,  -2.05703716e+01,\n",
       "          1.88146248e+01,   5.96467323e+01,   2.31640892e+01,\n",
       "         -2.07444038e+01,   1.24619226e+01,   6.43148117e+01,\n",
       "          2.70782852e+01,  -1.47363338e+01,   1.08104670e+00,\n",
       "          3.49374866e+00,  -8.95087051e+00,   4.68388224e+00,\n",
       "          3.81150872e-01],\n",
       "       [ -9.56348038e+00,   2.43370628e+01,  -2.77385731e+01,\n",
       "          1.35137367e+01,   7.84253693e+01,   7.10382004e+01,\n",
       "          1.61898632e+01,  -1.07625561e+01,   1.51643476e+01,\n",
       "          5.31754227e+01,   4.35787544e+01,   1.71766996e+00,\n",
       "         -4.31942892e+00,   3.03290482e+01,   5.13828850e+01,\n",
       "         -2.55101442e+00],\n",
       "       [  2.64438763e+01,   9.32956314e+00,  -4.86711472e-01,\n",
       "          9.47394371e+00,   3.60906639e+01,   6.24787827e+01,\n",
       "          6.23848114e+01,   1.95343552e+01,  -1.29911222e+01,\n",
       "          3.01078720e+01,   4.07213440e+01,  -1.39121647e+01,\n",
       "         -1.68096905e+01,   2.93405781e+01,   3.82961769e+01,\n",
       "          5.00322056e+00],\n",
       "       [  5.59224205e+01,  -8.55560207e+00,   3.95429063e+00,\n",
       "         -6.80249643e+00,  -5.75369453e+00,   3.83455276e+01,\n",
       "          7.39845734e+01,   5.47033882e+01,   8.58807182e+00,\n",
       "         -1.02053070e+01,  -4.29724693e-01,   9.61892700e+00,\n",
       "          7.97766352e+00,  -1.03867245e+00,  -6.94187546e+00,\n",
       "         -4.00256395e+00],\n",
       "       [  9.87073708e+00,  -2.19079189e+01,   6.81948757e+00,\n",
       "         -1.08723011e+01,  -3.94475126e+00,   5.20018387e+01,\n",
       "          4.95498390e+01,   4.87744999e+00,   1.40602911e+00,\n",
       "         -6.83687544e+00,   1.43703508e+01,   6.76857452e+01,\n",
       "          6.71094437e+01,   1.96899490e+01,  -7.05985737e+00,\n",
       "         -8.08836555e+00],\n",
       "       [ -1.78163109e+01,   2.30979710e+01,   6.45897751e+01,\n",
       "          2.30519581e+01,  -8.35195827e+00,   1.80500183e+01,\n",
       "          1.27565651e+01,  -1.85546837e+01,  -5.22056484e+00,\n",
       "          4.99188709e+00,   6.51040936e+00,   3.65683441e+01,\n",
       "          7.60287552e+01,   5.53996391e+01,  -2.51629848e+01,\n",
       "          5.83760071e+01],\n",
       "       [  2.60912056e+01,   4.37833672e+01,   7.56778107e+01,\n",
       "          6.90326309e+01,   2.68590317e+01,  -8.37053013e+00,\n",
       "          4.20697784e+00,   2.13195763e+01,   3.42843914e+00,\n",
       "         -8.05592060e-01,  -8.05482197e+00,  -1.01854534e+01,\n",
       "          3.19975967e+01,   4.09130478e+01,  -3.15046310e+01,\n",
       "          5.63145027e+01],\n",
       "       [  6.12150688e+01,   3.80433846e+00,   1.12546329e+01,\n",
       "          7.12011185e+01,   7.15900116e+01,   8.28971291e+00,\n",
       "          2.51918793e+01,   6.44897537e+01,   9.73683357e+00,\n",
       "         -1.08169975e+01,   6.33670521e+00,   7.71112025e-01,\n",
       "         -3.40361643e+00,   6.22700095e-01,  -1.82947552e+00,\n",
       "         -1.26085234e+00],\n",
       "       [  1.73127861e+01,  -9.73416328e-01,  -1.19456139e+01,\n",
       "          1.91678810e+01,   2.26387844e+01,  -4.95788145e+00,\n",
       "          3.51915092e+01,   7.09782410e+01,   1.00998707e+01,\n",
       "         -1.13158398e+01,   7.60120058e+00,   2.68815064e+00,\n",
       "         -4.25699568e+00,  -2.86938262e+00,   5.08385372e+00,\n",
       "          5.43828468e+01],\n",
       "       [ -2.46694832e+01,   5.01003723e+01,   1.37732430e+01,\n",
       "         -1.86973419e+01,  -2.86409321e+01,  -1.90560703e+01,\n",
       "          1.73912296e+01,   3.39846115e+01,   4.97786093e+00,\n",
       "         -4.11602545e+00,  -2.10643435e+00,  -6.94099617e+00,\n",
       "          4.31471586e+00,   8.66085339e+00,  -4.64529276e+00,\n",
       "          8.38724060e+01],\n",
       "       [  3.13621521e+01,   7.79030380e+01,   2.66775303e+01,\n",
       "          1.84943771e+01,   3.27997093e+01,   2.00100365e+01,\n",
       "         -8.59896851e+00,  -1.55365391e+01,  -2.35448742e+00,\n",
       "          9.88977432e-01,   4.86774302e+00,   8.86384106e+00,\n",
       "         -5.75043678e+00,  -1.04288940e+01,   7.16708660e+00,\n",
       "         -7.05538177e+01],\n",
       "       [  6.26100006e+01,  -3.88956871e+01,   5.88949890e+01,\n",
       "          5.78435593e+01,   3.27928996e+00,  -5.93125248e+00,\n",
       "          3.33583021e+00,  -7.64359355e-01,  -4.14975435e-01,\n",
       "          5.28172731e-01,  -2.70239741e-01,   4.04026508e-02,\n",
       "          8.95997733e-02,  -1.73370883e-01,   2.28720948e-01,\n",
       "          0.00000000e+00]], dtype=float32)"
      ]
     },
     "execution_count": 83,
     "metadata": {},
     "output_type": "execute_result"
    }
   ],
   "source": [
    "X[0]"
   ]
  },
  {
   "cell_type": "code",
   "execution_count": null,
   "metadata": {},
   "outputs": [],
   "source": []
  },
  {
   "cell_type": "code",
   "execution_count": 10,
   "metadata": {},
   "outputs": [],
   "source": [
    "import matplotlib.pyplot as plt"
   ]
  },
  {
   "cell_type": "code",
   "execution_count": 14,
   "metadata": {},
   "outputs": [
    {
     "data": {
      "image/png": "[encoded data removed]",
      "text/plain": [
       "<Figure size 432x288 with 2 Axes>"
      ]
     },
     "metadata": {
      "needs_background": "light"
     },
     "output_type": "display_data"
    }
   ],
   "source": [
    "plt.imshow(g[0], cmap=\"seismic\", clim=(-1, 1))\n",
    "plt.colorbar()\n",
    "plt.show()"
   ]
  },
  {
   "cell_type": "code",
   "execution_count": 9,
   "metadata": {},
   "outputs": [
    {
     "data": {
      "text/plain": [
       "<matplotlib.colorbar.Colorbar at 0x1dbfd5d18d0>"
      ]
     },
     "execution_count": 9,
     "metadata": {},
     "output_type": "execute_result"
    },
    {
     "data": {
      "image/png": "[encoded data removed]",
      "text/plain": [
       "<Figure size 432x288 with 2 Axes>"
      ]
     },
     "metadata": {
      "needs_background": "light"
     },
     "output_type": "display_data"
    }
   ],
   "source": [
    "import pylab as pl\n",
    "import matplotlib as mpl\n",
    "pl.subplot(121)\n",
    "im1=pl.imshow(X[0], extent=[0,16,0,16], cmap=mpl.cm.hot, origin=\"lower\")#pl.cm.jet\n",
    "#extent=[-1,1,-1,1]为x,y范围  favals为\n",
    "pl.colorbar(im1)"
   ]
  },
  {
   "cell_type": "code",
   "execution_count": 8,
   "metadata": {},
   "outputs": [],
   "source": [
    "%matplotlib inline"
   ]
  },
  {
   "cell_type": "markdown",
   "metadata": {},
   "source": [
    "## 高速交通指数"
   ]
  },
  {
   "cell_type": "code",
   "execution_count": 84,
   "metadata": {},
   "outputs": [],
   "source": [
    "#写h5py文件\n",
    "dataset = h5py.File(os.path.join(\"inte_e_zs_12_new_linear.h5\"), 'w')\n",
    "dataset.create_dataset('X',(len(esd),16,16),dtype='f')\n",
    "for i in range(len(ezs)): \n",
    "    x = np.linspace(0,12,12)#x\n",
    "    y = np.linspace(0,12,12)#y\n",
    "\n",
    "    newfunc = spi.interp2d(x, y, ezs[i], kind='linear') \n",
    "    # 计算100*100的网格上的插值\n",
    "    xnew = np.linspace(0,12,16)#x\n",
    "    ynew = np.linspace(0,12,16)#y\n",
    "    fnew = newfunc(xnew, ynew)#仅仅是y值   100*100的值\n",
    "    inputs = fnew\n",
    "    dataset['X'][i] = list(inputs)\n",
    "dataset.close()"
   ]
  },
  {
   "cell_type": "code",
   "execution_count": null,
   "metadata": {},
   "outputs": [],
   "source": []
  },
  {
   "cell_type": "markdown",
   "metadata": {},
   "source": [
    "## 地面交通指数"
   ]
  },
  {
   "cell_type": "code",
   "execution_count": 85,
   "metadata": {},
   "outputs": [],
   "source": [
    "#写h5py文件\n",
    "dataset = h5py.File(os.path.join(\"inte_g_12_linear.h5\"), 'w')\n",
    "dataset.create_dataset('X',(len(g),16,16),dtype='f')\n",
    "for i in range(len(g)): \n",
    "    x = np.linspace(0,12,12)#x\n",
    "    y = np.linspace(0,12,12)#y\n",
    "\n",
    "    newfunc = spi.interp2d(x, y, g[i], kind='linear') \n",
    "    # 计算100*100的网格上的插值\n",
    "    xnew = np.linspace(0,12,16)#x\n",
    "    ynew = np.linspace(0,12,16)#y\n",
    "    fnew = newfunc(xnew, ynew)#仅仅是y值   100*100的值\n",
    "    inputs = fnew\n",
    "    dataset['X'][i] = list(inputs)\n",
    "dataset.close()"
   ]
  },
  {
   "cell_type": "code",
   "execution_count": 19,
   "metadata": {},
   "outputs": [],
   "source": [
    "iesd = h5py.File('inte_g_12.h5', 'r')\n",
    "X = iesd['X']"
   ]
  },
  {
   "cell_type": "code",
   "execution_count": 20,
   "metadata": {},
   "outputs": [
    {
     "data": {
      "text/plain": [
       "1.5318667"
      ]
     },
     "execution_count": 20,
     "metadata": {},
     "output_type": "execute_result"
    }
   ],
   "source": [
    "X[0][5][4]"
   ]
  },
  {
   "cell_type": "code",
   "execution_count": 21,
   "metadata": {
    "collapsed": true
   },
   "outputs": [
    {
     "data": {
      "text/plain": [
       "array([[  2.15165962e-19,   1.16892690e-02,  -1.72262918e-02,\n",
       "          2.26514544e-02,   1.95753314e-02,  -2.06240088e-01,\n",
       "          6.16119564e-01,  -7.21630573e-01,  -1.78135514e+00,\n",
       "          1.66158791e+01,   2.93512249e+01,   1.94326191e+01,\n",
       "          3.00012422e+00,  -2.15448236e+00,   1.46197009e+00,\n",
       "         -3.57209143e-21],\n",
       "       [  9.66346823e-04,   2.44889453e-01,  -9.04240087e-02,\n",
       "         -5.37326574e-01,  -1.75834090e-01,   1.97629321e+00,\n",
       "          3.13064814e+00,   2.12943554e+00,   3.10447961e-02,\n",
       "         -8.00992310e-01,   1.54556704e+01,   2.94823627e+01,\n",
       "          6.13767338e+00,  -4.43320084e+00,   3.17129445e+00,\n",
       "          2.05376073e-05],\n",
       "       [ -1.42409012e-03,  -3.67332816e-01,   1.42751515e-01,\n",
       "          7.79364228e-01,   2.48334050e-01,  -2.79875326e+00,\n",
       "         -4.95318985e+00,  -2.74035501e+00,   9.36127305e-01,\n",
       "         -4.06268167e+00,   1.16031301e+00,   1.23890257e+01,\n",
       "          2.89694309e+00,  -2.20510912e+00,   1.25603831e+00,\n",
       "         -3.02659482e-05],\n",
       "       [  1.87258597e-03,   4.76130784e-01,  -1.77558184e-01,\n",
       "         -1.03816104e+00,  -3.38078141e-01,   3.86125159e+00,\n",
       "          6.61231709e+00,   3.96475720e+00,  -7.86023021e-01,\n",
       "          2.47682261e+00,   2.84239435e+00,  -2.08885813e+00,\n",
       "         -6.77484572e-01,   6.04613066e-01,  -9.43129510e-02,\n",
       "          3.97977565e-05],\n",
       "       [  1.61828415e-03,   4.53023147e-03,   4.46256906e-01,\n",
       "         -1.68574572e+00,  -9.73646104e-01,   1.65167084e+01,\n",
       "          3.08439751e+01,   2.21136875e+01,   3.96538079e-01,\n",
       "          9.31952953e+00,   1.36200886e+01,  -1.10926771e+00,\n",
       "         -1.05305970e+00,   8.86398077e-01,  -3.28432351e-01,\n",
       "          3.43931206e-05],\n",
       "       [ -1.70497801e-02,  -7.35974121e+00,   7.31850290e+00,\n",
       "          1.29223013e+01,   1.53186667e+00,   1.69734204e+00,\n",
       "          1.52970686e+01,   2.46247711e+01,   1.63427315e+01,\n",
       "          5.51357365e+00,   4.67530489e-01,   3.30196768e-01,\n",
       "          2.46995434e-01,  -1.10415697e+00,  -2.12754893e+00,\n",
       "         -3.62356106e-04],\n",
       "       [  5.09343371e-02,   2.87177873e+00,   2.25208530e+01,\n",
       "          2.22256508e+01,  -9.94827211e-01,  -5.37983000e-01,\n",
       "          1.38348131e+01,   2.42117901e+01,   2.55430927e+01,\n",
       "          1.77673264e+01,   7.03197432e+00,  -1.83143854e-01,\n",
       "         -8.89898658e-01,   3.81974602e+00,   7.25210285e+00,\n",
       "          1.08249893e-03],\n",
       "       [ -5.96568920e-02,   1.24435997e+01,   2.72976227e+01,\n",
       "          2.18022079e+01,   3.09225082e+00,   1.64716835e+01,\n",
       "          2.97042255e+01,   2.61770878e+01,   2.39489632e+01,\n",
       "          2.88041267e+01,   1.90925369e+01,  -1.61885130e+00,\n",
       "         -2.34430981e+00,   7.52325392e+00,   1.28894072e+01,\n",
       "         -1.26787787e-03],\n",
       "       [ -1.47263855e-01,  -3.77244210e+00,   1.21440487e+01,\n",
       "          2.52225761e+01,   2.57040787e+01,   2.46197147e+01,\n",
       "          2.38235893e+01,   2.45752354e+01,   2.44564247e+01,\n",
       "          1.03310413e+01,  -1.19862676e+00,  -9.70266521e-01,\n",
       "         -1.12572126e-01,   2.30813876e-01,   3.18810642e-01,\n",
       "         -3.12977424e-03],\n",
       "       [  8.94534349e-01,   8.52198410e+00,   1.92256527e+01,\n",
       "          2.93604946e+01,   3.50786209e+01,   3.37818794e+01,\n",
       "          3.09738636e+01,   2.78122101e+01,   2.13329906e+01,\n",
       "          1.40161858e+01,   1.17588243e+01,   9.92882252e+00,\n",
       "          9.05960262e-01,   4.38329935e+00,   1.27218590e+01,\n",
       "          1.90113876e-02],\n",
       "       [ -2.23785591e+00,   1.24458723e+01,   2.25615501e+01,\n",
       "          2.77284679e+01,   3.02299175e+01,   3.38153305e+01,\n",
       "          2.63104763e+01,   1.63389645e+01,   1.93143730e+01,\n",
       "          1.66877842e+01,   1.79149818e+01,   1.86672573e+01,\n",
       "          2.34469461e+00,   5.13587284e+00,   1.78120537e+01,\n",
       "         -4.75607738e-02],\n",
       "       [  1.45442700e+00,  -5.42412949e+00,   1.02824945e+01,\n",
       "          2.39475441e+01,   2.56184368e+01,   2.61851025e+01,\n",
       "          1.06947994e+01,   1.69130957e+00,   2.13227711e+01,\n",
       "          8.92047405e+00,   1.95161939e+00,   1.42427750e+01,\n",
       "          3.47011971e+00,  -3.08937550e+00,   4.24032032e-01,\n",
       "          3.07491701e-02],\n",
       "       [  2.31586246e+01,  -3.03716636e+00,   9.13868332e+00,\n",
       "          2.43950005e+01,   2.56635284e+01,   2.53729649e+01,\n",
       "          2.04925156e+01,   1.63224411e+01,   2.03756218e+01,\n",
       "          1.76356487e+01,   8.82781792e+00,   1.87938631e+00,\n",
       "          2.79421806e-01,  -1.58975434e+00,  -3.23546386e+00,\n",
       "          2.13077188e-01],\n",
       "       [  1.64466476e+01,   5.79510927e-01,   5.23943186e+00,\n",
       "          1.14996748e+01,   1.08246546e+01,   1.16468573e+01,\n",
       "          1.38398819e+01,   1.25226583e+01,   7.83117056e+00,\n",
       "          1.06002779e+01,   7.83063555e+00,  -2.24530125e+00,\n",
       "         -2.04388380e+00,   7.89462280e+00,   1.43420897e+01,\n",
       "         -9.54102337e-01],\n",
       "       [ -7.71172571e+00,  -3.05428416e-01,  -2.71138811e+00,\n",
       "         -4.25120401e+00,  -1.83491170e+00,  -3.76929259e+00,\n",
       "         -7.00187445e+00,  -5.62491798e+00,  -8.50500643e-01,\n",
       "         -4.08715248e+00,  -3.39015698e+00,   9.84559476e-01,\n",
       "         -2.05222964e+00,   1.59210339e+01,   3.46587677e+01,\n",
       "          2.35067105e+00],\n",
       "       [ -1.65247459e-16,   2.94636607e+00,  -4.34201336e+00,\n",
       "          5.93406534e+00,   2.77601204e+01,   1.14443750e+01,\n",
       "         -6.41454554e+00,   3.73408008e+00,   2.33962116e+01,\n",
       "          1.08472233e+01,  -2.77894902e+00,   4.83833142e-02,\n",
       "         -1.40120554e+00,   1.10907440e+01,   2.80712109e+01,\n",
       "          2.01700001e+01]], dtype=float32)"
      ]
     },
     "execution_count": 21,
     "metadata": {},
     "output_type": "execute_result"
    }
   ],
   "source": [
    "X[0]"
   ]
  },
  {
   "cell_type": "markdown",
   "metadata": {},
   "source": []
  }
 ],
 "metadata": {
  "kernelspec": {
   "display_name": "Python 3",
   "language": "python",
   "name": "python3"
  },
  "language_info": {
   "codemirror_mode": {
    "name": "ipython",
    "version": 3
   },
   "file_extension": ".py",
   "mimetype": "text/x-python",
   "name": "python",
   "nbconvert_exporter": "python",
   "pygments_lexer": "ipython3",
   "version": "3.6.6"
  }
 },
 "nbformat": 4,
 "nbformat_minor": 2
}
