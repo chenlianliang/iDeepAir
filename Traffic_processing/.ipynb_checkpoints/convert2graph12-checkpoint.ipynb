{
 "cells": [
  {
   "cell_type": "code",
   "execution_count": 1,
   "metadata": {},
   "outputs": [],
   "source": [
    "import pandas as pd\n",
    "import matplotlib.pyplot as plt\n",
    "get_ipython().magic(u'matplotlib inline')\n",
    "import glob\n",
    "import geocoder\n",
    "\n",
    "# -*- coding: utf-8 -*-  \n",
    "from math import exp\n",
    "from numpy import *\n",
    "from random import normalvariate#正态分布\n",
    "from datetime import datetime\n",
    "from collections import Counter\n",
    "import geocoder"
   ]
  },
  {
   "cell_type": "code",
   "execution_count": 2,
   "metadata": {},
   "outputs": [],
   "source": [
    "gps_eee=pd.read_csv(\"ele_unify.csv\")\n",
    "gps_ggg=pd.read_csv(\"ground_unify.csv\")\n",
    "del gps_eee['Unnamed: 0']\n",
    "del gps_ggg['Unnamed: 0']"
   ]
  },
  {
   "cell_type": "code",
   "execution_count": 3,
   "metadata": {},
   "outputs": [],
   "source": [
    "gps_eee['gps_lat']=gps_eee['区域编号'].str.extract(r'(\\d+\\.\\d*)')\n",
    "gps_eee['gps_lng']=gps_eee['区域编号'].str.extract(r'(\\d{3}\\.\\d*)')"
   ]
  },
  {
   "cell_type": "code",
   "execution_count": 4,
   "metadata": {},
   "outputs": [],
   "source": [
    "gps_ggg['gps_lat']=gps_ggg['区域名'].str.extract(r'(\\d+\\.\\d*)')\n",
    "gps_ggg['gps_lng']=gps_ggg['区域名'].str.extract(r'(\\d{3}\\.\\d*)')"
   ]
  },
  {
   "cell_type": "code",
   "execution_count": 5,
   "metadata": {},
   "outputs": [],
   "source": [
    "gps_ggg.loc[gps_ggg['gps_lat'].astype(float)<31.116,'gps_lat']=31.116\n",
    "gps_ggg.loc[gps_ggg['gps_lat'].astype(float)>31.435,'gps_lat']=31.435"
   ]
  },
  {
   "cell_type": "code",
   "execution_count": 29,
   "metadata": {
    "collapsed": true
   },
   "outputs": [
    {
     "name": "stdout",
     "output_type": "stream",
     "text": [
      "   index latitude_range        longitude_range\n",
      "0      0  31.116~31.145     121.344~121.369091\n",
      "1      1  31.116~31.145  121.369091~121.394182\n",
      "2      2  31.116~31.145  121.394182~121.419273\n",
      "3      3  31.116~31.145  121.419273~121.444364\n",
      "4      4  31.116~31.145  121.444364~121.469455\n",
      "                       区域名         区域编号                   时间     指数      date  \\\n",
      "0   [31.210815, 121.46953]  20XN_RJYY00  2014-08-01 00:00:00  34.70  20140801   \n",
      "1   [31.262453, 121.51753]  20XN_SHJYC0  2014-08-01 00:00:00  25.47  20140801   \n",
      "2   [31.25001, 121.455605]  20XN_SHHCZ0  2014-08-01 00:00:00  26.49  20140801   \n",
      "3    [31.24368, 121.48581]  20XN_SCBLSQ  2014-08-01 00:00:00  24.92  20140801   \n",
      "4  [31.229448, 121.475006]  20XN_RMGC00  2014-08-01 00:00:00  27.61  20140801   \n",
      "\n",
      "   hours  date_hours    gps_lat     gps_lng  X  Y  grid_id  \n",
      "0      0   201408010  31.210815   121.46953  7  5       93  \n",
      "1      0   201408010  31.262453   121.51753  5  6       73  \n",
      "2      0   201408010   31.25001  121.455605  6  4       70  \n",
      "3      0   201408010   31.24368   121.48581  6  5       83  \n",
      "4      0   201408010  31.229448  121.475006  7  5       82  \n"
     ]
    },
    {
     "data": {
      "text/plain": [
       "0          7\n",
       "1          5\n",
       "2          6\n",
       "3          6\n",
       "4          7\n",
       "5          5\n",
       "6          6\n",
       "7         11\n",
       "8          6\n",
       "9         11\n",
       "10         5\n",
       "11         8\n",
       "12         0\n",
       "13         0\n",
       "14         6\n",
       "15         9\n",
       "16         8\n",
       "17         7\n",
       "18         5\n",
       "19         6\n",
       "20         3\n",
       "21         3\n",
       "22         6\n",
       "23        11\n",
       "24         9\n",
       "25         4\n",
       "26         4\n",
       "27         9\n",
       "28         3\n",
       "29         7\n",
       "          ..\n",
       "412322     5\n",
       "412323     9\n",
       "412324     6\n",
       "412325     7\n",
       "412326     4\n",
       "412327     1\n",
       "412328     7\n",
       "412329     5\n",
       "412330     7\n",
       "412331     6\n",
       "412332    11\n",
       "412333     7\n",
       "412334     8\n",
       "412335     5\n",
       "412336     6\n",
       "412337     6\n",
       "412338     6\n",
       "412339     5\n",
       "412340     7\n",
       "412341     7\n",
       "412342     8\n",
       "412343     0\n",
       "412344     7\n",
       "412345     5\n",
       "412346    11\n",
       "412347     7\n",
       "412348     6\n",
       "412349     8\n",
       "412350     7\n",
       "412351     7\n",
       "Name: X, Length: 412352, dtype: int64"
      ]
     },
     "execution_count": 29,
     "metadata": {},
     "output_type": "execute_result"
    }
   ],
   "source": [
    "#每行每列的 格子数\n",
    "#划分网格时的数据var lngExtent = [31.116, 31.435];\n",
    "# var latExtent = [121.344, 121.62];\n",
    "[min_jingdu,min_weidu,max_jingdu,max_weidu]=[121.344,31.116,121.62, 31.435]\n",
    "jingdu_temp=(max_jingdu-min_jingdu)/11.0\n",
    "weidu_temp=(max_weidu-min_weidu)/11.0\n",
    "\n",
    "import numpy as np\n",
    "map_id = []\n",
    "for i in np.arange(min_weidu, max_weidu, weidu_temp):\n",
    "    for j in np.arange(min_jingdu, max_jingdu, jingdu_temp):\n",
    "        key_lat = str(round(i, 6)) + '~' + str(round(i + weidu_temp, 6) )\n",
    "        key_lon = str(round(j, 6)) + '~' + str(round(j + jingdu_temp, 6) )\n",
    "        map_id.append([key_lat, key_lon])\n",
    "map_df = pd.DataFrame(data=map_id, index=range(len(map_id)), columns=['latitude_range', 'longitude_range']).reset_index()\n",
    "print(map_df.head())\n",
    "def get_grid_id1(x): #纵向，从0开始 \n",
    "    index= int((max_weidu-x) / weidu_temp) \n",
    "    #+ int((x.longitude- min_lon) / 0.037)\n",
    "    return index\n",
    "def get_grid_id2(x): #横向坐标\n",
    "    index= int((x- min_jingdu) / jingdu_temp) \n",
    "    #+ int((x.longitude- min_lon) / 0.037)\n",
    "    return index\n",
    "\n",
    "gps_ggg['X']=gps_ggg['gps_lat'].astype(float).apply(get_grid_id1)  #x为从上往下纬度方向 上高下低\n",
    "gps_ggg['Y']=gps_ggg['gps_lng'].astype(float).apply(get_grid_id2)  #y为从左往右经度方向 右高左低\n",
    "\n",
    "\n",
    "print(gps_ggg.head())\n",
    "gps_ggg['X']\n",
    "np.shape(gps_ggg['X'])\n",
    "gps_ggg['X']"
   ]
  },
  {
   "cell_type": "code",
   "execution_count": 30,
   "metadata": {
    "collapsed": true
   },
   "outputs": [
    {
     "name": "stdout",
     "output_type": "stream",
     "text": [
      " 89     30320\n",
      " 78     18192\n",
      " 77     18192\n",
      " 66     18192\n",
      " 111    12128\n",
      " 76     12128\n",
      " 90     12128\n",
      " 64     12128\n",
      " 54     12128\n",
      " 87     12128\n",
      " 53     12128\n",
      " 43     12128\n",
      " 40     12128\n",
      " 135    12128\n",
      " 50      6064\n",
      " 61      6064\n",
      " 85      6064\n",
      " 65      6064\n",
      " 41      6064\n",
      " 67      6064\n",
      " 70      6064\n",
      " 74      6064\n",
      " 75      6064\n",
      " 20      6064\n",
      " 8       6064\n",
      " 62      6064\n",
      "-1       6064\n",
      " 86      6064\n",
      " 108     6064\n",
      "-6       6064\n",
      " 138     6064\n",
      " 130     6064\n",
      " 115     6064\n",
      " 114     6064\n",
      " 113     6064\n",
      " 112     6064\n",
      " 110     6064\n",
      " 104     6064\n",
      "-2       6064\n",
      " 102     6064\n",
      " 100     6064\n",
      " 99      6064\n",
      " 98      6064\n",
      " 94      6064\n",
      " 92      6064\n",
      " 91      6064\n",
      " 88      6064\n",
      " 7       6064\n",
      "Name: grid_id, dtype: int64\n"
     ]
    }
   ],
   "source": [
    "gps_ggg['grid_id']=gps_ggg['X']*12+gps_ggg['Y']  #col_num\n",
    "print(pd.value_counts(gps_ggg['grid_id']))"
   ]
  },
  {
   "cell_type": "code",
   "execution_count": null,
   "metadata": {},
   "outputs": [],
   "source": []
  },
  {
   "cell_type": "code",
   "execution_count": 22,
   "metadata": {},
   "outputs": [
    {
     "data": {
      "text/plain": [
       "66"
      ]
     },
     "execution_count": 22,
     "metadata": {},
     "output_type": "execute_result"
    }
   ],
   "source": [
    "gps_ggg.iloc[1,-1]"
   ]
  },
  {
   "cell_type": "code",
   "execution_count": 23,
   "metadata": {},
   "outputs": [
    {
     "data": {
      "text/plain": [
       "21.460000000000001"
      ]
     },
     "execution_count": 23,
     "metadata": {},
     "output_type": "execute_result"
    }
   ],
   "source": [
    "gps_ggg[u'指数'][j]"
   ]
  },
  {
   "cell_type": "code",
   "execution_count": 54,
   "metadata": {},
   "outputs": [
    {
     "name": "stderr",
     "output_type": "stream",
     "text": [
      "D:\\Program Files (x86)\\Anaconda3\\envs\\tensorflow\\lib\\site-packages\\ipykernel_launcher.py:12: RuntimeWarning: invalid value encountered in true_divide\n",
      "  if sys.path[0] == '':\n"
     ]
    }
   ],
   "source": [
    "g_zs= np.zeros([6064,12,12])  \n",
    "k=0\n",
    "for i in range(int(len(gps_ggg)/68)):\n",
    "    mmap=np.zeros(144) #网格总数\n",
    "    mmap_=np.zeros(144) #网格总数\n",
    "    p=0\n",
    "    for j in range(i*68,i*68+68):\n",
    "        mmap[int(gps_ggg.iloc[j,-1])]=mmap[int(gps_ggg.iloc[j,-1])]+gps_ggg[u'指数'][j]\n",
    "        mmap_[int(gps_ggg.iloc[j,-1])]=mmap_[int(gps_ggg.iloc[j,-1])]+1\n",
    "#         mmap[int(gps_ggg.iloc[j,-1])]=(mmap[int(gps_ggg.iloc[j,-1])]+gps_ggg[u'指数'][j])/3\n",
    "#         mmap[int(gps_ggg.iloc[j,-1])]=(mmap[int(gps_ggg.iloc[j,-1])]+gps_ggg[u'指数'][j])/2\n",
    "    mmap1=np.array(mmap/mmap_)\n",
    "    mmap1=mmap1.reshape([12,12])#grid size\n",
    "#     print(k)\n",
    "    g_zs[k,:,:]=mmap1\n",
    "    k=k+1"
   ]
  },
  {
   "cell_type": "code",
   "execution_count": 58,
   "metadata": {},
   "outputs": [
    {
     "data": {
      "text/plain": [
       "21.460000000000001"
      ]
     },
     "execution_count": 58,
     "metadata": {},
     "output_type": "execute_result"
    }
   ],
   "source": [
    "mmap[int(gps_ggg.iloc[j,-1])]"
   ]
  },
  {
   "cell_type": "code",
   "execution_count": 62,
   "metadata": {},
   "outputs": [],
   "source": [
    "g_zs[np.isnan(g_zs)]=0"
   ]
  },
  {
   "cell_type": "code",
   "execution_count": 66,
   "metadata": {},
   "outputs": [
    {
     "data": {
      "text/plain": [
       "(12, 12)"
      ]
     },
     "execution_count": 66,
     "metadata": {},
     "output_type": "execute_result"
    }
   ],
   "source": [
    "np.shape(g_zs[0])"
   ]
  },
  {
   "cell_type": "code",
   "execution_count": null,
   "metadata": {},
   "outputs": [],
   "source": []
  },
  {
   "cell_type": "code",
   "execution_count": null,
   "metadata": {},
   "outputs": [],
   "source": []
  },
  {
   "cell_type": "code",
   "execution_count": 53,
   "metadata": {},
   "outputs": [
    {
     "data": {
      "text/plain": [
       "array([  0.      ,  19.91    ,  28.37    ,  33.57    ,  35.59    ,\n",
       "        22.636875,  19.03    ,  19.98    ,  17.35    ,   0.      ,\n",
       "        17.07    ,   0.      ])"
      ]
     },
     "execution_count": 53,
     "metadata": {},
     "output_type": "execute_result"
    }
   ],
   "source": [
    "g_zs[0][7]"
   ]
  },
  {
   "cell_type": "code",
   "execution_count": 51,
   "metadata": {},
   "outputs": [
    {
     "data": {
      "text/plain": [
       "array([  0.      ,  19.91    ,  28.37    ,  33.57    ,  35.59    ,\n",
       "        22.636875,  19.03    ,  19.98    ,  17.35    ,   0.      ,\n",
       "        17.07    ,   0.      ])"
      ]
     },
     "execution_count": 51,
     "metadata": {},
     "output_type": "execute_result"
    }
   ],
   "source": [
    "g_zs[0][7]"
   ]
  },
  {
   "cell_type": "code",
   "execution_count": 47,
   "metadata": {},
   "outputs": [
    {
     "data": {
      "text/plain": [
       "array([   0.  ,   19.91,   28.37,   67.14,   35.59,  131.62,   38.06,\n",
       "         19.98,   17.35,    0.  ,   17.07,    0.  ])"
      ]
     },
     "execution_count": 47,
     "metadata": {},
     "output_type": "execute_result"
    }
   ],
   "source": [
    "g_zs[0][7]"
   ]
  },
  {
   "cell_type": "code",
   "execution_count": 64,
   "metadata": {},
   "outputs": [
    {
     "data": {
      "image/png": "[encoded data removed]",
      "text/plain": [
       "<Figure size 288x288 with 1 Axes>"
      ]
     },
     "metadata": {
      "needs_background": "light"
     },
     "output_type": "display_data"
    }
   ],
   "source": [
    "\n",
    "plt.matshow(g_zs[6000])\n",
    " \n",
    "plt.show()"
   ]
  },
  {
   "cell_type": "code",
   "execution_count": 67,
   "metadata": {},
   "outputs": [],
   "source": [
    "#写h5py文件\n",
    "import h5py\n",
    "import os\n",
    "dataset = h5py.File(os.path.join(\"g_hhh12_12.h5\"), 'w')\n",
    "dataset.create_dataset('X',(len(g_zs),12,12),dtype='f')\n",
    "for i in range(len(g_zs)):    \n",
    "      inputs = g_zs[i]     \n",
    "      dataset['X'][i] = list(inputs)\n",
    "dataset.close()"
   ]
  },
  {
   "cell_type": "markdown",
   "metadata": {},
   "source": [
    "## 高速交通处理"
   ]
  },
  {
   "cell_type": "code",
   "execution_count": 46,
   "metadata": {},
   "outputs": [],
   "source": [
    "gps_eee.loc[gps_eee['gps_lat'].astype(float)<31.116,'gps_lat']=31.116\n",
    "gps_eee.loc[gps_eee['gps_lat'].astype(float)>31.435,'gps_lat']=31.435"
   ]
  },
  {
   "cell_type": "code",
   "execution_count": 68,
   "metadata": {},
   "outputs": [
    {
     "name": "stdout",
     "output_type": "stream",
     "text": [
      "   index latitude_range        longitude_range\n",
      "0      0  31.116~31.145     121.344~121.369091\n",
      "1      1  31.116~31.145  121.369091~121.394182\n",
      "2      2  31.116~31.145  121.394182~121.419273\n",
      "3      3  31.116~31.145  121.419273~121.444364\n",
      "4      4  31.116~31.145  121.444364~121.469455\n",
      "                      区域编号                   时间     指数    分数     速度  \\\n",
      "0   [31.339745, 121.49762]  2014-08-01 00:00:00  15.98  1.00  64.16   \n",
      "1   [31.206322, 121.62502]  2014-08-01 00:00:00   7.62  0.96  74.88   \n",
      "2    [31.17434, 121.43512]  2014-08-01 00:00:00  16.46  1.00  64.07   \n",
      "3   [31.195793, 121.47836]  2014-08-01 00:00:00  18.92  1.00  63.54   \n",
      "4  [31.166775, 121.480225]  2014-08-01 00:00:00  18.07  1.00  64.67   \n",
      "\n",
      "                       区域名      date  hours  date_hours    gps_lat  \\\n",
      "0   逸仙高架路西侧(外环同济路立交-大柏树立交)  20140801      0   201408010  31.339745   \n",
      "1       中环路外侧(济阳路立交-申江路立交)  20140801      0   201408010  31.206322   \n",
      "2  沪闵高架路西侧(内环漕溪路立交-外环莘庄立交)  20140801      0   201408010   31.17434   \n",
      "3     南北高架路东侧(济阳路立交-鲁班路立交)  20140801      0   201408010  31.195793   \n",
      "4     南北高架路西侧(鲁班路立交-济阳路立交)  20140801      0   201408010  31.166775   \n",
      "\n",
      "      gps_lng  X   Y  \n",
      "0   121.49762  3   6  \n",
      "1   121.62502  7  11  \n",
      "2   121.43512  8   3  \n",
      "3   121.47836  8   5  \n",
      "4  121.480225  9   5  \n"
     ]
    }
   ],
   "source": [
    "#每行每列的 格子数\n",
    "#划分网格时的数据\n",
    "[min_jingdu,min_weidu,max_jingdu,max_weidu]=[121.344,31.116,121.62, 31.435]\n",
    "jingdu_temp=(max_jingdu-min_jingdu)/11.0\n",
    "weidu_temp=(max_weidu-min_weidu)/11.0\n",
    "\n",
    "import numpy as np\n",
    "map_id = []\n",
    "for i in np.arange(min_weidu, max_weidu, weidu_temp):\n",
    "    for j in np.arange(min_jingdu, max_jingdu, jingdu_temp):\n",
    "        key_lat = str(round(i, 6)) + '~' + str(round(i + weidu_temp, 6) )\n",
    "        key_lon = str(round(j, 6)) + '~' + str(round(j + jingdu_temp, 6) )\n",
    "        map_id.append([key_lat, key_lon])\n",
    "map_df = pd.DataFrame(data=map_id, index=range(len(map_id)), columns=['latitude_range', 'longitude_range']).reset_index()\n",
    "print(map_df.head())\n",
    "def get_grid_id1(x): #纵向，从0开始 \n",
    "    index= int((max_weidu-x) / weidu_temp) \n",
    "    #+ int((x.longitude- min_lon) / 0.037)\n",
    "    return index\n",
    "def get_grid_id2(x): #横向坐标\n",
    "    index= int((x- min_jingdu) / jingdu_temp) \n",
    "    #+ int((x.longitude- min_lon) / 0.037)\n",
    "    return index\n",
    "\n",
    "gps_eee['X']=gps_eee['gps_lat'].astype(float).apply(get_grid_id1)  #x为从上往下纬度方向 上高下低\n",
    "gps_eee['Y']=gps_eee['gps_lng'].astype(float).apply(get_grid_id2)  #y为从左往右经度方向 右高左低\n",
    "\n",
    "\n",
    "print(gps_eee.head())"
   ]
  },
  {
   "cell_type": "code",
   "execution_count": 69,
   "metadata": {
    "collapsed": true
   },
   "outputs": [
    {
     "name": "stdout",
     "output_type": "stream",
     "text": [
      " 113    24256\n",
      " 86     18192\n",
      " 58     12128\n",
      " 80     12128\n",
      " 101    12128\n",
      " 99     12128\n",
      " 52     12128\n",
      " 96     12128\n",
      " 60     12128\n",
      " 85     12128\n",
      " 55      6064\n",
      " 51      6064\n",
      "-130     6064\n",
      " 42      6064\n",
      " 26      6064\n",
      " 17      6064\n",
      " 134     6064\n",
      " 39      6064\n",
      " 76      6064\n",
      "-68      6064\n",
      " 64      6064\n",
      " 65      6064\n",
      " 121     6064\n",
      " 81      6064\n",
      " 93      6064\n",
      " 95      6064\n",
      " 98      6064\n",
      " 119     6064\n",
      " 132     6064\n",
      "Name: grid_id, dtype: int64\n"
     ]
    }
   ],
   "source": [
    "gps_eee['grid_id']=gps_eee['X']*12+gps_eee['Y']  #col_num\n",
    "print(pd.value_counts(gps_eee['grid_id']))"
   ]
  },
  {
   "cell_type": "code",
   "execution_count": 71,
   "metadata": {},
   "outputs": [
    {
     "name": "stderr",
     "output_type": "stream",
     "text": [
      "D:\\Program Files (x86)\\Anaconda3\\envs\\tensorflow\\lib\\site-packages\\ipykernel_launcher.py:9: RuntimeWarning: invalid value encountered in true_divide\n",
      "  if __name__ == '__main__':\n"
     ]
    }
   ],
   "source": [
    "e_zs= np.zeros([6064,12,12])  \n",
    "k=0\n",
    "for i in range(int(len(gps_eee)/42)):\n",
    "    mmap=np.zeros(144) #网格总数\n",
    "    mmap_=np.zeros(144) #网格总数\n",
    "    for j in range(i*42,i*42+42):\n",
    "        mmap[int(gps_eee.iloc[j,-1])]=mmap[int(gps_eee.iloc[j,-1])]+gps_eee[u'指数'][j]\n",
    "        mmap_[int(gps_eee.iloc[j,-1])]=mmap_[int(gps_eee.iloc[j,-1])]+1\n",
    "    mmap1=np.array(mmap/mmap_)\n",
    "    mmap1=mmap1.reshape([12,12])#grid size\n",
    "#     print(k)\n",
    "    e_zs[k,:,:]=mmap1\n",
    "    k=k+1"
   ]
  },
  {
   "cell_type": "code",
   "execution_count": 72,
   "metadata": {},
   "outputs": [],
   "source": [
    "e_zs[np.isnan(e_zs)]=0"
   ]
  },
  {
   "cell_type": "code",
   "execution_count": 73,
   "metadata": {},
   "outputs": [
    {
     "data": {
      "image/png": "[encoded data removed]",
      "text/plain": [
       "<Figure size 288x288 with 1 Axes>"
      ]
     },
     "metadata": {
      "needs_background": "light"
     },
     "output_type": "display_data"
    }
   ],
   "source": [
    "\n",
    "plt.matshow(e_zs[6001])\n",
    " \n",
    "plt.show()"
   ]
  },
  {
   "cell_type": "code",
   "execution_count": 74,
   "metadata": {},
   "outputs": [],
   "source": [
    "#写h5py文件\n",
    "import h5py\n",
    "import os\n",
    "dataset = h5py.File(os.path.join(\"e_zs_hhh12_12.h5\"), 'w')\n",
    "dataset.create_dataset('X',(len(e_zs),12,12),dtype='f')\n",
    "for i in range(len(e_zs)):    \n",
    "      inputs = e_zs[i]     \n",
    "      dataset['X'][i] = list(inputs)\n",
    "dataset.close()"
   ]
  },
  {
   "cell_type": "markdown",
   "metadata": {},
   "source": [
    "## 高速路段速度"
   ]
  },
  {
   "cell_type": "code",
   "execution_count": 75,
   "metadata": {},
   "outputs": [
    {
     "name": "stderr",
     "output_type": "stream",
     "text": [
      "D:\\Program Files (x86)\\Anaconda3\\envs\\tensorflow\\lib\\site-packages\\ipykernel_launcher.py:9: RuntimeWarning: invalid value encountered in true_divide\n",
      "  if __name__ == '__main__':\n"
     ]
    }
   ],
   "source": [
    "e_sd= np.zeros([6064,12,12])  \n",
    "k=0\n",
    "for i in range(int(len(gps_eee)/42)):\n",
    "    mmap=np.zeros(144) #网格总数\n",
    "    mmap_=np.zeros(144) #网格总数\n",
    "    for j in range(i*42,i*42+42):\n",
    "        mmap[int(gps_eee.iloc[j,-1])]=mmap[int(gps_eee.iloc[j,-1])]+gps_eee[u'速度'][j]\n",
    "        mmap_[int(gps_eee.iloc[j,-1])]=mmap_[int(gps_eee.iloc[j,-1])]+1\n",
    "    mmap1=np.array(mmap/mmap_)\n",
    "    mmap1=mmap1.reshape([12,12])#grid size\n",
    "#     print(k)\n",
    "    e_sd[k,:,:]=mmap1\n",
    "    k=k+1"
   ]
  },
  {
   "cell_type": "code",
   "execution_count": 76,
   "metadata": {},
   "outputs": [],
   "source": [
    "e_sd[np.isnan(e_sd)]=0"
   ]
  },
  {
   "cell_type": "code",
   "execution_count": 80,
   "metadata": {},
   "outputs": [
    {
     "data": {
      "text/plain": [
       "array([[  0.   ,   0.   ,   0.   ,   0.   ,   0.   ,   0.   ,   0.   ,\n",
       "          0.   ,   0.   ,   0.   ,   0.   ,   0.   ],\n",
       "       [  0.   ,   0.   ,  49.04 ,   0.   ,   0.   ,  36.49 ,   0.   ,\n",
       "          0.   ,   0.   ,   0.   ,   0.   ,   0.   ],\n",
       "       [  0.   ,   0.   ,  26.17 ,   0.   ,   0.   ,   0.   ,   0.   ,\n",
       "          0.   ,   0.   ,   0.   ,   0.   ,   0.   ],\n",
       "       [  0.   ,   0.   ,   0.   ,  58.83 ,   0.   ,   0.   ,  40.54 ,\n",
       "          0.   ,   0.   ,   0.   ,   0.   ,   0.   ],\n",
       "       [  0.   ,   0.   ,   0.   ,  44.86 ,  50.335,   0.   ,   0.   ,\n",
       "         53.94 ,   0.   ,   0.   ,  50.025,   0.   ],\n",
       "       [ 46.125,   0.   ,   0.   ,   0.   ,  35.04 ,  55.16 ,   0.   ,\n",
       "          0.   ,   0.   ,   0.   ,   0.   ,   0.   ],\n",
       "       [  0.   ,   0.   ,   0.   ,   0.   ,  55.4  ,   0.   ,   0.   ,\n",
       "          0.   ,  51.17 ,  60.42 ,   0.   ,   0.   ],\n",
       "       [  0.   ,  50.925,  53.87 ,   0.   ,   0.   ,   0.   ,   0.   ,\n",
       "          0.   ,   0.   ,  41.28 ,   0.   ,  66.45 ],\n",
       "       [ 34.91 ,   0.   ,  31.68 ,  56.715,   0.   ,  30.87 ,   0.   ,\n",
       "          0.   ,   0.   ,   0.   ,   0.   ,   0.   ],\n",
       "       [  0.   ,   0.   ,   0.   ,   0.   ,   0.   ,  52.965,   0.   ,\n",
       "          0.   ,   0.   ,   0.   ,   0.   ,  71.81 ],\n",
       "       [  0.   ,  24.62 ,   0.   ,   0.   ,   0.   ,   0.   ,   0.   ,\n",
       "          0.   ,   0.   ,   0.   ,   0.   ,   0.   ],\n",
       "       [ 46.43 ,   0.   ,  54.7  ,   0.   ,   0.   ,   0.   ,   0.   ,\n",
       "          0.   ,   0.   ,   0.   ,   0.   ,   0.   ]])"
      ]
     },
     "execution_count": 80,
     "metadata": {},
     "output_type": "execute_result"
    }
   ],
   "source": [
    "e_sd[10]"
   ]
  },
  {
   "cell_type": "code",
   "execution_count": 81,
   "metadata": {},
   "outputs": [
    {
     "data": {
      "image/png": "[encoded data removed]",
      "text/plain": [
       "<Figure size 288x288 with 1 Axes>"
      ]
     },
     "metadata": {
      "needs_background": "light"
     },
     "output_type": "display_data"
    }
   ],
   "source": [
    "\n",
    "plt.matshow(e_sd[10])\n",
    " \n",
    "plt.show()"
   ]
  },
  {
   "cell_type": "code",
   "execution_count": 82,
   "metadata": {},
   "outputs": [],
   "source": [
    "#写h5py文件\n",
    "import h5py\n",
    "import os\n",
    "dataset = h5py.File(os.path.join(\"e_sd_hhh12_12.h5\"), 'w')\n",
    "dataset.create_dataset('X',(len(e_sd),12,12),dtype='f')\n",
    "for i in range(len(e_sd)):    \n",
    "      inputs = e_sd[i]     \n",
    "      dataset['X'][i] = list(inputs)\n",
    "dataset.close()"
   ]
  },
  {
   "cell_type": "code",
   "execution_count": null,
   "metadata": {},
   "outputs": [],
   "source": []
  },
  {
   "cell_type": "code",
   "execution_count": 83,
   "metadata": {},
   "outputs": [],
   "source": [
    "data = [[0,0,5],[1,0,5],[2,0,5],[3,0,5],[4,0,5],[5,0,5],[6,0,5],[7,0,5],[8,0,5],[9,0,5],[10,0,5],[11,0,5]\n",
    ",[0,1,5],[1,1,5],[2,1,5],[3,1,5],[4,1,5],[5,1,5],[6,1,5],[7,1,5],[8,1,5]\n",
    ",[9,1,5],[10,1,5],[11,1,5]\n",
    ",[0,2,5],[1,2,5],[2,2,5],[3,2,5],[4,2,5],[5,2,5],[6,2,5],[7,2,5],[8,2,5],[9,2,5],[10,2,5],[11,2,5],[0,3,5],[1,3,5],[2,3,5],[3,3,5],[4,3,5],[5,3,5],[6,3,5],[7,3,5],[8,3,5],[9,3,5]\n",
    ",[10,3,5],[11,3,5],[0,4,5],[1,4,5],[2,4,5],[3,4,5],[4,4,5]\n",
    ",[5,4,5],[6,4,5],[7,4,5],[8,4,5],[9,4,5],[10,4,5],[11,4,5]\n",
    ",[0,5,5],[1,5,5],[2,5,5],[3,5,5],[4,5,5],[5,5,5],[6,5,5],[7,5,5],[8,5,5],[9,5,5],[10,5,5],[11,5,5]\n",
    ",[0,6,5],[1,6,5],[2,6,5],[3,6,5],[4,6,5],[5,6,5],[6,6,5]\n",
    ",[7,6,5],[8,6,5],[9,6,5],[10,6,5],[11,6,5],[0,7,5],[1,7,5]\n",
    ",[2,7,5],[3,7,5],[4,7,5],[5,7,5],[6,7,5],[7,7,5],[8,7,5],[9,7,5],[10,7,5],[11,7,5],[0,8,5],[1,8,5],[2,8,5],[3,8,5],[4,8,5],[5,8,4],[6,8,5],[7,8,4],[8,8,5]\n",
    ",[9,8,5],[10,8,5],[11,8,5]\n",
    ",[0,9,5],[1,9,5],[2,9,5],[3,9,5]\n",
    ",[4,9,5],[5,9,5],[6,9,5],[7,9,5],[8,9,4],[9,9,5],[10,9,5],[11,9,4],[0,10,5],[1,10,5],[2,10,5],[3,10,5],[4,10,5],[5,10,5],[6,10,5],[7,10,5],[8,10,5],[9,10,5]\n",
    ",[10,10,5],[11,10,5]\n",
    ",[0,11,5],[1,11,5],[2,11,5],[3,11,5],[4,11,5],[5,11,5],[6,11,5],[7,11,5],[8,11,5],[9,11,5],[10,11,4]\n",
    ",[11,11,4]\n",
    "];\n"
   ]
  },
  {
   "cell_type": "code",
   "execution_count": 84,
   "metadata": {},
   "outputs": [
    {
     "data": {
      "text/plain": [
       "(144, 3)"
      ]
     },
     "execution_count": 84,
     "metadata": {},
     "output_type": "execute_result"
    }
   ],
   "source": [
    "np.shape(data)"
   ]
  },
  {
   "cell_type": "code",
   "execution_count": null,
   "metadata": {},
   "outputs": [],
   "source": []
  },
  {
   "cell_type": "code",
   "execution_count": null,
   "metadata": {},
   "outputs": [],
   "source": []
  }
 ],
 "metadata": {
  "kernelspec": {
   "display_name": "Python 3",
   "language": "python",
   "name": "python3"
  },
  "language_info": {
   "codemirror_mode": {
    "name": "ipython",
    "version": 3
   },
   "file_extension": ".py",
   "mimetype": "text/x-python",
   "name": "python",
   "nbconvert_exporter": "python",
   "pygments_lexer": "ipython3",
   "version": "3.6.6"
  }
 },
 "nbformat": 4,
 "nbformat_minor": 2
}
