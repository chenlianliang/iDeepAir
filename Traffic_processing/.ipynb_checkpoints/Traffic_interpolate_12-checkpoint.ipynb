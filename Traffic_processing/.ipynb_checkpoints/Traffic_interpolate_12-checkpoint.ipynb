{
 "cells": [
  {
   "cell_type": "code",
   "execution_count": 1,
   "metadata": {},
   "outputs": [],
   "source": [
    "import h5py\n",
    "import os"
   ]
  },
  {
   "cell_type": "code",
   "execution_count": 2,
   "metadata": {},
   "outputs": [],
   "source": [
    "ground = h5py.File('g_hhh12_12.h5', 'r')\n",
    "g = ground['X']\n",
    "\n",
    "ele_zs = h5py.File('e_zs_hhh12_12.h5', 'r')\n",
    "ezs = ele_zs['X']\n",
    "\n",
    "ele_sd = h5py.File('e_sd_hhh12_12.h5', 'r')\n",
    "esd = ele_sd['X']"
   ]
  },
  {
   "cell_type": "code",
   "execution_count": 3,
   "metadata": {},
   "outputs": [],
   "source": [
    "#进行样条差值\n",
    "import scipy.interpolate as spi\n",
    "import numpy as np"
   ]
  },
  {
   "cell_type": "markdown",
   "metadata": {},
   "source": [
    "## 高速交通速度"
   ]
  },
  {
   "cell_type": "code",
   "execution_count": 4,
   "metadata": {},
   "outputs": [],
   "source": [
    "#写h5py文件\n",
    "dataset = h5py.File(os.path.join(\"inte_e_sd_12_new.h5\"), 'w')\n",
    "dataset.create_dataset('X',(len(esd),16,16),dtype='f')\n",
    "for i in range(len(esd)): \n",
    "    x = np.linspace(0,12,12)#x\n",
    "    y = np.linspace(0,12,12)#y\n",
    "\n",
    "    newfunc = spi.interp2d(x, y, esd[i], kind='cubic') \n",
    "    # 计算100*100的网格上的插值\n",
    "    xnew = np.linspace(0,12,16)#x\n",
    "    ynew = np.linspace(0,12,16)#y\n",
    "    fnew = newfunc(xnew, ynew)#仅仅是y值   100*100的值\n",
    "    inputs = fnew\n",
    "    dataset['X'][i] = list(inputs)\n",
    "dataset.close()"
   ]
  },
  {
   "cell_type": "code",
   "execution_count": 6,
   "metadata": {},
   "outputs": [],
   "source": [
    "iesd = h5py.File('inte_e_sd_12_new.h5', 'r')\n",
    "X = iesd['X']"
   ]
  },
  {
   "cell_type": "code",
   "execution_count": 7,
   "metadata": {},
   "outputs": [
    {
     "data": {
      "text/plain": [
       "<matplotlib.colorbar.Colorbar at 0x1dbfd192080>"
      ]
     },
     "execution_count": 7,
     "metadata": {},
     "output_type": "execute_result"
    }
   ],
   "source": [
    "import pylab as pl\n",
    "import matplotlib as mpl\n",
    "pl.subplot(121)\n",
    "im1=pl.imshow(X[0], extent=[0,16,0,16], cmap=mpl.cm.hot, origin=\"lower\")#pl.cm.jet\n",
    "#extent=[-1,1,-1,1]为x,y范围  favals为\n",
    "pl.colorbar(im1)"
   ]
  },
  {
   "cell_type": "code",
   "execution_count": 17,
   "metadata": {},
   "outputs": [],
   "source": [
    "%matplotlib inline"
   ]
  },
  {
   "cell_type": "markdown",
   "metadata": {},
   "source": [
    "## 高速交通指数"
   ]
  },
  {
   "cell_type": "code",
   "execution_count": 28,
   "metadata": {},
   "outputs": [],
   "source": [
    "#写h5py文件\n",
    "dataset = h5py.File(os.path.join(\"inte_e_zs_12_new.h5\"), 'w')\n",
    "dataset.create_dataset('X',(len(esd),16,16),dtype='f')\n",
    "for i in range(len(ezs)): \n",
    "    x = np.linspace(0,12,12)#x\n",
    "    y = np.linspace(0,12,12)#y\n",
    "\n",
    "    newfunc = spi.interp2d(x, y, ezs[i], kind='cubic') \n",
    "    # 计算100*100的网格上的插值\n",
    "    xnew = np.linspace(0,12,16)#x\n",
    "    ynew = np.linspace(0,12,16)#y\n",
    "    fnew = newfunc(xnew, ynew)#仅仅是y值   100*100的值\n",
    "    inputs = fnew\n",
    "    dataset['X'][i] = list(inputs)\n",
    "dataset.close()"
   ]
  },
  {
   "cell_type": "markdown",
   "metadata": {},
   "source": [
    "## 地面交通指数"
   ]
  },
  {
   "cell_type": "code",
   "execution_count": 19,
   "metadata": {},
   "outputs": [],
   "source": [
    "#写h5py文件\n",
    "dataset = h5py.File(os.path.join(\"inte_g_12.h5\"), 'w')\n",
    "dataset.create_dataset('X',(len(g),16,16),dtype='f')\n",
    "for i in range(len(g)): \n",
    "    x = np.linspace(0,12,12)#x\n",
    "    y = np.linspace(0,12,12)#y\n",
    "\n",
    "    newfunc = spi.interp2d(x, y, g[i], kind='cubic') \n",
    "    # 计算100*100的网格上的插值\n",
    "    xnew = np.linspace(0,12,16)#x\n",
    "    ynew = np.linspace(0,12,16)#y\n",
    "    fnew = newfunc(xnew, ynew)#仅仅是y值   100*100的值\n",
    "    inputs = fnew\n",
    "    dataset['X'][i] = list(inputs)\n",
    "dataset.close()"
   ]
  },
  {
   "cell_type": "code",
   "execution_count": null,
   "metadata": {},
   "outputs": [],
   "source": []
  }
 ],
 "metadata": {
  "kernelspec": {
   "display_name": "Python 3",
   "language": "python",
   "name": "python3"
  },
  "language_info": {
   "codemirror_mode": {
    "name": "ipython",
    "version": 3
   },
   "file_extension": ".py",
   "mimetype": "text/x-python",
   "name": "python",
   "nbconvert_exporter": "python",
   "pygments_lexer": "ipython3",
   "version": "3.6.6"
  }
 },
 "nbformat": 4,
 "nbformat_minor": 2
}
