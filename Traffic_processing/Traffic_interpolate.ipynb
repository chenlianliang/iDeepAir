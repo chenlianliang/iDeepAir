{
 "cells": [
  {
   "cell_type": "code",
   "execution_count": 1,
   "metadata": {},
   "outputs": [],
   "source": [
    "import h5py\n",
    "import os"
   ]
  },
  {
   "cell_type": "code",
   "execution_count": 3,
   "metadata": {},
   "outputs": [],
   "source": [
    "ground = h5py.File('g_unify20190411.h5', 'r')\n",
    "g = ground['X']"
   ]
  },
  {
   "cell_type": "code",
   "execution_count": 4,
   "metadata": {},
   "outputs": [],
   "source": [
    "ele_zs = h5py.File('e_zs_unify20190411.h5', 'r')\n",
    "ezs = ele_zs['X']"
   ]
  },
  {
   "cell_type": "code",
   "execution_count": 5,
   "metadata": {},
   "outputs": [],
   "source": [
    "ele_sd = h5py.File('e_sd_unify20190411.h5', 'r')\n",
    "esd = ele_sd['X']"
   ]
  },
  {
   "cell_type": "code",
   "execution_count": 8,
   "metadata": {},
   "outputs": [],
   "source": [
    "#进行样条差值\n",
    "import scipy.interpolate as spi\n",
    "import numpy as np"
   ]
  },
  {
   "cell_type": "markdown",
   "metadata": {},
   "source": [
    "## 高速交通速度"
   ]
  },
  {
   "cell_type": "code",
   "execution_count": 14,
   "metadata": {},
   "outputs": [],
   "source": [
    "#写h5py文件\n",
    "dataset = h5py.File(os.path.join(\"inte_e_sd.h5\"), 'w')\n",
    "dataset.create_dataset('X',(len(esd),30,30),dtype='f')\n",
    "for i in range(len(esd)): \n",
    "    x = np.linspace(0,20,20)#x\n",
    "    y = np.linspace(0,20,20)#y\n",
    "\n",
    "    newfunc = spi.interp2d(x, y, esd[i], kind='cubic') \n",
    "    # 计算100*100的网格上的插值\n",
    "    xnew = np.linspace(0,20,30)#x\n",
    "    ynew = np.linspace(0,20,30)#y\n",
    "    fnew = newfunc(xnew, ynew)#仅仅是y值   100*100的值\n",
    "    inputs = fnew\n",
    "    dataset['X'][i] = list(inputs)\n",
    "dataset.close()"
   ]
  },
  {
   "cell_type": "code",
   "execution_count": 15,
   "metadata": {},
   "outputs": [],
   "source": [
    "iesd = h5py.File('inte_e_sd.h5', 'r')\n",
    "X = iesd['X']"
   ]
  },
  {
   "cell_type": "code",
   "execution_count": 19,
   "metadata": {},
   "outputs": [
    {
     "data": {
      "text/plain": [
       "<matplotlib.colorbar.Colorbar at 0x18b5dbe1c88>"
      ]
     },
     "execution_count": 19,
     "metadata": {},
     "output_type": "execute_result"
    },
    {
     "data": {
      "image/png": "[encoded data removed]",
      "text/plain": [
       "<Figure size 432x288 with 2 Axes>"
      ]
     },
     "metadata": {
      "needs_background": "light"
     },
     "output_type": "display_data"
    }
   ],
   "source": [
    "import pylab as pl\n",
    "import matplotlib as mpl\n",
    "pl.subplot(121)\n",
    "im1=pl.imshow(255-X[0], extent=[0,20,0,20], cmap=mpl.cm.hot, interpolation='nearest', origin=\"lower\")#pl.cm.jet\n",
    "#extent=[-1,1,-1,1]为x,y范围  favals为\n",
    "pl.colorbar(im1)"
   ]
  },
  {
   "cell_type": "code",
   "execution_count": 17,
   "metadata": {},
   "outputs": [],
   "source": [
    "%matplotlib inline"
   ]
  },
  {
   "cell_type": "markdown",
   "metadata": {},
   "source": [
    "## 高速交通指数"
   ]
  },
  {
   "cell_type": "code",
   "execution_count": 20,
   "metadata": {},
   "outputs": [],
   "source": [
    "#写h5py文件\n",
    "dataset = h5py.File(os.path.join(\"inte_e_zs.h5\"), 'w')\n",
    "dataset.create_dataset('X',(len(esd),30,30),dtype='f')\n",
    "for i in range(len(ezs)): \n",
    "    x = np.linspace(0,20,20)#x\n",
    "    y = np.linspace(0,20,20)#y\n",
    "\n",
    "    newfunc = spi.interp2d(x, y, ezs[i], kind='cubic') \n",
    "    # 计算100*100的网格上的插值\n",
    "    xnew = np.linspace(0,20,30)#x\n",
    "    ynew = np.linspace(0,20,30)#y\n",
    "    fnew = newfunc(xnew, ynew)#仅仅是y值   100*100的值\n",
    "    inputs = fnew\n",
    "    dataset['X'][i] = list(inputs)\n",
    "dataset.close()"
   ]
  },
  {
   "cell_type": "markdown",
   "metadata": {},
   "source": [
    "## 地面交通指数"
   ]
  },
  {
   "cell_type": "code",
   "execution_count": 21,
   "metadata": {},
   "outputs": [],
   "source": [
    "#写h5py文件\n",
    "dataset = h5py.File(os.path.join(\"inte_g.h5\"), 'w')\n",
    "dataset.create_dataset('X',(len(g),30,30),dtype='f')\n",
    "for i in range(len(g)): \n",
    "    x = np.linspace(0,20,20)#x\n",
    "    y = np.linspace(0,20,20)#y\n",
    "\n",
    "    newfunc = spi.interp2d(x, y, g[i], kind='cubic') \n",
    "    # 计算100*100的网格上的插值\n",
    "    xnew = np.linspace(0,20,30)#x\n",
    "    ynew = np.linspace(0,20,30)#y\n",
    "    fnew = newfunc(xnew, ynew)#仅仅是y值   100*100的值\n",
    "    inputs = fnew\n",
    "    dataset['X'][i] = list(inputs)\n",
    "dataset.close()"
   ]
  },
  {
   "cell_type": "code",
   "execution_count": null,
   "metadata": {},
   "outputs": [],
   "source": []
  }
 ],
 "metadata": {
  "kernelspec": {
   "display_name": "Python 3",
   "language": "python",
   "name": "python3"
  },
  "language_info": {
   "codemirror_mode": {
    "name": "ipython",
    "version": 3
   },
   "file_extension": ".py",
   "mimetype": "text/x-python",
   "name": "python",
   "nbconvert_exporter": "python",
   "pygments_lexer": "ipython3",
   "version": "3.6.6"
  }
 },
 "nbformat": 4,
 "nbformat_minor": 2
}
