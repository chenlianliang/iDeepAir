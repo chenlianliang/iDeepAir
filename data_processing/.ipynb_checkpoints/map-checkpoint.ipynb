{
 "cells": [
  {
   "cell_type": "code",
   "execution_count": 2,
   "metadata": {
    "scrolled": true
   },
   "outputs": [],
   "source": [
    "import h5py\n",
    "import os\n",
    "\n",
    "ground = h5py.File('../data/inte_g_12_linear.h5', 'r')\n",
    "g = ground['X']\n",
    "\n",
    "ele_zs = h5py.File('../data/inte_e_zs_12_new_linear.h5', 'r')\n",
    "ezs = ele_zs['X']\n",
    "\n",
    "ele_sd = h5py.File('../data/inte_e_sd_12_new_linear.h5', 'r')\n",
    "esd = ele_sd['X']\n"
   ]
  },
  {
   "cell_type": "code",
   "execution_count": 3,
   "metadata": {},
   "outputs": [
    {
     "data": {
      "text/plain": [
       "(6064, 16, 16)"
      ]
     },
     "execution_count": 3,
     "metadata": {},
     "output_type": "execute_result"
    }
   ],
   "source": [
    "g.shape"
   ]
  },
  {
   "cell_type": "markdown",
   "metadata": {},
   "source": [
    "## 春(4965-5946)\n",
    "\n",
    " 四季\t      Spring\t      Summer\t     Autumn\t        Winter\n",
    " \n",
    "起始日期\t2015年3月13日\t2014年8月1日\t2014年10月4日\t2014年12月1日\n",
    "\n",
    "终止日期\t2015年4月30日\t2014年10月3日\t2014年11月30日\t2015年3月12日"
   ]
  },
  {
   "cell_type": "code",
   "execution_count": 4,
   "metadata": {},
   "outputs": [],
   "source": [
    "import numpy as np\n",
    "\n",
    "# 全年平均值\n",
    "g_all_year_mean    = np.mean(g, axis=0) \n",
    "\n",
    "# 春天  4965-5946\n",
    "g_spring_mean = np.mean(g[4965:], axis=0) \n",
    "\n",
    "# 夏天  0-1347\n",
    "g_summer_mean = np.mean(g[:1347], axis=0) \n",
    "\n",
    "# 秋天 1348-2691\n",
    "g_autumn_mean = np.mean(g[1348:2691], axis=0) \n",
    "\n",
    "# 冬天  2692-4964\n",
    "g_winter_mean = np.mean(g[2692:4964], axis=0) \n"
   ]
  },
  {
   "cell_type": "code",
   "execution_count": 5,
   "metadata": {},
   "outputs": [
    {
     "data": {
      "text/plain": [
       "array([[  0.        ,   0.        ,   0.        ,   0.        ,\n",
       "          0.        ,   0.        ,   0.        ,   0.        ,\n",
       "          0.        ,  20.1630497 ,  31.84724808,  26.44279861,\n",
       "          5.66631842,   0.        ,   0.        ,   0.        ],\n",
       "       [  0.        ,   0.        ,   0.        ,   0.        ,\n",
       "          0.        ,   0.        ,   0.        ,   0.        ,\n",
       "          0.        ,   5.37681341,  16.47193336,  29.39358521,\n",
       "          6.29862595,   0.        ,   0.        ,   0.        ],\n",
       "       [  0.        ,   0.        ,   0.        ,   0.        ,\n",
       "          0.        ,   0.        ,   0.        ,   0.        ,\n",
       "          0.        ,   0.        ,   5.80315495,  16.24884033,\n",
       "          3.48189592,   0.        ,   0.        ,   0.        ],\n",
       "       [  0.        ,   0.        ,   0.        ,   0.        ,\n",
       "          0.        ,   4.38498688,   6.75946045,   6.09477806,\n",
       "          0.93765795,   2.45966816,   2.7329638 ,   0.        ,\n",
       "          0.        ,   0.        ,   0.        ,   0.        ],\n",
       "       [  0.        ,   0.        ,   0.        ,   0.        ,\n",
       "          0.        ,  20.46328735,  31.54412651,  28.44226837,\n",
       "          4.37573528,  11.47845078,  12.75383472,   0.        ,\n",
       "          0.        ,   0.        ,   0.        ,   0.        ],\n",
       "       [  0.        ,   0.        ,   9.204216  ,  15.77866745,\n",
       "          1.31488883,   7.30831528,  19.78421593,  31.02114677,\n",
       "         20.04459953,  11.31898785,   4.55494452,   0.        ,\n",
       "          0.        ,   0.        ,   0.        ,   0.        ],\n",
       "       [  0.        ,   8.1851244 ,  20.5771656 ,  25.07029724,\n",
       "          2.08919215,   8.01943016,  20.23869133,  32.06233597,\n",
       "         29.3634491 ,  18.5537281 ,   7.7829361 ,   0.        ,\n",
       "          0.        ,   4.66963959,   6.42075396,   0.        ],\n",
       "       [  0.        ,  17.73439598,  28.75121307,  28.11642838,\n",
       "          6.64714479,  21.82637978,  31.53690147,  33.02282333,\n",
       "         31.74899673,  27.78368378,  16.86302185,   0.        ,\n",
       "          0.        ,  10.11755657,  13.91165161,   0.        ],\n",
       "       [  0.        ,   2.72836995,  17.84912872,  33.30090714,\n",
       "         30.75181007,  31.60435486,  32.12369919,  31.97325325,\n",
       "         31.33397484,  14.82196426,   2.59431219,   0.        ,\n",
       "          0.        ,   1.556548  ,   2.14025021,   0.        ],\n",
       "       [  0.        ,  12.92629433,  26.00856972,  35.91415405,\n",
       "         37.11068726,  37.23839951,  35.84116745,  32.94576645,\n",
       "         28.62689972,  21.1069355 ,  15.96540642,  13.68454361,\n",
       "          2.93240285,   6.14294481,   8.44655704,   0.        ],\n",
       "       [  0.        ,  14.36257553,  27.03291702,  36.02500916,\n",
       "         37.78709412,  38.20001221,  32.32025528,  23.79166985,\n",
       "         26.43520546,  21.84439659,  20.33264732,  22.46633911,\n",
       "          4.81420898,   6.82550573,   9.38506317,   0.        ],\n",
       "       [  2.32389379,   0.61970478,  15.49276352,  33.85181046,\n",
       "         36.24624252,  34.71588898,  20.98408127,   5.38694334,\n",
       "         25.67929268,  12.78622341,   8.41538811,  20.33159447,\n",
       "          4.35676765,   0.        ,   0.        ,   0.        ],\n",
       "       [ 27.88674545,   7.43646336,  14.7603035 ,  32.00873947,\n",
       "         33.4003334 ,  31.79328537,  26.70354462,  21.38702583,\n",
       "         26.98591423,  23.66589737,  15.40526295,   4.35676765,\n",
       "          0.93359274,   0.        ,   0.        ,   0.        ],\n",
       "       [ 16.26727486,   4.33794165,   6.79491806,  14.70284271,\n",
       "         15.22462082,  14.46491146,  13.18958187,  12.0169878 ,\n",
       "         12.75973225,  12.4287796 ,   8.07874298,   0.        ,\n",
       "          0.        ,   9.21215916,  12.66672611,   0.        ],\n",
       "       [  0.        ,   0.        ,   0.        ,   1.9268105 ,\n",
       "          8.991786  ,   3.21135426,   0.        ,   1.15575624,\n",
       "          7.51241112,   3.46727061,   0.        ,   0.        ,\n",
       "          0.        ,  17.04074478,  25.16064072,   6.48596001],\n",
       "       [  0.        ,   0.        ,   0.        ,   7.22553873,\n",
       "         33.71920013,  12.04257774,   0.        ,   4.33408356,\n",
       "         28.17157555,  13.00225353,   0.        ,   0.        ,\n",
       "          0.        ,  16.40259743,  29.03952026,  24.32235146]], dtype=float32)"
      ]
     },
     "execution_count": 5,
     "metadata": {},
     "output_type": "execute_result"
    }
   ],
   "source": [
    "g_summer_mean"
   ]
  },
  {
   "cell_type": "code",
   "execution_count": 6,
   "metadata": {},
   "outputs": [
    {
     "data": {
      "text/plain": [
       "array([[  0.        ,   0.        ,   0.        ,   0.        ,\n",
       "          0.        ,   0.        ,   0.        ,   0.        ,\n",
       "          0.        ,  17.72672653,  27.60469437,  22.14331055,\n",
       "          4.74500322,   0.        ,   0.        ,   0.        ],\n",
       "       [  0.        ,   0.        ,   0.        ,   0.        ,\n",
       "          0.        ,   0.        ,   0.        ,   0.        ,\n",
       "          0.        ,   4.72712946,  14.29945469,  25.33185768,\n",
       "          5.42826176,   0.        ,   0.        ,   0.        ],\n",
       "       [  0.        ,   0.        ,   0.        ,   0.        ,\n",
       "          0.        ,   0.        ,   0.        ,   0.        ,\n",
       "          0.        ,   0.        ,   5.04596758,  14.12871075,\n",
       "          3.02758265,   0.        ,   0.        ,   0.        ],\n",
       "       [  0.        ,   0.        ,   0.        ,   0.        ,\n",
       "          0.        ,   3.7234571 ,   5.54062891,   4.7439599 ,\n",
       "          0.7298401 ,   2.28375554,   2.53750253,   0.        ,\n",
       "          0.        ,   0.        ,   0.        ,   0.        ],\n",
       "       [  0.        ,   0.        ,   0.        ,   0.        ,\n",
       "          0.        ,  17.37615204,  25.85626221,  22.13843727,\n",
       "          3.40591717,  10.65750599,  11.8416853 ,   0.        ,\n",
       "          0.        ,   0.        ,   0.        ,   0.        ],\n",
       "       [  0.        ,   0.        ,   7.28488016,  12.48837376,\n",
       "          1.04069686,   6.20575237,  16.88772392,  26.67684555,\n",
       "         17.98971939,  10.37035942,   4.22917223,   0.        ,\n",
       "          0.        ,   0.        ,   0.        ,   0.        ],\n",
       "       [  0.        ,   7.49858665,  17.3018856 ,  20.31153297,\n",
       "          1.69262516,   7.19842052,  18.21418953,  28.87338066,\n",
       "         26.31189728,  16.35395241,   6.68387079,   0.        ,\n",
       "          0.        ,   4.21608973,   5.7971139 ,   0.        ],\n",
       "       [  0.        ,  16.24692345,  25.11574936,  23.54835129,\n",
       "          5.39375496,  19.36491394,  28.28894806,  29.62932968,\n",
       "         27.8172245 ,  24.02866364,  14.48174095,   0.        ,\n",
       "          0.        ,   9.13487244,  12.56044388,   0.        ],\n",
       "       [  0.        ,   2.4995265 ,  15.50179863,  28.32454109,\n",
       "         24.66447639,  26.89384842,  28.14274025,  27.8635788 ,\n",
       "         26.59325218,  12.55008316,   2.22795773,   0.        ,\n",
       "          0.        ,   1.40536237,   1.93237352,   0.        ],\n",
       "       [  0.        ,  11.51895714,  22.63546371,  30.6564846 ,\n",
       "         31.03582382,  31.40381813,  30.59848213,  28.40988541,\n",
       "         24.39249802,  18.10247803,  13.75759602,  11.64861584,\n",
       "          2.49613404,   6.09229326,   8.37690067,   0.        ],\n",
       "       [  0.        ,  12.79881096,  23.45684814,  30.76077652,\n",
       "         32.38241577,  32.63526154,  27.62969398,  20.4595871 ,\n",
       "         22.75461197,  18.86612701,  17.45062637,  19.0032444 ,\n",
       "          4.072124  ,   6.76921701,   9.30768108,   0.        ],\n",
       "       [  1.95682561,   0.52182001,  13.1428709 ,  28.75951576,\n",
       "         30.94567299,  30.50627136,  18.70081329,   4.67834425,\n",
       "         22.31719017,  11.14673233,   7.1015048 ,  16.96895027,\n",
       "          3.63619685,   0.        ,   0.        ,   0.        ],\n",
       "       [ 23.48185921,   6.26183462,  11.88236809,  25.91512871,\n",
       "         27.57572937,  26.06673431,  22.20419312,  18.71225357,\n",
       "         24.52519608,  21.47741318,  13.79263973,   3.63619685,\n",
       "          0.77918595,   0.        ,   0.        ,   0.        ],\n",
       "       [ 13.69777679,   3.6527431 ,   5.3846755 ,  11.7317028 ,\n",
       "         12.43976021,  11.59942055,  10.80783653,  10.51851177,\n",
       "         11.72610569,  11.33761597,   7.28815365,   0.        ,\n",
       "          0.        ,   8.38182163,  11.5249939 ,   0.        ],\n",
       "       [  0.        ,   0.        ,   0.        ,   1.52691424,\n",
       "          7.12560368,   2.54485846,   0.        ,   1.03264642,\n",
       "          6.71220207,   3.09794188,   0.        ,   0.        ,\n",
       "          0.        ,  15.16362572,  22.43156815,   5.93098927],\n",
       "       [  0.        ,   0.        ,   0.        ,   5.72593117,\n",
       "         26.72100067,   9.54320621,   0.        ,   3.87242246,\n",
       "         25.17074013,  11.61726952,   0.        ,   0.        ,\n",
       "          0.        ,  13.64479256,  24.69258881,  22.24124146]], dtype=float32)"
      ]
     },
     "execution_count": 6,
     "metadata": {},
     "output_type": "execute_result"
    }
   ],
   "source": [
    "g_winter_mean"
   ]
  },
  {
   "cell_type": "code",
   "execution_count": 7,
   "metadata": {},
   "outputs": [
    {
     "data": {
      "text/plain": [
       "9.3153915"
      ]
     },
     "execution_count": 7,
     "metadata": {},
     "output_type": "execute_result"
    }
   ],
   "source": [
    "np.mean(np.mean(g_all_year_mean, axis=0))"
   ]
  },
  {
   "cell_type": "code",
   "execution_count": 8,
   "metadata": {},
   "outputs": [
    {
     "data": {
      "text/plain": [
       "<matplotlib.axes._subplots.AxesSubplot at 0x23ea54110f0>"
      ]
     },
     "execution_count": 8,
     "metadata": {},
     "output_type": "execute_result"
    }
   ],
   "source": [
    "import numpy as np\n",
    "import seaborn as sns\n",
    "from matplotlib.colors import ListedColormap\n",
    "\n",
    "data = np.random.random((3,3)) # Random [-1, 0, 1] data\n",
    "sns.heatmap(data, cmap=ListedColormap(['green', 'yellow', 'red']), annot=True)"
   ]
  },
  {
   "cell_type": "code",
   "execution_count": 9,
   "metadata": {},
   "outputs": [
    {
     "data": {
      "image/png": "[encoded data removed]",
      "text/plain": [
       "<Figure size 432x288 with 2 Axes>"
      ]
     },
     "metadata": {
      "needs_background": "light"
     },
     "output_type": "display_data"
    }
   ],
   "source": [
    "import matplotlib.pyplot as plt\n",
    "import seaborn as sns\n",
    "# data = pd.read_csv(\"../input/car_crashes.csv\")\n",
    "# data = data.corr()\n",
    "# cmap = sns.cubehelix_palette(start = 1.5, rot = 3, gamma=0.8, as_cmap = True)\n",
    "# cmap = sns.hls_palette(8 , h=0.01, s=0.9, l=0.65)\n",
    "# cmap = sns.choose_cubehelix_palette()\n",
    "cmap = sns.color_palette(\"Reds\")\n",
    "# cmap  = sns.color_palette(\"coolwarm\", 10)\n",
    "# cmap= sns.dark_palette(\"green\", as_cmap=True)\n",
    "# cmap  =  sns.diverging_palette(220,10, sep=80, n=7)\n",
    "# cmap  =    sns.cubehelix_palette(8)\n",
    "cmap=ListedColormap(['#339933','#ccff99','#ffcc66','#ff9966','#ff6633','#ff3333','#ff0000','#cc0000', '#990000', '#660000'])\n",
    "# cmap=ListedColormap(['#33cc00','#ccffcc','#ffff99','#ffcc66','#ff9966','#ff6633','#ff3333','#ff0000','#cc0000', '#990000', '#660000'])\n",
    "sns.heatmap(g_all_year_mean,cmap=cmap)\n",
    "plt.show()\n"
   ]
  },
  {
   "cell_type": "code",
   "execution_count": 171,
   "metadata": {},
   "outputs": [
    {
     "data": {
      "image/png": "[encoded data removed]",
      "text/plain": [
       "<Figure size 576x72 with 1 Axes>"
      ]
     },
     "metadata": {},
     "output_type": "display_data"
    }
   ],
   "source": [
    "sns.palplot(sns.cubehelix_palette(8))"
   ]
  },
  {
   "cell_type": "code",
   "execution_count": 34,
   "metadata": {},
   "outputs": [
    {
     "data": {
      "text/plain": [
       "<matplotlib.image.AxesImage at 0x1cb09d125f8>"
      ]
     },
     "execution_count": 34,
     "metadata": {},
     "output_type": "execute_result"
    },
    {
     "data": {
      "image/png": "[encoded data removed]",
      "text/plain": [
       "<Figure size 432x288 with 1 Axes>"
      ]
     },
     "metadata": {},
     "output_type": "display_data"
    }
   ],
   "source": [
    "import matplotlib.pyplot as plt\n",
    "plt.title('whole year')\n",
    "plt.imshow(g_all_year_mean)"
   ]
  },
  {
   "cell_type": "code",
   "execution_count": 49,
   "metadata": {
    "collapsed": true
   },
   "outputs": [
    {
     "data": {
      "text/plain": [
       "<matplotlib.image.AxesImage at 0x1cb09e61c18>"
      ]
     },
     "execution_count": 49,
     "metadata": {},
     "output_type": "execute_result"
    },
    {
     "data": {
      "image/png": "[encoded data removed]",
      "text/plain": [
       "<Figure size 432x288 with 1 Axes>"
      ]
     },
     "metadata": {},
     "output_type": "display_data"
    }
   ],
   "source": [
    "plt.title('summer')\n",
    "plt.imshow(g_summer_mean)"
   ]
  },
  {
   "cell_type": "code",
   "execution_count": 50,
   "metadata": {
    "collapsed": true
   },
   "outputs": [
    {
     "data": {
      "text/plain": [
       "<matplotlib.image.AxesImage at 0x1cb09ec0978>"
      ]
     },
     "execution_count": 50,
     "metadata": {},
     "output_type": "execute_result"
    },
    {
     "data": {
      "image/png": "[encoded data removed]",
      "text/plain": [
       "<Figure size 432x288 with 1 Axes>"
      ]
     },
     "metadata": {},
     "output_type": "display_data"
    }
   ],
   "source": [
    "plt.title('winter')\n",
    "plt.imshow(g_winter_mean)"
   ]
  },
  {
   "cell_type": "code",
   "execution_count": 27,
   "metadata": {
    "collapsed": true
   },
   "outputs": [
    {
     "data": {
      "text/plain": [
       "<matplotlib.image.AxesImage at 0x1cb09bea6d8>"
      ]
     },
     "execution_count": 27,
     "metadata": {},
     "output_type": "execute_result"
    },
    {
     "data": {
      "image/png": "[encoded data removed]",
      "text/plain": [
       "<Figure size 432x288 with 1 Axes>"
      ]
     },
     "metadata": {},
     "output_type": "display_data"
    }
   ],
   "source": [
    "\n",
    "plt.title('spring')\n",
    "plt.imshow(g_spring_mean)"
   ]
  },
  {
   "cell_type": "code",
   "execution_count": 26,
   "metadata": {
    "collapsed": true
   },
   "outputs": [
    {
     "data": {
      "text/plain": [
       "<matplotlib.image.AxesImage at 0x1cb09b486a0>"
      ]
     },
     "execution_count": 26,
     "metadata": {},
     "output_type": "execute_result"
    },
    {
     "data": {
      "image/png": "[encoded data removed]",
      "text/plain": [
       "<Figure size 432x288 with 1 Axes>"
      ]
     },
     "metadata": {},
     "output_type": "display_data"
    }
   ],
   "source": [
    "\n",
    "plt.title('autumn')\n",
    "plt.imshow(g_autumn_mean)"
   ]
  },
  {
   "cell_type": "code",
   "execution_count": 39,
   "metadata": {
    "scrolled": true
   },
   "outputs": [
    {
     "data": {
      "text/plain": [
       "(6064, 16, 16)"
      ]
     },
     "execution_count": 39,
     "metadata": {},
     "output_type": "execute_result"
    }
   ],
   "source": [
    "ezs.shape"
   ]
  },
  {
   "cell_type": "markdown",
   "metadata": {},
   "source": [
    "高架指数"
   ]
  },
  {
   "cell_type": "code",
   "execution_count": 40,
   "metadata": {
    "collapsed": true
   },
   "outputs": [
    {
     "data": {
      "text/plain": [
       "<matplotlib.image.AxesImage at 0x1cb09dfe5c0>"
      ]
     },
     "execution_count": 40,
     "metadata": {},
     "output_type": "execute_result"
    },
    {
     "data": {
      "image/png": "[encoded data removed]",
      "text/plain": [
       "<Figure size 432x288 with 1 Axes>"
      ]
     },
     "metadata": {},
     "output_type": "display_data"
    }
   ],
   "source": [
    "# 全年平均值\n",
    "ezs_all_year_mean    = np.mean(ezs, axis=0) \n",
    "\n",
    "plt.title('high way')\n",
    "plt.imshow(ezs_all_year_mean)"
   ]
  },
  {
   "cell_type": "code",
   "execution_count": null,
   "metadata": {},
   "outputs": [],
   "source": [
    "# 春天  4965-5946\n",
    "g_spring_mean = np.mean(g[4965:], axis=0) \n",
    "\n",
    "# 夏天  0-1347\n",
    "g_summer_mean = np.mean(g[:1347], axis=0) \n",
    "\n",
    "# 秋天 1348-2691\n",
    "g_autumn_mean = np.mean(g[1348:2691], axis=0) \n",
    "\n",
    "# 冬天  2692-4964\n",
    "g_winter_mean = np.mean(g[2692:4964], axis=0) \n"
   ]
  },
  {
   "cell_type": "code",
   "execution_count": null,
   "metadata": {},
   "outputs": [],
   "source": []
  },
  {
   "cell_type": "code",
   "execution_count": 22,
   "metadata": {},
   "outputs": [
    {
     "name": "stdout",
     "output_type": "stream",
     "text": [
      "[[5 9]\n",
      " [3 6]]\n"
     ]
    },
    {
     "data": {
      "text/plain": [
       "array([[1.66666667, 3.        ],\n",
       "       [1.        , 2.        ]])"
      ]
     },
     "execution_count": 22,
     "metadata": {},
     "output_type": "execute_result"
    }
   ],
   "source": [
    "import numpy as np\n",
    "tes = [[[1,3],[1,2]],[[2,3],[1,2]],[[2,3],[1,2]]]\n",
    "test1 = np.array(tes)\n",
    "print(test1.sum(axis=0))\n",
    "np.mean(tes, axis=0) "
   ]
  },
  {
   "cell_type": "code",
   "execution_count": 107,
   "metadata": {},
   "outputs": [
    {
     "data": {
      "text/plain": [
       "<matplotlib.image.AxesImage at 0x1a79eaa0160>"
      ]
     },
     "execution_count": 107,
     "metadata": {},
     "output_type": "execute_result"
    },
    {
     "data": {
      "image/png": "[encoded data removed]",
      "text/plain": [
       "<Figure size 432x288 with 1 Axes>"
      ]
     },
     "metadata": {},
     "output_type": "display_data"
    }
   ],
   "source": [
    "import matplotlib.pyplot as plt\n",
    "\n",
    "# plt.imshow(g[0], cmap=\"seismic\", clim=(-1, 1))\n",
    "plt.imshow(g_16[24])\n"
   ]
  },
  {
   "cell_type": "code",
   "execution_count": 18,
   "metadata": {},
   "outputs": [],
   "source": [
    "test = [[0,0,5],[1,0,5],[2,0,5],[3,0,5],[4,0,5],[5,0,5],[6,0,5],[7,0,5],[8,0,5],[9,0,5],[10,0,5],[11,0,5]\n",
    ",[0,1,5],[1,1,5],[2,1,5],[3,1,5],[4,1,5],[5,1,5],[6,1,5],[7,1,5],[8,1,5]\n",
    ",[9,1,5],[10,1,5],[11,1,5]\n",
    ",[0,2,5],[1,2,5],[2,2,5],[3,2,5],[4,2,5],[5,2,5],[6,2,5],[7,2,5],[8,2,5],[9,2,5],[10,2,5],[11,2,5],[0,3,5],[1,3,5],[2,3,5],[3,3,5],[4,3,5],[5,3,5],[6,3,5],[7,3,5],[8,3,5],[9,3,5]\n",
    ",[10,3,5],[11,3,5],[0,4,5],[1,4,5],[2,4,5],[3,4,5],[4,4,5]\n",
    ",[5,4,5],[6,4,5],[7,4,5],[8,4,5],[9,4,5],[10,4,5],[11,4,5]\n",
    ",[0,5,5],[1,5,5],[2,5,5],[3,5,5],[4,5,5],[5,5,5],[6,5,5],[7,5,5],[8,5,5],[9,5,5],[10,5,5],[11,5,5]\n",
    ",[0,6,5],[1,6,5],[2,6,5],[3,6,5],[4,6,5],[5,6,5],[6,6,5]\n",
    ",[7,6,5],[8,6,5],[9,6,5],[10,6,5],[11,6,5],[0,7,5],[1,7,5]\n",
    ",[2,7,5],[3,7,5],[4,7,5],[5,7,5],[6,7,5],[7,7,5],[8,7,5],[9,7,5],[10,7,5],[11,7,5],[0,8,5],[1,8,5],[2,8,5],[3,8,5],[4,8,5],[5,8,4],[6,8,5],[7,8,4],[8,8,5]\n",
    ",[9,8,5],[10,8,5],[11,8,5]\n",
    ",[0,9,5],[1,9,5],[2,9,5],[3,9,5]\n",
    ",[4,9,5],[5,9,5],[6,9,5],[7,9,5],[8,9,4],[9,9,5],[10,9,5],[11,9,4],[0,10,5],[1,10,5],[2,10,5],[3,10,5],[4,10,5],[5,10,5],[6,10,5],[7,10,5],[8,10,5],[9,10,5]\n",
    ",[10,10,5],[11,10,5]\n",
    ",[0,11,5],[1,11,5],[2,11,5],[3,11,5],[4,11,5],[5,11,5],[6,11,5],[7,11,5],[8,11,5],[9,11,5],[10,11,4]\n",
    ",[11,11,4]\n",
    "]"
   ]
  },
  {
   "cell_type": "code",
   "execution_count": 81,
   "metadata": {},
   "outputs": [
    {
     "name": "stdout",
     "output_type": "stream",
     "text": [
      "0\n",
      "0\n"
     ]
    },
    {
     "data": {
      "text/plain": [
       "75.98646"
      ]
     },
     "execution_count": 81,
     "metadata": {},
     "output_type": "execute_result"
    }
   ],
   "source": [
    "test[11][2] = int(g[0][11][11])\n",
    "print (test[11][2])\n",
    " \n",
    "print (int(g[24][11][11]))\n",
    "g_16[0][5][4]\n"
   ]
  },
  {
   "cell_type": "code",
   "execution_count": 82,
   "metadata": {},
   "outputs": [
    {
     "name": "stdout",
     "output_type": "stream",
     "text": [
      "75.98646\n",
      "77.91293\n"
     ]
    }
   ],
   "source": [
    "print(g_16[0][5][4])\n",
    "print(g_16[24][5][4])"
   ]
  },
  {
   "cell_type": "markdown",
   "metadata": {},
   "source": [
    "# 16*16格式网格路面指数  等级输出"
   ]
  },
  {
   "cell_type": "code",
   "execution_count": null,
   "metadata": {},
   "outputs": [],
   "source": [
    "import matplotlib.pyplot as plt"
   ]
  },
  {
   "cell_type": "code",
   "execution_count": 108,
   "metadata": {},
   "outputs": [
    {
     "data": {
      "text/plain": [
       "[[0, 0, 0],\n",
       " [1, 0, 0],\n",
       " [2, 0, 0],\n",
       " [3, 0, 1],\n",
       " [4, 0, 0],\n",
       " [5, 0, 0],\n",
       " [6, 0, 1],\n",
       " [7, 0, 0],\n",
       " [8, 0, 0],\n",
       " [9, 0, 0],\n",
       " [10, 0, 1],\n",
       " [11, 0, 1],\n",
       " [0, 1, 0],\n",
       " [1, 1, 0],\n",
       " [2, 1, 0],\n",
       " [3, 1, 0],\n",
       " [4, 1, 0],\n",
       " [5, 1, 0],\n",
       " [6, 1, 0],\n",
       " [7, 1, 0],\n",
       " [8, 1, 0],\n",
       " [9, 1, 0],\n",
       " [10, 1, 1],\n",
       " [11, 1, 0],\n",
       " [0, 2, 1],\n",
       " [1, 2, 0],\n",
       " [2, 2, 1],\n",
       " [3, 2, 1],\n",
       " [4, 2, 1],\n",
       " [5, 2, 1],\n",
       " [6, 2, 1],\n",
       " [7, 2, 1],\n",
       " [8, 2, 0],\n",
       " [9, 2, 0],\n",
       " [10, 2, 0],\n",
       " [11, 2, 0],\n",
       " [0, 3, 0],\n",
       " [1, 3, 0],\n",
       " [2, 3, 1],\n",
       " [3, 3, 1],\n",
       " [4, 3, 1],\n",
       " [5, 3, 0],\n",
       " [6, 3, 1],\n",
       " [7, 3, 0],\n",
       " [8, 3, 0],\n",
       " [9, 3, 0],\n",
       " [10, 3, 0],\n",
       " [11, 3, 0],\n",
       " [0, 4, 0],\n",
       " [1, 4, 1],\n",
       " [2, 4, 1],\n",
       " [3, 4, 2],\n",
       " [4, 4, 2],\n",
       " [5, 4, 1],\n",
       " [6, 4, 1],\n",
       " [7, 4, 1],\n",
       " [8, 4, 1],\n",
       " [9, 4, 0],\n",
       " [10, 4, 1],\n",
       " [11, 4, 0],\n",
       " [0, 5, 0],\n",
       " [1, 5, 0],\n",
       " [2, 5, 1],\n",
       " [3, 5, 1],\n",
       " [4, 5, 1],\n",
       " [5, 5, 1],\n",
       " [6, 5, 1],\n",
       " [7, 5, 0],\n",
       " [8, 5, 0],\n",
       " [9, 5, 0],\n",
       " [10, 5, 0],\n",
       " [11, 5, 0],\n",
       " [0, 6, 0],\n",
       " [1, 6, 1],\n",
       " [2, 6, 1],\n",
       " [3, 6, 0],\n",
       " [4, 6, 1],\n",
       " [5, 6, 2],\n",
       " [6, 6, 1],\n",
       " [7, 6, 1],\n",
       " [8, 6, 0],\n",
       " [9, 6, 0],\n",
       " [10, 6, 0],\n",
       " [11, 6, 0],\n",
       " [0, 7, 0],\n",
       " [1, 7, 0],\n",
       " [2, 7, 1],\n",
       " [3, 7, 0],\n",
       " [4, 7, 0],\n",
       " [5, 7, 1],\n",
       " [6, 7, 1],\n",
       " [7, 7, 0],\n",
       " [8, 7, 0],\n",
       " [9, 7, 0],\n",
       " [10, 7, 0],\n",
       " [11, 7, 0],\n",
       " [0, 8, 0],\n",
       " [1, 8, 0],\n",
       " [2, 8, 0],\n",
       " [3, 8, 0],\n",
       " [4, 8, 1],\n",
       " [5, 8, 2],\n",
       " [6, 8, 0],\n",
       " [7, 8, 1],\n",
       " [8, 8, 0],\n",
       " [9, 8, 0],\n",
       " [10, 8, 0],\n",
       " [11, 8, 0],\n",
       " [0, 9, 0],\n",
       " [1, 9, 0],\n",
       " [2, 9, 0],\n",
       " [3, 9, 0],\n",
       " [4, 9, 0],\n",
       " [5, 9, 0],\n",
       " [6, 9, 0],\n",
       " [7, 9, 0],\n",
       " [8, 9, 0],\n",
       " [9, 9, 0],\n",
       " [10, 9, 0],\n",
       " [11, 9, 0],\n",
       " [0, 10, 0],\n",
       " [1, 10, 0],\n",
       " [2, 10, 0],\n",
       " [3, 10, 0],\n",
       " [4, 10, 0],\n",
       " [5, 10, 0],\n",
       " [6, 10, 0],\n",
       " [7, 10, 0],\n",
       " [8, 10, 1],\n",
       " [9, 10, 0],\n",
       " [10, 10, 0],\n",
       " [11, 10, 0],\n",
       " [0, 11, 0],\n",
       " [1, 11, 0],\n",
       " [2, 11, 0],\n",
       " [3, 11, 0],\n",
       " [4, 11, 0],\n",
       " [5, 11, 0],\n",
       " [6, 11, 0],\n",
       " [7, 11, 1],\n",
       " [8, 11, 1],\n",
       " [9, 11, 0],\n",
       " [10, 11, 0],\n",
       " [11, 11, 0]]"
      ]
     },
     "execution_count": 108,
     "metadata": {},
     "output_type": "execute_result"
    }
   ],
   "source": [
    "for i in range(144):\n",
    "    x = int(i%12)\n",
    "    y = int(i/12)\n",
    "    test[i][2] = int(g[24][11-y][x]/15)\n",
    "test"
   ]
  },
  {
   "cell_type": "code",
   "execution_count": 109,
   "metadata": {},
   "outputs": [],
   "source": [
    "import h5py\n",
    "import os\n",
    "\n",
    "ground = h5py.File('../data/inte_g_12.h5', 'r')\n",
    "g_16 = ground['X']\n",
    "\n",
    "ele_zs = h5py.File('../data/inte_e_zs_12_new.h5', 'r')\n",
    "ezs_16 = ele_zs['X']\n",
    "\n",
    "ele_sd = h5py.File('../data/inte_e_sd_12_new.h5', 'r')\n",
    "esd_16 = ele_sd['X']"
   ]
  },
  {
   "cell_type": "code",
   "execution_count": 119,
   "metadata": {},
   "outputs": [
    {
     "name": "stdout",
     "output_type": "stream",
     "text": [
      "35.07862\n",
      "42.558018\n",
      "44.81725\n",
      "54.46221\n",
      "56.878838\n",
      "65.88496\n",
      "34.335552\n",
      "38.319126\n",
      "57.616875\n",
      "68.34187\n",
      "54.30753\n",
      "55.330887\n",
      "51.71542\n",
      "46.608326\n",
      "52.20375\n",
      "53.511562\n",
      "53.201332\n",
      "52.159763\n",
      "62.659626\n",
      "63.67333\n",
      "46.937935\n",
      "41.665375\n",
      "42.328327\n",
      "34.80249\n",
      "34.76465\n",
      "39.355446\n",
      "40.046303\n",
      "47.44465\n",
      "49.114807\n",
      "54.239525\n",
      "31.992388\n",
      "39.79779\n",
      "42.44012\n",
      "50.350677\n",
      "47.242546\n",
      "48.116055\n",
      "46.30312\n",
      "48.657177\n",
      "52.138577\n",
      "57.035095\n",
      "55.767807\n",
      "56.789173\n",
      "47.269066\n",
      "48.295647\n",
      "46.18914\n",
      "43.760197\n",
      "38.814163\n",
      "34.841175\n",
      "36.0747\n",
      "38.75842\n"
     ]
    }
   ],
   "source": [
    "for i in range(0,50) :\n",
    "    print(g_16[i].max())"
   ]
  },
  {
   "cell_type": "code",
   "execution_count": 120,
   "metadata": {},
   "outputs": [
    {
     "data": {
      "text/plain": [
       "[[0, 0, 0],\n",
       " [1, 0, 0],\n",
       " [2, 0, 0],\n",
       " [3, 0, 0],\n",
       " [4, 0, 2],\n",
       " [5, 0, 1],\n",
       " [6, 0, 0],\n",
       " [7, 0, 0],\n",
       " [8, 0, 1],\n",
       " [9, 0, 0],\n",
       " [10, 0, 0],\n",
       " [11, 0, 0],\n",
       " [12, 0, 0],\n",
       " [13, 0, 0],\n",
       " [14, 0, 2],\n",
       " [15, 0, 1],\n",
       " [0, 1, 0],\n",
       " [1, 1, 0],\n",
       " [2, 1, 0],\n",
       " [3, 1, 0],\n",
       " [4, 1, 0],\n",
       " [5, 1, 0],\n",
       " [6, 1, 0],\n",
       " [7, 1, 0],\n",
       " [8, 1, 0],\n",
       " [9, 1, 0],\n",
       " [10, 1, 0],\n",
       " [11, 1, 0],\n",
       " [12, 1, 0],\n",
       " [13, 1, 1],\n",
       " [14, 1, 2],\n",
       " [15, 1, 0],\n",
       " [0, 2, 1],\n",
       " [1, 2, 0],\n",
       " [2, 2, 0],\n",
       " [3, 2, 0],\n",
       " [4, 2, 0],\n",
       " [5, 2, 0],\n",
       " [6, 2, 0],\n",
       " [7, 2, 0],\n",
       " [8, 2, 0],\n",
       " [9, 2, 0],\n",
       " [10, 2, 0],\n",
       " [11, 2, 0],\n",
       " [12, 2, 0],\n",
       " [13, 2, 0],\n",
       " [14, 2, 0],\n",
       " [15, 2, 0],\n",
       " [0, 3, 1],\n",
       " [1, 3, 0],\n",
       " [2, 3, 0],\n",
       " [3, 3, 1],\n",
       " [4, 3, 2],\n",
       " [5, 3, 1],\n",
       " [6, 3, 1],\n",
       " [7, 3, 1],\n",
       " [8, 3, 1],\n",
       " [9, 3, 1],\n",
       " [10, 3, 0],\n",
       " [11, 3, 0],\n",
       " [12, 3, 0],\n",
       " [13, 3, 0],\n",
       " [14, 3, 0],\n",
       " [15, 3, 0],\n",
       " [0, 4, 0],\n",
       " [1, 4, 0],\n",
       " [2, 4, 0],\n",
       " [3, 4, 1],\n",
       " [4, 4, 2],\n",
       " [5, 4, 1],\n",
       " [6, 4, 0],\n",
       " [7, 4, 0],\n",
       " [8, 4, 1],\n",
       " [9, 4, 0],\n",
       " [10, 4, 0],\n",
       " [11, 4, 1],\n",
       " [12, 4, 0],\n",
       " [13, 4, 0],\n",
       " [14, 4, 0],\n",
       " [15, 4, 0],\n",
       " [0, 5, 0],\n",
       " [1, 5, 0],\n",
       " [2, 5, 1],\n",
       " [3, 5, 1],\n",
       " [4, 5, 1],\n",
       " [5, 5, 1],\n",
       " [6, 5, 1],\n",
       " [7, 5, 0],\n",
       " [8, 5, 1],\n",
       " [9, 5, 1],\n",
       " [10, 5, 1],\n",
       " [11, 5, 1],\n",
       " [12, 5, 0],\n",
       " [13, 5, 0],\n",
       " [14, 5, 0],\n",
       " [15, 5, 0],\n",
       " [0, 6, 0],\n",
       " [1, 6, 0],\n",
       " [2, 6, 1],\n",
       " [3, 6, 1],\n",
       " [4, 6, 2],\n",
       " [5, 6, 1],\n",
       " [6, 6, 1],\n",
       " [7, 6, 1],\n",
       " [8, 6, 1],\n",
       " [9, 6, 0],\n",
       " [10, 6, 0],\n",
       " [11, 6, 0],\n",
       " [12, 6, 0],\n",
       " [13, 6, 0],\n",
       " [14, 6, 0],\n",
       " [15, 6, 0],\n",
       " [0, 7, 0],\n",
       " [1, 7, 0],\n",
       " [2, 7, 0],\n",
       " [3, 7, 1],\n",
       " [4, 7, 2],\n",
       " [5, 7, 1],\n",
       " [6, 7, 1],\n",
       " [7, 7, 1],\n",
       " [8, 7, 1],\n",
       " [9, 7, 0],\n",
       " [10, 7, 0],\n",
       " [11, 7, 0],\n",
       " [12, 7, 0],\n",
       " [13, 7, 0],\n",
       " [14, 7, 0],\n",
       " [15, 7, 0],\n",
       " [0, 8, 0],\n",
       " [1, 8, 1],\n",
       " [2, 8, 2],\n",
       " [3, 8, 1],\n",
       " [4, 8, 0],\n",
       " [5, 8, 1],\n",
       " [6, 8, 2],\n",
       " [7, 8, 1],\n",
       " [8, 8, 1],\n",
       " [9, 8, 2],\n",
       " [10, 8, 1],\n",
       " [11, 8, 0],\n",
       " [12, 8, 0],\n",
       " [13, 8, 0],\n",
       " [14, 8, 0],\n",
       " [15, 8, 0],\n",
       " [0, 9, 0],\n",
       " [1, 9, 0],\n",
       " [2, 9, 1],\n",
       " [3, 9, 1],\n",
       " [4, 9, 0],\n",
       " [5, 9, 0],\n",
       " [6, 9, 0],\n",
       " [7, 9, 1],\n",
       " [8, 9, 1],\n",
       " [9, 9, 1],\n",
       " [10, 9, 0],\n",
       " [11, 9, 0],\n",
       " [12, 9, 0],\n",
       " [13, 9, 0],\n",
       " [14, 9, 0],\n",
       " [15, 9, 0],\n",
       " [0, 10, 0],\n",
       " [1, 10, 0],\n",
       " [2, 10, 0],\n",
       " [3, 10, 0],\n",
       " [4, 10, 0],\n",
       " [5, 10, 0],\n",
       " [6, 10, 2],\n",
       " [7, 10, 2],\n",
       " [8, 10, 1],\n",
       " [9, 10, 0],\n",
       " [10, 10, 0],\n",
       " [11, 10, 0],\n",
       " [12, 10, 0],\n",
       " [13, 10, 0],\n",
       " [14, 10, 0],\n",
       " [15, 10, 0],\n",
       " [0, 11, 0],\n",
       " [1, 11, 0],\n",
       " [2, 11, 0],\n",
       " [3, 11, 0],\n",
       " [4, 11, 0],\n",
       " [5, 11, 2],\n",
       " [6, 11, 4],\n",
       " [7, 11, 3],\n",
       " [8, 11, 0],\n",
       " [9, 11, 0],\n",
       " [10, 11, 1],\n",
       " [11, 11, 0],\n",
       " [12, 11, 0],\n",
       " [13, 11, 0],\n",
       " [14, 11, 0],\n",
       " [15, 11, 0],\n",
       " [0, 12, 0],\n",
       " [1, 12, 0],\n",
       " [2, 12, 0],\n",
       " [3, 12, 0],\n",
       " [4, 12, 0],\n",
       " [5, 12, 0],\n",
       " [6, 12, 0],\n",
       " [7, 12, 0],\n",
       " [8, 12, 0],\n",
       " [9, 12, 0],\n",
       " [10, 12, 0],\n",
       " [11, 12, 0],\n",
       " [12, 12, 0],\n",
       " [13, 12, 0],\n",
       " [14, 12, 0],\n",
       " [15, 12, 0],\n",
       " [0, 13, 0],\n",
       " [1, 13, 0],\n",
       " [2, 13, 0],\n",
       " [3, 13, 0],\n",
       " [4, 13, 0],\n",
       " [5, 13, 0],\n",
       " [6, 13, 0],\n",
       " [7, 13, 0],\n",
       " [8, 13, 0],\n",
       " [9, 13, 0],\n",
       " [10, 13, 0],\n",
       " [11, 13, 0],\n",
       " [12, 13, 0],\n",
       " [13, 13, 0],\n",
       " [14, 13, 0],\n",
       " [15, 13, 0],\n",
       " [0, 14, 0],\n",
       " [1, 14, 0],\n",
       " [2, 14, 0],\n",
       " [3, 14, 0],\n",
       " [4, 14, 0],\n",
       " [5, 14, 0],\n",
       " [6, 14, 0],\n",
       " [7, 14, 0],\n",
       " [8, 14, 0],\n",
       " [9, 14, 0],\n",
       " [10, 14, 1],\n",
       " [11, 14, 1],\n",
       " [12, 14, 0],\n",
       " [13, 14, 0],\n",
       " [14, 14, 0],\n",
       " [15, 14, 0],\n",
       " [0, 15, 0],\n",
       " [1, 15, 0],\n",
       " [2, 15, 0],\n",
       " [3, 15, 0],\n",
       " [4, 15, 0],\n",
       " [5, 15, 0],\n",
       " [6, 15, 0],\n",
       " [7, 15, 0],\n",
       " [8, 15, 0],\n",
       " [9, 15, 1],\n",
       " [10, 15, 2],\n",
       " [11, 15, 1],\n",
       " [12, 15, 0],\n",
       " [13, 15, 0],\n",
       " [14, 15, 0],\n",
       " [15, 15, 0]]"
      ]
     },
     "execution_count": 120,
     "metadata": {},
     "output_type": "execute_result"
    }
   ],
   "source": [
    "test_16 = []\n",
    "for i in range(0,length*length):    \n",
    "        test_16.append([0,0,0])\n",
    "\n",
    "length = 16\n",
    "for i in range(0,length*length):\n",
    "    x = int(i%length)\n",
    "    y = int(i/length) \n",
    "    \n",
    "    z = int(g_16[5][length-1-y][x]/15)\n",
    "    \n",
    "    test_16[i] = [x,y,z]\n",
    "test_16"
   ]
  },
  {
   "cell_type": "code",
   "execution_count": null,
   "metadata": {},
   "outputs": [],
   "source": []
  },
  {
   "cell_type": "markdown",
   "metadata": {},
   "source": [
    "# 春夏秋冬 四季 交通特征分布"
   ]
  },
  {
   "cell_type": "code",
   "execution_count": null,
   "metadata": {},
   "outputs": [],
   "source": []
  }
 ],
 "metadata": {
  "kernelspec": {
   "display_name": "Python 3",
   "language": "python",
   "name": "python3"
  },
  "language_info": {
   "codemirror_mode": {
    "name": "ipython",
    "version": 3
   },
   "file_extension": ".py",
   "mimetype": "text/x-python",
   "name": "python",
   "nbconvert_exporter": "python",
   "pygments_lexer": "ipython3",
   "version": "3.6.6"
  }
 },
 "nbformat": 4,
 "nbformat_minor": 2
}
