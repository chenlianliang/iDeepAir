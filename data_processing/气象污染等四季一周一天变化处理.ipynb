{
 "cells": [
  {
   "cell_type": "code",
   "execution_count": 1,
   "metadata": {
    "scrolled": true
   },
   "outputs": [],
   "source": [
    "import h5py\n",
    "import os\n",
    "\n",
    "# ground = h5py.File('../data/inte_g_12_linear.h5', 'r')\n",
    "# g = ground['X']\n",
    "\n",
    "# ele_zs = h5py.File('../data/inte_e_zs_12_new_linear.h5', 'r')\n",
    "# ezs = ele_zs['X']\n",
    "\n",
    "# ele_sd = h5py.File('../data/inte_e_sd_12_new_linear.h5', 'r')\n",
    "# esd = ele_sd['X']"
   ]
  },
  {
   "cell_type": "code",
   "execution_count": 2,
   "metadata": {},
   "outputs": [],
   "source": [
    "ground = h5py.File('../data/g_hhh12_12.h5', 'r')\n",
    "g = ground['X']\n",
    "\n",
    "ele_zs = h5py.File('../data/e_zs_hhh12_12.h5', 'r')\n",
    "ezs = ele_zs['X']\n",
    "\n",
    "ele_sd = h5py.File('../data/e_sd_hhh12_12.h5', 'r')\n",
    "esd = ele_sd['X']"
   ]
  },
  {
   "cell_type": "code",
   "execution_count": 3,
   "metadata": {},
   "outputs": [],
   "source": [
    "import numpy as np"
   ]
  },
  {
   "cell_type": "code",
   "execution_count": 4,
   "metadata": {},
   "outputs": [],
   "source": [
    "g_m=[]\n",
    "ezs_m=[]\n",
    "for i in range(len(g)):\n",
    "    g_m.append(np.sum(g[i])/np.count_nonzero(g[0]))\n",
    "for j in range(len(ezs)):\n",
    "    ezs_m.append(np.sum(ezs[j])/np.count_nonzero(ezs[0]))    \n"
   ]
  },
  {
   "cell_type": "code",
   "execution_count": 5,
   "metadata": {},
   "outputs": [
    {
     "data": {
      "text/plain": [
       "(6064,)"
      ]
     },
     "execution_count": 5,
     "metadata": {},
     "output_type": "execute_result"
    }
   ],
   "source": [
    "np.shape(g_m)"
   ]
  },
  {
   "cell_type": "code",
   "execution_count": 6,
   "metadata": {},
   "outputs": [],
   "source": [
    "import pandas as pd\n",
    "import numpy as np\n",
    "#matplotlib inline\n",
    "#参数初始化\n",
    "discfile = '../data/data_wea_time_unify.csv'\n",
    "\n",
    "data_wea_time_unify = pd.read_csv(discfile)"
   ]
  },
  {
   "cell_type": "code",
   "execution_count": 7,
   "metadata": {
    "collapsed": true
   },
   "outputs": [
    {
     "data": {
      "text/html": [
       "<div>\n",
       "<style scoped>\n",
       "    .dataframe tbody tr th:only-of-type {\n",
       "        vertical-align: middle;\n",
       "    }\n",
       "\n",
       "    .dataframe tbody tr th {\n",
       "        vertical-align: top;\n",
       "    }\n",
       "\n",
       "    .dataframe thead th {\n",
       "        text-align: right;\n",
       "    }\n",
       "</style>\n",
       "<table border=\"1\" class=\"dataframe\">\n",
       "  <thead>\n",
       "    <tr style=\"text-align: right;\">\n",
       "      <th></th>\n",
       "      <th>Unnamed: 0</th>\n",
       "      <th>Unnamed: 0.1</th>\n",
       "      <th>date</th>\n",
       "      <th>hour</th>\n",
       "      <th>PM25_1</th>\n",
       "      <th>PM25_2</th>\n",
       "      <th>PM25_3</th>\n",
       "      <th>PM25_4</th>\n",
       "      <th>PM25_5</th>\n",
       "      <th>PM25_6</th>\n",
       "      <th>...</th>\n",
       "      <th>season</th>\n",
       "      <th>Conditions</th>\n",
       "      <th>Dew Point</th>\n",
       "      <th>Humidity</th>\n",
       "      <th>Pressure</th>\n",
       "      <th>Temp.</th>\n",
       "      <th>Wind Dir</th>\n",
       "      <th>Wind Speed</th>\n",
       "      <th>Quality evaluation</th>\n",
       "      <th>date_hours</th>\n",
       "    </tr>\n",
       "  </thead>\n",
       "  <tbody>\n",
       "    <tr>\n",
       "      <th>0</th>\n",
       "      <td>0</td>\n",
       "      <td>0</td>\n",
       "      <td>20140801</td>\n",
       "      <td>0</td>\n",
       "      <td>7</td>\n",
       "      <td>12</td>\n",
       "      <td>11</td>\n",
       "      <td>15</td>\n",
       "      <td>13</td>\n",
       "      <td>10</td>\n",
       "      <td>...</td>\n",
       "      <td>1</td>\n",
       "      <td>3</td>\n",
       "      <td>24</td>\n",
       "      <td>79</td>\n",
       "      <td>1001</td>\n",
       "      <td>28</td>\n",
       "      <td>0.483370</td>\n",
       "      <td>21.6</td>\n",
       "      <td>1</td>\n",
       "      <td>201408010</td>\n",
       "    </tr>\n",
       "    <tr>\n",
       "      <th>1</th>\n",
       "      <td>1</td>\n",
       "      <td>1</td>\n",
       "      <td>20140801</td>\n",
       "      <td>1</td>\n",
       "      <td>9</td>\n",
       "      <td>6</td>\n",
       "      <td>12</td>\n",
       "      <td>9</td>\n",
       "      <td>13</td>\n",
       "      <td>6</td>\n",
       "      <td>...</td>\n",
       "      <td>1</td>\n",
       "      <td>5</td>\n",
       "      <td>24</td>\n",
       "      <td>84</td>\n",
       "      <td>1000</td>\n",
       "      <td>27</td>\n",
       "      <td>0.483370</td>\n",
       "      <td>18.0</td>\n",
       "      <td>1</td>\n",
       "      <td>201408011</td>\n",
       "    </tr>\n",
       "    <tr>\n",
       "      <th>2</th>\n",
       "      <td>2</td>\n",
       "      <td>2</td>\n",
       "      <td>20140801</td>\n",
       "      <td>2</td>\n",
       "      <td>3</td>\n",
       "      <td>9</td>\n",
       "      <td>7</td>\n",
       "      <td>12</td>\n",
       "      <td>10</td>\n",
       "      <td>4</td>\n",
       "      <td>...</td>\n",
       "      <td>1</td>\n",
       "      <td>5</td>\n",
       "      <td>24</td>\n",
       "      <td>79</td>\n",
       "      <td>1000</td>\n",
       "      <td>28</td>\n",
       "      <td>0.418165</td>\n",
       "      <td>18.0</td>\n",
       "      <td>1</td>\n",
       "      <td>201408012</td>\n",
       "    </tr>\n",
       "    <tr>\n",
       "      <th>3</th>\n",
       "      <td>3</td>\n",
       "      <td>3</td>\n",
       "      <td>20140801</td>\n",
       "      <td>3</td>\n",
       "      <td>6</td>\n",
       "      <td>14</td>\n",
       "      <td>6</td>\n",
       "      <td>9</td>\n",
       "      <td>6</td>\n",
       "      <td>6</td>\n",
       "      <td>...</td>\n",
       "      <td>1</td>\n",
       "      <td>3</td>\n",
       "      <td>24</td>\n",
       "      <td>84</td>\n",
       "      <td>999</td>\n",
       "      <td>27</td>\n",
       "      <td>0.418165</td>\n",
       "      <td>18.0</td>\n",
       "      <td>1</td>\n",
       "      <td>201408013</td>\n",
       "    </tr>\n",
       "    <tr>\n",
       "      <th>4</th>\n",
       "      <td>4</td>\n",
       "      <td>4</td>\n",
       "      <td>20140801</td>\n",
       "      <td>4</td>\n",
       "      <td>5</td>\n",
       "      <td>10</td>\n",
       "      <td>7</td>\n",
       "      <td>11</td>\n",
       "      <td>7</td>\n",
       "      <td>7</td>\n",
       "      <td>...</td>\n",
       "      <td>1</td>\n",
       "      <td>5</td>\n",
       "      <td>25</td>\n",
       "      <td>94</td>\n",
       "      <td>999</td>\n",
       "      <td>26</td>\n",
       "      <td>0.418165</td>\n",
       "      <td>21.6</td>\n",
       "      <td>1</td>\n",
       "      <td>201408014</td>\n",
       "    </tr>\n",
       "  </tbody>\n",
       "</table>\n",
       "<p>5 rows × 76 columns</p>\n",
       "</div>"
      ],
      "text/plain": [
       "   Unnamed: 0  Unnamed: 0.1      date  hour  PM25_1  PM25_2  PM25_3  PM25_4  \\\n",
       "0           0             0  20140801     0       7      12      11      15   \n",
       "1           1             1  20140801     1       9       6      12       9   \n",
       "2           2             2  20140801     2       3       9       7      12   \n",
       "3           3             3  20140801     3       6      14       6       9   \n",
       "4           4             4  20140801     4       5      10       7      11   \n",
       "\n",
       "   PM25_5  PM25_6     ...      season  Conditions  Dew Point  Humidity  \\\n",
       "0      13      10     ...           1           3         24        79   \n",
       "1      13       6     ...           1           5         24        84   \n",
       "2      10       4     ...           1           5         24        79   \n",
       "3       6       6     ...           1           3         24        84   \n",
       "4       7       7     ...           1           5         25        94   \n",
       "\n",
       "   Pressure  Temp.  Wind Dir  Wind Speed  Quality evaluation  date_hours  \n",
       "0      1001     28  0.483370        21.6                   1   201408010  \n",
       "1      1000     27  0.483370        18.0                   1   201408011  \n",
       "2      1000     28  0.418165        18.0                   1   201408012  \n",
       "3       999     27  0.418165        18.0                   1   201408013  \n",
       "4       999     26  0.418165        21.6                   1   201408014  \n",
       "\n",
       "[5 rows x 76 columns]"
      ]
     },
     "execution_count": 7,
     "metadata": {},
     "output_type": "execute_result"
    }
   ],
   "source": [
    "data_wea_time_unify.head()"
   ]
  },
  {
   "cell_type": "markdown",
   "metadata": {},
   "source": [
    "## 每周七天地面道路交通指数状态\n"
   ]
  },
  {
   "cell_type": "code",
   "execution_count": 8,
   "metadata": {},
   "outputs": [],
   "source": [
    "day1_24hour = [[] for i in range(24)]\n",
    "day2_24hour = [[] for i in range(24)]\n",
    "day3_24hour = [[] for i in range(24)]\n",
    "day4_24hour = [[] for i in range(24)]\n",
    "day5_24hour = [[] for i in range(24)]\n",
    "day6_24hour = [[] for i in range(24)]\n",
    "day7_24hour = [[] for i in range(24)]\n",
    "\n",
    "for i in range (g.shape[0]):\n",
    "    if data_wea_time_unify.loc[i]['week'] == 1:\n",
    "        hour = int(data_wea_time_unify.loc[i]['hour'])\n",
    "        day1_24hour[hour].append(g_m[i])\n",
    "    elif data_wea_time_unify.loc[i]['week'] ==2:\n",
    "        hour = int(data_wea_time_unify.loc[i]['hour'])\n",
    "        day2_24hour[hour].append(g_m[i])\n",
    "    elif data_wea_time_unify.loc[i]['week'] ==3:\n",
    "        hour = int(data_wea_time_unify.loc[i]['hour'])\n",
    "        day3_24hour[hour].append(g_m[i])\n",
    "    elif data_wea_time_unify.loc[i]['week'] ==4:\n",
    "        hour = int(data_wea_time_unify.loc[i]['hour'])\n",
    "        day4_24hour[hour].append(g_m[i])\n",
    "    elif data_wea_time_unify.loc[i]['week'] ==5:\n",
    "        hour = int(data_wea_time_unify.loc[i]['hour'])\n",
    "        day5_24hour[hour].append(g_m[i])\n",
    "    elif data_wea_time_unify.loc[i]['week'] ==6:\n",
    "        hour = int(data_wea_time_unify.loc[i]['hour'])\n",
    "        day6_24hour[hour].append(g_m[i])\n",
    "    else:\n",
    "        hour = int(data_wea_time_unify.loc[i]['hour'])\n",
    "        day7_24hour[hour].append(g_m[i])\n",
    "\n",
    "\n",
    "day1_24hour_mean = []\n",
    "day2_24hour_mean = []\n",
    "day3_24hour_mean = []\n",
    "day4_24hour_mean = []\n",
    "day5_24hour_mean = []\n",
    "day6_24hour_mean = []\n",
    "day7_24hour_mean = []    \n",
    "\n",
    "\n",
    "for i in range (24):\n",
    "    day1_24hour_mean.append(np.mean(day1_24hour[i]))\n",
    "    day2_24hour_mean.append(np.mean(day2_24hour[i]))\n",
    "    day3_24hour_mean.append(np.mean(day3_24hour[i]))\n",
    "    day4_24hour_mean.append(np.mean(day4_24hour[i]))\n",
    "    day5_24hour_mean.append(np.mean(day5_24hour[i]))\n",
    "    day6_24hour_mean.append(np.mean(day6_24hour[i]))\n",
    "    day7_24hour_mean.append(np.mean(day7_24hour[i]))   "
   ]
  },
  {
   "cell_type": "code",
   "execution_count": 12,
   "metadata": {},
   "outputs": [],
   "source": [
    "day_24hour_mean=[]\n",
    "\n",
    "day_24hour_mean=day1_24hour_mean+day2_24hour_mean+day3_24hour_mean+day4_24hour_mean+day5_24hour_mean+day6_24hour_mean+day7_24hour_mean"
   ]
  },
  {
   "cell_type": "code",
   "execution_count": 13,
   "metadata": {
    "collapsed": true
   },
   "outputs": [
    {
     "data": {
      "text/plain": [
       "[23.093104261033076,\n",
       " 13.723899354325964,\n",
       " 14.907749924535729,\n",
       " 16.532111266072008,\n",
       " 17.201831539037794,\n",
       " 17.072556305370362,\n",
       " 20.972434083398227,\n",
       " 26.957375875761485,\n",
       " 39.925748647794471,\n",
       " 40.308554928086508,\n",
       " 34.191765421048252,\n",
       " 32.046772233503447,\n",
       " 30.392781674463336,\n",
       " 30.250570605909495,\n",
       " 32.253049542518966,\n",
       " 32.913753122799982,\n",
       " 34.357282069243922,\n",
       " 36.22069589484348,\n",
       " 41.270077247709814,\n",
       " 36.362916032125106,\n",
       " 29.679819093528376,\n",
       " 27.988041962114188,\n",
       " 26.217039105889199,\n",
       " 23.973667416912747,\n",
       " 22.996983373285268,\n",
       " 14.009102178417079,\n",
       " 14.072132990235497,\n",
       " 15.450844514454511,\n",
       " 16.230157694354407,\n",
       " 16.119952262716094,\n",
       " 20.560792555417695,\n",
       " 26.406747652375195,\n",
       " 39.078840083538495,\n",
       " 39.503119005287701,\n",
       " 34.418499680676085,\n",
       " 32.610587540368542,\n",
       " 31.311815738388102,\n",
       " 30.798824381917832,\n",
       " 32.889724229705635,\n",
       " 33.516840434436745,\n",
       " 35.570988164526945,\n",
       " 37.516562010234615,\n",
       " 41.880185085482822,\n",
       " 36.893999854554529,\n",
       " 30.891602378775652,\n",
       " 28.887887901832489,\n",
       " 26.711636528780396,\n",
       " 24.807086608330167,\n",
       " 23.588766912950597,\n",
       " 15.075556906120713,\n",
       " 15.669313731092087,\n",
       " 16.892891290903655,\n",
       " 17.471119729621471,\n",
       " 17.268650855601276,\n",
       " 20.851184654126154,\n",
       " 26.939970607658857,\n",
       " 39.508419622560567,\n",
       " 39.955572794058192,\n",
       " 34.82746429082632,\n",
       " 32.255616991331941,\n",
       " 31.224030783980815,\n",
       " 30.595982736512159,\n",
       " 32.613428223267363,\n",
       " 33.140481994353443,\n",
       " 34.731015877303392,\n",
       " 36.971472268972555,\n",
       " 41.699211505065442,\n",
       " 36.993391075375577,\n",
       " 30.497288967700715,\n",
       " 28.646877892062609,\n",
       " 26.762738239116985,\n",
       " 24.309591656490809,\n",
       " 23.61158683123158,\n",
       " 14.916712843734276,\n",
       " 14.598881931169659,\n",
       " 16.245477573197665,\n",
       " 16.932944847964954,\n",
       " 16.671328172616075,\n",
       " 20.511304057236263,\n",
       " 26.45110701612829,\n",
       " 39.04200697734283,\n",
       " 39.275201026429528,\n",
       " 34.107678650849991,\n",
       " 32.371706152015669,\n",
       " 31.092206156845634,\n",
       " 30.508845480339467,\n",
       " 32.567210779478408,\n",
       " 33.272353851268413,\n",
       " 34.98952452914024,\n",
       " 37.154584826974556,\n",
       " 41.909746022667619,\n",
       " 36.791213320850289,\n",
       " 30.490523534463655,\n",
       " 28.58661606330487,\n",
       " 26.797657995922908,\n",
       " 24.795357439283531,\n",
       " 22.749991354898842,\n",
       " 13.813759499407828,\n",
       " 14.088616115050181,\n",
       " 15.544258245829102,\n",
       " 15.742744011464922,\n",
       " 16.198917265034467,\n",
       " 19.788840558763344,\n",
       " 26.352975877375247,\n",
       " 38.750526446259045,\n",
       " 39.436280390450037,\n",
       " 34.496933571287379,\n",
       " 32.487419649574825,\n",
       " 31.503406353312464,\n",
       " 31.222088392181035,\n",
       " 33.321348405514591,\n",
       " 34.83936882598784,\n",
       " 35.909761553196851,\n",
       " 37.153276159408236,\n",
       " 42.328384647679712,\n",
       " 38.196462940929443,\n",
       " 31.978106487445515,\n",
       " 29.77721564285779,\n",
       " 28.014150766225956,\n",
       " 25.150681590164321,\n",
       " 23.866703558875891,\n",
       " 14.064741173031827,\n",
       " 14.414192362034573,\n",
       " 14.999332680013381,\n",
       " 15.715084521231667,\n",
       " 15.923567819969117,\n",
       " 20.465145764665934,\n",
       " 23.217587915154496,\n",
       " 26.775708376894073,\n",
       " 30.016174983265348,\n",
       " 32.042789119218121,\n",
       " 33.31852389164608,\n",
       " 32.803298605864164,\n",
       " 32.862669053029641,\n",
       " 33.854884731572298,\n",
       " 34.94082325062854,\n",
       " 35.177795669880318,\n",
       " 35.32147136071827,\n",
       " 35.955719328633748,\n",
       " 31.748865154231577,\n",
       " 29.594111999195835,\n",
       " 29.285292289255679,\n",
       " 27.581015026932683,\n",
       " 25.260186085802445,\n",
       " 23.17752830250285,\n",
       " 13.378568215188787,\n",
       " 13.682449783531794,\n",
       " 15.275039799106318,\n",
       " 15.738048436230239,\n",
       " 16.048721248545544,\n",
       " 20.134647412353818,\n",
       " 22.572886180008073,\n",
       " 25.212234856823251,\n",
       " 28.186713309464238,\n",
       " 29.94593303547995,\n",
       " 31.274037743382507,\n",
       " 31.361071476610618,\n",
       " 31.151218639761566,\n",
       " 32.673989700710386,\n",
       " 33.400208256586055,\n",
       " 33.831503053261486,\n",
       " 33.491370351921901,\n",
       " 33.836932391598594,\n",
       " 30.195222928494097,\n",
       " 29.003984686668883,\n",
       " 28.493748590069337,\n",
       " 26.516024904870797,\n",
       " 24.449339521692156]"
      ]
     },
     "execution_count": 13,
     "metadata": {},
     "output_type": "execute_result"
    }
   ],
   "source": [
    "day_24hour_mean"
   ]
  },
  {
   "cell_type": "code",
   "execution_count": null,
   "metadata": {},
   "outputs": [],
   "source": []
  },
  {
   "cell_type": "markdown",
   "metadata": {},
   "source": [
    "## 每周七天PM2.5状态\n"
   ]
  },
  {
   "cell_type": "code",
   "execution_count": 14,
   "metadata": {},
   "outputs": [],
   "source": [
    "day1_24hour = [[] for i in range(24)]\n",
    "day2_24hour = [[] for i in range(24)]\n",
    "day3_24hour = [[] for i in range(24)]\n",
    "day4_24hour = [[] for i in range(24)]\n",
    "day5_24hour = [[] for i in range(24)]\n",
    "day6_24hour = [[] for i in range(24)]\n",
    "day7_24hour = [[] for i in range(24)]\n",
    "\n",
    "for i in range (g.shape[0]):\n",
    "    if data_wea_time_unify.loc[i]['week'] == 1:\n",
    "        hour = int(data_wea_time_unify.loc[i]['hour'])\n",
    "        day1_24hour[hour].append(data_wea_time_unify['PM25_mean'][i])\n",
    "    elif data_wea_time_unify.loc[i]['week'] ==2:\n",
    "        hour = int(data_wea_time_unify.loc[i]['hour'])\n",
    "        day2_24hour[hour].append(data_wea_time_unify['PM25_mean'][i])\n",
    "    elif data_wea_time_unify.loc[i]['week'] ==3:\n",
    "        hour = int(data_wea_time_unify.loc[i]['hour'])\n",
    "        day3_24hour[hour].append(data_wea_time_unify['PM25_mean'][i])\n",
    "    elif data_wea_time_unify.loc[i]['week'] ==4:\n",
    "        hour = int(data_wea_time_unify.loc[i]['hour'])\n",
    "        day4_24hour[hour].append(data_wea_time_unify['PM25_mean'][i])\n",
    "    elif data_wea_time_unify.loc[i]['week'] ==5:\n",
    "        hour = int(data_wea_time_unify.loc[i]['hour'])\n",
    "        day5_24hour[hour].append(data_wea_time_unify['PM25_mean'][i])\n",
    "    elif data_wea_time_unify.loc[i]['week'] ==6:\n",
    "        hour = int(data_wea_time_unify.loc[i]['hour'])\n",
    "        day6_24hour[hour].append(data_wea_time_unify['PM25_mean'][i])\n",
    "    else:\n",
    "        hour = int(data_wea_time_unify.loc[i]['hour'])\n",
    "        day7_24hour[hour].append(data_wea_time_unify['PM25_mean'][i])\n",
    "\n",
    "\n",
    "day1_24hour_mean = []\n",
    "day2_24hour_mean = []\n",
    "day3_24hour_mean = []\n",
    "day4_24hour_mean = []\n",
    "day5_24hour_mean = []\n",
    "day6_24hour_mean = []\n",
    "day7_24hour_mean = []    \n",
    "\n",
    "\n",
    "for i in range (24):\n",
    "    day1_24hour_mean.append(np.mean(day1_24hour[i]))\n",
    "    day2_24hour_mean.append(np.mean(day2_24hour[i]))\n",
    "    day3_24hour_mean.append(np.mean(day3_24hour[i]))\n",
    "    day4_24hour_mean.append(np.mean(day4_24hour[i]))\n",
    "    day5_24hour_mean.append(np.mean(day5_24hour[i]))\n",
    "    day6_24hour_mean.append(np.mean(day6_24hour[i]))\n",
    "    day7_24hour_mean.append(np.mean(day7_24hour[i]))   "
   ]
  },
  {
   "cell_type": "code",
   "execution_count": 15,
   "metadata": {},
   "outputs": [],
   "source": [
    "day_24hour_mean=[]\n",
    "\n",
    "day_24hour_mean=day1_24hour_mean+day2_24hour_mean+day3_24hour_mean+day4_24hour_mean+day5_24hour_mean+day6_24hour_mean+day7_24hour_mean"
   ]
  },
  {
   "cell_type": "code",
   "execution_count": 16,
   "metadata": {
    "collapsed": true
   },
   "outputs": [
    {
     "data": {
      "text/plain": [
       "[61.111138888888895,\n",
       " 63.203722222222218,\n",
       " 58.775472222222234,\n",
       " 56.998297297297306,\n",
       " 55.324378378378377,\n",
       " 55.158783783783782,\n",
       " 54.593473684210529,\n",
       " 56.159108108108114,\n",
       " 57.359631578947372,\n",
       " 58.117342105263141,\n",
       " 59.149473684210534,\n",
       " 59.591540540540535,\n",
       " 57.971428571428568,\n",
       " 56.292848484848484,\n",
       " 53.398735294117657,\n",
       " 53.328441176470584,\n",
       " 52.593600000000002,\n",
       " 51.360324324324324,\n",
       " 53.059861111111111,\n",
       " 55.281029411764699,\n",
       " 64.99133333333333,\n",
       " 63.883684210526326,\n",
       " 63.839882352941167,\n",
       " 63.160147058823533,\n",
       " 52.635631578947375,\n",
       " 52.526999999999994,\n",
       " 51.369378378378379,\n",
       " 52.14813888888888,\n",
       " 52.188305555555552,\n",
       " 50.896250000000002,\n",
       " 49.749199999999995,\n",
       " 49.429432432432428,\n",
       " 51.015378378378379,\n",
       " 52.771837837837822,\n",
       " 51.804078947368424,\n",
       " 49.791199999999996,\n",
       " 45.728199999999994,\n",
       " 44.624558823529412,\n",
       " 43.794606060606057,\n",
       " 43.124228571428567,\n",
       " 41.021176470588244,\n",
       " 41.486057142857142,\n",
       " 42.325147058823525,\n",
       " 43.634171428571427,\n",
       " 45.43691428571428,\n",
       " 46.346757575757579,\n",
       " 48.534485714285708,\n",
       " 47.07937142857142,\n",
       " 41.261702702702699,\n",
       " 41.812111111111122,\n",
       " 44.040828571428577,\n",
       " 43.551666666666662,\n",
       " 45.4498888888889,\n",
       " 47.785270270270267,\n",
       " 49.130972972972977,\n",
       " 50.543162162162162,\n",
       " 52.589297297297293,\n",
       " 54.011216216216212,\n",
       " 55.55938888888889,\n",
       " 59.84317647058824,\n",
       " 57.243600000000001,\n",
       " 49.663057142857141,\n",
       " 55.398705882352942,\n",
       " 51.228151515151517,\n",
       " 50.876228571428577,\n",
       " 51.524611111111106,\n",
       " 54.929842105263162,\n",
       " 55.964000000000006,\n",
       " 57.965281250000004,\n",
       " 53.088999999999992,\n",
       " 43.364194444444443,\n",
       " 43.644589743589755,\n",
       " 55.852864864864863,\n",
       " 56.117054054054059,\n",
       " 55.972249999999988,\n",
       " 56.0548,\n",
       " 59.108742857142857,\n",
       " 61.634333333333338,\n",
       " 64.205611111111111,\n",
       " 66.271138888888899,\n",
       " 68.532416666666677,\n",
       " 66.790411764705865,\n",
       " 64.957945945945951,\n",
       " 62.766000000000005,\n",
       " 58.320972222222217,\n",
       " 59.391138888888889,\n",
       " 58.625710526315778,\n",
       " 59.981435897435915,\n",
       " 57.45384615384615,\n",
       " 56.850842105263155,\n",
       " 54.304078947368431,\n",
       " 61.114441176470592,\n",
       " 56.699944444444448,\n",
       " 58.485421052631565,\n",
       " 61.426833333333335,\n",
       " 63.154702702702707,\n",
       " 52.034142857142854,\n",
       " 49.427583333333331,\n",
       " 48.946621621621617,\n",
       " 48.933184210526314,\n",
       " 48.28862162162163,\n",
       " 47.929789473684217,\n",
       " 49.041675675675677,\n",
       " 49.367736842105252,\n",
       " 51.918611111111119,\n",
       " 55.013447368421055,\n",
       " 56.970405405405408,\n",
       " 57.115842105263148,\n",
       " 56.018888888888895,\n",
       " 56.811749999999996,\n",
       " 52.404454545454541,\n",
       " 52.021028571428573,\n",
       " 53.671548387096784,\n",
       " 56.081735294117642,\n",
       " 57.405205882352945,\n",
       " 57.112973684210544,\n",
       " 53.474166666666662,\n",
       " 57.261945945945946,\n",
       " 62.161333333333332,\n",
       " 52.590114285714279,\n",
       " 61.14107894736842,\n",
       " 62.393351351351356,\n",
       " 63.417378378378388,\n",
       " 62.207657894736847,\n",
       " 62.707162162162163,\n",
       " 61.628710526315778,\n",
       " 61.043921052631589,\n",
       " 63.574055555555546,\n",
       " 62.559947368421057,\n",
       " 63.876864864864849,\n",
       " 59.972621621621627,\n",
       " 56.538885714285712,\n",
       " 59.627060606060596,\n",
       " 56.315763157894743,\n",
       " 54.538555555555561,\n",
       " 53.747750000000003,\n",
       " 51.76100000000001,\n",
       " 50.67562162162163,\n",
       " 49.205424242424243,\n",
       " 54.02225714285715,\n",
       " 50.874675675675682,\n",
       " 52.138081081081083,\n",
       " 48.744837837837835,\n",
       " 57.952800000000003,\n",
       " 58.344000000000001,\n",
       " 57.45115151515153,\n",
       " 55.979848484848489,\n",
       " 54.175861111111118,\n",
       " 52.129638888888884,\n",
       " 46.771399999999993,\n",
       " 52.573264705882352,\n",
       " 54.488857142857142,\n",
       " 53.790216216216216,\n",
       " 56.170473684210528,\n",
       " 57.773789473684211,\n",
       " 55.846081081081088,\n",
       " 61.393263157894737,\n",
       " 64.573305555555564,\n",
       " 67.676921052631585,\n",
       " 68.93391891891892,\n",
       " 66.415131578947367,\n",
       " 66.827729729729739,\n",
       " 69.452771428571438,\n",
       " 74.820461538461544,\n",
       " 70.530142857142849,\n",
       " 74.558771428571433,\n",
       " 65.924945945945922,\n",
       " 63.862705882352941]"
      ]
     },
     "execution_count": 16,
     "metadata": {},
     "output_type": "execute_result"
    }
   ],
   "source": [
    "day_24hour_mean"
   ]
  },
  {
   "cell_type": "code",
   "execution_count": 19,
   "metadata": {},
   "outputs": [
    {
     "data": {
      "text/plain": [
       "0    0.814161\n",
       "dtype: float64"
      ]
     },
     "execution_count": 19,
     "metadata": {},
     "output_type": "execute_result"
    }
   ],
   "source": [
    "pd.DataFrame(day1_24hour_mean).sem()"
   ]
  },
  {
   "cell_type": "code",
   "execution_count": null,
   "metadata": {},
   "outputs": [],
   "source": []
  },
  {
   "cell_type": "code",
   "execution_count": null,
   "metadata": {},
   "outputs": [],
   "source": []
  },
  {
   "cell_type": "markdown",
   "metadata": {},
   "source": [
    "## 过年几天的地面道路交通指数状态"
   ]
  },
  {
   "cell_type": "code",
   "execution_count": 12,
   "metadata": {},
   "outputs": [],
   "source": [
    "newyear_24hour = [[] for i in range(24)]\n",
    "for i in range (g.shape[0]):\n",
    "#     从腊月二十八到正月初五\n",
    "    if (data_wea_time_unify.loc[i]['date'] >= 20150216) & (data_wea_time_unify.loc[i]['date'] <= 20150223):\n",
    "        hour = int(data_wea_time_unify.loc[i]['hour'])\n",
    "        newyear_24hour[hour].append(g_m[i])\n",
    "        \n",
    "newyear_24hour_mean = []\n",
    "for i in range (24):\n",
    "    newyear_24hour_mean.append(np.mean(newyear_24hour[i]))\n"
   ]
  },
  {
   "cell_type": "code",
   "execution_count": 16,
   "metadata": {},
   "outputs": [
    {
     "data": {
      "text/plain": [
       "[21.239437833745427,\n",
       " 9.8971612808552205,\n",
       " 10.327699701836769,\n",
       " 11.914783721274517,\n",
       " 12.82996563201255,\n",
       " 13.011778115501519,\n",
       " 20.585331855936253,\n",
       " 21.502023899808844,\n",
       " 23.824267448262965,\n",
       " 24.973291600004156,\n",
       " 25.638453382126826,\n",
       " 27.073248680601729,\n",
       " 26.726018378075132,\n",
       " 25.823615216194316,\n",
       " 27.020777276221743,\n",
       " 27.846638780959108,\n",
       " 27.697391591173535,\n",
       " 27.364153598217257,\n",
       " 27.361586364931618,\n",
       " 24.991844988883809,\n",
       " 25.215909592648771,\n",
       " 25.21119982130984,\n",
       " 24.000286670441323,\n",
       " 21.872851919620594]"
      ]
     },
     "execution_count": 16,
     "metadata": {},
     "output_type": "execute_result"
    }
   ],
   "source": [
    "newyear_24hour_mean"
   ]
  },
  {
   "cell_type": "markdown",
   "metadata": {},
   "source": [
    "## 过年几天的PM2.5浓度状态"
   ]
  },
  {
   "cell_type": "code",
   "execution_count": 42,
   "metadata": {
    "scrolled": true
   },
   "outputs": [
    {
     "data": {
      "text/plain": [
       "(188,)"
      ]
     },
     "execution_count": 42,
     "metadata": {},
     "output_type": "execute_result"
    }
   ],
   "source": [
    "np.shape(data_wea_time_unify[(data_wea_time_unify['date'] >= 20150216) & (data_wea_time_unify['date'] <= 20150223)]['PM25_mean'])"
   ]
  },
  {
   "cell_type": "code",
   "execution_count": 48,
   "metadata": {},
   "outputs": [
    {
     "data": {
      "text/plain": [
       "range(0, 24)"
      ]
     },
     "execution_count": 48,
     "metadata": {},
     "output_type": "execute_result"
    }
   ],
   "source": [
    "xt1"
   ]
  },
  {
   "cell_type": "code",
   "execution_count": 49,
   "metadata": {},
   "outputs": [],
   "source": [
    "xt1=[i for i in range(0,24)]\n",
    "xt=xt1*5"
   ]
  },
  {
   "cell_type": "code",
   "execution_count": 51,
   "metadata": {
    "collapsed": true
   },
   "outputs": [
    {
     "data": {
      "text/plain": [
       "[0,\n",
       " 1,\n",
       " 2,\n",
       " 3,\n",
       " 4,\n",
       " 5,\n",
       " 6,\n",
       " 7,\n",
       " 8,\n",
       " 9,\n",
       " 10,\n",
       " 11,\n",
       " 12,\n",
       " 13,\n",
       " 14,\n",
       " 15,\n",
       " 16,\n",
       " 17,\n",
       " 18,\n",
       " 19,\n",
       " 20,\n",
       " 21,\n",
       " 22,\n",
       " 23,\n",
       " 0,\n",
       " 1,\n",
       " 2,\n",
       " 3,\n",
       " 4,\n",
       " 5,\n",
       " 6,\n",
       " 7,\n",
       " 8,\n",
       " 9,\n",
       " 10,\n",
       " 11,\n",
       " 12,\n",
       " 13,\n",
       " 14,\n",
       " 15,\n",
       " 16,\n",
       " 17,\n",
       " 18,\n",
       " 19,\n",
       " 20,\n",
       " 21,\n",
       " 22,\n",
       " 23,\n",
       " 0,\n",
       " 1,\n",
       " 2,\n",
       " 3,\n",
       " 4,\n",
       " 5,\n",
       " 6,\n",
       " 7,\n",
       " 8,\n",
       " 9,\n",
       " 10,\n",
       " 11,\n",
       " 12,\n",
       " 13,\n",
       " 14,\n",
       " 15,\n",
       " 16,\n",
       " 17,\n",
       " 18,\n",
       " 19,\n",
       " 20,\n",
       " 21,\n",
       " 22,\n",
       " 23,\n",
       " 0,\n",
       " 1,\n",
       " 2,\n",
       " 3,\n",
       " 4,\n",
       " 5,\n",
       " 6,\n",
       " 7,\n",
       " 8,\n",
       " 9,\n",
       " 10,\n",
       " 11,\n",
       " 12,\n",
       " 13,\n",
       " 14,\n",
       " 15,\n",
       " 16,\n",
       " 17,\n",
       " 18,\n",
       " 19,\n",
       " 20,\n",
       " 21,\n",
       " 22,\n",
       " 23,\n",
       " 0,\n",
       " 1,\n",
       " 2,\n",
       " 3,\n",
       " 4,\n",
       " 5,\n",
       " 6,\n",
       " 7,\n",
       " 8,\n",
       " 9,\n",
       " 10,\n",
       " 11,\n",
       " 12,\n",
       " 13,\n",
       " 14,\n",
       " 15,\n",
       " 16,\n",
       " 17,\n",
       " 18,\n",
       " 19,\n",
       " 20,\n",
       " 21,\n",
       " 22,\n",
       " 23]"
      ]
     },
     "execution_count": 51,
     "metadata": {},
     "output_type": "execute_result"
    }
   ],
   "source": [
    "xt"
   ]
  },
  {
   "cell_type": "code",
   "execution_count": 50,
   "metadata": {},
   "outputs": [
    {
     "data": {
      "text/plain": [
       "(120,)"
      ]
     },
     "execution_count": 50,
     "metadata": {},
     "output_type": "execute_result"
    }
   ],
   "source": [
    "np.shape(xt)"
   ]
  },
  {
   "cell_type": "code",
   "execution_count": 52,
   "metadata": {},
   "outputs": [],
   "source": [
    "newyear_24hour = [[] for i in range(24)]\n",
    "for i in range (data_wea_time_unify.shape[0]):\n",
    "    if (data_wea_time_unify.loc[i]['date'] >= 20150216) & (data_wea_time_unify.loc[i]['date'] <= 20150223):\n",
    "        hour = int(data_wea_time_unify.loc[i]['hour'])\n",
    "        newyear_24hour[hour].append(data_wea_time_unify['PM25_mean'][i])\n",
    "newyear_24hour_mean = []\n",
    "\n",
    "for i in range (24):\n",
    "    newyear_24hour_mean.append(np.mean(newyear_24hour[i]))"
   ]
  },
  {
   "cell_type": "code",
   "execution_count": 53,
   "metadata": {
    "collapsed": true
   },
   "outputs": [
    {
     "data": {
      "text/plain": [
       "[69.541624999999996,\n",
       " 80.569500000000005,\n",
       " 80.259499999999989,\n",
       " 65.027874999999995,\n",
       " 65.291624999999996,\n",
       " 71.841428571428565,\n",
       " 66.263874999999999,\n",
       " 68.38900000000001,\n",
       " 70.916749999999993,\n",
       " 72.041624999999996,\n",
       " 73.13900000000001,\n",
       " 73.875,\n",
       " 72.361125000000001,\n",
       " 70.763750000000002,\n",
       " 71.805624999999992,\n",
       " 71.791624999999996,\n",
       " 71.486000000000004,\n",
       " 70.152749999999997,\n",
       " 69.364857142857133,\n",
       " 67.444375000000008,\n",
       " 70.319500000000005,\n",
       " 69.402874999999995,\n",
       " 66.375,\n",
       " 63.958374999999997]"
      ]
     },
     "execution_count": 53,
     "metadata": {},
     "output_type": "execute_result"
    }
   ],
   "source": [
    "newyear_24hour_mean"
   ]
  },
  {
   "cell_type": "code",
   "execution_count": null,
   "metadata": {},
   "outputs": [],
   "source": []
  },
  {
   "cell_type": "markdown",
   "metadata": {},
   "source": [
    "### 地面交通指数的周末和工作日的区别"
   ]
  },
  {
   "cell_type": "code",
   "execution_count": 56,
   "metadata": {},
   "outputs": [],
   "source": [
    "workday_24hour = [[] for i in range(24)]\n",
    "weekendday_24hour = [[] for i in range(24)]\n",
    "\n",
    "for i in range (g.shape[0]):\n",
    "    if data_wea_time_unify.loc[i]['week'] == 7 or data_wea_time_unify.loc[i]['week'] ==6:\n",
    "        hour = int(data_wea_time_unify.loc[i]['hour'])\n",
    "        weekendday_24hour[hour].append(g_m[i])\n",
    "        \n",
    "    else:\n",
    "        hour = int(data_wea_time_unify.loc[i]['hour'])\n",
    "        workday_24hour[hour].append(g_m[i])"
   ]
  },
  {
   "cell_type": "code",
   "execution_count": 57,
   "metadata": {},
   "outputs": [],
   "source": [
    "workday_24hour_mean = []\n",
    "weekendday_24hour_mean = []\n",
    "\n",
    "workday_24hour_error = []\n",
    "weekendday_24hour_error = []\n",
    "\n",
    "for i in range (24):\n",
    "    workday_24hour_mean.append(np.mean(workday_24hour[i]))\n",
    "    workday_24hour_error.append((pd.DataFrame(workday_24hour[i])).sem()[0])\n",
    "\n",
    "for i in range (24):\n",
    "    weekendday_24hour_mean.append(np.mean(weekendday_24hour[i]))\n",
    "    weekendday_24hour_error.append((pd.DataFrame(workday_24hour[i])).sem()[0])\n",
    "\n"
   ]
  },
  {
   "cell_type": "code",
   "execution_count": 60,
   "metadata": {
    "collapsed": true
   },
   "outputs": [
    {
     "data": {
      "text/plain": [
       "[0.26062792461568735,\n",
       " 0.52431709839570118,\n",
       " 0.51028952709841635,\n",
       " 0.51490241624719557,\n",
       " 0.4995577477863653,\n",
       " 0.47716987328326183,\n",
       " 0.34575083339186297,\n",
       " 0.23158844225752204,\n",
       " 0.3704358793845432,\n",
       " 0.31633535118290573,\n",
       " 0.20063935183476017,\n",
       " 0.16331811444645222,\n",
       " 0.16464420798409277,\n",
       " 0.17334993454620967,\n",
       " 0.16766146771971052,\n",
       " 0.17301867707393578,\n",
       " 0.18968349068504123,\n",
       " 0.2166972924655505,\n",
       " 0.27498193960084727,\n",
       " 0.2506612248430678,\n",
       " 0.20570271728135403,\n",
       " 0.19359175296557832,\n",
       " 0.19945083359320592,\n",
       " 0.23255448031715925]"
      ]
     },
     "execution_count": 60,
     "metadata": {},
     "output_type": "execute_result"
    }
   ],
   "source": [
    "weekendday_24hour_error"
   ]
  },
  {
   "cell_type": "markdown",
   "metadata": {},
   "source": [
    "### 地面路网道路交通指数的四季变化"
   ]
  },
  {
   "cell_type": "code",
   "execution_count": 102,
   "metadata": {},
   "outputs": [],
   "source": [
    "spring_24hour = [[] for i in range(24)]\n",
    "summer_24hour = [[] for i in range(24)]\n",
    "autumn_24hour = [[] for i in range(24)]\n",
    "winter_24hour = [[] for i in range(24)]\n",
    "\n",
    "for i in range (g.shape[0]):\n",
    "    if data_wea_time_unify.loc[i]['season'] == 0:\n",
    "        hour = int(data_wea_time_unify.loc[i]['hour'])\n",
    "        spring_24hour[hour].append(g_m[i])\n",
    "    elif data_wea_time_unify.loc[i]['season'] == 1:\n",
    "        hour = int(data_wea_time_unify.loc[i]['hour'])\n",
    "        summer_24hour[hour].append(g_m[i])\n",
    "    elif data_wea_time_unify.loc[i]['season'] == 2:\n",
    "        hour = int(data_wea_time_unify.loc[i]['hour'])\n",
    "        autumn_24hour[hour].append(g_m[i])\n",
    "    else:\n",
    "        hour = int(data_wea_time_unify.loc[i]['hour'])\n",
    "        winter_24hour[hour].append(g_m[i])\n",
    "\n",
    "spring_24hour_mean = []\n",
    "summer_24hour_mean = []\n",
    "autumn_24hour_mean = []\n",
    "winter_24hour_mean = []\n",
    "\n",
    "for i in range (24):\n",
    "    spring_24hour_mean.append(np.mean(spring_24hour[i]))\n",
    "    \n",
    "for i in range (24):\n",
    "    summer_24hour_mean.append(np.mean(summer_24hour[i]))\n",
    "\n",
    "for i in range (24):\n",
    "    autumn_24hour_mean.append(np.mean(autumn_24hour[i]))\n",
    "    \n",
    "for i in range (24):\n",
    "    winter_24hour_mean.append(np.mean(winter_24hour[i]))"
   ]
  },
  {
   "cell_type": "code",
   "execution_count": 104,
   "metadata": {
    "collapsed": true
   },
   "outputs": [
    {
     "data": {
      "text/plain": [
       "([22.451699141914961,\n",
       "  9.6463439026469171,\n",
       "  10.451701421983753,\n",
       "  11.868217678942148,\n",
       "  12.78548593018256,\n",
       "  13.000236404163367,\n",
       "  20.884220317378293,\n",
       "  25.109488864137123,\n",
       "  36.719828612415505,\n",
       "  37.392853540731657,\n",
       "  33.687298605628051,\n",
       "  32.17319353252438,\n",
       "  31.286917722797345,\n",
       "  31.150929181409101,\n",
       "  32.896497643512227,\n",
       "  33.808696990317486,\n",
       "  35.011398361808993,\n",
       "  36.487698790544059,\n",
       "  39.732779509003123,\n",
       "  35.394575628938767,\n",
       "  30.447653883625151,\n",
       "  28.625086979932949,\n",
       "  26.752969419756536,\n",
       "  24.08349552913246],\n",
       " [25.479892253697738,\n",
       "  21.445211105090369,\n",
       "  21.532351811014919,\n",
       "  22.985842440990695,\n",
       "  23.122106998524767,\n",
       "  22.840816291333489,\n",
       "  19.453961665671844,\n",
       "  28.333155335771274,\n",
       "  37.331828989881153,\n",
       "  39.220710174653298,\n",
       "  35.757785691193547,\n",
       "  34.209438802560989,\n",
       "  33.036616560384431,\n",
       "  32.433196789587889,\n",
       "  33.939847267666345,\n",
       "  34.952831228466508,\n",
       "  36.035028382275243,\n",
       "  37.049288246693024,\n",
       "  40.917757052100832,\n",
       "  37.105123033652688,\n",
       "  32.461273100600785,\n",
       "  30.920960632138701,\n",
       "  28.890622787535708,\n",
       "  26.998808203201957],\n",
       " [23.569946175148438,\n",
       "  15.42642083232592,\n",
       "  15.154814386599183,\n",
       "  16.998587638423974,\n",
       "  17.436986612089985,\n",
       "  17.187507187191912,\n",
       "  20.701416508205128,\n",
       "  26.581316712633271,\n",
       "  36.599257404106297,\n",
       "  37.330022105205074,\n",
       "  33.775794406367503,\n",
       "  32.333349656597562,\n",
       "  31.277309183087525,\n",
       "  31.017504079138021,\n",
       "  32.998597889602088,\n",
       "  33.698701997111471,\n",
       "  35.125653355874718,\n",
       "  37.155964586859284,\n",
       "  41.324110820220163,\n",
       "  35.788656031831778,\n",
       "  30.190653186896345,\n",
       "  28.686771160525954,\n",
       "  26.901622164887883,\n",
       "  25.039728304929543],\n",
       " [22.260912596882608,\n",
       "  11.09501683868505,\n",
       "  11.72288849381972,\n",
       "  12.779732720999764,\n",
       "  13.64208043900476,\n",
       "  13.933235590508643,\n",
       "  20.72497375975264,\n",
       "  23.682309561744283,\n",
       "  32.988420028335092,\n",
       "  34.339873524553077,\n",
       "  31.637315925976907,\n",
       "  31.265117050062674,\n",
       "  30.500739256718923,\n",
       "  30.312385641082543,\n",
       "  32.138789378735467,\n",
       "  32.910613922908091,\n",
       "  34.035378060001229,\n",
       "  35.120391142283772,\n",
       "  38.558109088308832,\n",
       "  33.876863480032618,\n",
       "  28.965017539279316,\n",
       "  27.711491181981028,\n",
       "  26.008694222205701,\n",
       "  23.482195004686819])"
      ]
     },
     "execution_count": 104,
     "metadata": {},
     "output_type": "execute_result"
    }
   ],
   "source": [
    "spring_24hour_mean,summer_24hour_mean,autumn_24hour_mean,winter_24hour_mean"
   ]
  },
  {
   "cell_type": "markdown",
   "metadata": {},
   "source": [
    "## PM2.5的周末和工作日的区别"
   ]
  },
  {
   "cell_type": "code",
   "execution_count": 14,
   "metadata": {},
   "outputs": [],
   "source": [
    "workday_24hour = [[] for i in range(24)]\n",
    "weekendday_24hour = [[] for i in range(24)]\n",
    "\n",
    "for i in range (data_wea_time_unify.shape[0]):\n",
    "    if data_wea_time_unify.loc[i]['week'] == 7 or data_wea_time_unify.loc[i]['week'] ==6:\n",
    "        hour = int(data_wea_time_unify.loc[i]['hour'])\n",
    "        weekendday_24hour[hour].append(data_wea_time_unify['PM25_mean'][i])\n",
    "        \n",
    "    else:\n",
    "        hour = int(data_wea_time_unify.loc[i]['hour'])\n",
    "        workday_24hour[hour].append(data_wea_time_unify['PM25_mean'][i])\n",
    "workday_24hour_mean = []\n",
    "weekendday_24hour_mean = []\n",
    "\n",
    "for i in range (24):\n",
    "    workday_24hour_mean.append(np.mean(workday_24hour[i]))\n",
    "    \n",
    "for i in range (24):\n",
    "    weekendday_24hour_mean.append(np.mean(weekendday_24hour[i]))\n",
    "\n"
   ]
  },
  {
   "cell_type": "markdown",
   "metadata": {},
   "source": [
    "## 风速的周末和工作日的区别"
   ]
  },
  {
   "cell_type": "code",
   "execution_count": 64,
   "metadata": {},
   "outputs": [],
   "source": [
    "workday_24hour = [[] for i in range(24)]\n",
    "weekendday_24hour = [[] for i in range(24)]\n",
    "\n",
    "for i in range (data_wea_time_unify.shape[0]):\n",
    "    if data_wea_time_unify.loc[i]['week'] == 7 or data_wea_time_unify.loc[i]['week'] ==6:\n",
    "        hour = int(data_wea_time_unify.loc[i]['hour'])\n",
    "        weekendday_24hour[hour].append(data_wea_time_unify['Wind Speed'][i])\n",
    "        \n",
    "    else:\n",
    "        hour = int(data_wea_time_unify.loc[i]['hour'])\n",
    "        workday_24hour[hour].append(data_wea_time_unify['Wind Speed'][i])\n",
    "workday_24hour_mean = []\n",
    "weekendday_24hour_mean = []\n",
    "workday_24hour_error = []\n",
    "weekendday_24hour_error = []\n",
    "\n",
    "for i in range (24):\n",
    "    workday_24hour_mean.append(np.mean(workday_24hour[i]))\n",
    "    weekendday_24hour_mean.append(np.mean(weekendday_24hour[i]))\n",
    "    workday_24hour_error.append((pd.DataFrame(workday_24hour[i])).sem()[0])\n",
    "    weekendday_24hour_error.append((pd.DataFrame(weekendday_24hour[i])).sem()[0])    \n"
   ]
  },
  {
   "cell_type": "code",
   "execution_count": 66,
   "metadata": {},
   "outputs": [
    {
     "data": {
      "text/plain": [
       "[0.70046495562781441,\n",
       " 0.71938749457224993,\n",
       " 0.68149009449210696,\n",
       " 0.69624003951320645,\n",
       " 0.71094702658539988,\n",
       " 0.6987751662520203,\n",
       " 0.72943640215493244,\n",
       " 0.6626559246167476,\n",
       " 0.69073497870805023,\n",
       " 0.77618610195291748,\n",
       " 0.74653795544427537,\n",
       " 0.7602584808777072,\n",
       " 0.79397053376707805,\n",
       " 0.81205384169298733,\n",
       " 0.78087345383940021,\n",
       " 0.74846222868806955,\n",
       " 0.77815385429714112,\n",
       " 0.70337449732030577,\n",
       " 0.81183055044634844,\n",
       " 0.70963825958685867,\n",
       " 0.72461743184608207,\n",
       " 0.75274146844043299,\n",
       " 0.76690216294149316,\n",
       " 0.72545210515707559]"
      ]
     },
     "execution_count": 66,
     "metadata": {},
     "output_type": "execute_result"
    }
   ],
   "source": [
    "weekendday_24hour_error"
   ]
  },
  {
   "cell_type": "markdown",
   "metadata": {},
   "source": [
    "### PM2.5和道路交通指数的全年趋势图片"
   ]
  },
  {
   "cell_type": "code",
   "execution_count": 61,
   "metadata": {},
   "outputs": [],
   "source": [
    "tr_24hour = [[] for i in range(24)]\n",
    "pm_24hour = [[] for i in range(24)]\n",
    "\n",
    "for i in range (data_wea_time_unify.shape[0]):\n",
    "#     if data_wea_time_unify.loc[i]['week'] == 7 or data_wea_time_unify.loc[i]['week'] ==6:\n",
    "        hour = int(data_wea_time_unify.loc[i]['hour'])\n",
    "        pm_24hour[hour].append(data_wea_time_unify['PM25_mean'][i])\n",
    "        tr_24hour[hour].append(g_m[i])\n",
    "\n",
    "tr_24hour_mean = []\n",
    "pm_24hour_mean = []\n",
    "tr_24hour_error = []\n",
    "pm_24hour_error = []\n",
    "for i in range (24):\n",
    "    tr_24hour_mean.append(np.mean(tr_24hour[i]))\n",
    "    pm_24hour_mean.append(np.mean(pm_24hour[i]))\n",
    "    tr_24hour_error.append((pd.DataFrame(tr_24hour[i])).sem()[0])\n",
    "    pm_24hour_error.append((pd.DataFrame(pm_24hour[i])).sem()[0])\n",
    "\n",
    "    "
   ]
  },
  {
   "cell_type": "code",
   "execution_count": 63,
   "metadata": {},
   "outputs": [
    {
     "data": {
      "text/plain": [
       "[2.6770407432536918,\n",
       " 2.7458158446542469,\n",
       " 2.7183768113395006,\n",
       " 2.7132689209921694,\n",
       " 2.7026627411279107,\n",
       " 2.5288871128036918,\n",
       " 2.6228634669729636,\n",
       " 2.6201416436749616,\n",
       " 2.5882920383189103,\n",
       " 2.6383845297680821,\n",
       " 2.7286035095369741,\n",
       " 2.7255980059111828,\n",
       " 2.6573388516727476,\n",
       " 2.4902135277651185,\n",
       " 2.4897507060376216,\n",
       " 2.4691834982978409,\n",
       " 2.4368151617900753,\n",
       " 2.3534133184796051,\n",
       " 2.5197660015741605,\n",
       " 2.6930749243749443,\n",
       " 2.7742119768721096,\n",
       " 2.8860720844572487,\n",
       " 2.8399271751603683,\n",
       " 2.7571055085557608]"
      ]
     },
     "execution_count": 63,
     "metadata": {},
     "output_type": "execute_result"
    }
   ],
   "source": [
    "pm_24hour_error"
   ]
  },
  {
   "cell_type": "code",
   "execution_count": 11,
   "metadata": {},
   "outputs": [
    {
     "data": {
      "text/plain": [
       "[54.609335937500006,\n",
       " 54.716723999999999,\n",
       " 54.094888446215144,\n",
       " 53.475511718749999,\n",
       " 53.599582677165351,\n",
       " 53.152735408560311,\n",
       " 54.379309803921572,\n",
       " 55.6030625,\n",
       " 56.821590733590732,\n",
       " 57.987409266409266,\n",
       " 58.015758620689645,\n",
       " 57.413082677165349,\n",
       " 56.652762096774197,\n",
       " 55.488096774193551,\n",
       " 55.433211382113825,\n",
       " 54.871587755102041,\n",
       " 53.70779752066116,\n",
       " 53.629783464566927,\n",
       " 54.461701612903227,\n",
       " 57.676111111111112,\n",
       " 57.188116000000001,\n",
       " 58.043607843137259,\n",
       " 56.333913385826776,\n",
       " 55.764503937007881]"
      ]
     },
     "execution_count": 11,
     "metadata": {},
     "output_type": "execute_result"
    }
   ],
   "source": [
    "pm_24hour_mean"
   ]
  },
  {
   "cell_type": "code",
   "execution_count": null,
   "metadata": {},
   "outputs": [],
   "source": []
  },
  {
   "cell_type": "code",
   "execution_count": null,
   "metadata": {},
   "outputs": [],
   "source": []
  },
  {
   "cell_type": "markdown",
   "metadata": {},
   "source": [
    "### PM2.5四季变化"
   ]
  },
  {
   "cell_type": "code",
   "execution_count": 8,
   "metadata": {},
   "outputs": [],
   "source": [
    "spring_24hour = [[] for i in range(24)]\n",
    "summer_24hour = [[] for i in range(24)]\n",
    "autumn_24hour = [[] for i in range(24)]\n",
    "winter_24hour = [[] for i in range(24)]\n",
    "\n",
    "for i in range (data_wea_time_unify.shape[0]):\n",
    "    if data_wea_time_unify.loc[i]['season'] == 0:\n",
    "        hour = int(data_wea_time_unify.loc[i]['hour'])\n",
    "        spring_24hour[hour].append(data_wea_time_unify['PM25_mean'][i])\n",
    "    elif data_wea_time_unify.loc[i]['season'] == 1:\n",
    "        hour = int(data_wea_time_unify.loc[i]['hour'])\n",
    "        summer_24hour[hour].append(data_wea_time_unify['PM25_mean'][i])\n",
    "    elif data_wea_time_unify.loc[i]['season'] == 2:\n",
    "        hour = int(data_wea_time_unify.loc[i]['hour'])\n",
    "        autumn_24hour[hour].append(data_wea_time_unify['PM25_mean'][i])\n",
    "    else:\n",
    "        hour = int(data_wea_time_unify.loc[i]['hour'])\n",
    "        winter_24hour[hour].append(data_wea_time_unify['PM25_mean'][i])\n",
    "\n",
    "spring_24hour_mean = []\n",
    "summer_24hour_mean = []\n",
    "autumn_24hour_mean = []\n",
    "winter_24hour_mean = []\n",
    "\n",
    "for i in range (24):\n",
    "    spring_24hour_mean.append(np.mean(spring_24hour[i]))\n",
    "    \n",
    "for i in range (24):\n",
    "    summer_24hour_mean.append(np.mean(summer_24hour[i]))\n",
    "\n",
    "for i in range (24):\n",
    "    autumn_24hour_mean.append(np.mean(autumn_24hour[i]))\n",
    "    \n",
    "for i in range (24):\n",
    "    winter_24hour_mean.append(np.mean(winter_24hour[i]))"
   ]
  },
  {
   "cell_type": "code",
   "execution_count": 9,
   "metadata": {
    "collapsed": true
   },
   "outputs": [
    {
     "data": {
      "text/plain": [
       "([54.066499999999998,\n",
       "  55.991181818181829,\n",
       "  55.846872340425541,\n",
       "  55.202723404255323,\n",
       "  55.204978260869566,\n",
       "  56.019510638297874,\n",
       "  55.953478260869559,\n",
       "  58.122021276595738,\n",
       "  60.495687500000003,\n",
       "  61.865749999999998,\n",
       "  61.149624999999993,\n",
       "  57.795066666666663,\n",
       "  55.488302325581394,\n",
       "  58.626976190476185,\n",
       "  58.944391304347825,\n",
       "  56.295409090909104,\n",
       "  57.454976190476181,\n",
       "  54.217347826086936,\n",
       "  54.591744186046519,\n",
       "  58.93658695652173,\n",
       "  58.500266666666661,\n",
       "  57.598617021276603,\n",
       "  55.852638297872339,\n",
       "  53.61326086956521],\n",
       " [36.473175438596492,\n",
       "  35.458263157894741,\n",
       "  35.69445614035088,\n",
       "  35.444543859649116,\n",
       "  35.977249999999998,\n",
       "  36.434456140350875,\n",
       "  37.368018181818172,\n",
       "  38.711127272727268,\n",
       "  38.822696428571426,\n",
       "  38.778999999999996,\n",
       "  38.312355932203388,\n",
       "  38.473844827586213,\n",
       "  38.264909090909086,\n",
       "  39.827125000000009,\n",
       "  40.807035087719292,\n",
       "  39.920727272727262,\n",
       "  38.01164285714286,\n",
       "  37.110350877192985,\n",
       "  36.269754385964916,\n",
       "  35.615945454545447,\n",
       "  37.852732142857135,\n",
       "  37.313464285714289,\n",
       "  34.790703703703706,\n",
       "  34.918962962962965],\n",
       " [43.792456140350879,\n",
       "  43.337145454545443,\n",
       "  43.329210526315791,\n",
       "  42.557224137931023,\n",
       "  44.055561403508776,\n",
       "  46.135275862068973,\n",
       "  49.452103448275864,\n",
       "  51.832280701754378,\n",
       "  52.931224137931025,\n",
       "  52.755534482758627,\n",
       "  52.014448275862073,\n",
       "  50.332763636363644,\n",
       "  49.896509090909085,\n",
       "  44.182075471698106,\n",
       "  44.500230769230761,\n",
       "  45.47301886792453,\n",
       "  43.921480769230769,\n",
       "  45.597945454545432,\n",
       "  44.525962962962971,\n",
       "  47.510333333333328,\n",
       "  45.62791228070175,\n",
       "  44.625241379310339,\n",
       "  44.46356896551724,\n",
       "  44.320649122807019],\n",
       " [72.443159574468083,\n",
       "  72.456436170212783,\n",
       "  71.651833333333343,\n",
       "  70.28239361702127,\n",
       "  68.936547368421046,\n",
       "  66.049747368421023,\n",
       "  66.347927083333332,\n",
       "  66.176257731958756,\n",
       "  67.720793814432994,\n",
       "  70.285958762886594,\n",
       "  72.183999999999997,\n",
       "  72.732916666666668,\n",
       "  71.736947368421042,\n",
       "  69.34789690721648,\n",
       "  69.067197802197811,\n",
       "  68.396032258064523,\n",
       "  67.082706521739141,\n",
       "  67.758229166666666,\n",
       "  71.141265957446819,\n",
       "  75.246000000000009,\n",
       "  75.477967391304361,\n",
       "  78.895393617021284,\n",
       "  76.064789473684201,\n",
       "  75.114154639175254])"
      ]
     },
     "execution_count": 9,
     "metadata": {},
     "output_type": "execute_result"
    }
   ],
   "source": [
    "spring_24hour_mean,summer_24hour_mean,autumn_24hour_mean,winter_24hour_mean"
   ]
  },
  {
   "cell_type": "markdown",
   "metadata": {},
   "source": [
    "### 快速路网的周末和工作日的区别"
   ]
  },
  {
   "cell_type": "code",
   "execution_count": 32,
   "metadata": {},
   "outputs": [],
   "source": [
    "eworkday_24hour = [[] for i in range(24)]\n",
    "eweekendday_24hour = [[] for i in range(24)]\n",
    "\n",
    "for i in range (ezs.shape[0]):\n",
    "    if data_wea_time_unify.loc[i]['week'] == 7 or data_wea_time_unify.loc[i]['week'] ==6:\n",
    "        hour = int(data_wea_time_unify.loc[i]['hour'])\n",
    "        eweekendday_24hour[hour].append(ezs_m[i])\n",
    "        \n",
    "    else:\n",
    "        hour = int(data_wea_time_unify.loc[i]['hour'])\n",
    "        eworkday_24hour[hour].append(ezs_m[i])\n",
    "    "
   ]
  },
  {
   "cell_type": "code",
   "execution_count": 33,
   "metadata": {},
   "outputs": [],
   "source": [
    "eworkday_24hour_mean = []\n",
    "eweekendday_24hour_mean = []\n",
    "\n",
    "\n",
    "\n",
    "for i in range (24):\n",
    "    eworkday_24hour_mean.append(np.mean(eworkday_24hour[i]))\n",
    "    \n",
    "for i in range (24):\n",
    "    eweekendday_24hour_mean.append(np.mean(eweekendday_24hour[i]))"
   ]
  },
  {
   "cell_type": "code",
   "execution_count": 35,
   "metadata": {
    "collapsed": true
   },
   "outputs": [
    {
     "data": {
      "text/plain": [
       "[16.405010574251239,\n",
       " 19.496161371347853,\n",
       " 20.378981251619297,\n",
       " 21.119509192507245,\n",
       " 21.468175078091551,\n",
       " 20.221775480445817,\n",
       " 13.968496640523275,\n",
       " 13.901757253727443,\n",
       " 16.37197062174479,\n",
       " 20.406338050478979,\n",
       " 24.74910455612909,\n",
       " 27.481403441656205,\n",
       " 25.821874054384899,\n",
       " 24.443625505366381,\n",
       " 26.921434792772686,\n",
       " 28.967383801320075,\n",
       " 29.004641588996439,\n",
       " 28.530502289878825,\n",
       " 28.550069696762979,\n",
       " 24.916027584591429,\n",
       " 22.476533859495131,\n",
       " 22.80777651166159,\n",
       " 22.324109773378115,\n",
       " 19.202069624970775]"
      ]
     },
     "execution_count": 35,
     "metadata": {},
     "output_type": "execute_result"
    }
   ],
   "source": [
    "eweekendday_24hour_mean"
   ]
  },
  {
   "cell_type": "code",
   "execution_count": 37,
   "metadata": {},
   "outputs": [],
   "source": [
    "import pandas as pd\n",
    "#matplotlib inline\n",
    "#参数初始化\n",
    "discfile = '../data/data_wea_time_unify.csv'\n",
    "\n",
    "data_wea_time_unify = pd.read_csv(discfile)"
   ]
  },
  {
   "cell_type": "markdown",
   "metadata": {},
   "source": [
    "## 24小时的风速变化"
   ]
  },
  {
   "cell_type": "code",
   "execution_count": 11,
   "metadata": {},
   "outputs": [],
   "source": [
    "ws_spring24hour = [[] for i in range(24)]\n",
    "\n",
    "for i in range (data_wea_time_unify.shape[0]):\n",
    "#     if data_wea_time_unify.loc[i]['season'] == 3:\n",
    "        hour = int(data_wea_time_unify.loc[i]['hour'])\n",
    "        ws_spring24hour[hour].append(data_wea_time_unify.loc[i]['Wind Speed'])\n"
   ]
  },
  {
   "cell_type": "code",
   "execution_count": 12,
   "metadata": {},
   "outputs": [],
   "source": [
    "ws_spring24hour_mean = []\n",
    "\n",
    "for i in range (24):\n",
    "    ws_spring24hour_mean.append(np.mean(ws_spring24hour[i]))\n"
   ]
  },
  {
   "cell_type": "code",
   "execution_count": 13,
   "metadata": {},
   "outputs": [
    {
     "data": {
      "text/plain": [
       "[12.248437500000001,\n",
       " 12.1104,\n",
       " 11.531474103585658,\n",
       " 11.390625,\n",
       " 11.721259842519686,\n",
       " 12.018677042801556,\n",
       " 12.225882352941175,\n",
       " 12.6421875,\n",
       " 13.857915057915058,\n",
       " 15.136679536679537,\n",
       " 15.751724137931037,\n",
       " 16.25669291338583,\n",
       " 16.287096774193547,\n",
       " 16.170967741935485,\n",
       " 15.848780487804879,\n",
       " 16.413061224489795,\n",
       " 16.140495867768596,\n",
       " 15.760629921259842,\n",
       " 15.169354838709678,\n",
       " 14.428571428571429,\n",
       " 14.068800000000001,\n",
       " 13.31294117647059,\n",
       " 13.053543307086615,\n",
       " 12.359055118110238]"
      ]
     },
     "execution_count": 13,
     "metadata": {},
     "output_type": "execute_result"
    }
   ],
   "source": [
    "ws_spring24hour_mean"
   ]
  },
  {
   "cell_type": "markdown",
   "metadata": {},
   "source": [
    "## 24小时的温度变化"
   ]
  },
  {
   "cell_type": "code",
   "execution_count": 20,
   "metadata": {},
   "outputs": [],
   "source": [
    "T_24hour = [[] for i in range(24)]\n",
    "\n",
    "for i in range (data_wea_time_unify.shape[0]):\n",
    "    \n",
    "        hour = int(data_wea_time_unify.loc[i]['hour'])\n",
    "        T_24hour[hour].append(data_wea_time_unify.loc[i]['Temp.'])\n"
   ]
  },
  {
   "cell_type": "code",
   "execution_count": 21,
   "metadata": {},
   "outputs": [],
   "source": [
    "T_24hour_mean = []\n",
    "\n",
    "\n",
    "for i in range (24):\n",
    "    T_24hour_mean.append(np.mean(T_24hour[i]))\n"
   ]
  },
  {
   "cell_type": "code",
   "execution_count": 22,
   "metadata": {},
   "outputs": [
    {
     "data": {
      "text/plain": [
       "[13.6328125,\n",
       " 13.359999999999999,\n",
       " 13.235059760956176,\n",
       " 13.16796875,\n",
       " 13.082677165354331,\n",
       " 13.159533073929961,\n",
       " 13.196078431372548,\n",
       " 13.8125,\n",
       " 14.980694980694981,\n",
       " 15.94980694980695,\n",
       " 16.865900383141764,\n",
       " 17.244094488188978,\n",
       " 17.43951612903226,\n",
       " 17.532258064516128,\n",
       " 17.569105691056912,\n",
       " 16.975510204081633,\n",
       " 16.640495867768596,\n",
       " 15.854330708661417,\n",
       " 15.262096774193548,\n",
       " 14.686507936507937,\n",
       " 14.592000000000001,\n",
       " 14.258823529411766,\n",
       " 13.913385826771654,\n",
       " 13.590551181102363]"
      ]
     },
     "execution_count": 22,
     "metadata": {},
     "output_type": "execute_result"
    }
   ],
   "source": [
    "T_24hour_mean"
   ]
  },
  {
   "cell_type": "code",
   "execution_count": 10,
   "metadata": {
    "scrolled": true
   },
   "outputs": [
    {
     "data": {
      "text/plain": [
       "[<matplotlib.lines.Line2D at 0x1ed3ec84550>]"
      ]
     },
     "execution_count": 10,
     "metadata": {},
     "output_type": "execute_result"
    },
    {
     "data": {
      "image/png": "[encoded data removed]",
      "text/plain": [
       "<Figure size 432x288 with 1 Axes>"
      ]
     },
     "metadata": {
      "needs_background": "light"
     },
     "output_type": "display_data"
    }
   ],
   "source": [
    "# max_list(wd_24hour[i])\n",
    "import matplotlib.pyplot as plt\n",
    "%matplotlib inline\n",
    "plt.plot(T_24hour_mean)\n",
    "# T_24hour_mean"
   ]
  },
  {
   "cell_type": "markdown",
   "metadata": {},
   "source": [
    "## 24小时的风向变化"
   ]
  },
  {
   "cell_type": "code",
   "execution_count": 14,
   "metadata": {},
   "outputs": [],
   "source": [
    "wd_24hour = [[] for i in range(24)]\n",
    "\n",
    "for i in range (data_wea_time_unify.shape[0]):\n",
    "#     if data_wea_time_unify.loc[i]['season'] == 3:\n",
    "        hour = int(data_wea_time_unify.loc[i]['hour'])\n",
    "        wd_24hour[hour].append(data_wea_time_unify.loc[i]['Wind Dir'])\n"
   ]
  },
  {
   "cell_type": "code",
   "execution_count": 18,
   "metadata": {},
   "outputs": [],
   "source": [
    "wd_24hour_mean1 = []\n",
    "\n",
    "for i in range (24):\n",
    "    if np.round(max_list(wd_24hour[i]),4)==0.4834:\n",
    "        wd_24hour_mean1.append('E')\n",
    "    elif np.round(max_list(wd_24hour[i]),4)==0.4182:\n",
    "        wd_24hour_mean1.append('NE')\n",
    "    elif np.round(max_list(wd_24hour[i]),4)==0.5739:\n",
    "        wd_24hour_mean1.append('N')\n",
    "    elif np.round(max_list(wd_24hour[i]),4)==0.8090:\n",
    "        wd_24hour_mean1.append('NW')\n",
    "        \n",
    "    elif np.round(max_list(wd_24hour[i]),4)==0.8754:\n",
    "        wd_24hour_mean1.append('W')\n",
    "    elif np.round(max_list(wd_24hour[i]),4)==0.9094:\n",
    "        wd_24hour_mean1.append('SW')\n",
    "    elif np.round(max_list(wd_24hour[i]),4)==0.8784:\n",
    "        wd_24hour_mean1.append('S')\n",
    "    elif np.round(max_list(wd_24hour[i]),4)==0.6450:\n",
    "        wd_24hour_mean1.append('SE')\n",
    "    else:\n",
    "        wd_24hour_mean1.append('0') "
   ]
  },
  {
   "cell_type": "code",
   "execution_count": 19,
   "metadata": {
    "scrolled": true
   },
   "outputs": [
    {
     "data": {
      "text/plain": [
       "['SE',\n",
       " 'SE',\n",
       " 'SE',\n",
       " 'SE',\n",
       " 'NW',\n",
       " 'NW',\n",
       " 'NW',\n",
       " 'NW',\n",
       " 'NW',\n",
       " 'NW',\n",
       " 'NW',\n",
       " 'NW',\n",
       " 'NW',\n",
       " 'SE',\n",
       " 'SE',\n",
       " 'SE',\n",
       " 'NE',\n",
       " 'SE',\n",
       " 'SE',\n",
       " 'SE',\n",
       " 'SE',\n",
       " 'SE',\n",
       " 'SE',\n",
       " 'SE']"
      ]
     },
     "execution_count": 19,
     "metadata": {},
     "output_type": "execute_result"
    }
   ],
   "source": [
    "# max_list(wd_24hour[i])\n",
    "wd_24hour_mean1"
   ]
  },
  {
   "cell_type": "markdown",
   "metadata": {},
   "source": [
    "### 工作日和周末的风速和风向"
   ]
  },
  {
   "cell_type": "code",
   "execution_count": 98,
   "metadata": {},
   "outputs": [],
   "source": [
    "ws_spring24hour = [[] for i in range(24)]\n",
    "\n",
    "for i in range (data_wea_time_unify.shape[0]):\n",
    "    if data_wea_time_unify.loc[i]['week'] != 7 and data_wea_time_unify.loc[i]['week'] !=6:\n",
    "        hour = int(data_wea_time_unify.loc[i]['hour'])\n",
    "        ws_spring24hour[hour].append(data_wea_time_unify.loc[i]['Wind Speed'])\n",
    "ws_spring24hour_mean = []\n",
    "\n",
    "for i in range (24):\n",
    "    ws_spring24hour_mean.append(np.mean(ws_spring24hour[i]))\n"
   ]
  },
  {
   "cell_type": "code",
   "execution_count": 99,
   "metadata": {},
   "outputs": [
    {
     "data": {
      "text/plain": [
       "[12.806557377049183,\n",
       " 12.68,\n",
       " 11.973480662983425,\n",
       " 11.868131868131869,\n",
       " 12.11270718232044,\n",
       " 12.267391304347825,\n",
       " 12.491803278688524,\n",
       " 13.037837837837838,\n",
       " 14.106521739130434,\n",
       " 15.43695652173913,\n",
       " 15.909677419354843,\n",
       " 16.298901098901098,\n",
       " 16.311864406779659,\n",
       " 16.386206896551723,\n",
       " 15.802325581395349,\n",
       " 16.384090909090908,\n",
       " 16.179310344827588,\n",
       " 15.840000000000003,\n",
       " 15.16,\n",
       " 14.258426966292134,\n",
       " 14.096629213483148,\n",
       " 13.475409836065573,\n",
       " 13.040000000000001,\n",
       " 12.780000000000001]"
      ]
     },
     "execution_count": 99,
     "metadata": {},
     "output_type": "execute_result"
    }
   ],
   "source": [
    "ws_spring24hour_mean"
   ]
  },
  {
   "cell_type": "code",
   "execution_count": 100,
   "metadata": {},
   "outputs": [],
   "source": [
    "wd_24hour = [[] for i in range(24)]\n",
    "\n",
    "for i in range (data_wea_time_unify.shape[0]):\n",
    "    if data_wea_time_unify.loc[i]['week'] != 7 and data_wea_time_unify.loc[i]['week'] !=6:\n",
    "        hour = int(data_wea_time_unify.loc[i]['hour'])\n",
    "        wd_24hour[hour].append(data_wea_time_unify.loc[i]['Wind Dir'])\n",
    "wd_24hour_mean1 = []\n",
    "\n",
    "for i in range (24):\n",
    "    if np.round(max_list(wd_24hour[i]),4)==0.4834:\n",
    "        wd_24hour_mean1.append('E')\n",
    "    elif np.round(max_list(wd_24hour[i]),4)==0.4182:\n",
    "        wd_24hour_mean1.append('NE')\n",
    "    elif np.round(max_list(wd_24hour[i]),4)==0.5739:\n",
    "        wd_24hour_mean1.append('N')\n",
    "    elif np.round(max_list(wd_24hour[i]),4)==0.8090:\n",
    "        wd_24hour_mean1.append('NW')\n",
    "        \n",
    "    elif np.round(max_list(wd_24hour[i]),4)==0.8754:\n",
    "        wd_24hour_mean1.append('W')\n",
    "    elif np.round(max_list(wd_24hour[i]),4)==0.9094:\n",
    "        wd_24hour_mean1.append('SW')\n",
    "    elif np.round(max_list(wd_24hour[i]),4)==0.8784:\n",
    "        wd_24hour_mean1.append('S')\n",
    "    elif np.round(max_list(wd_24hour[i]),4)==0.6450:\n",
    "        wd_24hour_mean1.append('SE')\n",
    "    else:\n",
    "        wd_24hour_mean1.append('0') "
   ]
  },
  {
   "cell_type": "code",
   "execution_count": 101,
   "metadata": {},
   "outputs": [
    {
     "data": {
      "text/plain": [
       "['SE',\n",
       " 'SE',\n",
       " 'SE',\n",
       " 'NW',\n",
       " 'NW',\n",
       " 'NW',\n",
       " 'NW',\n",
       " 'NW',\n",
       " 'NW',\n",
       " 'NW',\n",
       " 'NW',\n",
       " 'NW',\n",
       " 'NW',\n",
       " 'NW',\n",
       " 'SE',\n",
       " 'NE',\n",
       " 'NE',\n",
       " 'NE',\n",
       " 'SE',\n",
       " 'SE',\n",
       " 'SE',\n",
       " 'SE',\n",
       " 'SE',\n",
       " 'SE']"
      ]
     },
     "execution_count": 101,
     "metadata": {},
     "output_type": "execute_result"
    }
   ],
   "source": [
    "wd_24hour_mean1"
   ]
  },
  {
   "cell_type": "code",
   "execution_count": null,
   "metadata": {},
   "outputs": [],
   "source": []
  },
  {
   "cell_type": "code",
   "execution_count": 17,
   "metadata": {
    "scrolled": true
   },
   "outputs": [],
   "source": [
    "\n",
    "def max_list(lt):\n",
    "    temp = 0\n",
    "    for i in lt:\n",
    "        if lt.count(i) > temp:\n",
    "            max_str = i\n",
    "            temp = lt.count(i)\n",
    "    return max_str\n",
    "\n"
   ]
  },
  {
   "cell_type": "code",
   "execution_count": null,
   "metadata": {},
   "outputs": [],
   "source": []
  },
  {
   "cell_type": "code",
   "execution_count": null,
   "metadata": {},
   "outputs": [],
   "source": []
  },
  {
   "cell_type": "code",
   "execution_count": 21,
   "metadata": {},
   "outputs": [],
   "source": [
    "work_m=[]\n",
    "weekend_m=[]\n",
    "for i in range(len(work_day)):\n",
    "    work_m.append(np.sum(work_day[i])/np.count_nonzero(g[0]))\n",
    "for i in range(len(weekend_day)):\n",
    "    weekend_m.append(np.sum(weekend_day[i])/np.count_nonzero(g[0]))\n",
    "# work_mean  =    np.sum(work_day, axis=0) \n",
    "# weekend_mean =    np.sum(weekend_day, axis=0) "
   ]
  },
  {
   "cell_type": "code",
   "execution_count": 23,
   "metadata": {},
   "outputs": [
    {
     "data": {
      "text/plain": [
       "(4327,)"
      ]
     },
     "execution_count": 23,
     "metadata": {},
     "output_type": "execute_result"
    }
   ],
   "source": [
    "np.shape(work_m)\n"
   ]
  },
  {
   "cell_type": "code",
   "execution_count": 66,
   "metadata": {},
   "outputs": [
    {
     "data": {
      "image/png": "[encoded data removed]",
      "text/plain": [
       "<Figure size 432x288 with 2 Axes>"
      ]
     },
     "metadata": {},
     "output_type": "display_data"
    }
   ],
   "source": [
    "# 周末\n",
    "cmap  = sns.color_palette(\"coolwarm\", 10)\n",
    "sns.heatmap(weekend_mean,cmap=cmap)\n",
    "plt.show()"
   ]
  },
  {
   "cell_type": "markdown",
   "metadata": {},
   "source": [
    "# 一天24小时  0：00—6:00凌晨,6:00—11:00上午,11:00—13:00中午,13:00—16:00下午,16:00—18:00傍晚,18:00—24:00晚上"
   ]
  },
  {
   "cell_type": "code",
   "execution_count": 68,
   "metadata": {},
   "outputs": [],
   "source": [
    "day_24hour = [[] for i in range(24)]\n",
    "\n",
    "# 以下分别是黎明 早上 中午 下午 黄昏 晚上\n",
    "e_mor = []\n",
    "mor =  []\n",
    "noon = []\n",
    "a_noon = []\n",
    "dusk = []\n",
    "eve = []\n",
    "\n",
    "for i in range (g.shape[0]):\n",
    "    hour = int(data_wea_time_unify.loc[i]['hour'])\n",
    "    \n",
    "    day_24hour[hour].append(g[i])\n",
    "    \n",
    "    if  hour<6  :\n",
    "        e_mor.append(g[i])\n",
    "    elif hour<11:\n",
    "        mor.append(g[i])\n",
    "    elif hour<13:\n",
    "        noon.append(g[i])\n",
    "    elif hour<16:\n",
    "        a_noon.append(g[i])\n",
    "    elif hour<18:\n",
    "        dusk.append(g[i])\n",
    "    elif hour<24:\n",
    "        eve.append(g[i])"
   ]
  },
  {
   "cell_type": "code",
   "execution_count": 75,
   "metadata": {},
   "outputs": [],
   "source": [
    "day_24hour_mean = []\n",
    "for i in range (24):\n",
    "    day_24hour_mean.append(np.mean(np.mean(np.mean(day_24hour[i], axis=0),axis=0) ,axis=0)  )\n",
    "\n",
    "e_mor_mean  =    np.mean(e_mor, axis=0) \n",
    "mor_mean =    np.mean(mor, axis=0)\n",
    "noon_mean  =    np.mean(noon, axis=0) \n",
    "a_noon_mean =    np.mean(a_noon, axis=0)\n",
    "dusk_mean  =    np.mean(dusk, axis=0) \n",
    "eve_mean =    np.mean(eve, axis=0) "
   ]
  },
  {
   "cell_type": "code",
   "execution_count": 79,
   "metadata": {
    "scrolled": false
   },
   "outputs": [
    {
     "data": {
      "image/png": "[encoded data removed]",
      "text/plain": [
       "<Figure size 432x288 with 2 Axes>"
      ]
     },
     "metadata": {},
     "output_type": "display_data"
    }
   ],
   "source": [
    "# 凌晨\n",
    "cmap  = sns.color_palette(\"coolwarm\", 10)\n",
    "sns.heatmap(e_mor_mean,cmap=cmap)\n",
    "plt.show()"
   ]
  },
  {
   "cell_type": "code",
   "execution_count": 80,
   "metadata": {
    "scrolled": true
   },
   "outputs": [
    {
     "data": {
      "image/png": "[encoded data removed]",
      "text/plain": [
       "<Figure size 432x288 with 2 Axes>"
      ]
     },
     "metadata": {},
     "output_type": "display_data"
    }
   ],
   "source": [
    "# 早上\n",
    "cmap  = sns.color_palette(\"coolwarm\", 10)\n",
    "sns.heatmap(mor_mean,cmap=cmap)\n",
    "plt.show()"
   ]
  },
  {
   "cell_type": "code",
   "execution_count": 81,
   "metadata": {},
   "outputs": [
    {
     "data": {
      "image/png": "[encoded data removed]",
      "text/plain": [
       "<Figure size 432x288 with 2 Axes>"
      ]
     },
     "metadata": {},
     "output_type": "display_data"
    }
   ],
   "source": [
    "# 中午\n",
    "cmap  = sns.color_palette(\"coolwarm\", 10)\n",
    "sns.heatmap(noon_mean,cmap=cmap)\n",
    "plt.show()"
   ]
  },
  {
   "cell_type": "code",
   "execution_count": 83,
   "metadata": {
    "scrolled": true
   },
   "outputs": [
    {
     "data": {
      "image/png": "[encoded data removed]",
      "text/plain": [
       "<Figure size 432x288 with 2 Axes>"
      ]
     },
     "metadata": {},
     "output_type": "display_data"
    }
   ],
   "source": [
    "# 下午\n",
    "cmap  = sns.color_palette(\"coolwarm\", 10)\n",
    "sns.heatmap(a_noon_mean,cmap=cmap)\n",
    "plt.show()"
   ]
  },
  {
   "cell_type": "code",
   "execution_count": 84,
   "metadata": {},
   "outputs": [
    {
     "data": {
      "image/png": "[encoded data removed]",
      "text/plain": [
       "<Figure size 432x288 with 2 Axes>"
      ]
     },
     "metadata": {},
     "output_type": "display_data"
    }
   ],
   "source": [
    "# 傍晚\n",
    "cmap  = sns.color_palette(\"coolwarm\", 10)\n",
    "sns.heatmap(dusk_mean,cmap=cmap)\n",
    "plt.show()"
   ]
  },
  {
   "cell_type": "code",
   "execution_count": 85,
   "metadata": {},
   "outputs": [
    {
     "data": {
      "image/png": "[encoded data removed]",
      "text/plain": [
       "<Figure size 432x288 with 2 Axes>"
      ]
     },
     "metadata": {},
     "output_type": "display_data"
    }
   ],
   "source": [
    "#晚上\n",
    "cmap  = sns.color_palette(\"coolwarm\", 10)\n",
    "sns.heatmap(eve_mean,cmap=cmap)\n",
    "plt.show()"
   ]
  },
  {
   "cell_type": "code",
   "execution_count": 78,
   "metadata": {
    "scrolled": true
   },
   "outputs": [
    {
     "data": {
      "text/plain": [
       "[<matplotlib.lines.Line2D at 0x1cbda41e320>]"
      ]
     },
     "execution_count": 78,
     "metadata": {},
     "output_type": "execute_result"
    },
    {
     "data": {
      "image/png": "[encoded data removed]",
      "text/plain": [
       "<Figure size 432x288 with 1 Axes>"
      ]
     },
     "metadata": {},
     "output_type": "display_data"
    }
   ],
   "source": [
    "# 24小时\n",
    "np.array(day_24hour_mean).shape\n",
    "plt.plot(day_24hour_mean)"
   ]
  },
  {
   "cell_type": "markdown",
   "metadata": {},
   "source": [
    "## 春(4965-5946)\n",
    "\n",
    " 四季\t      Spring\t      Summer\t     Autumn\t        Winter\n",
    " \n",
    "起始日期\t2015年3月13日\t2014年8月1日\t2014年10月4日\t2014年12月1日\n",
    "\n",
    "终止日期\t2015年4月30日\t2014年10月3日\t2014年11月30日\t2015年3月12日"
   ]
  },
  {
   "cell_type": "code",
   "execution_count": 5,
   "metadata": {},
   "outputs": [],
   "source": [
    "import numpy as np\n",
    "\n",
    "# 全年平均值\n",
    "g_all_year_mean    = np.mean(g, axis=0) \n",
    "\n",
    "# 春天  4965-5946\n",
    "g_spring_mean = np.mean(g[4965:], axis=0) \n",
    "\n",
    "# 夏天  0-1347\n",
    "g_summer_mean = np.mean(g[:1347], axis=0) \n",
    "\n",
    "# 秋天 1348-2691\n",
    "g_autumn_mean = np.mean(g[1348:2691], axis=0) \n",
    "\n",
    "# 冬天  2692-4964\n",
    "g_winter_mean = np.mean(g[2692:4964], axis=0) \n"
   ]
  },
  {
   "cell_type": "code",
   "execution_count": 6,
   "metadata": {
    "collapsed": true
   },
   "outputs": [
    {
     "data": {
      "text/plain": [
       "array([[ 0.        ,  0.        ,  0.        ,  0.        ,  0.        ,\n",
       "         0.        ,  0.        ,  0.        ,  0.        , 20.16305   ,\n",
       "        31.847248  , 26.442799  ,  5.6663184 ,  0.        ,  0.        ,\n",
       "         0.        ],\n",
       "       [ 0.        ,  0.        ,  0.        ,  0.        ,  0.        ,\n",
       "         0.        ,  0.        ,  0.        ,  0.        ,  5.3768134 ,\n",
       "        16.471933  , 29.393585  ,  6.298626  ,  0.        ,  0.        ,\n",
       "         0.        ],\n",
       "       [ 0.        ,  0.        ,  0.        ,  0.        ,  0.        ,\n",
       "         0.        ,  0.        ,  0.        ,  0.        ,  0.        ,\n",
       "         5.803155  , 16.24884   ,  3.481896  ,  0.        ,  0.        ,\n",
       "         0.        ],\n",
       "       [ 0.        ,  0.        ,  0.        ,  0.        ,  0.        ,\n",
       "         4.384987  ,  6.7594604 ,  6.094778  ,  0.93765795,  2.4596682 ,\n",
       "         2.7329638 ,  0.        ,  0.        ,  0.        ,  0.        ,\n",
       "         0.        ],\n",
       "       [ 0.        ,  0.        ,  0.        ,  0.        ,  0.        ,\n",
       "        20.463287  , 31.544127  , 28.442268  ,  4.3757353 , 11.478451  ,\n",
       "        12.753835  ,  0.        ,  0.        ,  0.        ,  0.        ,\n",
       "         0.        ],\n",
       "       [ 0.        ,  0.        ,  9.204216  , 15.778667  ,  1.3148888 ,\n",
       "         7.3083153 , 19.784216  , 31.021147  , 20.0446    , 11.318988  ,\n",
       "         4.5549445 ,  0.        ,  0.        ,  0.        ,  0.        ,\n",
       "         0.        ],\n",
       "       [ 0.        ,  8.185124  , 20.577166  , 25.070297  ,  2.0891922 ,\n",
       "         8.01943   , 20.238691  , 32.062336  , 29.36345   , 18.553728  ,\n",
       "         7.782936  ,  0.        ,  0.        ,  4.6696396 ,  6.420754  ,\n",
       "         0.        ],\n",
       "       [ 0.        , 17.734396  , 28.751213  , 28.116428  ,  6.647145  ,\n",
       "        21.82638   , 31.536901  , 33.022823  , 31.748997  , 27.783684  ,\n",
       "        16.863022  ,  0.        ,  0.        , 10.117557  , 13.911652  ,\n",
       "         0.        ],\n",
       "       [ 0.        ,  2.72837   , 17.849129  , 33.300907  , 30.75181   ,\n",
       "        31.604355  , 32.1237    , 31.973253  , 31.333975  , 14.821964  ,\n",
       "         2.5943122 ,  0.        ,  0.        ,  1.556548  ,  2.1402502 ,\n",
       "         0.        ],\n",
       "       [ 0.        , 12.926294  , 26.00857   , 35.914154  , 37.110687  ,\n",
       "        37.2384    , 35.841167  , 32.945766  , 28.6269    , 21.106936  ,\n",
       "        15.965406  , 13.684544  ,  2.9324028 ,  6.142945  ,  8.446557  ,\n",
       "         0.        ],\n",
       "       [ 0.        , 14.362576  , 27.032917  , 36.02501   , 37.787094  ,\n",
       "        38.200012  , 32.320255  , 23.79167   , 26.435205  , 21.844397  ,\n",
       "        20.332647  , 22.46634   ,  4.814209  ,  6.8255057 ,  9.385063  ,\n",
       "         0.        ],\n",
       "       [ 2.3238938 ,  0.6197048 , 15.4927635 , 33.85181   , 36.246243  ,\n",
       "        34.71589   , 20.984081  ,  5.3869433 , 25.679293  , 12.786223  ,\n",
       "         8.415388  , 20.331594  ,  4.3567677 ,  0.        ,  0.        ,\n",
       "         0.        ],\n",
       "       [27.886745  ,  7.4364634 , 14.7603035 , 32.00874   , 33.400333  ,\n",
       "        31.793285  , 26.703545  , 21.387026  , 26.985914  , 23.665897  ,\n",
       "        15.405263  ,  4.3567677 ,  0.93359274,  0.        ,  0.        ,\n",
       "         0.        ],\n",
       "       [16.267275  ,  4.3379416 ,  6.794918  , 14.702843  , 15.224621  ,\n",
       "        14.464911  , 13.189582  , 12.016988  , 12.759732  , 12.42878   ,\n",
       "         8.078743  ,  0.        ,  0.        ,  9.212159  , 12.666726  ,\n",
       "         0.        ],\n",
       "       [ 0.        ,  0.        ,  0.        ,  1.9268105 ,  8.991786  ,\n",
       "         3.2113543 ,  0.        ,  1.1557562 ,  7.512411  ,  3.4672706 ,\n",
       "         0.        ,  0.        ,  0.        , 17.040745  , 25.16064   ,\n",
       "         6.48596   ],\n",
       "       [ 0.        ,  0.        ,  0.        ,  7.2255387 , 33.7192    ,\n",
       "        12.042578  ,  0.        ,  4.3340836 , 28.171576  , 13.002254  ,\n",
       "         0.        ,  0.        ,  0.        , 16.402597  , 29.03952   ,\n",
       "        24.322351  ]], dtype=float32)"
      ]
     },
     "execution_count": 6,
     "metadata": {},
     "output_type": "execute_result"
    }
   ],
   "source": [
    "g_summer_mean"
   ]
  },
  {
   "cell_type": "code",
   "execution_count": 7,
   "metadata": {
    "collapsed": true
   },
   "outputs": [
    {
     "data": {
      "text/plain": [
       "array([[ 0.        ,  0.        ,  0.        ,  0.        ,  0.        ,\n",
       "         0.        ,  0.        ,  0.        ,  0.        , 17.726727  ,\n",
       "        27.604694  , 22.14331   ,  4.745003  ,  0.        ,  0.        ,\n",
       "         0.        ],\n",
       "       [ 0.        ,  0.        ,  0.        ,  0.        ,  0.        ,\n",
       "         0.        ,  0.        ,  0.        ,  0.        ,  4.7271295 ,\n",
       "        14.299455  , 25.331858  ,  5.4282618 ,  0.        ,  0.        ,\n",
       "         0.        ],\n",
       "       [ 0.        ,  0.        ,  0.        ,  0.        ,  0.        ,\n",
       "         0.        ,  0.        ,  0.        ,  0.        ,  0.        ,\n",
       "         5.0459676 , 14.128711  ,  3.0275826 ,  0.        ,  0.        ,\n",
       "         0.        ],\n",
       "       [ 0.        ,  0.        ,  0.        ,  0.        ,  0.        ,\n",
       "         3.723457  ,  5.540629  ,  4.74396   ,  0.7298401 ,  2.2837555 ,\n",
       "         2.5375025 ,  0.        ,  0.        ,  0.        ,  0.        ,\n",
       "         0.        ],\n",
       "       [ 0.        ,  0.        ,  0.        ,  0.        ,  0.        ,\n",
       "        17.376152  , 25.856262  , 22.138437  ,  3.4059172 , 10.657506  ,\n",
       "        11.841685  ,  0.        ,  0.        ,  0.        ,  0.        ,\n",
       "         0.        ],\n",
       "       [ 0.        ,  0.        ,  7.28488   , 12.488374  ,  1.0406969 ,\n",
       "         6.2057524 , 16.887724  , 26.676846  , 17.98972   , 10.370359  ,\n",
       "         4.229172  ,  0.        ,  0.        ,  0.        ,  0.        ,\n",
       "         0.        ],\n",
       "       [ 0.        ,  7.4985867 , 17.301886  , 20.311533  ,  1.6926252 ,\n",
       "         7.1984205 , 18.21419   , 28.87338   , 26.311897  , 16.353952  ,\n",
       "         6.683871  ,  0.        ,  0.        ,  4.2160897 ,  5.797114  ,\n",
       "         0.        ],\n",
       "       [ 0.        , 16.246923  , 25.11575   , 23.548351  ,  5.393755  ,\n",
       "        19.364914  , 28.288948  , 29.62933   , 27.817225  , 24.028664  ,\n",
       "        14.481741  ,  0.        ,  0.        ,  9.134872  , 12.560444  ,\n",
       "         0.        ],\n",
       "       [ 0.        ,  2.4995265 , 15.501799  , 28.324541  , 24.664476  ,\n",
       "        26.893848  , 28.14274   , 27.863579  , 26.593252  , 12.550083  ,\n",
       "         2.2279577 ,  0.        ,  0.        ,  1.4053624 ,  1.9323735 ,\n",
       "         0.        ],\n",
       "       [ 0.        , 11.518957  , 22.635464  , 30.656485  , 31.035824  ,\n",
       "        31.403818  , 30.598482  , 28.409885  , 24.392498  , 18.102478  ,\n",
       "        13.757596  , 11.648616  ,  2.496134  ,  6.0922933 ,  8.376901  ,\n",
       "         0.        ],\n",
       "       [ 0.        , 12.798811  , 23.456848  , 30.760777  , 32.382416  ,\n",
       "        32.63526   , 27.629694  , 20.459587  , 22.754612  , 18.866127  ,\n",
       "        17.450626  , 19.003244  ,  4.072124  ,  6.769217  ,  9.307681  ,\n",
       "         0.        ],\n",
       "       [ 1.9568256 ,  0.52182   , 13.142871  , 28.759516  , 30.945673  ,\n",
       "        30.506271  , 18.700813  ,  4.6783442 , 22.31719   , 11.146732  ,\n",
       "         7.101505  , 16.96895   ,  3.6361969 ,  0.        ,  0.        ,\n",
       "         0.        ],\n",
       "       [23.48186   ,  6.2618346 , 11.882368  , 25.915129  , 27.57573   ,\n",
       "        26.066734  , 22.204193  , 18.712254  , 24.525196  , 21.477413  ,\n",
       "        13.79264   ,  3.6361969 ,  0.77918595,  0.        ,  0.        ,\n",
       "         0.        ],\n",
       "       [13.697777  ,  3.652743  ,  5.3846755 , 11.731703  , 12.43976   ,\n",
       "        11.599421  , 10.807837  , 10.518512  , 11.726106  , 11.337616  ,\n",
       "         7.2881536 ,  0.        ,  0.        ,  8.381822  , 11.524994  ,\n",
       "         0.        ],\n",
       "       [ 0.        ,  0.        ,  0.        ,  1.5269142 ,  7.1256037 ,\n",
       "         2.5448585 ,  0.        ,  1.0326464 ,  6.712202  ,  3.0979419 ,\n",
       "         0.        ,  0.        ,  0.        , 15.163626  , 22.431568  ,\n",
       "         5.9309893 ],\n",
       "       [ 0.        ,  0.        ,  0.        ,  5.725931  , 26.721     ,\n",
       "         9.543206  ,  0.        ,  3.8724225 , 25.17074   , 11.6172695 ,\n",
       "         0.        ,  0.        ,  0.        , 13.644793  , 24.692589  ,\n",
       "        22.241241  ]], dtype=float32)"
      ]
     },
     "execution_count": 7,
     "metadata": {},
     "output_type": "execute_result"
    }
   ],
   "source": [
    "g_winter_mean"
   ]
  },
  {
   "cell_type": "code",
   "execution_count": 8,
   "metadata": {},
   "outputs": [
    {
     "data": {
      "text/plain": [
       "9.315392"
      ]
     },
     "execution_count": 8,
     "metadata": {},
     "output_type": "execute_result"
    }
   ],
   "source": [
    "np.mean(np.mean(g_all_year_mean, axis=0))"
   ]
  },
  {
   "cell_type": "code",
   "execution_count": 43,
   "metadata": {},
   "outputs": [
    {
     "data": {
      "text/plain": [
       "<matplotlib.axes._subplots.AxesSubplot at 0x1cbd7146470>"
      ]
     },
     "execution_count": 43,
     "metadata": {},
     "output_type": "execute_result"
    },
    {
     "data": {
      "image/png": "[encoded data removed]",
      "text/plain": [
       "<Figure size 432x288 with 2 Axes>"
      ]
     },
     "metadata": {},
     "output_type": "display_data"
    }
   ],
   "source": [
    "import numpy as np\n",
    "import seaborn as sns\n",
    "from matplotlib.colors import ListedColormap\n",
    "\n",
    "data = np.random.random((3,3)) # Random [-1, 0, 1] data\n",
    "sns.heatmap(data, cmap=ListedColormap(['green', 'yellow', 'red']), annot=True)"
   ]
  },
  {
   "cell_type": "code",
   "execution_count": 33,
   "metadata": {},
   "outputs": [
    {
     "data": {
      "image/png": "[encoded data removed]",
      "text/plain": [
       "<Figure size 432x288 with 2 Axes>"
      ]
     },
     "metadata": {},
     "output_type": "display_data"
    }
   ],
   "source": [
    "import matplotlib.pyplot as plt\n",
    "import seaborn as sns\n",
    "# data = pd.read_csv(\"../input/car_crashes.csv\")\n",
    "# data = data.corr()\n",
    "# cmap = sns.cubehelix_palette(start = 1.5, rot = 3, gamma=0.8, as_cmap = True)\n",
    "# cmap = sns.hls_palette(8 , h=0.01, s=0.9, l=0.65)\n",
    "# cmap = sns.choose_cubehelix_palette()\n",
    "cmap = sns.color_palette(\"Reds\")\n",
    "# cmap  = sns.color_palette(\"coolwarm\", 10)\n",
    "# cmap= sns.dark_palette(\"green\", as_cmap=True)\n",
    "# cmap  =  sns.diverging_palette(220,10, sep=80, n=7)\n",
    "# cmap  =    sns.cubehelix_palette(8)\n",
    "# cmap=ListedColormap(['#339933','#ccff99','#ffcc66','#ff9966','#ff6633','#ff3333','#ff0000','#cc0000', '#990000', '#660000'])\n",
    "# cmap=ListedColormap(['#33cc00','#ccffcc','#ffff99','#ffcc66','#ff9966','#ff6633','#ff3333','#ff0000','#cc0000', '#990000', '#660000'])\n",
    "sns.heatmap(g_all_year_mean,cmap=cmap)\n",
    "plt.show()\n"
   ]
  },
  {
   "cell_type": "code",
   "execution_count": 171,
   "metadata": {},
   "outputs": [
    {
     "data": {
      "image/png": "[encoded data removed]",
      "text/plain": [
       "<Figure size 576x72 with 1 Axes>"
      ]
     },
     "metadata": {},
     "output_type": "display_data"
    }
   ],
   "source": [
    "sns.palplot(sns.cubehelix_palette(8))"
   ]
  },
  {
   "cell_type": "code",
   "execution_count": 34,
   "metadata": {},
   "outputs": [
    {
     "data": {
      "text/plain": [
       "<matplotlib.image.AxesImage at 0x1cb09d125f8>"
      ]
     },
     "execution_count": 34,
     "metadata": {},
     "output_type": "execute_result"
    },
    {
     "data": {
      "image/png": "[encoded data removed]",
      "text/plain": [
       "<Figure size 432x288 with 1 Axes>"
      ]
     },
     "metadata": {},
     "output_type": "display_data"
    }
   ],
   "source": [
    "import matplotlib.pyplot as plt\n",
    "plt.title('whole year')\n",
    "plt.imshow(g_all_year_mean)"
   ]
  },
  {
   "cell_type": "code",
   "execution_count": 49,
   "metadata": {
    "collapsed": true
   },
   "outputs": [
    {
     "data": {
      "text/plain": [
       "<matplotlib.image.AxesImage at 0x1cb09e61c18>"
      ]
     },
     "execution_count": 49,
     "metadata": {},
     "output_type": "execute_result"
    },
    {
     "data": {
      "image/png": "[encoded data removed]",
      "text/plain": [
       "<Figure size 432x288 with 1 Axes>"
      ]
     },
     "metadata": {},
     "output_type": "display_data"
    }
   ],
   "source": [
    "plt.title('summer')\n",
    "plt.imshow(g_summer_mean)"
   ]
  },
  {
   "cell_type": "code",
   "execution_count": 50,
   "metadata": {
    "collapsed": true
   },
   "outputs": [
    {
     "data": {
      "text/plain": [
       "<matplotlib.image.AxesImage at 0x1cb09ec0978>"
      ]
     },
     "execution_count": 50,
     "metadata": {},
     "output_type": "execute_result"
    },
    {
     "data": {
      "image/png": "[encoded data removed]",
      "text/plain": [
       "<Figure size 432x288 with 1 Axes>"
      ]
     },
     "metadata": {},
     "output_type": "display_data"
    }
   ],
   "source": [
    "plt.title('winter')\n",
    "plt.imshow(g_winter_mean)"
   ]
  },
  {
   "cell_type": "code",
   "execution_count": 27,
   "metadata": {
    "collapsed": true
   },
   "outputs": [
    {
     "data": {
      "text/plain": [
       "<matplotlib.image.AxesImage at 0x1cb09bea6d8>"
      ]
     },
     "execution_count": 27,
     "metadata": {},
     "output_type": "execute_result"
    },
    {
     "data": {
      "image/png": "[encoded data removed]",
      "text/plain": [
       "<Figure size 432x288 with 1 Axes>"
      ]
     },
     "metadata": {},
     "output_type": "display_data"
    }
   ],
   "source": [
    "\n",
    "plt.title('spring')\n",
    "plt.imshow(g_spring_mean)"
   ]
  },
  {
   "cell_type": "code",
   "execution_count": 26,
   "metadata": {
    "collapsed": true
   },
   "outputs": [
    {
     "data": {
      "text/plain": [
       "<matplotlib.image.AxesImage at 0x1cb09b486a0>"
      ]
     },
     "execution_count": 26,
     "metadata": {},
     "output_type": "execute_result"
    },
    {
     "data": {
      "image/png": "[encoded data removed]",
      "text/plain": [
       "<Figure size 432x288 with 1 Axes>"
      ]
     },
     "metadata": {},
     "output_type": "display_data"
    }
   ],
   "source": [
    "\n",
    "plt.title('autumn')\n",
    "plt.imshow(g_autumn_mean)"
   ]
  },
  {
   "cell_type": "code",
   "execution_count": 39,
   "metadata": {
    "scrolled": true
   },
   "outputs": [
    {
     "data": {
      "text/plain": [
       "(6064, 16, 16)"
      ]
     },
     "execution_count": 39,
     "metadata": {},
     "output_type": "execute_result"
    }
   ],
   "source": [
    "ezs.shape"
   ]
  },
  {
   "cell_type": "markdown",
   "metadata": {},
   "source": [
    "高架指数"
   ]
  },
  {
   "cell_type": "code",
   "execution_count": 40,
   "metadata": {
    "collapsed": true
   },
   "outputs": [
    {
     "data": {
      "text/plain": [
       "<matplotlib.image.AxesImage at 0x1cb09dfe5c0>"
      ]
     },
     "execution_count": 40,
     "metadata": {},
     "output_type": "execute_result"
    },
    {
     "data": {
      "image/png": "[encoded data removed]",
      "text/plain": [
       "<Figure size 432x288 with 1 Axes>"
      ]
     },
     "metadata": {},
     "output_type": "display_data"
    }
   ],
   "source": [
    "# 全年平均值\n",
    "ezs_all_year_mean    = np.mean(ezs, axis=0) \n",
    "\n",
    "plt.title('high way')\n",
    "plt.imshow(ezs_all_year_mean)"
   ]
  },
  {
   "cell_type": "code",
   "execution_count": null,
   "metadata": {},
   "outputs": [],
   "source": [
    "# 春天  4965-5946\n",
    "g_spring_mean = np.mean(g[4965:], axis=0) \n",
    "\n",
    "# 夏天  0-1347\n",
    "g_summer_mean = np.mean(g[:1347], axis=0) \n",
    "\n",
    "# 秋天 1348-2691\n",
    "g_autumn_mean = np.mean(g[1348:2691], axis=0) \n",
    "\n",
    "# 冬天  2692-4964\n",
    "g_winter_mean = np.mean(g[2692:4964], axis=0) \n"
   ]
  },
  {
   "cell_type": "code",
   "execution_count": null,
   "metadata": {},
   "outputs": [],
   "source": []
  },
  {
   "cell_type": "code",
   "execution_count": 22,
   "metadata": {},
   "outputs": [
    {
     "name": "stdout",
     "output_type": "stream",
     "text": [
      "[[5 9]\n",
      " [3 6]]\n"
     ]
    },
    {
     "data": {
      "text/plain": [
       "array([[1.66666667, 3.        ],\n",
       "       [1.        , 2.        ]])"
      ]
     },
     "execution_count": 22,
     "metadata": {},
     "output_type": "execute_result"
    }
   ],
   "source": [
    "import numpy as np\n",
    "tes = [[[1,3],[1,2]],[[2,3],[1,2]],[[2,3],[1,2]]]\n",
    "test1 = np.array(tes)\n",
    "print(test1.sum(axis=0))\n",
    "np.mean(tes, axis=0) "
   ]
  },
  {
   "cell_type": "code",
   "execution_count": 107,
   "metadata": {},
   "outputs": [
    {
     "data": {
      "text/plain": [
       "<matplotlib.image.AxesImage at 0x1a79eaa0160>"
      ]
     },
     "execution_count": 107,
     "metadata": {},
     "output_type": "execute_result"
    },
    {
     "data": {
      "image/png": "[encoded data removed]",
      "text/plain": [
       "<Figure size 432x288 with 1 Axes>"
      ]
     },
     "metadata": {},
     "output_type": "display_data"
    }
   ],
   "source": [
    "import matplotlib.pyplot as plt\n",
    "\n",
    "# plt.imshow(g[0], cmap=\"seismic\", clim=(-1, 1))\n",
    "plt.imshow(g_16[24])\n"
   ]
  },
  {
   "cell_type": "code",
   "execution_count": 18,
   "metadata": {},
   "outputs": [],
   "source": [
    "test = [[0,0,5],[1,0,5],[2,0,5],[3,0,5],[4,0,5],[5,0,5],[6,0,5],[7,0,5],[8,0,5],[9,0,5],[10,0,5],[11,0,5]\n",
    ",[0,1,5],[1,1,5],[2,1,5],[3,1,5],[4,1,5],[5,1,5],[6,1,5],[7,1,5],[8,1,5]\n",
    ",[9,1,5],[10,1,5],[11,1,5]\n",
    ",[0,2,5],[1,2,5],[2,2,5],[3,2,5],[4,2,5],[5,2,5],[6,2,5],[7,2,5],[8,2,5],[9,2,5],[10,2,5],[11,2,5],[0,3,5],[1,3,5],[2,3,5],[3,3,5],[4,3,5],[5,3,5],[6,3,5],[7,3,5],[8,3,5],[9,3,5]\n",
    ",[10,3,5],[11,3,5],[0,4,5],[1,4,5],[2,4,5],[3,4,5],[4,4,5]\n",
    ",[5,4,5],[6,4,5],[7,4,5],[8,4,5],[9,4,5],[10,4,5],[11,4,5]\n",
    ",[0,5,5],[1,5,5],[2,5,5],[3,5,5],[4,5,5],[5,5,5],[6,5,5],[7,5,5],[8,5,5],[9,5,5],[10,5,5],[11,5,5]\n",
    ",[0,6,5],[1,6,5],[2,6,5],[3,6,5],[4,6,5],[5,6,5],[6,6,5]\n",
    ",[7,6,5],[8,6,5],[9,6,5],[10,6,5],[11,6,5],[0,7,5],[1,7,5]\n",
    ",[2,7,5],[3,7,5],[4,7,5],[5,7,5],[6,7,5],[7,7,5],[8,7,5],[9,7,5],[10,7,5],[11,7,5],[0,8,5],[1,8,5],[2,8,5],[3,8,5],[4,8,5],[5,8,4],[6,8,5],[7,8,4],[8,8,5]\n",
    ",[9,8,5],[10,8,5],[11,8,5]\n",
    ",[0,9,5],[1,9,5],[2,9,5],[3,9,5]\n",
    ",[4,9,5],[5,9,5],[6,9,5],[7,9,5],[8,9,4],[9,9,5],[10,9,5],[11,9,4],[0,10,5],[1,10,5],[2,10,5],[3,10,5],[4,10,5],[5,10,5],[6,10,5],[7,10,5],[8,10,5],[9,10,5]\n",
    ",[10,10,5],[11,10,5]\n",
    ",[0,11,5],[1,11,5],[2,11,5],[3,11,5],[4,11,5],[5,11,5],[6,11,5],[7,11,5],[8,11,5],[9,11,5],[10,11,4]\n",
    ",[11,11,4]\n",
    "]"
   ]
  },
  {
   "cell_type": "code",
   "execution_count": 81,
   "metadata": {},
   "outputs": [
    {
     "name": "stdout",
     "output_type": "stream",
     "text": [
      "0\n",
      "0\n"
     ]
    },
    {
     "data": {
      "text/plain": [
       "75.98646"
      ]
     },
     "execution_count": 81,
     "metadata": {},
     "output_type": "execute_result"
    }
   ],
   "source": [
    "test[11][2] = int(g[0][11][11])\n",
    "print (test[11][2])\n",
    " \n",
    "print (int(g[24][11][11]))\n",
    "g_16[0][5][4]\n"
   ]
  },
  {
   "cell_type": "code",
   "execution_count": 82,
   "metadata": {},
   "outputs": [
    {
     "name": "stdout",
     "output_type": "stream",
     "text": [
      "75.98646\n",
      "77.91293\n"
     ]
    }
   ],
   "source": [
    "print(g_16[0][5][4])\n",
    "print(g_16[24][5][4])"
   ]
  },
  {
   "cell_type": "markdown",
   "metadata": {},
   "source": [
    "# 16*16格式网格路面指数  等级输出"
   ]
  },
  {
   "cell_type": "code",
   "execution_count": null,
   "metadata": {},
   "outputs": [],
   "source": [
    "import matplotlib.pyplot as plt"
   ]
  },
  {
   "cell_type": "code",
   "execution_count": 108,
   "metadata": {},
   "outputs": [
    {
     "data": {
      "text/plain": [
       "[[0, 0, 0],\n",
       " [1, 0, 0],\n",
       " [2, 0, 0],\n",
       " [3, 0, 1],\n",
       " [4, 0, 0],\n",
       " [5, 0, 0],\n",
       " [6, 0, 1],\n",
       " [7, 0, 0],\n",
       " [8, 0, 0],\n",
       " [9, 0, 0],\n",
       " [10, 0, 1],\n",
       " [11, 0, 1],\n",
       " [0, 1, 0],\n",
       " [1, 1, 0],\n",
       " [2, 1, 0],\n",
       " [3, 1, 0],\n",
       " [4, 1, 0],\n",
       " [5, 1, 0],\n",
       " [6, 1, 0],\n",
       " [7, 1, 0],\n",
       " [8, 1, 0],\n",
       " [9, 1, 0],\n",
       " [10, 1, 1],\n",
       " [11, 1, 0],\n",
       " [0, 2, 1],\n",
       " [1, 2, 0],\n",
       " [2, 2, 1],\n",
       " [3, 2, 1],\n",
       " [4, 2, 1],\n",
       " [5, 2, 1],\n",
       " [6, 2, 1],\n",
       " [7, 2, 1],\n",
       " [8, 2, 0],\n",
       " [9, 2, 0],\n",
       " [10, 2, 0],\n",
       " [11, 2, 0],\n",
       " [0, 3, 0],\n",
       " [1, 3, 0],\n",
       " [2, 3, 1],\n",
       " [3, 3, 1],\n",
       " [4, 3, 1],\n",
       " [5, 3, 0],\n",
       " [6, 3, 1],\n",
       " [7, 3, 0],\n",
       " [8, 3, 0],\n",
       " [9, 3, 0],\n",
       " [10, 3, 0],\n",
       " [11, 3, 0],\n",
       " [0, 4, 0],\n",
       " [1, 4, 1],\n",
       " [2, 4, 1],\n",
       " [3, 4, 2],\n",
       " [4, 4, 2],\n",
       " [5, 4, 1],\n",
       " [6, 4, 1],\n",
       " [7, 4, 1],\n",
       " [8, 4, 1],\n",
       " [9, 4, 0],\n",
       " [10, 4, 1],\n",
       " [11, 4, 0],\n",
       " [0, 5, 0],\n",
       " [1, 5, 0],\n",
       " [2, 5, 1],\n",
       " [3, 5, 1],\n",
       " [4, 5, 1],\n",
       " [5, 5, 1],\n",
       " [6, 5, 1],\n",
       " [7, 5, 0],\n",
       " [8, 5, 0],\n",
       " [9, 5, 0],\n",
       " [10, 5, 0],\n",
       " [11, 5, 0],\n",
       " [0, 6, 0],\n",
       " [1, 6, 1],\n",
       " [2, 6, 1],\n",
       " [3, 6, 0],\n",
       " [4, 6, 1],\n",
       " [5, 6, 2],\n",
       " [6, 6, 1],\n",
       " [7, 6, 1],\n",
       " [8, 6, 0],\n",
       " [9, 6, 0],\n",
       " [10, 6, 0],\n",
       " [11, 6, 0],\n",
       " [0, 7, 0],\n",
       " [1, 7, 0],\n",
       " [2, 7, 1],\n",
       " [3, 7, 0],\n",
       " [4, 7, 0],\n",
       " [5, 7, 1],\n",
       " [6, 7, 1],\n",
       " [7, 7, 0],\n",
       " [8, 7, 0],\n",
       " [9, 7, 0],\n",
       " [10, 7, 0],\n",
       " [11, 7, 0],\n",
       " [0, 8, 0],\n",
       " [1, 8, 0],\n",
       " [2, 8, 0],\n",
       " [3, 8, 0],\n",
       " [4, 8, 1],\n",
       " [5, 8, 2],\n",
       " [6, 8, 0],\n",
       " [7, 8, 1],\n",
       " [8, 8, 0],\n",
       " [9, 8, 0],\n",
       " [10, 8, 0],\n",
       " [11, 8, 0],\n",
       " [0, 9, 0],\n",
       " [1, 9, 0],\n",
       " [2, 9, 0],\n",
       " [3, 9, 0],\n",
       " [4, 9, 0],\n",
       " [5, 9, 0],\n",
       " [6, 9, 0],\n",
       " [7, 9, 0],\n",
       " [8, 9, 0],\n",
       " [9, 9, 0],\n",
       " [10, 9, 0],\n",
       " [11, 9, 0],\n",
       " [0, 10, 0],\n",
       " [1, 10, 0],\n",
       " [2, 10, 0],\n",
       " [3, 10, 0],\n",
       " [4, 10, 0],\n",
       " [5, 10, 0],\n",
       " [6, 10, 0],\n",
       " [7, 10, 0],\n",
       " [8, 10, 1],\n",
       " [9, 10, 0],\n",
       " [10, 10, 0],\n",
       " [11, 10, 0],\n",
       " [0, 11, 0],\n",
       " [1, 11, 0],\n",
       " [2, 11, 0],\n",
       " [3, 11, 0],\n",
       " [4, 11, 0],\n",
       " [5, 11, 0],\n",
       " [6, 11, 0],\n",
       " [7, 11, 1],\n",
       " [8, 11, 1],\n",
       " [9, 11, 0],\n",
       " [10, 11, 0],\n",
       " [11, 11, 0]]"
      ]
     },
     "execution_count": 108,
     "metadata": {},
     "output_type": "execute_result"
    }
   ],
   "source": [
    "for i in range(144):\n",
    "    x = int(i%12)\n",
    "    y = int(i/12)\n",
    "    test[i][2] = int(g[24][11-y][x]/15)\n",
    "test"
   ]
  },
  {
   "cell_type": "code",
   "execution_count": 109,
   "metadata": {},
   "outputs": [],
   "source": [
    "import h5py\n",
    "import os\n",
    "\n",
    "ground = h5py.File('../data/inte_g_12.h5', 'r')\n",
    "g_16 = ground['X']\n",
    "\n",
    "ele_zs = h5py.File('../data/inte_e_zs_12_new.h5', 'r')\n",
    "ezs_16 = ele_zs['X']\n",
    "\n",
    "ele_sd = h5py.File('../data/inte_e_sd_12_new.h5', 'r')\n",
    "esd_16 = ele_sd['X']"
   ]
  },
  {
   "cell_type": "code",
   "execution_count": 119,
   "metadata": {},
   "outputs": [
    {
     "name": "stdout",
     "output_type": "stream",
     "text": [
      "35.07862\n",
      "42.558018\n",
      "44.81725\n",
      "54.46221\n",
      "56.878838\n",
      "65.88496\n",
      "34.335552\n",
      "38.319126\n",
      "57.616875\n",
      "68.34187\n",
      "54.30753\n",
      "55.330887\n",
      "51.71542\n",
      "46.608326\n",
      "52.20375\n",
      "53.511562\n",
      "53.201332\n",
      "52.159763\n",
      "62.659626\n",
      "63.67333\n",
      "46.937935\n",
      "41.665375\n",
      "42.328327\n",
      "34.80249\n",
      "34.76465\n",
      "39.355446\n",
      "40.046303\n",
      "47.44465\n",
      "49.114807\n",
      "54.239525\n",
      "31.992388\n",
      "39.79779\n",
      "42.44012\n",
      "50.350677\n",
      "47.242546\n",
      "48.116055\n",
      "46.30312\n",
      "48.657177\n",
      "52.138577\n",
      "57.035095\n",
      "55.767807\n",
      "56.789173\n",
      "47.269066\n",
      "48.295647\n",
      "46.18914\n",
      "43.760197\n",
      "38.814163\n",
      "34.841175\n",
      "36.0747\n",
      "38.75842\n"
     ]
    }
   ],
   "source": [
    "for i in range(0,50) :\n",
    "    print(g_16[i].max())"
   ]
  },
  {
   "cell_type": "code",
   "execution_count": 120,
   "metadata": {},
   "outputs": [
    {
     "data": {
      "text/plain": [
       "[[0, 0, 0],\n",
       " [1, 0, 0],\n",
       " [2, 0, 0],\n",
       " [3, 0, 0],\n",
       " [4, 0, 2],\n",
       " [5, 0, 1],\n",
       " [6, 0, 0],\n",
       " [7, 0, 0],\n",
       " [8, 0, 1],\n",
       " [9, 0, 0],\n",
       " [10, 0, 0],\n",
       " [11, 0, 0],\n",
       " [12, 0, 0],\n",
       " [13, 0, 0],\n",
       " [14, 0, 2],\n",
       " [15, 0, 1],\n",
       " [0, 1, 0],\n",
       " [1, 1, 0],\n",
       " [2, 1, 0],\n",
       " [3, 1, 0],\n",
       " [4, 1, 0],\n",
       " [5, 1, 0],\n",
       " [6, 1, 0],\n",
       " [7, 1, 0],\n",
       " [8, 1, 0],\n",
       " [9, 1, 0],\n",
       " [10, 1, 0],\n",
       " [11, 1, 0],\n",
       " [12, 1, 0],\n",
       " [13, 1, 1],\n",
       " [14, 1, 2],\n",
       " [15, 1, 0],\n",
       " [0, 2, 1],\n",
       " [1, 2, 0],\n",
       " [2, 2, 0],\n",
       " [3, 2, 0],\n",
       " [4, 2, 0],\n",
       " [5, 2, 0],\n",
       " [6, 2, 0],\n",
       " [7, 2, 0],\n",
       " [8, 2, 0],\n",
       " [9, 2, 0],\n",
       " [10, 2, 0],\n",
       " [11, 2, 0],\n",
       " [12, 2, 0],\n",
       " [13, 2, 0],\n",
       " [14, 2, 0],\n",
       " [15, 2, 0],\n",
       " [0, 3, 1],\n",
       " [1, 3, 0],\n",
       " [2, 3, 0],\n",
       " [3, 3, 1],\n",
       " [4, 3, 2],\n",
       " [5, 3, 1],\n",
       " [6, 3, 1],\n",
       " [7, 3, 1],\n",
       " [8, 3, 1],\n",
       " [9, 3, 1],\n",
       " [10, 3, 0],\n",
       " [11, 3, 0],\n",
       " [12, 3, 0],\n",
       " [13, 3, 0],\n",
       " [14, 3, 0],\n",
       " [15, 3, 0],\n",
       " [0, 4, 0],\n",
       " [1, 4, 0],\n",
       " [2, 4, 0],\n",
       " [3, 4, 1],\n",
       " [4, 4, 2],\n",
       " [5, 4, 1],\n",
       " [6, 4, 0],\n",
       " [7, 4, 0],\n",
       " [8, 4, 1],\n",
       " [9, 4, 0],\n",
       " [10, 4, 0],\n",
       " [11, 4, 1],\n",
       " [12, 4, 0],\n",
       " [13, 4, 0],\n",
       " [14, 4, 0],\n",
       " [15, 4, 0],\n",
       " [0, 5, 0],\n",
       " [1, 5, 0],\n",
       " [2, 5, 1],\n",
       " [3, 5, 1],\n",
       " [4, 5, 1],\n",
       " [5, 5, 1],\n",
       " [6, 5, 1],\n",
       " [7, 5, 0],\n",
       " [8, 5, 1],\n",
       " [9, 5, 1],\n",
       " [10, 5, 1],\n",
       " [11, 5, 1],\n",
       " [12, 5, 0],\n",
       " [13, 5, 0],\n",
       " [14, 5, 0],\n",
       " [15, 5, 0],\n",
       " [0, 6, 0],\n",
       " [1, 6, 0],\n",
       " [2, 6, 1],\n",
       " [3, 6, 1],\n",
       " [4, 6, 2],\n",
       " [5, 6, 1],\n",
       " [6, 6, 1],\n",
       " [7, 6, 1],\n",
       " [8, 6, 1],\n",
       " [9, 6, 0],\n",
       " [10, 6, 0],\n",
       " [11, 6, 0],\n",
       " [12, 6, 0],\n",
       " [13, 6, 0],\n",
       " [14, 6, 0],\n",
       " [15, 6, 0],\n",
       " [0, 7, 0],\n",
       " [1, 7, 0],\n",
       " [2, 7, 0],\n",
       " [3, 7, 1],\n",
       " [4, 7, 2],\n",
       " [5, 7, 1],\n",
       " [6, 7, 1],\n",
       " [7, 7, 1],\n",
       " [8, 7, 1],\n",
       " [9, 7, 0],\n",
       " [10, 7, 0],\n",
       " [11, 7, 0],\n",
       " [12, 7, 0],\n",
       " [13, 7, 0],\n",
       " [14, 7, 0],\n",
       " [15, 7, 0],\n",
       " [0, 8, 0],\n",
       " [1, 8, 1],\n",
       " [2, 8, 2],\n",
       " [3, 8, 1],\n",
       " [4, 8, 0],\n",
       " [5, 8, 1],\n",
       " [6, 8, 2],\n",
       " [7, 8, 1],\n",
       " [8, 8, 1],\n",
       " [9, 8, 2],\n",
       " [10, 8, 1],\n",
       " [11, 8, 0],\n",
       " [12, 8, 0],\n",
       " [13, 8, 0],\n",
       " [14, 8, 0],\n",
       " [15, 8, 0],\n",
       " [0, 9, 0],\n",
       " [1, 9, 0],\n",
       " [2, 9, 1],\n",
       " [3, 9, 1],\n",
       " [4, 9, 0],\n",
       " [5, 9, 0],\n",
       " [6, 9, 0],\n",
       " [7, 9, 1],\n",
       " [8, 9, 1],\n",
       " [9, 9, 1],\n",
       " [10, 9, 0],\n",
       " [11, 9, 0],\n",
       " [12, 9, 0],\n",
       " [13, 9, 0],\n",
       " [14, 9, 0],\n",
       " [15, 9, 0],\n",
       " [0, 10, 0],\n",
       " [1, 10, 0],\n",
       " [2, 10, 0],\n",
       " [3, 10, 0],\n",
       " [4, 10, 0],\n",
       " [5, 10, 0],\n",
       " [6, 10, 2],\n",
       " [7, 10, 2],\n",
       " [8, 10, 1],\n",
       " [9, 10, 0],\n",
       " [10, 10, 0],\n",
       " [11, 10, 0],\n",
       " [12, 10, 0],\n",
       " [13, 10, 0],\n",
       " [14, 10, 0],\n",
       " [15, 10, 0],\n",
       " [0, 11, 0],\n",
       " [1, 11, 0],\n",
       " [2, 11, 0],\n",
       " [3, 11, 0],\n",
       " [4, 11, 0],\n",
       " [5, 11, 2],\n",
       " [6, 11, 4],\n",
       " [7, 11, 3],\n",
       " [8, 11, 0],\n",
       " [9, 11, 0],\n",
       " [10, 11, 1],\n",
       " [11, 11, 0],\n",
       " [12, 11, 0],\n",
       " [13, 11, 0],\n",
       " [14, 11, 0],\n",
       " [15, 11, 0],\n",
       " [0, 12, 0],\n",
       " [1, 12, 0],\n",
       " [2, 12, 0],\n",
       " [3, 12, 0],\n",
       " [4, 12, 0],\n",
       " [5, 12, 0],\n",
       " [6, 12, 0],\n",
       " [7, 12, 0],\n",
       " [8, 12, 0],\n",
       " [9, 12, 0],\n",
       " [10, 12, 0],\n",
       " [11, 12, 0],\n",
       " [12, 12, 0],\n",
       " [13, 12, 0],\n",
       " [14, 12, 0],\n",
       " [15, 12, 0],\n",
       " [0, 13, 0],\n",
       " [1, 13, 0],\n",
       " [2, 13, 0],\n",
       " [3, 13, 0],\n",
       " [4, 13, 0],\n",
       " [5, 13, 0],\n",
       " [6, 13, 0],\n",
       " [7, 13, 0],\n",
       " [8, 13, 0],\n",
       " [9, 13, 0],\n",
       " [10, 13, 0],\n",
       " [11, 13, 0],\n",
       " [12, 13, 0],\n",
       " [13, 13, 0],\n",
       " [14, 13, 0],\n",
       " [15, 13, 0],\n",
       " [0, 14, 0],\n",
       " [1, 14, 0],\n",
       " [2, 14, 0],\n",
       " [3, 14, 0],\n",
       " [4, 14, 0],\n",
       " [5, 14, 0],\n",
       " [6, 14, 0],\n",
       " [7, 14, 0],\n",
       " [8, 14, 0],\n",
       " [9, 14, 0],\n",
       " [10, 14, 1],\n",
       " [11, 14, 1],\n",
       " [12, 14, 0],\n",
       " [13, 14, 0],\n",
       " [14, 14, 0],\n",
       " [15, 14, 0],\n",
       " [0, 15, 0],\n",
       " [1, 15, 0],\n",
       " [2, 15, 0],\n",
       " [3, 15, 0],\n",
       " [4, 15, 0],\n",
       " [5, 15, 0],\n",
       " [6, 15, 0],\n",
       " [7, 15, 0],\n",
       " [8, 15, 0],\n",
       " [9, 15, 1],\n",
       " [10, 15, 2],\n",
       " [11, 15, 1],\n",
       " [12, 15, 0],\n",
       " [13, 15, 0],\n",
       " [14, 15, 0],\n",
       " [15, 15, 0]]"
      ]
     },
     "execution_count": 120,
     "metadata": {},
     "output_type": "execute_result"
    }
   ],
   "source": [
    "test_16 = []\n",
    "for i in range(0,length*length):    \n",
    "        test_16.append([0,0,0])\n",
    "\n",
    "length = 16\n",
    "for i in range(0,length*length):\n",
    "    x = int(i%length)\n",
    "    y = int(i/length) \n",
    "    \n",
    "    z = int(g_16[5][length-1-y][x]/15)\n",
    "    \n",
    "    test_16[i] = [x,y,z]\n",
    "test_16"
   ]
  },
  {
   "cell_type": "code",
   "execution_count": null,
   "metadata": {},
   "outputs": [],
   "source": []
  },
  {
   "cell_type": "markdown",
   "metadata": {},
   "source": [
    "# 春夏秋冬 四季 交通特征分布"
   ]
  },
  {
   "cell_type": "code",
   "execution_count": null,
   "metadata": {},
   "outputs": [],
   "source": []
  }
 ],
 "metadata": {
  "kernelspec": {
   "display_name": "Python 3",
   "language": "python",
   "name": "python3"
  },
  "language_info": {
   "codemirror_mode": {
    "name": "ipython",
    "version": 3
   },
   "file_extension": ".py",
   "mimetype": "text/x-python",
   "name": "python",
   "nbconvert_exporter": "python",
   "pygments_lexer": "ipython3",
   "version": "3.6.6"
  }
 },
 "nbformat": 4,
 "nbformat_minor": 2
}
