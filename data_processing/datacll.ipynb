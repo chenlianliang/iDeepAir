{
 "cells": [
  {
   "cell_type": "code",
   "execution_count": 1,
   "metadata": {},
   "outputs": [
    {
     "name": "stdout",
     "output_type": "stream",
     "text": [
      "<HDF5 dataset \"tra\": shape (5946, 24, 16, 16, 3), type \"<f4\"> <HDF5 dataset \"w\": shape (5946, 24, 3), type \"<f4\"> <HDF5 dataset \"wea\": shape (5946, 24, 5), type \"<f4\"> <HDF5 dataset \"sd\": shape (5946, 24, 54), type \"<f4\">\n"
     ]
    }
   ],
   "source": [
    "import h5py\n",
    "import os\n",
    "import pandas as pd\n",
    "import numpy as np\n",
    "import warnings\n",
    "warnings.filterwarnings(\"ignore\")\n",
    "# datacll = h5py.File('datacll.h5', 'r')\n",
    "# datacll = h5py.File('datacllyear.h5', 'r')\n",
    "# datacll = h5py.File('datacll17.552contribution11.h5', 'r')#251记录\n",
    "# datacll = h5py.File('datacll16.961goods.h5', 'r')#251记录#快速和地面相同\n",
    "# datacll = h5py.File('datacll17.257goods1.h5', 'r')#快速和地面相同\n",
    "datacll = h5py.File('datacll16.997goods3.h5', 'r')#交通相关性的空间模式\n",
    "# datacll = h5py.File('datacll17.326goods6.h5', 'r')\n",
    "# datacll = h5py.File('newdatacll17.026goods6.h5', 'r')\n",
    "# datacll = h5py.File('newdatacll17.064goods7.h5', 'r')\n",
    "# datacll = h5py.File('newdatacll16.961goods.h5', 'r')#快速和地面相同\n",
    "\n",
    "tra = datacll['tra']\n",
    "w=datacll['w']\n",
    "wea=datacll['wea']\n",
    "sd=datacll['sd']\n",
    "# tra=tra[o]\n",
    "print(tra,w,wea,sd)"
   ]
  },
  {
   "cell_type": "code",
   "execution_count": 76,
   "metadata": {},
   "outputs": [],
   "source": [
    "discfile = '../data/data_wea_time_unify.csv'\n",
    "\n",
    "\n",
    "data = pd.read_csv(discfile)\n",
    "\n",
    "futrue_time=24\n",
    "\n",
    "time_step=24\n",
    "\n",
    "\n",
    "for i in range(24,96):\n",
    "    data['PM25_m'+str(i)]=data['PM25_mean'].shift(-i)\n",
    "data=data.dropna(how='any')\n",
    "\n",
    "Index_data=data[['date', 'hour',  'week', 'season','PM25_1']]\n",
    "Index_data['index_']=range(5969)\n",
    "o=list(Index_data[Index_data.hour==0].index_)[:251]\n",
    "o0=list(Index_data[(Index_data.hour==0) & (Index_data.season==0)].index_)\n",
    "o1=list(Index_data[(Index_data.hour==0) & (Index_data.season==1)].index_)\n",
    "o2=list(Index_data[(Index_data.hour==0) & (Index_data.season==2)].index_)\n",
    "o3=list(Index_data[(Index_data.hour==0) & (Index_data.season==3)].index_)\n",
    "\n",
    "owork=list(Index_data[(Index_data.hour==0) & (Index_data.week<6)].index_)\n",
    "oweekend=list(Index_data[(Index_data.hour==0) & (Index_data.week>5)].index_)\n",
    "\n",
    "o00=list(Index_data[Index_data.season==0].index_)\n",
    "o11=list(Index_data[Index_data.season==1].index_)\n",
    "o22=list(Index_data[Index_data.season==2].index_)\n",
    "o33=list(Index_data[Index_data.season==3].index_)\n",
    "\n",
    "oowork=list(Index_data[Index_data.week<6].index_)\n",
    "ooweekend=list(Index_data[Index_data.week>5].index_)"
   ]
  },
  {
   "cell_type": "code",
   "execution_count": 584,
   "metadata": {},
   "outputs": [
    {
     "data": {
      "text/plain": [
       "array([  0.39874518,  26.97814941,   5.15413904], dtype=float32)"
      ]
     },
     "execution_count": 584,
     "metadata": {},
     "output_type": "execute_result"
    }
   ],
   "source": [
    "np.mean(np.mean(w,axis=0),axis=0)"
   ]
  },
  {
   "cell_type": "code",
   "execution_count": 585,
   "metadata": {},
   "outputs": [
    {
     "data": {
      "text/plain": [
       "array([-0.12129837,  0.62385917, -0.86560899, -0.34895122, -1.42216551], dtype=float32)"
      ]
     },
     "execution_count": 585,
     "metadata": {},
     "output_type": "execute_result"
    }
   ],
   "source": [
    "np.mean(np.mean(wea,axis=0),axis=0)"
   ]
  },
  {
   "cell_type": "code",
   "execution_count": 586,
   "metadata": {},
   "outputs": [],
   "source": [
    "co=['PM25_1', 'PM25_2', 'PM25_3', 'PM25_4', 'PM25_5', 'PM25_6', 'PM25_7',\n",
    "       'PM25_8', 'PM25_9', 'PM10_1', 'PM10_2', 'PM10_3', 'PM10_4', 'PM10_5',\n",
    "       'PM10_6', 'PM10_7', 'PM10_8', 'PM10_9', 'SO2_1', 'SO2_2', 'SO2_3',\n",
    "       'SO2_4', 'SO2_5', 'SO2_6', 'SO2_7', 'SO2_8', 'SO2_9', 'NO2_1', 'NO2_2',\n",
    "       'NO2_3', 'NO2_4', 'NO2_5', 'NO2_6', 'NO2_7', 'NO2_8', 'NO2_9', 'O3_1',\n",
    "       'O3_2', 'O3_3', 'O3_4', 'O3_5', 'O3_6', 'O3_7', 'O3_8', 'O3_9', 'CO_1',\n",
    "       'CO_2', 'CO_3', 'CO_4', 'CO_5', 'CO_6', 'CO_7', 'CO_8', 'CO_9']"
   ]
  },
  {
   "cell_type": "markdown",
   "metadata": {},
   "source": [
    "## 全年污染贡献值"
   ]
  },
  {
   "cell_type": "code",
   "execution_count": 85,
   "metadata": {},
   "outputs": [],
   "source": [
    "poll=[]"
   ]
  },
  {
   "cell_type": "code",
   "execution_count": 86,
   "metadata": {},
   "outputs": [],
   "source": [
    "poll.append(np.mean(np.mean(sd,axis=0),axis=0)[:9].mean())"
   ]
  },
  {
   "cell_type": "code",
   "execution_count": 8,
   "metadata": {},
   "outputs": [],
   "source": [
    "poll.append(np.mean(np.mean(sd,axis=0),axis=0)[9:18].mean())"
   ]
  },
  {
   "cell_type": "code",
   "execution_count": 9,
   "metadata": {},
   "outputs": [],
   "source": [
    "poll.append(np.mean(np.mean(sd,axis=0),axis=0)[18:27].mean())"
   ]
  },
  {
   "cell_type": "code",
   "execution_count": 10,
   "metadata": {},
   "outputs": [],
   "source": [
    "poll.append(np.mean(np.mean(sd,axis=0),axis=0)[27:36].mean())"
   ]
  },
  {
   "cell_type": "code",
   "execution_count": 12,
   "metadata": {},
   "outputs": [],
   "source": [
    "poll.append(np.mean(np.mean(sd,axis=0),axis=0)[36:45].mean())"
   ]
  },
  {
   "cell_type": "code",
   "execution_count": 13,
   "metadata": {},
   "outputs": [],
   "source": [
    "poll.append(np.mean(np.mean(sd,axis=0),axis=0)[45:54].mean())"
   ]
  },
  {
   "cell_type": "code",
   "execution_count": 87,
   "metadata": {},
   "outputs": [
    {
     "data": {
      "text/plain": [
       "[172.51683]"
      ]
     },
     "execution_count": 87,
     "metadata": {},
     "output_type": "execute_result"
    }
   ],
   "source": [
    "poll"
   ]
  },
  {
   "cell_type": "markdown",
   "metadata": {},
   "source": [
    "## 春天污染值"
   ]
  },
  {
   "cell_type": "code",
   "execution_count": 84,
   "metadata": {
    "collapsed": true
   },
   "outputs": [
    {
     "data": {
      "text/plain": [
       "array([[[ -2.34413742e+02,  -2.57391510e+02,  -2.34686676e+02, ...,\n",
       "          -2.54597504e+02,  -2.36006409e+02,  -2.60665161e+02],\n",
       "        [ -1.70686996e+02,  -1.79385880e+02,  -1.69561707e+02, ...,\n",
       "          -1.77360199e+02,  -1.71672012e+02,  -1.81437607e+02],\n",
       "        [ -3.11253448e+02,  -1.63941818e+02,  -3.09250000e+02, ...,\n",
       "          -1.65119003e+02,  -2.96578217e+02,  -1.68273788e+02],\n",
       "        ..., \n",
       "        [ -5.19716064e+02,  -4.47896545e+02,  -5.18088257e+02, ...,\n",
       "          -4.41031433e+02,  -5.10796021e+02,  -4.40895020e+02],\n",
       "        [ -5.61784790e+02,  -6.37085815e+02,  -5.64896484e+02, ...,\n",
       "          -6.29478027e+02,  -5.67145325e+02,  -6.22773804e+02],\n",
       "        [ -5.99647705e+02,  -9.95917297e+02,  -6.10427612e+02, ...,\n",
       "          -9.93629944e+02,  -6.25525024e+02,  -9.76816406e+02]],\n",
       "\n",
       "       [[ -3.53058777e+02,  -2.87481720e+02,  -3.50538239e+02, ...,\n",
       "          -2.83209167e+02,  -3.49756195e+02,  -2.93726288e+02],\n",
       "        [ -3.55335266e+02,  -2.15249802e+02,  -3.53394806e+02, ...,\n",
       "          -2.14037781e+02,  -3.51496002e+02,  -2.20914108e+02],\n",
       "        [ -4.88557465e+02,  -2.32968353e+02,  -4.85543488e+02, ...,\n",
       "          -2.34775925e+02,  -4.67545898e+02,  -2.41102066e+02],\n",
       "        ..., \n",
       "        [ -6.24598755e+02,  -5.03311401e+02,  -6.24724243e+02, ...,\n",
       "          -4.97020752e+02,  -6.23512939e+02,  -5.01388153e+02],\n",
       "        [ -9.89060059e+02,  -7.65691345e+02,  -9.93531799e+02, ...,\n",
       "          -7.61765686e+02,  -9.84116089e+02,  -7.63777893e+02],\n",
       "        [ -7.51957458e+02,  -1.14123730e+03,  -7.67025269e+02, ...,\n",
       "          -1.13923474e+03,  -8.01679321e+02,  -1.12745312e+03]],\n",
       "\n",
       "       [[ -7.68743713e+02,  -3.29359680e+02,  -7.65165771e+02, ...,\n",
       "          -3.31685181e+02,  -7.58461487e+02,  -3.33565125e+02],\n",
       "        [ -4.04358032e+02,  -2.38942215e+02,  -4.01955383e+02, ...,\n",
       "          -2.40049316e+02,  -3.94475525e+02,  -2.44545197e+02],\n",
       "        [  3.18486309e+01,  -1.17217720e+02,   2.98364067e+01, ...,\n",
       "          -1.12587524e+02,   1.78671360e+01,  -1.09784386e+02],\n",
       "        ..., \n",
       "        [ -4.71216553e+02,  -3.72596405e+02,  -4.74755280e+02, ...,\n",
       "          -3.76525787e+02,  -4.65298920e+02,  -3.67761780e+02],\n",
       "        [ -2.22800354e+02,  -7.10048462e+02,  -2.31080231e+02, ...,\n",
       "          -7.15807739e+02,  -2.56370239e+02,  -6.91952332e+02],\n",
       "        [ -8.52095581e+02,  -1.52609998e+03,  -4.05229553e+02, ...,\n",
       "          -1.63356165e+03,  -5.84096985e+02,  -1.62906714e+03]],\n",
       "\n",
       "       ..., \n",
       "       [[ -1.65420789e+03,  -1.88332306e+02,  -1.51043884e+03, ...,\n",
       "          -2.38871460e+01,  -1.33981567e+03,  -1.43283157e+02],\n",
       "        [  2.63558369e+01,   8.82992630e+01,   2.09946041e+01, ...,\n",
       "           7.25327377e+01,   2.10952053e+01,   6.72664261e+01],\n",
       "        [  1.37811737e+02,  -6.40918064e+00,   1.37935989e+02, ...,\n",
       "          -7.27531338e+00,   1.38849548e+02,  -7.39289761e+00],\n",
       "        ..., \n",
       "        [  4.31522064e+02,   2.03302872e+02,   4.35967072e+02, ...,\n",
       "           2.06472321e+02,   4.65785156e+02,   2.37547333e+02],\n",
       "        [  4.83718170e+02,   1.53965378e+02,   4.95793152e+02, ...,\n",
       "           1.72804611e+02,   5.32031494e+02,   2.15178711e+02],\n",
       "        [  8.04573486e+02,   1.46214432e+02,   8.04112061e+02, ...,\n",
       "           1.51639297e+02,   8.36733765e+02,   2.18278107e+02]],\n",
       "\n",
       "       [[ -5.82886292e+02,  -1.91097198e+02,  -5.70624695e+02, ...,\n",
       "          -1.83131470e+02,  -5.58494141e+02,  -2.06166550e+02],\n",
       "        [  1.74447937e+02,   1.46676073e+01,   1.48649063e+02, ...,\n",
       "          -2.74781857e+01,   1.27783463e+02,  -1.91651344e+01],\n",
       "        [ -3.20767598e+04,  -1.20761465e+04,  -3.07907773e+04, ...,\n",
       "          -9.83817969e+03,  -3.00269414e+04,  -1.08042734e+04],\n",
       "        ..., \n",
       "        [ -7.12070190e+02,   3.31323578e+02,  -7.17941345e+02, ...,\n",
       "           3.29390930e+02,  -6.44022949e+02,   3.70328278e+02],\n",
       "        [  2.05524746e+04,  -1.68794751e+03,   2.02437266e+04, ...,\n",
       "          -1.62628918e+03,   1.88163301e+04,  -1.26273389e+03],\n",
       "        [ -1.53767615e+03,   4.60745117e+02,  -1.53655603e+03, ...,\n",
       "           4.70376312e+02,  -1.39517273e+03,   5.42111084e+02]],\n",
       "\n",
       "       [[  4.33892578e+02,  -2.38825245e+01,   3.83236847e+02, ...,\n",
       "          -1.00227814e+02,   3.21296875e+02,  -7.39296417e+01],\n",
       "        [  3.11629353e+01,   5.81770477e+01,   8.07661629e+00, ...,\n",
       "           1.30064917e+01,  -1.74317646e+01,   1.66275558e+01],\n",
       "        [  8.52849731e+02,   4.88387238e+02,   8.15889099e+02, ...,\n",
       "           4.19294464e+02,   7.91450806e+02,   4.45069855e+02],\n",
       "        ..., \n",
       "        [ -6.42279297e+02,   3.86089661e+02,  -6.54820923e+02, ...,\n",
       "           3.75646790e+02,  -5.67530029e+02,   4.15054749e+02],\n",
       "        [ -1.94334033e+03,   3.60537750e+02,  -1.92961414e+03, ...,\n",
       "           3.79138733e+02,  -1.76164832e+03,   4.16720581e+02],\n",
       "        [ -1.98800684e+03,   4.48360352e+02,  -1.96762512e+03, ...,\n",
       "           4.87799194e+02,  -1.78994043e+03,   5.41088257e+02]]], dtype=float32)"
      ]
     },
     "execution_count": 84,
     "metadata": {},
     "output_type": "execute_result"
    }
   ],
   "source": [
    "sd[:]"
   ]
  },
  {
   "cell_type": "code",
   "execution_count": 81,
   "metadata": {
    "collapsed": true
   },
   "outputs": [
    {
     "data": {
      "text/plain": [
       "array([[[ -2.21567047e+02,  -1.74311996e+02,  -2.15349625e+02, ...,\n",
       "          -1.71552856e+02,  -2.14253281e+02,  -1.80628113e+02],\n",
       "        [ -1.17562759e+02,  -1.44354584e+02,   1.33607147e+02, ...,\n",
       "          -3.15534088e+02,   2.07576370e+02,  -2.47552048e+02],\n",
       "        [ -2.15196716e+02,  -2.06259384e+02,  -2.06556152e+02, ...,\n",
       "          -1.93178482e+02,  -2.02993515e+02,  -1.98991058e+02],\n",
       "        ..., \n",
       "        [ -9.21543518e+02,  -8.07275330e+02,  -8.79418884e+02, ...,\n",
       "          -7.58306335e+02,  -8.34412537e+02,  -7.84700867e+02],\n",
       "        [ -9.75507129e+03,  -1.24504968e+03,  -9.31495801e+03, ...,\n",
       "          -7.93119446e+02,  -8.36302539e+03,  -1.09227966e+03],\n",
       "        [ -2.29356226e+03,  -1.87891394e+03,  -2.17500342e+03, ...,\n",
       "          -1.73369934e+03,  -2.03545496e+03,  -1.81892175e+03]],\n",
       "\n",
       "       [[ -1.03143799e+02,  -1.00181007e+02,   1.64584198e+02, ...,\n",
       "          -3.63641174e+02,   2.75885376e+02,  -2.06985504e+02],\n",
       "        [ -7.37062134e+02,  -2.54896133e+02,  -7.04982300e+02, ...,\n",
       "          -2.10374924e+02,  -6.87981506e+02,  -2.34779739e+02],\n",
       "        [ -2.42681931e+02,  -1.54350174e+02,  -2.30112366e+02, ...,\n",
       "          -1.36230072e+02,  -2.23363159e+02,  -1.43969513e+02],\n",
       "        ..., \n",
       "        [ -8.71281006e+02,  -8.16801025e+02,  -8.24842102e+02, ...,\n",
       "          -7.56515381e+02,  -7.84917847e+02,  -7.86258911e+02],\n",
       "        [ -2.15770312e+03,  -1.18009363e+03,  -2.06548413e+03, ...,\n",
       "          -1.07475684e+03,  -1.90116943e+03,  -1.13452271e+03],\n",
       "        [ -3.67086426e+03,  -1.80330042e+03,  -3.61449023e+03, ...,\n",
       "          -1.76852771e+03,  -3.41051343e+03,  -1.80569250e+03]],\n",
       "\n",
       "       [[ -4.97547760e+02,  -4.55150024e+02,  -4.79975677e+02, ...,\n",
       "          -4.35384644e+02,  -4.75486725e+02,  -4.50601440e+02],\n",
       "        [ -3.36669556e+02,  -2.33200424e+02,  -3.22964844e+02, ...,\n",
       "          -2.18774261e+02,  -3.18001221e+02,  -2.28865540e+02],\n",
       "        [ -1.67587631e+02,  -1.99040695e+02,  -1.58958145e+02, ...,\n",
       "          -1.89836441e+02,  -1.53823318e+02,  -1.94627396e+02],\n",
       "        ..., \n",
       "        [ -1.16206750e+03,  -1.07333948e+03,  -1.11191248e+03, ...,\n",
       "          -1.01397070e+03,  -1.07184473e+03,  -1.04411926e+03],\n",
       "        [ -2.12076709e+03,  -1.66151587e+03,  -2.08308643e+03, ...,\n",
       "          -1.63668628e+03,  -1.99990833e+03,  -1.65889307e+03],\n",
       "        [ -3.28480469e+03,  -2.38926465e+03,  -3.22037427e+03, ...,\n",
       "          -2.33366919e+03,  -3.10537012e+03,  -2.37754028e+03]],\n",
       "\n",
       "       ..., \n",
       "       [[  1.99228226e+02,  -1.87163563e+01,   1.84145462e+02, ...,\n",
       "          -2.09840279e+01,   1.79131943e+02,  -2.02965474e+00],\n",
       "        [ -1.49192261e+03,  -3.64076294e+02,  -1.36423169e+03, ...,\n",
       "          -2.00419373e+02,  -1.23444885e+03,  -2.82008240e+02],\n",
       "        [ -3.60048309e+02,  -1.59634781e+02,  -3.62657166e+02, ...,\n",
       "          -1.60811722e+02,  -3.55371735e+02,  -1.45316391e+02],\n",
       "        ..., \n",
       "        [  2.22673309e+02,   1.81380234e+02,   2.03115356e+02, ...,\n",
       "           1.86117859e+02,   1.69115479e+02,   1.93980377e+02],\n",
       "        [ -5.07439270e+02,   2.82691132e+02,  -5.28363159e+02, ...,\n",
       "           2.89920624e+02,  -5.41911499e+02,   2.90770386e+02],\n",
       "        [ -2.07428391e+02,   2.81066650e+02,  -2.35770828e+02, ...,\n",
       "           2.82137817e+02,  -2.80318848e+02,   3.09819366e+02]],\n",
       "\n",
       "       [[ -1.30675940e+03,  -6.39693359e+02,  -1.18065320e+03, ...,\n",
       "          -4.74002625e+02,  -1.09064819e+03,  -5.51155762e+02],\n",
       "        [  3.06269824e+03,   4.90254669e+01,   2.92178638e+03, ...,\n",
       "          -9.31075134e+01,   2.74000244e+03,   2.13961620e+01],\n",
       "        [ -1.07185632e+03,  -3.50465881e+02,  -1.06728027e+03, ...,\n",
       "          -3.47456696e+02,  -1.03481006e+03,  -3.45376923e+02],\n",
       "        ..., \n",
       "        [ -1.20700085e+03,   2.80832245e+02,  -1.22857349e+03, ...,\n",
       "           2.85531982e+02,  -1.18627466e+03,   2.74971954e+02],\n",
       "        [ -1.23578589e+03,   3.43085052e+02,  -1.26431470e+03, ...,\n",
       "           3.57379150e+02,  -1.25856091e+03,   3.40710815e+02],\n",
       "        [ -1.78020276e+03,   7.17392029e+02,  -1.81858374e+03, ...,\n",
       "           7.05267944e+02,  -1.75679517e+03,   7.15539856e+02]],\n",
       "\n",
       "       [[  1.61625625e+04,   1.78554260e+03,   1.54533477e+04, ...,\n",
       "           1.01809296e+03,   1.45548633e+04,   1.53986902e+03],\n",
       "        [ -2.89371643e+01,  -3.67244141e+02,  -4.13813744e+01, ...,\n",
       "          -3.69776520e+02,  -6.10211411e+01,  -3.53244080e+02],\n",
       "        [ -3.84656219e+02,  -2.93468719e+02,  -3.19750397e+02, ...,\n",
       "          -2.39182159e+02,  -3.66462799e+02,  -2.84788788e+02],\n",
       "        ..., \n",
       "        [  3.64572803e+03,  -1.07681396e+03,   3.60020312e+03, ...,\n",
       "          -1.05102783e+03,   3.38082812e+03,  -1.02820386e+03],\n",
       "        [ -1.63426147e+03,   4.36343323e+02,  -1.67317346e+03, ...,\n",
       "           4.35525696e+02,  -1.63836108e+03,   4.25634521e+02],\n",
       "        [ -2.06426147e+03,   5.71336365e+02,  -2.38168872e+03, ...,\n",
       "           1.75074799e+02,  -2.54301685e+03,   4.01070679e+02]]], dtype=float32)"
      ]
     },
     "execution_count": 81,
     "metadata": {},
     "output_type": "execute_result"
    }
   ],
   "source": [
    "sd[o22[:900]]"
   ]
  },
  {
   "cell_type": "code",
   "execution_count": 213,
   "metadata": {},
   "outputs": [],
   "source": [
    "# sd_spring=sd[4965:]\n",
    "# sd_spring=sd[:1347]\n",
    "# sd_spring=sd[1348:2691]\n",
    "# sd_spring=sd[2692:4964]\n",
    "sd_spring=sd"
   ]
  },
  {
   "cell_type": "code",
   "execution_count": null,
   "metadata": {},
   "outputs": [],
   "source": []
  },
  {
   "cell_type": "code",
   "execution_count": 214,
   "metadata": {},
   "outputs": [],
   "source": [
    "poll_spring=[]"
   ]
  },
  {
   "cell_type": "code",
   "execution_count": 215,
   "metadata": {},
   "outputs": [],
   "source": [
    "poll_spring.append(np.mean(np.mean(sd_spring,axis=0),axis=0)[:9].mean())"
   ]
  },
  {
   "cell_type": "code",
   "execution_count": 216,
   "metadata": {},
   "outputs": [],
   "source": [
    "poll_spring.append(np.mean(np.mean(sd_spring,axis=0),axis=0)[9:18].mean())"
   ]
  },
  {
   "cell_type": "code",
   "execution_count": 217,
   "metadata": {},
   "outputs": [],
   "source": [
    "poll_spring.append(np.mean(np.mean(sd_spring,axis=0),axis=0)[18:27].mean())"
   ]
  },
  {
   "cell_type": "code",
   "execution_count": 218,
   "metadata": {},
   "outputs": [],
   "source": [
    "poll_spring.append(np.mean(np.mean(sd_spring,axis=0),axis=0)[27:36].mean())"
   ]
  },
  {
   "cell_type": "code",
   "execution_count": 219,
   "metadata": {},
   "outputs": [],
   "source": [
    "poll_spring.append(np.mean(np.mean(sd_spring,axis=0),axis=0)[36:45].mean())"
   ]
  },
  {
   "cell_type": "code",
   "execution_count": 220,
   "metadata": {},
   "outputs": [],
   "source": [
    "poll_spring.append(np.mean(np.mean(sd_spring,axis=0),axis=0)[45:54].mean())"
   ]
  },
  {
   "cell_type": "code",
   "execution_count": 221,
   "metadata": {},
   "outputs": [
    {
     "data": {
      "text/plain": [
       "[172.51683, 64.98243, 103.43868, 109.38059, 65.59903, 80.467613]"
      ]
     },
     "execution_count": 221,
     "metadata": {},
     "output_type": "execute_result"
    }
   ],
   "source": [
    "poll_spring"
   ]
  },
  {
   "cell_type": "code",
   "execution_count": 178,
   "metadata": {},
   "outputs": [
    {
     "data": {
      "text/plain": [
       "[135.3703, -39.299259, 30.228933, 30.470055, -30.765293, -2.1116519]"
      ]
     },
     "execution_count": 178,
     "metadata": {},
     "output_type": "execute_result"
    }
   ],
   "source": [
    "poll_spring"
   ]
  },
  {
   "cell_type": "code",
   "execution_count": 169,
   "metadata": {},
   "outputs": [
    {
     "data": {
      "text/plain": [
       "[-259.20917, -129.42029, -179.15094, -164.32086, -127.70801, -156.53468]"
      ]
     },
     "execution_count": 169,
     "metadata": {},
     "output_type": "execute_result"
    }
   ],
   "source": [
    "poll_spring"
   ]
  },
  {
   "cell_type": "code",
   "execution_count": 160,
   "metadata": {},
   "outputs": [
    {
     "data": {
      "text/plain": [
       "[-123.01325, -187.88307, -175.88484, -151.24913, -189.17653, -186.32593]"
      ]
     },
     "execution_count": 160,
     "metadata": {},
     "output_type": "execute_result"
    }
   ],
   "source": [
    "poll_spring"
   ]
  },
  {
   "cell_type": "code",
   "execution_count": 222,
   "metadata": {},
   "outputs": [],
   "source": [
    "poll=[172.51683, 64.98243, 103.43868, 109.38059, 65.59903, 80.467613,-123.01325, -187.88307, -175.88484, -151.24913, -189.17653, -186.32593, -259.20917, -129.42029, -179.15094, -164.32086, -127.70801, -156.53468,\n",
    "     135.3703, -39.299259, 30.228933, 30.470055, -30.765293, -2.1116519,578.36664, 351.18527, 435.0466, 430.99402, 347.31302, 385.17004]"
   ]
  },
  {
   "cell_type": "code",
   "execution_count": 223,
   "metadata": {},
   "outputs": [
    {
     "data": {
      "text/plain": [
       "array([ 0.51544707,  0.38705941,  0.43297317,  0.44006734,  0.38779558,\n",
       "        0.40554751,  0.16260727,  0.08515778,  0.09948273,  0.12889584,\n",
       "        0.08361349,  0.08701689,  0.        ,  0.15495777,  0.09558326,\n",
       "        0.11328922,  0.1570021 ,  0.12258531,  0.47109702,  0.26255523,\n",
       "        0.34556645,  0.34585434,  0.27274412,  0.30695433,  1.        ,\n",
       "        0.72876321,  0.82888708,  0.82404862,  0.72414005,  0.76933837])"
      ]
     },
     "execution_count": 223,
     "metadata": {},
     "output_type": "execute_result"
    }
   ],
   "source": [
    "(poll-np.min(poll))/(np.max(poll)-np.min(poll))"
   ]
  },
  {
   "cell_type": "code",
   "execution_count": 224,
   "metadata": {},
   "outputs": [
    {
     "data": {
      "text/plain": [
       "0.38705941137435668"
      ]
     },
     "execution_count": 224,
     "metadata": {},
     "output_type": "execute_result"
    }
   ],
   "source": [
    "(64.98243-np.min(poll))/(np.max(poll)-np.min(poll))"
   ]
  },
  {
   "cell_type": "code",
   "execution_count": 14,
   "metadata": {},
   "outputs": [
    {
     "data": {
      "text/plain": [
       "3.1111891"
      ]
     },
     "execution_count": 14,
     "metadata": {},
     "output_type": "execute_result"
    }
   ],
   "source": [
    "np.sum(np.mean(np.mean(tra,axis=0),axis=0).T[0])"
   ]
  },
  {
   "cell_type": "code",
   "execution_count": 15,
   "metadata": {},
   "outputs": [
    {
     "data": {
      "text/plain": [
       "2.9592922"
      ]
     },
     "execution_count": 15,
     "metadata": {},
     "output_type": "execute_result"
    }
   ],
   "source": [
    "np.sum(np.mean(np.mean(tra,axis=0),axis=0).T[1])"
   ]
  },
  {
   "cell_type": "code",
   "execution_count": 16,
   "metadata": {},
   "outputs": [
    {
     "data": {
      "text/plain": [
       "3.268316"
      ]
     },
     "execution_count": 16,
     "metadata": {},
     "output_type": "execute_result"
    }
   ],
   "source": [
    "np.sum(np.mean(np.mean(tra,axis=0),axis=0).T[2])"
   ]
  },
  {
   "cell_type": "code",
   "execution_count": 196,
   "metadata": {},
   "outputs": [
    {
     "name": "stdout",
     "output_type": "stream",
     "text": [
      "<HDF5 dataset \"tra\": shape (5946, 24, 16, 16, 3), type \"<f4\"> <HDF5 dataset \"w\": shape (5946, 24, 3), type \"<f4\"> <HDF5 dataset \"wea\": shape (5946, 24, 5), type \"<f4\"> <HDF5 dataset \"sd\": shape (5946, 24, 54), type \"<f4\">\n"
     ]
    }
   ],
   "source": [
    "import h5py\n",
    "import os\n",
    "import pandas as pd\n",
    "import numpy as np\n",
    "import warnings\n",
    "warnings.filterwarnings(\"ignore\")\n",
    "# datacll = h5py.File('datacll.h5', 'r')#251记录\n",
    "# datacll = h5py.File('datacllyear.h5', 'r')\n",
    "# datacll = h5py.File('datacll17.552contribution11.h5', 'r')#251记录\n",
    "# datacll = h5py.File('datacll16.961goods.h5', 'r')#251记录#快速和地面相同\n",
    "# datacll = h5py.File('datacll17.257goods1.h5', 'r')#快速和地面相同\n",
    "# datacll = h5py.File('datacll16.997goods3.h5', 'r')#交通相关性的空间模式\n",
    "# datacll = h5py.File('datacll17.326goods6.h5', 'r')#快速和地面相同\n",
    "# datacll = h5py.File('newdatacll17.026goods6.h5', 'r')\n",
    "# datacll = h5py.File('newdatacll17.064goods7.h5', 'r')\n",
    "datacll = h5py.File('newdatacll16.961goods.h5', 'r')#快速和地面相同\n",
    "# datacll = h5py.File('newdatacll17.193goods.h5', 'r')#快速和地面相同\n",
    "# datacll = h5py.File('newdatacll17.257goods.h5', 'r')#快速和地面相同\n",
    "# datacll = h5py.File('newdatacll17.35goods.h5', 'r')#快速和地面相同\n",
    "\n",
    "\n",
    "tra = datacll['tra']\n",
    "w=datacll['w']\n",
    "wea=datacll['wea']\n",
    "sd=datacll['sd']\n",
    "\n",
    "print(tra,w,wea,sd)"
   ]
  },
  {
   "cell_type": "code",
   "execution_count": 197,
   "metadata": {},
   "outputs": [],
   "source": [
    "# tra=tra[o[:-1]]\n",
    "# tra=tra[ooweekend[:1700]]\n",
    "# tra=tra[oowork]\n",
    "tra=tra[oweekend[:-1]]\n",
    "# tra=tra[owork]\n",
    "\n",
    "# tra=tra[o00[:900]]\n",
    "# tra=tra[o11[:-1]]\n",
    "# tra=tra[o22[:-1]]\n",
    "# tra=tra[o33[:-1]]\n",
    "# tra=tra[o0[:-1]]\n",
    "# tra=tra[o1[:-1]]\n",
    "# tra=tra[o2[:-1]]\n",
    "# tra=tra[o3[:-1]]\n",
    "\n",
    "tra=(np.array(tra).swapaxes(3,4))\n",
    "tra=(np.array(tra).swapaxes(2,3))\n",
    "\n",
    "# tra1=np.mean(tra[owork],axis=0)\n",
    "tra1=np.mean(tra,axis=0)\n",
    "tra2=tra1.swapaxes(0,1)\n",
    "\n",
    "ezs=tra2[0]\n",
    "gzs=tra2[2]\n",
    "\n",
    "g=[]\n",
    "for i in range(24):\n",
    "#     g.append(np.mean(gzs[i]))\n",
    "    g.append((pd.DataFrame(gzs[i])).sem()[0])\n",
    "e=[]\n",
    "for i in range(24):\n",
    "    e.append(np.mean(ezs[i]))\n",
    "    \n",
    "gg=(g-np.min(g))/(np.max(g)-np.min(g))\n",
    "ee=(e-np.min(e))/(np.max(e)-np.min(e))\n",
    "\n",
    "g1=(g)/np.max(np.abs(g))\n",
    "e1=(e)/np.max(np.abs(e))"
   ]
  },
  {
   "cell_type": "code",
   "execution_count": 192,
   "metadata": {},
   "outputs": [],
   "source": [
    "newe0=e\n",
    "newg0=g"
   ]
  },
  {
   "cell_type": "code",
   "execution_count": 195,
   "metadata": {},
   "outputs": [],
   "source": [
    "newe1=e\n",
    "newg1=g"
   ]
  },
  {
   "cell_type": "code",
   "execution_count": 198,
   "metadata": {},
   "outputs": [],
   "source": [
    "newg2=g\n",
    "newe2=e"
   ]
  },
  {
   "cell_type": "code",
   "execution_count": 199,
   "metadata": {},
   "outputs": [],
   "source": [
    "newg3=g\n",
    "newe3=e"
   ]
  },
  {
   "cell_type": "code",
   "execution_count": 200,
   "metadata": {},
   "outputs": [],
   "source": [
    "newg=[newg0,newg1,newg2,newg3]\n",
    "newe=[newe0,newe1,newe2,newe3]"
   ]
  },
  {
   "cell_type": "code",
   "execution_count": 201,
   "metadata": {},
   "outputs": [],
   "source": [
    "newgg0=(newg[0]-np.min(newg))/(np.max(newg)-np.min(newg))\n",
    "newee0=(newe[0]-np.min(newe))/(np.max(newe)-np.min(newe))"
   ]
  },
  {
   "cell_type": "code",
   "execution_count": 202,
   "metadata": {},
   "outputs": [],
   "source": [
    "newgg1=(newg[1]-np.min(newg))/(np.max(newg)-np.min(newg))\n",
    "newee1=(newe[1]-np.min(newe))/(np.max(newe)-np.min(newe))"
   ]
  },
  {
   "cell_type": "code",
   "execution_count": 203,
   "metadata": {},
   "outputs": [],
   "source": [
    "newgg2=(newg[2]-np.min(newg))/(np.max(newg)-np.min(newg))\n",
    "newee2=(newe[2]-np.min(newe))/(np.max(newe)-np.min(newe))"
   ]
  },
  {
   "cell_type": "code",
   "execution_count": 186,
   "metadata": {},
   "outputs": [],
   "source": [
    "newgg3=(newg[3]-np.min(newg))/(np.max(newg)-np.min(newg))\n",
    "newee3=(newe[3]-np.min(newe))/(np.max(newe)-np.min(newe))"
   ]
  },
  {
   "cell_type": "code",
   "execution_count": 205,
   "metadata": {},
   "outputs": [
    {
     "data": {
      "text/plain": [
       "array([  0.00000000e+00,   3.33892131e-05,   3.27399932e-04,\n",
       "         3.54190590e-04,   4.35982947e-04,   5.04850395e-05,\n",
       "         1.13013029e-01,   7.23179758e-01,   6.21395744e-03,\n",
       "         2.20893952e-03,   7.11058616e-04,   6.76138879e-05,\n",
       "         1.98658934e-04,   6.67573360e-04,   3.53452080e-04,\n",
       "         8.20033951e-04,   6.32525247e-04,   2.15224409e-03,\n",
       "         5.23648504e-03,   1.12191793e-02,   9.33161750e-03,\n",
       "         2.82150460e-03,   1.26917288e-03,   8.57919877e-05], dtype=float32)"
      ]
     },
     "execution_count": 205,
     "metadata": {},
     "output_type": "execute_result"
    }
   ],
   "source": [
    "newgg2"
   ]
  },
  {
   "cell_type": "code",
   "execution_count": 188,
   "metadata": {},
   "outputs": [
    {
     "data": {
      "text/plain": [
       "array([ 0.06963471,  0.07136395,  0.09412584,  0.09692161,  0.36335963,\n",
       "        0.08187782,  0.09439644,  0.17023645,  1.        ,  0.13039103,\n",
       "        0.07167327,  0.070939  ,  0.07426543,  0.05559234,  0.04984205,\n",
       "        0.0410682 ,  0.08429515,  0.13307597,  0.18252364,  0.0681407 ,\n",
       "        0.06250607,  0.07501029,  0.07171362,  0.0724541 ], dtype=float32)"
      ]
     },
     "execution_count": 188,
     "metadata": {},
     "output_type": "execute_result"
    }
   ],
   "source": [
    "newgg0"
   ]
  },
  {
   "cell_type": "code",
   "execution_count": null,
   "metadata": {},
   "outputs": [],
   "source": []
  },
  {
   "cell_type": "code",
   "execution_count": null,
   "metadata": {},
   "outputs": [],
   "source": []
  },
  {
   "cell_type": "code",
   "execution_count": 189,
   "metadata": {
    "scrolled": true
   },
   "outputs": [
    {
     "data": {
      "image/png": "[encoded data removed]",
      "text/plain": [
       "<Figure size 576x432 with 1 Axes>"
      ]
     },
     "metadata": {
      "needs_background": "light"
     },
     "output_type": "display_data"
    }
   ],
   "source": [
    "# -*- coding: utf-8 -*-\n",
    "'''\n",
    "@author: chenry\n",
    "# E2.eps\n",
    "# exp2\n",
    "'''\n",
    "import os\n",
    "import os.path\n",
    "import numpy\n",
    "import math\n",
    "import numpy as np\n",
    "import pandas as pd\n",
    "import matplotlib.pyplot as plt\n",
    "import matplotlib.font_manager as mf\n",
    "import sys\n",
    "if __name__ == '__main__':\n",
    "    miu = newgg0\n",
    "    work_miu=newgg1\n",
    "    weekendday_miu=newgg2\n",
    "#      miu = [ 0.09344919,  0.09348173,  0.09330777,  0.09336609,  0.09143731,\n",
    "#         0.09280618,  0.11962935,  0.36239427,  0.09294083,  0.09136457,\n",
    "#         0.09448461,  0.09352438,  0.09331369,  0.10953544,  0.08760582,\n",
    "#         0.08466105,  0.08999407,  0.35377049,  0.02802631,  0.08518189,\n",
    "#         0.1009826 ,  0.09168388,  0.07958551,  0.09534284]\n",
    "#     work_miu=[ 0.09344741,  0.09350858,  0.09339973,  0.09317937,  0.09043253,\n",
    "#         0.09250604,  0.09130256,  0.1044248 ,  0.08956358,  0.09142741,\n",
    "#         0.09531932,  0.0936128 ,  0.09341593,  0.11554618,  0.08548725,\n",
    "#         0.08144788,  0.08898582,  0.4581753 ,  0.        ,  0.07720274,\n",
    "#         0.0988128 ,  0.09259891,  0.07335556,  0.09611826]\n",
    "#     weekendday_miu=[ 0.09345378,  0.09341468,  0.0930812 ,  0.09383176,  0.09396333,\n",
    "#         0.09356162,  0.18968928,  1.        ,  0.1013483 ,  0.09123658,\n",
    "#         0.09239364,  0.09330403,  0.09306083,  0.09436986,  0.09295963,\n",
    "#         0.09278128,  0.09254958,  0.09059294,  0.09861512,  0.10513382,\n",
    "#         0.10627148,  0.08943179,  0.09526137,  0.09339146]\n",
    "    #\n",
    "    labels = ['spring', 'summer', 'autumn', 'winter']\n",
    "    colors = ['navy', 'darkorange', 'yellowgreen', 'darkred']\n",
    "    markers = ['*', 'D', 's', 'o']\n",
    "    linestyles = ['dashed', '--', '-', ':']\n",
    "    x = range(24)\n",
    "    fig, ax = plt.subplots(figsize=(8, 6))\n",
    "    lines = []\n",
    "    l, e, b = ax.errorbar(x, work_miu, marker=markers[2],label=u'Work', markersize=8, color=colors[3],  ls=linestyles[2], linewidth = 3)\n",
    "    le, ee, be = ax.errorbar(x, weekendday_miu, marker=markers[0],label=u'Weekend', markersize=8, color=colors[1], ls=linestyles[0], linewidth=3)\n",
    "    lle, lee, lbe = ax.errorbar(x, miu, marker=markers[3],label=u'All', markersize=8, color=colors[2], ls=linestyles[3], linewidth=3)\n",
    "    fontsize = 15\n",
    "    plt.legend(loc='upper left',prop={'size': 18})  # 让图例生效\n",
    "    plt.xticks(range(0,24), weight='bold', fontsize = 13)\n",
    "    ax.set_xlim(-1, 24)\n",
    "    plt.yticks(np.arange(0, 1.1, 0.1), weight='bold', fontsize = 13)\n",
    "    ax.set_ylim(0, 1)\n",
    "    pr = mf.FontProperties(weight='bold', size=fontsize)\n",
    "    ax.set_xlabel(u\"Time [h]\", fontsize=fontsize, weight='bold')\n",
    "    ax.set_ylabel(u'Relevance', fontsize=fontsize, weight='bold')\n",
    "    plt.grid(linestyle='--', linewidth=0.5, alpha=0.6)\n",
    "    plt.show()\n",
    "\n"
   ]
  },
  {
   "cell_type": "code",
   "execution_count": 22,
   "metadata": {},
   "outputs": [],
   "source": [
    "%matplotlib inline"
   ]
  },
  {
   "cell_type": "code",
   "execution_count": 67,
   "metadata": {},
   "outputs": [
    {
     "ename": "ValueError",
     "evalue": "x and y must have same first dimension, but have shapes (24,) and (0,)",
     "output_type": "error",
     "traceback": [
      "\u001b[1;31m---------------------------------------------------------------------------\u001b[0m",
      "\u001b[1;31mValueError\u001b[0m                                Traceback (most recent call last)",
      "\u001b[1;32m<ipython-input-67-b4de315c1a8d>\u001b[0m in \u001b[0;36m<module>\u001b[1;34m()\u001b[0m\n\u001b[0;32m     13\u001b[0m \u001b[1;31m# axs0=plt.subplot(221)\u001b[0m\u001b[1;33m\u001b[0m\u001b[1;33m\u001b[0m\u001b[0m\n\u001b[0;32m     14\u001b[0m \u001b[0mplt\u001b[0m\u001b[1;33m.\u001b[0m\u001b[0mplot\u001b[0m\u001b[1;33m(\u001b[0m\u001b[0mx\u001b[0m\u001b[1;33m,\u001b[0m \u001b[0mgg\u001b[0m\u001b[1;33m,\u001b[0m \u001b[0mmarker\u001b[0m\u001b[1;33m=\u001b[0m\u001b[1;34m'o'\u001b[0m\u001b[1;33m,\u001b[0m \u001b[0mmec\u001b[0m\u001b[1;33m=\u001b[0m\u001b[1;34m'r'\u001b[0m\u001b[1;33m,\u001b[0m\u001b[0mcolor\u001b[0m\u001b[1;33m=\u001b[0m\u001b[1;34m'r'\u001b[0m\u001b[1;33m,\u001b[0m\u001b[0mmfc\u001b[0m\u001b[1;33m=\u001b[0m\u001b[1;34m'w'\u001b[0m\u001b[1;33m,\u001b[0m\u001b[0mlinewidth\u001b[0m \u001b[1;33m=\u001b[0m \u001b[1;36m1.5\u001b[0m\u001b[1;33m,\u001b[0m \u001b[0mmarkersize\u001b[0m\u001b[1;33m=\u001b[0m\u001b[1;36m3\u001b[0m\u001b[1;33m)\u001b[0m\u001b[1;33m\u001b[0m\u001b[0m\n\u001b[1;32m---> 15\u001b[1;33m \u001b[0mplt\u001b[0m\u001b[1;33m.\u001b[0m\u001b[0mplot\u001b[0m\u001b[1;33m(\u001b[0m\u001b[0mx\u001b[0m\u001b[1;33m,\u001b[0m \u001b[0mee\u001b[0m\u001b[1;33m,\u001b[0m \u001b[0mmarker\u001b[0m\u001b[1;33m=\u001b[0m\u001b[1;34m'o'\u001b[0m\u001b[1;33m,\u001b[0m \u001b[0mmec\u001b[0m\u001b[1;33m=\u001b[0m\u001b[1;34m'c'\u001b[0m\u001b[1;33m,\u001b[0m\u001b[0mcolor\u001b[0m\u001b[1;33m=\u001b[0m\u001b[1;34m'c'\u001b[0m\u001b[1;33m,\u001b[0m\u001b[0mmfc\u001b[0m\u001b[1;33m=\u001b[0m\u001b[1;34m'w'\u001b[0m\u001b[1;33m,\u001b[0m\u001b[0mlinewidth\u001b[0m \u001b[1;33m=\u001b[0m \u001b[1;36m1.5\u001b[0m\u001b[1;33m,\u001b[0m \u001b[0mmarkersize\u001b[0m\u001b[1;33m=\u001b[0m\u001b[1;36m3\u001b[0m\u001b[1;33m)\u001b[0m\u001b[1;33m\u001b[0m\u001b[0m\n\u001b[0m\u001b[0;32m     16\u001b[0m \u001b[1;33m\u001b[0m\u001b[0m\n\u001b[0;32m     17\u001b[0m \u001b[1;31m# plt.rcParams['axes.facecolor']='r'\u001b[0m\u001b[1;33m\u001b[0m\u001b[1;33m\u001b[0m\u001b[0m\n",
      "\u001b[1;32mD:\\Program Files (x86)\\Anaconda3\\envs\\tensorflow\\lib\\site-packages\\matplotlib\\pyplot.py\u001b[0m in \u001b[0;36mplot\u001b[1;34m(scalex, scaley, data, *args, **kwargs)\u001b[0m\n\u001b[0;32m   2809\u001b[0m     return gca().plot(\n\u001b[0;32m   2810\u001b[0m         *args, scalex=scalex, scaley=scaley, **({\"data\": data} if data\n\u001b[1;32m-> 2811\u001b[1;33m         is not None else {}), **kwargs)\n\u001b[0m\u001b[0;32m   2812\u001b[0m \u001b[1;33m\u001b[0m\u001b[0m\n\u001b[0;32m   2813\u001b[0m \u001b[1;33m\u001b[0m\u001b[0m\n",
      "\u001b[1;32mD:\\Program Files (x86)\\Anaconda3\\envs\\tensorflow\\lib\\site-packages\\matplotlib\\__init__.py\u001b[0m in \u001b[0;36minner\u001b[1;34m(ax, data, *args, **kwargs)\u001b[0m\n\u001b[0;32m   1808\u001b[0m                         \u001b[1;34m\"the Matplotlib list!)\"\u001b[0m \u001b[1;33m%\u001b[0m \u001b[1;33m(\u001b[0m\u001b[0mlabel_namer\u001b[0m\u001b[1;33m,\u001b[0m \u001b[0mfunc\u001b[0m\u001b[1;33m.\u001b[0m\u001b[0m__name__\u001b[0m\u001b[1;33m)\u001b[0m\u001b[1;33m,\u001b[0m\u001b[1;33m\u001b[0m\u001b[0m\n\u001b[0;32m   1809\u001b[0m                         RuntimeWarning, stacklevel=2)\n\u001b[1;32m-> 1810\u001b[1;33m             \u001b[1;32mreturn\u001b[0m \u001b[0mfunc\u001b[0m\u001b[1;33m(\u001b[0m\u001b[0max\u001b[0m\u001b[1;33m,\u001b[0m \u001b[1;33m*\u001b[0m\u001b[0margs\u001b[0m\u001b[1;33m,\u001b[0m \u001b[1;33m**\u001b[0m\u001b[0mkwargs\u001b[0m\u001b[1;33m)\u001b[0m\u001b[1;33m\u001b[0m\u001b[0m\n\u001b[0m\u001b[0;32m   1811\u001b[0m \u001b[1;33m\u001b[0m\u001b[0m\n\u001b[0;32m   1812\u001b[0m         inner.__doc__ = _add_data_doc(inner.__doc__,\n",
      "\u001b[1;32mD:\\Program Files (x86)\\Anaconda3\\envs\\tensorflow\\lib\\site-packages\\matplotlib\\axes\\_axes.py\u001b[0m in \u001b[0;36mplot\u001b[1;34m(self, scalex, scaley, *args, **kwargs)\u001b[0m\n\u001b[0;32m   1609\u001b[0m         \u001b[0mkwargs\u001b[0m \u001b[1;33m=\u001b[0m \u001b[0mcbook\u001b[0m\u001b[1;33m.\u001b[0m\u001b[0mnormalize_kwargs\u001b[0m\u001b[1;33m(\u001b[0m\u001b[0mkwargs\u001b[0m\u001b[1;33m,\u001b[0m \u001b[0mmlines\u001b[0m\u001b[1;33m.\u001b[0m\u001b[0mLine2D\u001b[0m\u001b[1;33m.\u001b[0m\u001b[0m_alias_map\u001b[0m\u001b[1;33m)\u001b[0m\u001b[1;33m\u001b[0m\u001b[0m\n\u001b[0;32m   1610\u001b[0m \u001b[1;33m\u001b[0m\u001b[0m\n\u001b[1;32m-> 1611\u001b[1;33m         \u001b[1;32mfor\u001b[0m \u001b[0mline\u001b[0m \u001b[1;32min\u001b[0m \u001b[0mself\u001b[0m\u001b[1;33m.\u001b[0m\u001b[0m_get_lines\u001b[0m\u001b[1;33m(\u001b[0m\u001b[1;33m*\u001b[0m\u001b[0margs\u001b[0m\u001b[1;33m,\u001b[0m \u001b[1;33m**\u001b[0m\u001b[0mkwargs\u001b[0m\u001b[1;33m)\u001b[0m\u001b[1;33m:\u001b[0m\u001b[1;33m\u001b[0m\u001b[0m\n\u001b[0m\u001b[0;32m   1612\u001b[0m             \u001b[0mself\u001b[0m\u001b[1;33m.\u001b[0m\u001b[0madd_line\u001b[0m\u001b[1;33m(\u001b[0m\u001b[0mline\u001b[0m\u001b[1;33m)\u001b[0m\u001b[1;33m\u001b[0m\u001b[0m\n\u001b[0;32m   1613\u001b[0m             \u001b[0mlines\u001b[0m\u001b[1;33m.\u001b[0m\u001b[0mappend\u001b[0m\u001b[1;33m(\u001b[0m\u001b[0mline\u001b[0m\u001b[1;33m)\u001b[0m\u001b[1;33m\u001b[0m\u001b[0m\n",
      "\u001b[1;32mD:\\Program Files (x86)\\Anaconda3\\envs\\tensorflow\\lib\\site-packages\\matplotlib\\axes\\_base.py\u001b[0m in \u001b[0;36m_grab_next_args\u001b[1;34m(self, *args, **kwargs)\u001b[0m\n\u001b[0;32m    391\u001b[0m                 \u001b[0mthis\u001b[0m \u001b[1;33m+=\u001b[0m \u001b[0margs\u001b[0m\u001b[1;33m[\u001b[0m\u001b[1;36m0\u001b[0m\u001b[1;33m]\u001b[0m\u001b[1;33m,\u001b[0m\u001b[1;33m\u001b[0m\u001b[0m\n\u001b[0;32m    392\u001b[0m                 \u001b[0margs\u001b[0m \u001b[1;33m=\u001b[0m \u001b[0margs\u001b[0m\u001b[1;33m[\u001b[0m\u001b[1;36m1\u001b[0m\u001b[1;33m:\u001b[0m\u001b[1;33m]\u001b[0m\u001b[1;33m\u001b[0m\u001b[0m\n\u001b[1;32m--> 393\u001b[1;33m             \u001b[1;32myield\u001b[0m \u001b[1;32mfrom\u001b[0m \u001b[0mself\u001b[0m\u001b[1;33m.\u001b[0m\u001b[0m_plot_args\u001b[0m\u001b[1;33m(\u001b[0m\u001b[0mthis\u001b[0m\u001b[1;33m,\u001b[0m \u001b[0mkwargs\u001b[0m\u001b[1;33m)\u001b[0m\u001b[1;33m\u001b[0m\u001b[0m\n\u001b[0m\u001b[0;32m    394\u001b[0m \u001b[1;33m\u001b[0m\u001b[0m\n\u001b[0;32m    395\u001b[0m \u001b[1;33m\u001b[0m\u001b[0m\n",
      "\u001b[1;32mD:\\Program Files (x86)\\Anaconda3\\envs\\tensorflow\\lib\\site-packages\\matplotlib\\axes\\_base.py\u001b[0m in \u001b[0;36m_plot_args\u001b[1;34m(self, tup, kwargs)\u001b[0m\n\u001b[0;32m    368\u001b[0m             \u001b[0mx\u001b[0m\u001b[1;33m,\u001b[0m \u001b[0my\u001b[0m \u001b[1;33m=\u001b[0m \u001b[0mindex_of\u001b[0m\u001b[1;33m(\u001b[0m\u001b[0mtup\u001b[0m\u001b[1;33m[\u001b[0m\u001b[1;33m-\u001b[0m\u001b[1;36m1\u001b[0m\u001b[1;33m]\u001b[0m\u001b[1;33m)\u001b[0m\u001b[1;33m\u001b[0m\u001b[0m\n\u001b[0;32m    369\u001b[0m \u001b[1;33m\u001b[0m\u001b[0m\n\u001b[1;32m--> 370\u001b[1;33m         \u001b[0mx\u001b[0m\u001b[1;33m,\u001b[0m \u001b[0my\u001b[0m \u001b[1;33m=\u001b[0m \u001b[0mself\u001b[0m\u001b[1;33m.\u001b[0m\u001b[0m_xy_from_xy\u001b[0m\u001b[1;33m(\u001b[0m\u001b[0mx\u001b[0m\u001b[1;33m,\u001b[0m \u001b[0my\u001b[0m\u001b[1;33m)\u001b[0m\u001b[1;33m\u001b[0m\u001b[0m\n\u001b[0m\u001b[0;32m    371\u001b[0m \u001b[1;33m\u001b[0m\u001b[0m\n\u001b[0;32m    372\u001b[0m         \u001b[1;32mif\u001b[0m \u001b[0mself\u001b[0m\u001b[1;33m.\u001b[0m\u001b[0mcommand\u001b[0m \u001b[1;33m==\u001b[0m \u001b[1;34m'plot'\u001b[0m\u001b[1;33m:\u001b[0m\u001b[1;33m\u001b[0m\u001b[0m\n",
      "\u001b[1;32mD:\\Program Files (x86)\\Anaconda3\\envs\\tensorflow\\lib\\site-packages\\matplotlib\\axes\\_base.py\u001b[0m in \u001b[0;36m_xy_from_xy\u001b[1;34m(self, x, y)\u001b[0m\n\u001b[0;32m    229\u001b[0m         \u001b[1;32mif\u001b[0m \u001b[0mx\u001b[0m\u001b[1;33m.\u001b[0m\u001b[0mshape\u001b[0m\u001b[1;33m[\u001b[0m\u001b[1;36m0\u001b[0m\u001b[1;33m]\u001b[0m \u001b[1;33m!=\u001b[0m \u001b[0my\u001b[0m\u001b[1;33m.\u001b[0m\u001b[0mshape\u001b[0m\u001b[1;33m[\u001b[0m\u001b[1;36m0\u001b[0m\u001b[1;33m]\u001b[0m\u001b[1;33m:\u001b[0m\u001b[1;33m\u001b[0m\u001b[0m\n\u001b[0;32m    230\u001b[0m             raise ValueError(\"x and y must have same first dimension, but \"\n\u001b[1;32m--> 231\u001b[1;33m                              \"have shapes {} and {}\".format(x.shape, y.shape))\n\u001b[0m\u001b[0;32m    232\u001b[0m         \u001b[1;32mif\u001b[0m \u001b[0mx\u001b[0m\u001b[1;33m.\u001b[0m\u001b[0mndim\u001b[0m \u001b[1;33m>\u001b[0m \u001b[1;36m2\u001b[0m \u001b[1;32mor\u001b[0m \u001b[0my\u001b[0m\u001b[1;33m.\u001b[0m\u001b[0mndim\u001b[0m \u001b[1;33m>\u001b[0m \u001b[1;36m2\u001b[0m\u001b[1;33m:\u001b[0m\u001b[1;33m\u001b[0m\u001b[0m\n\u001b[0;32m    233\u001b[0m             raise ValueError(\"x and y can be no greater than 2-D, but have \"\n",
      "\u001b[1;31mValueError\u001b[0m: x and y must have same first dimension, but have shapes (24,) and (0,)"
     ]
    },
    {
     "data": {
      "image/png": "[encoded data removed]",
      "text/plain": [
       "<Figure size 660x510 with 1 Axes>"
      ]
     },
     "metadata": {
      "needs_background": "light"
     },
     "output_type": "display_data"
    }
   ],
   "source": [
    "# encoding=utf-8\n",
    "import matplotlib.pyplot as plt\n",
    "from pylab import *                                 #支持中文\n",
    "mpl.rcParams['font.sans-serif'] = ['SimHei']\n",
    "plt.rcParams['axes.unicode_minus'] = False\n",
    "\n",
    "from matplotlib import font_manager\n",
    "x = range(24)\n",
    "\n",
    "fig= plt.figure(num=None, figsize=(2.2, 1.7), dpi=300)\n",
    "plt.xlabel(u\"Time [h]\", fontdict={'family' : 'Times New Roman', 'size':8}) #X轴标签\n",
    "plt.ylabel(\"Relevance\", fontdict={'family' : 'Times New Roman', 'size':8}) #Y轴标签\n",
    "# axs0=plt.subplot(221)\n",
    "plt.plot(x, gg, marker='o', mec='r',color='r',mfc='w',linewidth = 1.5, markersize=3)\n",
    "plt.plot(x, ee, marker='o', mec='c',color='c',mfc='w',linewidth = 1.5, markersize=3)\n",
    "\n",
    "# plt.rcParams['axes.facecolor']='r'\n",
    "# plt.legend(prop={'size':6})  # 让图例生效\n",
    "# , rotation=30\n",
    "# rotation = 45,\n",
    "plt.xticks(np.arange(0, 24, 1),fontsize=4, weight='bold')\n",
    "plt.yticks(np.arange(-1, 1.1, 0.1),fontsize=4, weight='bold')\n",
    "plt.margins(0)\n",
    "plt.subplots_adjust(bottom=0.15)\n",
    "# plt.xlabel(u\"Time [h]\", fontdict={'family' : 'Times New Roman', 'size':8}) #X轴标签\n",
    "# plt.ylabel(\"Relevance\", fontdict={'family' : 'Times New Roman', 'size':8}) #Y轴标签\n",
    "# plt.title(\"A simple plot\") #标题\n",
    "\n",
    "plt.grid( linestyle='--', linewidth=0.5,alpha=0.6)\n",
    "# plt.grid(color='r', linestyle='--', linewidth=1,alpha=0.3)\n",
    "\n",
    "\n",
    "\n",
    "plt.show()\n"
   ]
  },
  {
   "cell_type": "code",
   "execution_count": null,
   "metadata": {},
   "outputs": [],
   "source": []
  },
  {
   "cell_type": "code",
   "execution_count": null,
   "metadata": {},
   "outputs": [],
   "source": []
  },
  {
   "cell_type": "code",
   "execution_count": 68,
   "metadata": {},
   "outputs": [
    {
     "ename": "ValueError",
     "evalue": "x and y must have same first dimension, but have shapes (24,) and (0,)",
     "output_type": "error",
     "traceback": [
      "\u001b[1;31m---------------------------------------------------------------------------\u001b[0m",
      "\u001b[1;31mValueError\u001b[0m                                Traceback (most recent call last)",
      "\u001b[1;32m<ipython-input-68-b4de315c1a8d>\u001b[0m in \u001b[0;36m<module>\u001b[1;34m()\u001b[0m\n\u001b[0;32m     13\u001b[0m \u001b[1;31m# axs0=plt.subplot(221)\u001b[0m\u001b[1;33m\u001b[0m\u001b[1;33m\u001b[0m\u001b[0m\n\u001b[0;32m     14\u001b[0m \u001b[0mplt\u001b[0m\u001b[1;33m.\u001b[0m\u001b[0mplot\u001b[0m\u001b[1;33m(\u001b[0m\u001b[0mx\u001b[0m\u001b[1;33m,\u001b[0m \u001b[0mgg\u001b[0m\u001b[1;33m,\u001b[0m \u001b[0mmarker\u001b[0m\u001b[1;33m=\u001b[0m\u001b[1;34m'o'\u001b[0m\u001b[1;33m,\u001b[0m \u001b[0mmec\u001b[0m\u001b[1;33m=\u001b[0m\u001b[1;34m'r'\u001b[0m\u001b[1;33m,\u001b[0m\u001b[0mcolor\u001b[0m\u001b[1;33m=\u001b[0m\u001b[1;34m'r'\u001b[0m\u001b[1;33m,\u001b[0m\u001b[0mmfc\u001b[0m\u001b[1;33m=\u001b[0m\u001b[1;34m'w'\u001b[0m\u001b[1;33m,\u001b[0m\u001b[0mlinewidth\u001b[0m \u001b[1;33m=\u001b[0m \u001b[1;36m1.5\u001b[0m\u001b[1;33m,\u001b[0m \u001b[0mmarkersize\u001b[0m\u001b[1;33m=\u001b[0m\u001b[1;36m3\u001b[0m\u001b[1;33m)\u001b[0m\u001b[1;33m\u001b[0m\u001b[0m\n\u001b[1;32m---> 15\u001b[1;33m \u001b[0mplt\u001b[0m\u001b[1;33m.\u001b[0m\u001b[0mplot\u001b[0m\u001b[1;33m(\u001b[0m\u001b[0mx\u001b[0m\u001b[1;33m,\u001b[0m \u001b[0mee\u001b[0m\u001b[1;33m,\u001b[0m \u001b[0mmarker\u001b[0m\u001b[1;33m=\u001b[0m\u001b[1;34m'o'\u001b[0m\u001b[1;33m,\u001b[0m \u001b[0mmec\u001b[0m\u001b[1;33m=\u001b[0m\u001b[1;34m'c'\u001b[0m\u001b[1;33m,\u001b[0m\u001b[0mcolor\u001b[0m\u001b[1;33m=\u001b[0m\u001b[1;34m'c'\u001b[0m\u001b[1;33m,\u001b[0m\u001b[0mmfc\u001b[0m\u001b[1;33m=\u001b[0m\u001b[1;34m'w'\u001b[0m\u001b[1;33m,\u001b[0m\u001b[0mlinewidth\u001b[0m \u001b[1;33m=\u001b[0m \u001b[1;36m1.5\u001b[0m\u001b[1;33m,\u001b[0m \u001b[0mmarkersize\u001b[0m\u001b[1;33m=\u001b[0m\u001b[1;36m3\u001b[0m\u001b[1;33m)\u001b[0m\u001b[1;33m\u001b[0m\u001b[0m\n\u001b[0m\u001b[0;32m     16\u001b[0m \u001b[1;33m\u001b[0m\u001b[0m\n\u001b[0;32m     17\u001b[0m \u001b[1;31m# plt.rcParams['axes.facecolor']='r'\u001b[0m\u001b[1;33m\u001b[0m\u001b[1;33m\u001b[0m\u001b[0m\n",
      "\u001b[1;32mD:\\Program Files (x86)\\Anaconda3\\envs\\tensorflow\\lib\\site-packages\\matplotlib\\pyplot.py\u001b[0m in \u001b[0;36mplot\u001b[1;34m(scalex, scaley, data, *args, **kwargs)\u001b[0m\n\u001b[0;32m   2809\u001b[0m     return gca().plot(\n\u001b[0;32m   2810\u001b[0m         *args, scalex=scalex, scaley=scaley, **({\"data\": data} if data\n\u001b[1;32m-> 2811\u001b[1;33m         is not None else {}), **kwargs)\n\u001b[0m\u001b[0;32m   2812\u001b[0m \u001b[1;33m\u001b[0m\u001b[0m\n\u001b[0;32m   2813\u001b[0m \u001b[1;33m\u001b[0m\u001b[0m\n",
      "\u001b[1;32mD:\\Program Files (x86)\\Anaconda3\\envs\\tensorflow\\lib\\site-packages\\matplotlib\\__init__.py\u001b[0m in \u001b[0;36minner\u001b[1;34m(ax, data, *args, **kwargs)\u001b[0m\n\u001b[0;32m   1808\u001b[0m                         \u001b[1;34m\"the Matplotlib list!)\"\u001b[0m \u001b[1;33m%\u001b[0m \u001b[1;33m(\u001b[0m\u001b[0mlabel_namer\u001b[0m\u001b[1;33m,\u001b[0m \u001b[0mfunc\u001b[0m\u001b[1;33m.\u001b[0m\u001b[0m__name__\u001b[0m\u001b[1;33m)\u001b[0m\u001b[1;33m,\u001b[0m\u001b[1;33m\u001b[0m\u001b[0m\n\u001b[0;32m   1809\u001b[0m                         RuntimeWarning, stacklevel=2)\n\u001b[1;32m-> 1810\u001b[1;33m             \u001b[1;32mreturn\u001b[0m \u001b[0mfunc\u001b[0m\u001b[1;33m(\u001b[0m\u001b[0max\u001b[0m\u001b[1;33m,\u001b[0m \u001b[1;33m*\u001b[0m\u001b[0margs\u001b[0m\u001b[1;33m,\u001b[0m \u001b[1;33m**\u001b[0m\u001b[0mkwargs\u001b[0m\u001b[1;33m)\u001b[0m\u001b[1;33m\u001b[0m\u001b[0m\n\u001b[0m\u001b[0;32m   1811\u001b[0m \u001b[1;33m\u001b[0m\u001b[0m\n\u001b[0;32m   1812\u001b[0m         inner.__doc__ = _add_data_doc(inner.__doc__,\n",
      "\u001b[1;32mD:\\Program Files (x86)\\Anaconda3\\envs\\tensorflow\\lib\\site-packages\\matplotlib\\axes\\_axes.py\u001b[0m in \u001b[0;36mplot\u001b[1;34m(self, scalex, scaley, *args, **kwargs)\u001b[0m\n\u001b[0;32m   1609\u001b[0m         \u001b[0mkwargs\u001b[0m \u001b[1;33m=\u001b[0m \u001b[0mcbook\u001b[0m\u001b[1;33m.\u001b[0m\u001b[0mnormalize_kwargs\u001b[0m\u001b[1;33m(\u001b[0m\u001b[0mkwargs\u001b[0m\u001b[1;33m,\u001b[0m \u001b[0mmlines\u001b[0m\u001b[1;33m.\u001b[0m\u001b[0mLine2D\u001b[0m\u001b[1;33m.\u001b[0m\u001b[0m_alias_map\u001b[0m\u001b[1;33m)\u001b[0m\u001b[1;33m\u001b[0m\u001b[0m\n\u001b[0;32m   1610\u001b[0m \u001b[1;33m\u001b[0m\u001b[0m\n\u001b[1;32m-> 1611\u001b[1;33m         \u001b[1;32mfor\u001b[0m \u001b[0mline\u001b[0m \u001b[1;32min\u001b[0m \u001b[0mself\u001b[0m\u001b[1;33m.\u001b[0m\u001b[0m_get_lines\u001b[0m\u001b[1;33m(\u001b[0m\u001b[1;33m*\u001b[0m\u001b[0margs\u001b[0m\u001b[1;33m,\u001b[0m \u001b[1;33m**\u001b[0m\u001b[0mkwargs\u001b[0m\u001b[1;33m)\u001b[0m\u001b[1;33m:\u001b[0m\u001b[1;33m\u001b[0m\u001b[0m\n\u001b[0m\u001b[0;32m   1612\u001b[0m             \u001b[0mself\u001b[0m\u001b[1;33m.\u001b[0m\u001b[0madd_line\u001b[0m\u001b[1;33m(\u001b[0m\u001b[0mline\u001b[0m\u001b[1;33m)\u001b[0m\u001b[1;33m\u001b[0m\u001b[0m\n\u001b[0;32m   1613\u001b[0m             \u001b[0mlines\u001b[0m\u001b[1;33m.\u001b[0m\u001b[0mappend\u001b[0m\u001b[1;33m(\u001b[0m\u001b[0mline\u001b[0m\u001b[1;33m)\u001b[0m\u001b[1;33m\u001b[0m\u001b[0m\n",
      "\u001b[1;32mD:\\Program Files (x86)\\Anaconda3\\envs\\tensorflow\\lib\\site-packages\\matplotlib\\axes\\_base.py\u001b[0m in \u001b[0;36m_grab_next_args\u001b[1;34m(self, *args, **kwargs)\u001b[0m\n\u001b[0;32m    391\u001b[0m                 \u001b[0mthis\u001b[0m \u001b[1;33m+=\u001b[0m \u001b[0margs\u001b[0m\u001b[1;33m[\u001b[0m\u001b[1;36m0\u001b[0m\u001b[1;33m]\u001b[0m\u001b[1;33m,\u001b[0m\u001b[1;33m\u001b[0m\u001b[0m\n\u001b[0;32m    392\u001b[0m                 \u001b[0margs\u001b[0m \u001b[1;33m=\u001b[0m \u001b[0margs\u001b[0m\u001b[1;33m[\u001b[0m\u001b[1;36m1\u001b[0m\u001b[1;33m:\u001b[0m\u001b[1;33m]\u001b[0m\u001b[1;33m\u001b[0m\u001b[0m\n\u001b[1;32m--> 393\u001b[1;33m             \u001b[1;32myield\u001b[0m \u001b[1;32mfrom\u001b[0m \u001b[0mself\u001b[0m\u001b[1;33m.\u001b[0m\u001b[0m_plot_args\u001b[0m\u001b[1;33m(\u001b[0m\u001b[0mthis\u001b[0m\u001b[1;33m,\u001b[0m \u001b[0mkwargs\u001b[0m\u001b[1;33m)\u001b[0m\u001b[1;33m\u001b[0m\u001b[0m\n\u001b[0m\u001b[0;32m    394\u001b[0m \u001b[1;33m\u001b[0m\u001b[0m\n\u001b[0;32m    395\u001b[0m \u001b[1;33m\u001b[0m\u001b[0m\n",
      "\u001b[1;32mD:\\Program Files (x86)\\Anaconda3\\envs\\tensorflow\\lib\\site-packages\\matplotlib\\axes\\_base.py\u001b[0m in \u001b[0;36m_plot_args\u001b[1;34m(self, tup, kwargs)\u001b[0m\n\u001b[0;32m    368\u001b[0m             \u001b[0mx\u001b[0m\u001b[1;33m,\u001b[0m \u001b[0my\u001b[0m \u001b[1;33m=\u001b[0m \u001b[0mindex_of\u001b[0m\u001b[1;33m(\u001b[0m\u001b[0mtup\u001b[0m\u001b[1;33m[\u001b[0m\u001b[1;33m-\u001b[0m\u001b[1;36m1\u001b[0m\u001b[1;33m]\u001b[0m\u001b[1;33m)\u001b[0m\u001b[1;33m\u001b[0m\u001b[0m\n\u001b[0;32m    369\u001b[0m \u001b[1;33m\u001b[0m\u001b[0m\n\u001b[1;32m--> 370\u001b[1;33m         \u001b[0mx\u001b[0m\u001b[1;33m,\u001b[0m \u001b[0my\u001b[0m \u001b[1;33m=\u001b[0m \u001b[0mself\u001b[0m\u001b[1;33m.\u001b[0m\u001b[0m_xy_from_xy\u001b[0m\u001b[1;33m(\u001b[0m\u001b[0mx\u001b[0m\u001b[1;33m,\u001b[0m \u001b[0my\u001b[0m\u001b[1;33m)\u001b[0m\u001b[1;33m\u001b[0m\u001b[0m\n\u001b[0m\u001b[0;32m    371\u001b[0m \u001b[1;33m\u001b[0m\u001b[0m\n\u001b[0;32m    372\u001b[0m         \u001b[1;32mif\u001b[0m \u001b[0mself\u001b[0m\u001b[1;33m.\u001b[0m\u001b[0mcommand\u001b[0m \u001b[1;33m==\u001b[0m \u001b[1;34m'plot'\u001b[0m\u001b[1;33m:\u001b[0m\u001b[1;33m\u001b[0m\u001b[0m\n",
      "\u001b[1;32mD:\\Program Files (x86)\\Anaconda3\\envs\\tensorflow\\lib\\site-packages\\matplotlib\\axes\\_base.py\u001b[0m in \u001b[0;36m_xy_from_xy\u001b[1;34m(self, x, y)\u001b[0m\n\u001b[0;32m    229\u001b[0m         \u001b[1;32mif\u001b[0m \u001b[0mx\u001b[0m\u001b[1;33m.\u001b[0m\u001b[0mshape\u001b[0m\u001b[1;33m[\u001b[0m\u001b[1;36m0\u001b[0m\u001b[1;33m]\u001b[0m \u001b[1;33m!=\u001b[0m \u001b[0my\u001b[0m\u001b[1;33m.\u001b[0m\u001b[0mshape\u001b[0m\u001b[1;33m[\u001b[0m\u001b[1;36m0\u001b[0m\u001b[1;33m]\u001b[0m\u001b[1;33m:\u001b[0m\u001b[1;33m\u001b[0m\u001b[0m\n\u001b[0;32m    230\u001b[0m             raise ValueError(\"x and y must have same first dimension, but \"\n\u001b[1;32m--> 231\u001b[1;33m                              \"have shapes {} and {}\".format(x.shape, y.shape))\n\u001b[0m\u001b[0;32m    232\u001b[0m         \u001b[1;32mif\u001b[0m \u001b[0mx\u001b[0m\u001b[1;33m.\u001b[0m\u001b[0mndim\u001b[0m \u001b[1;33m>\u001b[0m \u001b[1;36m2\u001b[0m \u001b[1;32mor\u001b[0m \u001b[0my\u001b[0m\u001b[1;33m.\u001b[0m\u001b[0mndim\u001b[0m \u001b[1;33m>\u001b[0m \u001b[1;36m2\u001b[0m\u001b[1;33m:\u001b[0m\u001b[1;33m\u001b[0m\u001b[0m\n\u001b[0;32m    233\u001b[0m             raise ValueError(\"x and y can be no greater than 2-D, but have \"\n",
      "\u001b[1;31mValueError\u001b[0m: x and y must have same first dimension, but have shapes (24,) and (0,)"
     ]
    },
    {
     "data": {
      "image/png": "[encoded data removed]",
      "text/plain": [
       "<Figure size 660x510 with 1 Axes>"
      ]
     },
     "metadata": {
      "needs_background": "light"
     },
     "output_type": "display_data"
    }
   ],
   "source": [
    "# encoding=utf-8\n",
    "import matplotlib.pyplot as plt\n",
    "from pylab import *                                 #支持中文\n",
    "mpl.rcParams['font.sans-serif'] = ['SimHei']\n",
    "plt.rcParams['axes.unicode_minus'] = False\n",
    "\n",
    "from matplotlib import font_manager\n",
    "x = range(24)\n",
    "\n",
    "fig= plt.figure(num=None, figsize=(2.2, 1.7), dpi=300)\n",
    "plt.xlabel(u\"Time [h]\", fontdict={'family' : 'Times New Roman', 'size':8}) #X轴标签\n",
    "plt.ylabel(\"Relevance\", fontdict={'family' : 'Times New Roman', 'size':8}) #Y轴标签\n",
    "# axs0=plt.subplot(221)\n",
    "plt.plot(x, gg, marker='o', mec='r',color='r',mfc='w',linewidth = 1.5, markersize=3)\n",
    "plt.plot(x, ee, marker='o', mec='c',color='c',mfc='w',linewidth = 1.5, markersize=3)\n",
    "\n",
    "# plt.rcParams['axes.facecolor']='r'\n",
    "# plt.legend(prop={'size':6})  # 让图例生效\n",
    "# , rotation=30\n",
    "# rotation = 45,\n",
    "plt.xticks(np.arange(0, 24, 1),fontsize=4, weight='bold')\n",
    "plt.yticks(np.arange(-1, 1.1, 0.1),fontsize=4, weight='bold')\n",
    "plt.margins(0)\n",
    "plt.subplots_adjust(bottom=0.15)\n",
    "# plt.xlabel(u\"Time [h]\", fontdict={'family' : 'Times New Roman', 'size':8}) #X轴标签\n",
    "# plt.ylabel(\"Relevance\", fontdict={'family' : 'Times New Roman', 'size':8}) #Y轴标签\n",
    "# plt.title(\"A simple plot\") #标题\n",
    "\n",
    "plt.grid( linestyle='--', linewidth=0.5,alpha=0.6)\n",
    "# plt.grid(color='r', linestyle='--', linewidth=1,alpha=0.3)\n",
    "\n",
    "\n",
    "\n",
    "plt.show()\n"
   ]
  },
  {
   "cell_type": "code",
   "execution_count": 69,
   "metadata": {},
   "outputs": [
    {
     "ename": "ValueError",
     "evalue": "x and y must have same first dimension, but have shapes (24,) and (0,)",
     "output_type": "error",
     "traceback": [
      "\u001b[1;31m---------------------------------------------------------------------------\u001b[0m",
      "\u001b[1;31mValueError\u001b[0m                                Traceback (most recent call last)",
      "\u001b[1;32m<ipython-input-69-22fc6d10a555>\u001b[0m in \u001b[0;36m<module>\u001b[1;34m()\u001b[0m\n\u001b[0;32m     12\u001b[0m \u001b[0mplt\u001b[0m\u001b[1;33m.\u001b[0m\u001b[0mylabel\u001b[0m\u001b[1;33m(\u001b[0m\u001b[1;34m\"Relevance\"\u001b[0m\u001b[1;33m,\u001b[0m \u001b[0mfontdict\u001b[0m\u001b[1;33m=\u001b[0m\u001b[1;33m{\u001b[0m\u001b[1;34m'family'\u001b[0m \u001b[1;33m:\u001b[0m \u001b[1;34m'Times New Roman'\u001b[0m\u001b[1;33m,\u001b[0m \u001b[1;34m'size'\u001b[0m\u001b[1;33m:\u001b[0m\u001b[1;36m8\u001b[0m\u001b[1;33m}\u001b[0m\u001b[1;33m)\u001b[0m \u001b[1;31m#Y轴标签\u001b[0m\u001b[1;33m\u001b[0m\u001b[0m\n\u001b[0;32m     13\u001b[0m \u001b[1;31m# axs0=plt.subplot(221)\u001b[0m\u001b[1;33m\u001b[0m\u001b[1;33m\u001b[0m\u001b[0m\n\u001b[1;32m---> 14\u001b[1;33m \u001b[0mplt\u001b[0m\u001b[1;33m.\u001b[0m\u001b[0mplot\u001b[0m\u001b[1;33m(\u001b[0m\u001b[0mx\u001b[0m\u001b[1;33m,\u001b[0m \u001b[0mee\u001b[0m\u001b[1;33m,\u001b[0m \u001b[0mmarker\u001b[0m\u001b[1;33m=\u001b[0m\u001b[1;34m'o'\u001b[0m\u001b[1;33m,\u001b[0m \u001b[0mmec\u001b[0m\u001b[1;33m=\u001b[0m\u001b[1;34m'r'\u001b[0m\u001b[1;33m,\u001b[0m\u001b[0mcolor\u001b[0m\u001b[1;33m=\u001b[0m\u001b[1;34m'c'\u001b[0m\u001b[1;33m,\u001b[0m\u001b[0mmfc\u001b[0m\u001b[1;33m=\u001b[0m\u001b[1;34m'w'\u001b[0m\u001b[1;33m,\u001b[0m\u001b[0mlabel\u001b[0m\u001b[1;33m=\u001b[0m\u001b[1;34mu'spring'\u001b[0m\u001b[1;33m,\u001b[0m\u001b[0mlinewidth\u001b[0m \u001b[1;33m=\u001b[0m \u001b[1;36m1.5\u001b[0m\u001b[1;33m,\u001b[0m \u001b[0mmarkersize\u001b[0m\u001b[1;33m=\u001b[0m\u001b[1;36m3\u001b[0m\u001b[1;33m)\u001b[0m\u001b[1;33m\u001b[0m\u001b[0m\n\u001b[0m\u001b[0;32m     15\u001b[0m \u001b[1;31m# plt.rcParams['axes.facecolor']='r'\u001b[0m\u001b[1;33m\u001b[0m\u001b[1;33m\u001b[0m\u001b[0m\n\u001b[0;32m     16\u001b[0m \u001b[0mplt\u001b[0m\u001b[1;33m.\u001b[0m\u001b[0mlegend\u001b[0m\u001b[1;33m(\u001b[0m\u001b[1;33m)\u001b[0m  \u001b[1;31m# 让图例生效\u001b[0m\u001b[1;33m\u001b[0m\u001b[0m\n",
      "\u001b[1;32mD:\\Program Files (x86)\\Anaconda3\\envs\\tensorflow\\lib\\site-packages\\matplotlib\\pyplot.py\u001b[0m in \u001b[0;36mplot\u001b[1;34m(scalex, scaley, data, *args, **kwargs)\u001b[0m\n\u001b[0;32m   2809\u001b[0m     return gca().plot(\n\u001b[0;32m   2810\u001b[0m         *args, scalex=scalex, scaley=scaley, **({\"data\": data} if data\n\u001b[1;32m-> 2811\u001b[1;33m         is not None else {}), **kwargs)\n\u001b[0m\u001b[0;32m   2812\u001b[0m \u001b[1;33m\u001b[0m\u001b[0m\n\u001b[0;32m   2813\u001b[0m \u001b[1;33m\u001b[0m\u001b[0m\n",
      "\u001b[1;32mD:\\Program Files (x86)\\Anaconda3\\envs\\tensorflow\\lib\\site-packages\\matplotlib\\__init__.py\u001b[0m in \u001b[0;36minner\u001b[1;34m(ax, data, *args, **kwargs)\u001b[0m\n\u001b[0;32m   1808\u001b[0m                         \u001b[1;34m\"the Matplotlib list!)\"\u001b[0m \u001b[1;33m%\u001b[0m \u001b[1;33m(\u001b[0m\u001b[0mlabel_namer\u001b[0m\u001b[1;33m,\u001b[0m \u001b[0mfunc\u001b[0m\u001b[1;33m.\u001b[0m\u001b[0m__name__\u001b[0m\u001b[1;33m)\u001b[0m\u001b[1;33m,\u001b[0m\u001b[1;33m\u001b[0m\u001b[0m\n\u001b[0;32m   1809\u001b[0m                         RuntimeWarning, stacklevel=2)\n\u001b[1;32m-> 1810\u001b[1;33m             \u001b[1;32mreturn\u001b[0m \u001b[0mfunc\u001b[0m\u001b[1;33m(\u001b[0m\u001b[0max\u001b[0m\u001b[1;33m,\u001b[0m \u001b[1;33m*\u001b[0m\u001b[0margs\u001b[0m\u001b[1;33m,\u001b[0m \u001b[1;33m**\u001b[0m\u001b[0mkwargs\u001b[0m\u001b[1;33m)\u001b[0m\u001b[1;33m\u001b[0m\u001b[0m\n\u001b[0m\u001b[0;32m   1811\u001b[0m \u001b[1;33m\u001b[0m\u001b[0m\n\u001b[0;32m   1812\u001b[0m         inner.__doc__ = _add_data_doc(inner.__doc__,\n",
      "\u001b[1;32mD:\\Program Files (x86)\\Anaconda3\\envs\\tensorflow\\lib\\site-packages\\matplotlib\\axes\\_axes.py\u001b[0m in \u001b[0;36mplot\u001b[1;34m(self, scalex, scaley, *args, **kwargs)\u001b[0m\n\u001b[0;32m   1609\u001b[0m         \u001b[0mkwargs\u001b[0m \u001b[1;33m=\u001b[0m \u001b[0mcbook\u001b[0m\u001b[1;33m.\u001b[0m\u001b[0mnormalize_kwargs\u001b[0m\u001b[1;33m(\u001b[0m\u001b[0mkwargs\u001b[0m\u001b[1;33m,\u001b[0m \u001b[0mmlines\u001b[0m\u001b[1;33m.\u001b[0m\u001b[0mLine2D\u001b[0m\u001b[1;33m.\u001b[0m\u001b[0m_alias_map\u001b[0m\u001b[1;33m)\u001b[0m\u001b[1;33m\u001b[0m\u001b[0m\n\u001b[0;32m   1610\u001b[0m \u001b[1;33m\u001b[0m\u001b[0m\n\u001b[1;32m-> 1611\u001b[1;33m         \u001b[1;32mfor\u001b[0m \u001b[0mline\u001b[0m \u001b[1;32min\u001b[0m \u001b[0mself\u001b[0m\u001b[1;33m.\u001b[0m\u001b[0m_get_lines\u001b[0m\u001b[1;33m(\u001b[0m\u001b[1;33m*\u001b[0m\u001b[0margs\u001b[0m\u001b[1;33m,\u001b[0m \u001b[1;33m**\u001b[0m\u001b[0mkwargs\u001b[0m\u001b[1;33m)\u001b[0m\u001b[1;33m:\u001b[0m\u001b[1;33m\u001b[0m\u001b[0m\n\u001b[0m\u001b[0;32m   1612\u001b[0m             \u001b[0mself\u001b[0m\u001b[1;33m.\u001b[0m\u001b[0madd_line\u001b[0m\u001b[1;33m(\u001b[0m\u001b[0mline\u001b[0m\u001b[1;33m)\u001b[0m\u001b[1;33m\u001b[0m\u001b[0m\n\u001b[0;32m   1613\u001b[0m             \u001b[0mlines\u001b[0m\u001b[1;33m.\u001b[0m\u001b[0mappend\u001b[0m\u001b[1;33m(\u001b[0m\u001b[0mline\u001b[0m\u001b[1;33m)\u001b[0m\u001b[1;33m\u001b[0m\u001b[0m\n",
      "\u001b[1;32mD:\\Program Files (x86)\\Anaconda3\\envs\\tensorflow\\lib\\site-packages\\matplotlib\\axes\\_base.py\u001b[0m in \u001b[0;36m_grab_next_args\u001b[1;34m(self, *args, **kwargs)\u001b[0m\n\u001b[0;32m    391\u001b[0m                 \u001b[0mthis\u001b[0m \u001b[1;33m+=\u001b[0m \u001b[0margs\u001b[0m\u001b[1;33m[\u001b[0m\u001b[1;36m0\u001b[0m\u001b[1;33m]\u001b[0m\u001b[1;33m,\u001b[0m\u001b[1;33m\u001b[0m\u001b[0m\n\u001b[0;32m    392\u001b[0m                 \u001b[0margs\u001b[0m \u001b[1;33m=\u001b[0m \u001b[0margs\u001b[0m\u001b[1;33m[\u001b[0m\u001b[1;36m1\u001b[0m\u001b[1;33m:\u001b[0m\u001b[1;33m]\u001b[0m\u001b[1;33m\u001b[0m\u001b[0m\n\u001b[1;32m--> 393\u001b[1;33m             \u001b[1;32myield\u001b[0m \u001b[1;32mfrom\u001b[0m \u001b[0mself\u001b[0m\u001b[1;33m.\u001b[0m\u001b[0m_plot_args\u001b[0m\u001b[1;33m(\u001b[0m\u001b[0mthis\u001b[0m\u001b[1;33m,\u001b[0m \u001b[0mkwargs\u001b[0m\u001b[1;33m)\u001b[0m\u001b[1;33m\u001b[0m\u001b[0m\n\u001b[0m\u001b[0;32m    394\u001b[0m \u001b[1;33m\u001b[0m\u001b[0m\n\u001b[0;32m    395\u001b[0m \u001b[1;33m\u001b[0m\u001b[0m\n",
      "\u001b[1;32mD:\\Program Files (x86)\\Anaconda3\\envs\\tensorflow\\lib\\site-packages\\matplotlib\\axes\\_base.py\u001b[0m in \u001b[0;36m_plot_args\u001b[1;34m(self, tup, kwargs)\u001b[0m\n\u001b[0;32m    368\u001b[0m             \u001b[0mx\u001b[0m\u001b[1;33m,\u001b[0m \u001b[0my\u001b[0m \u001b[1;33m=\u001b[0m \u001b[0mindex_of\u001b[0m\u001b[1;33m(\u001b[0m\u001b[0mtup\u001b[0m\u001b[1;33m[\u001b[0m\u001b[1;33m-\u001b[0m\u001b[1;36m1\u001b[0m\u001b[1;33m]\u001b[0m\u001b[1;33m)\u001b[0m\u001b[1;33m\u001b[0m\u001b[0m\n\u001b[0;32m    369\u001b[0m \u001b[1;33m\u001b[0m\u001b[0m\n\u001b[1;32m--> 370\u001b[1;33m         \u001b[0mx\u001b[0m\u001b[1;33m,\u001b[0m \u001b[0my\u001b[0m \u001b[1;33m=\u001b[0m \u001b[0mself\u001b[0m\u001b[1;33m.\u001b[0m\u001b[0m_xy_from_xy\u001b[0m\u001b[1;33m(\u001b[0m\u001b[0mx\u001b[0m\u001b[1;33m,\u001b[0m \u001b[0my\u001b[0m\u001b[1;33m)\u001b[0m\u001b[1;33m\u001b[0m\u001b[0m\n\u001b[0m\u001b[0;32m    371\u001b[0m \u001b[1;33m\u001b[0m\u001b[0m\n\u001b[0;32m    372\u001b[0m         \u001b[1;32mif\u001b[0m \u001b[0mself\u001b[0m\u001b[1;33m.\u001b[0m\u001b[0mcommand\u001b[0m \u001b[1;33m==\u001b[0m \u001b[1;34m'plot'\u001b[0m\u001b[1;33m:\u001b[0m\u001b[1;33m\u001b[0m\u001b[0m\n",
      "\u001b[1;32mD:\\Program Files (x86)\\Anaconda3\\envs\\tensorflow\\lib\\site-packages\\matplotlib\\axes\\_base.py\u001b[0m in \u001b[0;36m_xy_from_xy\u001b[1;34m(self, x, y)\u001b[0m\n\u001b[0;32m    229\u001b[0m         \u001b[1;32mif\u001b[0m \u001b[0mx\u001b[0m\u001b[1;33m.\u001b[0m\u001b[0mshape\u001b[0m\u001b[1;33m[\u001b[0m\u001b[1;36m0\u001b[0m\u001b[1;33m]\u001b[0m \u001b[1;33m!=\u001b[0m \u001b[0my\u001b[0m\u001b[1;33m.\u001b[0m\u001b[0mshape\u001b[0m\u001b[1;33m[\u001b[0m\u001b[1;36m0\u001b[0m\u001b[1;33m]\u001b[0m\u001b[1;33m:\u001b[0m\u001b[1;33m\u001b[0m\u001b[0m\n\u001b[0;32m    230\u001b[0m             raise ValueError(\"x and y must have same first dimension, but \"\n\u001b[1;32m--> 231\u001b[1;33m                              \"have shapes {} and {}\".format(x.shape, y.shape))\n\u001b[0m\u001b[0;32m    232\u001b[0m         \u001b[1;32mif\u001b[0m \u001b[0mx\u001b[0m\u001b[1;33m.\u001b[0m\u001b[0mndim\u001b[0m \u001b[1;33m>\u001b[0m \u001b[1;36m2\u001b[0m \u001b[1;32mor\u001b[0m \u001b[0my\u001b[0m\u001b[1;33m.\u001b[0m\u001b[0mndim\u001b[0m \u001b[1;33m>\u001b[0m \u001b[1;36m2\u001b[0m\u001b[1;33m:\u001b[0m\u001b[1;33m\u001b[0m\u001b[0m\n\u001b[0;32m    233\u001b[0m             raise ValueError(\"x and y can be no greater than 2-D, but have \"\n",
      "\u001b[1;31mValueError\u001b[0m: x and y must have same first dimension, but have shapes (24,) and (0,)"
     ]
    },
    {
     "data": {
      "image/png": "[encoded data removed]",
      "text/plain": [
       "<Figure size 660x510 with 1 Axes>"
      ]
     },
     "metadata": {
      "needs_background": "light"
     },
     "output_type": "display_data"
    }
   ],
   "source": [
    "# encoding=utf-8\n",
    "import matplotlib.pyplot as plt\n",
    "from pylab import *                                 #支持中文\n",
    "mpl.rcParams['font.sans-serif'] = ['SimHei']\n",
    "plt.rcParams['axes.unicode_minus'] = False\n",
    "\n",
    "from matplotlib import font_manager\n",
    "x = range(24)\n",
    "\n",
    "fig= plt.figure(num=None, figsize=(2.2, 1.7), dpi=300)\n",
    "plt.xlabel(u\"Time [h]\", fontdict={'family' : 'Times New Roman', 'size':8}) #X轴标签\n",
    "plt.ylabel(\"Relevance\", fontdict={'family' : 'Times New Roman', 'size':8}) #Y轴标签\n",
    "# axs0=plt.subplot(221)\n",
    "plt.plot(x, ee, marker='o', mec='r',color='c',mfc='w',label=u'spring',linewidth = 1.5, markersize=3)\n",
    "# plt.rcParams['axes.facecolor']='r'\n",
    "plt.legend()  # 让图例生效\n",
    "# , rotation=30\n",
    "# rotation = 45,\n",
    "plt.xticks(np.arange(0, 24, 1),fontsize=4, weight='bold')\n",
    "plt.yticks(np.arange(-1, 1.1, 0.1),fontsize=4, weight='bold')\n",
    "plt.margins(0)\n",
    "plt.subplots_adjust(bottom=0.15)\n",
    "# plt.xlabel(u\"Time [h]\", fontdict={'family' : 'Times New Roman', 'size':8}) #X轴标签\n",
    "# plt.ylabel(\"Relevance\", fontdict={'family' : 'Times New Roman', 'size':8}) #Y轴标签\n",
    "# plt.title(\"A simple plot\") #标题\n",
    "\n",
    "plt.grid(color='r', linestyle='--', linewidth=1,alpha=0.3)\n",
    "\n",
    "\n",
    "plt.show()\n"
   ]
  },
  {
   "cell_type": "code",
   "execution_count": 727,
   "metadata": {},
   "outputs": [
    {
     "data": {
      "image/png": "[encoded data removed]",
      "text/plain": [
       "<Figure size 432x288 with 2 Axes>"
      ]
     },
     "metadata": {
      "needs_background": "light"
     },
     "output_type": "display_data"
    }
   ],
   "source": [
    "import numpy as np\n",
    "import seaborn as sns\n",
    "from matplotlib.colors import ListedColormap\n",
    "\n",
    "import matplotlib.pyplot as plt\n",
    "import seaborn as sns\n",
    "# data = pd.read_csv(\"../input/car_crashes.csv\")\n",
    "# data = data.corr()\n",
    "# cmap = sns.cubehelix_palette(start = 1.5, rot = 3, gamma=0.8, as_cmap = True)\n",
    "# cmap = sns.hls_palette(8 , h=0.01, s=0.9, l=0.65)\n",
    "# cmap = sns.choose_cubehelix_palette()\n",
    "# cmap = sns.color_palette(\"Reds\")\n",
    "# cmap  = sns.color_palette(\"coolwarm\", 10)\n",
    "# cmap= sns.dark_palette(\"green\", as_cmap=True)\n",
    "# cmap  =  sns.diverging_palette(220,10, sep=80, n=9)\n",
    "# cmap  =    sns.cubehelix_palette(8)\n",
    "# cmap=ListedColormap(['#339933','#ccff99','#ffcc66','#ffccff','#cc33cc','#cc3366', '#cc3333'])\n",
    "cmap=ListedColormap(['#c1d6db','#fef6f6','#fef2f3','#fcc2c8','#fbb4bc','#fba4ae','#f68491', '#f53a50'])\n",
    "# cmap=ListedColormap(['#339933','#ccff99','#ffcc66','#ff9966','#ff6633','#ff3333','#ff0000','#cc0000', '#990000', '#660000'])\n",
    "\n",
    "\n",
    "# cmap=ListedColormap(['#33cc00','#ccffcc','#ffff99','#ffcc66','#ff9966','#ff6633','#ff3333','#ff0000','#cc0000', '#990000', '#660000'])\n",
    "# sns.heatmap((np.mean(gzs,axis=0)-np.min(gzs))/(np.max(gzs)-np.min(gzs)),cmap=cmap)\n",
    "sns.heatmap((np.mean(gzs,axis=0))/np.max(np.abs(np.mean(gzs,axis=0))),cmap=cmap)\n",
    "\n",
    "plt.show()\n"
   ]
  },
  {
   "cell_type": "code",
   "execution_count": 420,
   "metadata": {},
   "outputs": [
    {
     "data": {
      "image/png": "[encoded data removed]",
      "text/plain": [
       "<Figure size 432x288 with 2 Axes>"
      ]
     },
     "metadata": {
      "needs_background": "light"
     },
     "output_type": "display_data"
    }
   ],
   "source": [
    "import numpy as np\n",
    "import seaborn as sns\n",
    "from matplotlib.colors import ListedColormap\n",
    "\n",
    "import matplotlib.pyplot as plt\n",
    "import seaborn as sns\n",
    "# data = pd.read_csv(\"../input/car_crashes.csv\")\n",
    "# data = data.corr()\n",
    "# cmap = sns.cubehelix_palette(start = 1.5, rot = 3, gamma=0.8, as_cmap = True)\n",
    "# cmap = sns.hls_palette(8 , h=0.01, s=0.9, l=0.65)\n",
    "# cmap = sns.choose_cubehelix_palette()\n",
    "# cmap = sns.color_palette(\"Reds\")\n",
    "# cmap  = sns.color_palette(\"coolwarm\", 10)\n",
    "# cmap= sns.dark_palette(\"green\", as_cmap=True)\n",
    "# cmap  =  sns.diverging_palette(220,10, sep=80, n=9)\n",
    "# cmap  =    sns.cubehelix_palette(8)\n",
    "cmap=ListedColormap(['#dcf5fb','#ebf8fb','#f9fcfc','#faf6f7','#feedef','#fee9ec','#f97b89','#f96677', '#f53a50'])\n",
    "# cmap=ListedColormap(['#82aab4','#c1d6db','#f3f3f3','#f8e4e6','#f8d7db','#f7c2c8','#f7a6b0','#f68491','#f56172'])\n",
    "# cmap=ListedColormap(['#339933','#ccff99','#ffcc66','#ff9966','#ff6633','#ff3333','#ff0000','#cc0000', '#990000', '#660000'])\n",
    "\n",
    "\n",
    "# cmap=ListedColormap(['#33cc00','#ccffcc','#ffff99','#ffcc66','#ff9966','#ff6633','#ff3333','#ff0000','#cc0000', '#990000', '#660000'])\n",
    "# sns.heatmap((np.mean(ezs,axis=0)-np.min(ezs))/(np.max(ezs)-np.min(ezs)),cmap=cmap)\n",
    "sns.heatmap((np.mean(ezs,axis=0))/np.max(np.abs(np.mean(ezs,axis=0))),cmap=cmap)\n",
    "plt.show()\n"
   ]
  },
  {
   "cell_type": "code",
   "execution_count": null,
   "metadata": {},
   "outputs": [],
   "source": []
  },
  {
   "cell_type": "code",
   "execution_count": 212,
   "metadata": {},
   "outputs": [
    {
     "name": "stdout",
     "output_type": "stream",
     "text": [
      "第 0 组\n",
      "红球:19 8 24 19 20 31 蓝球:9\n",
      "第 1 组\n",
      "红球:8 28 18 22 1 31 蓝球:4\n",
      "第 2 组\n",
      "红球:21 1 12 2 28 13 蓝球:6\n",
      "第 3 组\n",
      "红球:24 3 29 28 3 15 蓝球:3\n",
      "第 4 组\n",
      "红球:17 23 4 12 11 9 蓝球:16\n"
     ]
    }
   ],
   "source": [
    "import random\n",
    "for i in range(5):\n",
    "    print('第',i,'组')\n",
    "    print('红球:',end=\"\")\n",
    "    for i in range(6):\n",
    "        print( random.randint(1,31),end=\" \") \n",
    "    print('蓝球:',end=\"\")    \n",
    "    print(random.randint(1,16))"
   ]
  }
 ],
 "metadata": {
  "kernelspec": {
   "display_name": "Python 3",
   "language": "python",
   "name": "python3"
  },
  "language_info": {
   "codemirror_mode": {
    "name": "ipython",
    "version": 3
   },
   "file_extension": ".py",
   "mimetype": "text/x-python",
   "name": "python",
   "nbconvert_exporter": "python",
   "pygments_lexer": "ipython3",
   "version": "3.6.6"
  }
 },
 "nbformat": 4,
 "nbformat_minor": 2
}
