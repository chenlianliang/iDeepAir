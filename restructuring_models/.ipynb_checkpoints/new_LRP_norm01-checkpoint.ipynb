{
 "cells": [
  {
   "cell_type": "code",
   "execution_count": 1,
   "metadata": {},
   "outputs": [
    {
     "name": "stderr",
     "output_type": "stream",
     "text": [
      "Using TensorFlow backend.\n"
     ]
    }
   ],
   "source": [
    "import warnings\n",
    "warnings.filterwarnings(\"ignore\")\n",
    "from keras.engine.topology import Layer\n",
    "from keras.layers import Bidirectional, Concatenate, Permute, Dot, Input, LSTM, GRU, Multiply, Reshape\n",
    "from keras.layers import RepeatVector, Dense, Activation, Lambda, Embedding\n",
    "from keras.optimizers import Adam\n",
    "from keras.utils import to_categorical\n",
    "from keras.models import load_model, Model\n",
    "import keras.backend as K\n",
    "import keras\n",
    "import numpy as np\n",
    "import random\n",
    "import tqdm\n",
    "import matplotlib.pyplot as plt\n",
    "from keras.utils import to_categorical\n",
    "import pandas as pd\n",
    "# from tcn import TCN\n",
    "%matplotlib inline\n",
    "from keras.layers import merge, Input, Dense, TimeDistributed, Lambda                                   \n",
    "import keras\n",
    "from keras.models import Sequential, Model\n",
    "from keras.layers import Conv2D, GlobalMaxPooling2D,MaxPooling2D, Flatten, Dense, BatchNormalization, Activation, Input, GlobalAveragePooling2D,AveragePooling2D, Add\n",
    "from keras.optimizers import Adam, rmsprop\n",
    "from keras.callbacks import EarlyStopping\n",
    "from sklearn.model_selection import GridSearchCV\n",
    "from keras.models import Sequential\n",
    "from keras.layers import Dropout\n",
    "from keras.wrappers.scikit_learn import KerasRegressor\n",
    "from keras.constraints import maxnorm\n",
    "MAX_SENT_LENGTH = 55\n",
    "MAX_SENTS = 24\n",
    "VALIDATION_SPLIT = 0.2"
   ]
  },
  {
   "cell_type": "code",
   "execution_count": 2,
   "metadata": {},
   "outputs": [],
   "source": [
    "from sklearn.preprocessing import MinMaxScaler  \n",
    "from sklearn.preprocessing import StandardScaler  \n",
    "from pandas import concat\n",
    "\n",
    "std = StandardScaler()"
   ]
  },
  {
   "cell_type": "code",
   "execution_count": 3,
   "metadata": {},
   "outputs": [],
   "source": [
    "import pandas as pd\n",
    "#matplotlib inline\n",
    "#参数初始化\n",
    "discfile = '../data/data_wea_time_unify.csv'\n",
    "\n",
    "data = pd.read_csv(discfile)"
   ]
  },
  {
   "cell_type": "code",
   "execution_count": 4,
   "metadata": {},
   "outputs": [],
   "source": [
    "futrue_time=24\n",
    "\n",
    "time_step=24"
   ]
  },
  {
   "cell_type": "code",
   "execution_count": 5,
   "metadata": {},
   "outputs": [],
   "source": [
    "for i in range(24,96):\n",
    "    data['PM25_m'+str(i)]=data['PM25_mean'].shift(-i)\n",
    "data=data.dropna(how='any')"
   ]
  },
  {
   "cell_type": "code",
   "execution_count": 6,
   "metadata": {},
   "outputs": [],
   "source": [
    "target_data=data.iloc[:,76:]\n",
    "source_data=data.iloc[:,4:58]\n",
    "\n",
    "import copy\n",
    "sd=copy.deepcopy(source_data)\n",
    "td=copy.deepcopy(target_data)\n",
    "\n",
    "td=td.dropna(how='any')\n",
    "# td=std.fit_transform(td)\n",
    "sd=std.fit_transform(sd)\n",
    "# sd=sd.values\n",
    "td=td.values\n",
    "td_test=td[5801:,:futrue_time]   \n",
    "td=td[:5801,:futrue_time]\n",
    "sd_m=[]\n",
    "for i in range(1,MAX_SENTS+1):\n",
    "    locals()['sd'+str(i)]=sd[i-1:5800+i]\n",
    "\n",
    "    sd_m.append(locals()['sd'+str(i)])\n",
    "sd_m=(np.array(sd_m).swapaxes(0,1))\n",
    "\n",
    "\n",
    "######test\n",
    "sd_m_test=[]\n",
    "for i in range(1,25):\n",
    "    locals()['sd_t'+str(i)]=sd[5800+i:5969-24+i]\n",
    "    \n",
    "    sd_m_test.append(locals()['sd_t'+str(i)])\n",
    "\n",
    "sd_m_test=(np.array(sd_m_test).swapaxes(0,1))"
   ]
  },
  {
   "cell_type": "code",
   "execution_count": 7,
   "metadata": {},
   "outputs": [],
   "source": [
    "wea_data=data.iloc[:,67:75]\n",
    "# wea_data=std.fit_transform(wea_data)\n",
    "# wea_data=pd.DataFrame(wea_data)\n",
    "w=wea_data[['Conditions','Wind Dir','Quality evaluation']]\n",
    "# w=std.fit_transform(w)\n",
    "w_m=[]\n",
    "for i in range(1,25):\n",
    "    locals()['w'+str(i)]=w[i-1:5800+i].values\n",
    "    \n",
    "    w_m.append(locals()['w'+str(i)])\n",
    "    \n",
    "wea=wea_data[['Dew Point','Humidity','Pressure','Temp.','Wind Speed']]\n",
    "wea=std.fit_transform(wea)\n",
    "wea_m=[]\n",
    "for i in range(1,25):\n",
    "    locals()['wea'+str(i)]=wea[i-1:5800+i]\n",
    "    \n",
    "    wea_m.append(locals()['wea'+str(i)])"
   ]
  },
  {
   "cell_type": "code",
   "execution_count": 8,
   "metadata": {},
   "outputs": [],
   "source": [
    "time_data=data.iloc[:,64:67]\n",
    "# time_data=std.fit_transform(time_data)\n",
    "time_m=[]\n",
    "for i in range(1,25):\n",
    "    locals()['time'+str(i)]=time_data[i-1:5800+i].values\n",
    "    \n",
    "    time_m.append(locals()['time'+str(i)])"
   ]
  },
  {
   "cell_type": "code",
   "execution_count": 9,
   "metadata": {},
   "outputs": [],
   "source": [
    "time_m=(np.array(time_m).swapaxes(0,1))\n",
    "w_m=(np.array(w_m).swapaxes(0,1))\n",
    "wea_m=(np.array(wea_m).swapaxes(0,1))"
   ]
  },
  {
   "cell_type": "code",
   "execution_count": 10,
   "metadata": {},
   "outputs": [],
   "source": [
    "time_m_test=[]\n",
    "for i in range(1,25):\n",
    "    locals()['time_t'+str(i)]=time_data[5800+i:5969-24+i].values\n",
    "    \n",
    "    time_m_test.append(locals()['time_t'+str(i)])\n",
    "\n",
    "time_m_test=(np.array(time_m_test).swapaxes(0,1))\n",
    "\n",
    "w_m_test=[]\n",
    "for i in range(1,25):\n",
    "    locals()['w_t'+str(i)]=w[5800+i:5969-24+i].values\n",
    "    \n",
    "    w_m_test.append(locals()['w_t'+str(i)])\n",
    "\n",
    "w_m_test=(np.array(w_m_test).swapaxes(0,1))\n",
    "\n",
    "wea_m_test=[]\n",
    "for i in range(1,25):\n",
    "    locals()['wea_t'+str(i)]=wea[5800+i:5969-24+i]\n",
    "    \n",
    "    wea_m_test.append(locals()['wea_t'+str(i)])\n",
    "\n",
    "wea_m_test=(np.array(wea_m_test).swapaxes(0,1))"
   ]
  },
  {
   "cell_type": "code",
   "execution_count": 11,
   "metadata": {},
   "outputs": [],
   "source": [
    "import h5py\n",
    "import os\n",
    "\n",
    "ground = h5py.File('../data/inte_g_12.h5', 'r')\n",
    "g = ground['X']\n",
    "\n",
    "ele_zs = h5py.File('../data/inte_e_zs_12_new.h5', 'r')\n",
    "ezs = ele_zs['X']\n",
    "\n",
    "ele_sd = h5py.File('../data/inte_e_sd_12_new.h5', 'r')\n",
    "esd = ele_sd['X']\n",
    "\n",
    "g_m=[]\n",
    "for i in range(1,25):\n",
    "    locals()['g'+str(i)]=g[i-1:5800+i]\n",
    "    \n",
    "    g_m.append(locals()['g'+str(i)])\n",
    "g_m=(np.array(g_m).swapaxes(0,1))\n",
    "g_m=g_m.reshape(5801, 24, 16,16,1)\n",
    "\n",
    "ezs_m=[]\n",
    "for i in range(1,25):\n",
    "    locals()['ezs'+str(i)]=ezs[i-1:5800+i]\n",
    "    \n",
    "    ezs_m.append(locals()['ezs'+str(i)])\n",
    "ezs_m=(np.array(ezs_m).swapaxes(0,1))\n",
    "\n",
    "ezs_m=ezs_m.reshape(5801, 24, 16,16,1)\n",
    "\n",
    "esd_m=[]\n",
    "for i in range(1,25):\n",
    "    locals()['esd'+str(i)]=esd[i-1:5800+i]\n",
    "    \n",
    "    esd_m.append(locals()['esd'+str(i)])\n",
    "esd_m=(np.array(esd_m).swapaxes(0,1))\n",
    "\n",
    "esd_m=esd_m.reshape(5801, 24, 16,16,1)\n",
    "\n",
    "ge_m=[ezs_m,esd_m,g_m]\n",
    "\n",
    "ge_m=np.array(ge_m).reshape(5801, 24, 16,16,3)"
   ]
  },
  {
   "cell_type": "code",
   "execution_count": 12,
   "metadata": {},
   "outputs": [],
   "source": [
    "#####test\n",
    "g_m_test=[]\n",
    "for i in range(1,25):\n",
    "    locals()['g_t'+str(i)]=g[5800+i:5969-24+i]\n",
    "    \n",
    "    g_m_test.append(locals()['g_t'+str(i)])\n",
    "g_m_test=(np.array(g_m_test).swapaxes(0,1))\n",
    "\n",
    "g_m_test=g_m_test.reshape(145, 24, 16,16,1)\n",
    "\n",
    "ezs_m_test=[]\n",
    "for i in range(1,25):\n",
    "    locals()['ezs_t'+str(i)]=ezs[5800+i:5969-24+i]\n",
    "    \n",
    "    ezs_m_test.append(locals()['ezs_t'+str(i)])\n",
    "ezs_m_test=(np.array(ezs_m_test).swapaxes(0,1))\n",
    "\n",
    "ezs_m_test=ezs_m_test.reshape(145, 24, 16,16,1)\n",
    "\n",
    "esd_m_test=[]\n",
    "for i in range(1,25):\n",
    "    locals()['esd_t'+str(i)]=esd[5800+i:5969-24+i]\n",
    "    \n",
    "    esd_m_test.append(locals()['esd_t'+str(i)])\n",
    "esd_m_test=(np.array(esd_m_test).swapaxes(0,1))\n",
    "\n",
    "esd_m_test=esd_m_test.reshape(145, 24, 16,16,1)\n",
    "ge_m_test=[ezs_m_test,esd_m_test,g_m_test]\n",
    "\n",
    "ge_m_test=np.array(ge_m_test).reshape(145, 24, 16,16,3)"
   ]
  },
  {
   "cell_type": "code",
   "execution_count": 91,
   "metadata": {
    "collapsed": true
   },
   "outputs": [
    {
     "name": "stdout",
     "output_type": "stream",
     "text": [
      "Train on 4640 samples, validate on 1161 samples\n",
      "Epoch 1/80\n",
      " - 41s - loss: 46.8519 - val_loss: 28.5647\n",
      "Epoch 2/80\n",
      " - 37s - loss: 30.1532 - val_loss: 24.9449\n",
      "Epoch 3/80\n",
      " - 36s - loss: 27.9533 - val_loss: 24.1600\n",
      "Epoch 4/80\n",
      " - 40s - loss: 27.2684 - val_loss: 23.9714\n",
      "Epoch 5/80\n",
      " - 40s - loss: 26.3524 - val_loss: 24.1016\n",
      "Epoch 6/80\n",
      " - 40s - loss: 25.5113 - val_loss: 22.7209\n",
      "Epoch 7/80\n",
      " - 40s - loss: 24.8671 - val_loss: 23.1948\n",
      "Epoch 8/80\n",
      " - 38s - loss: 24.2101 - val_loss: 22.2290\n",
      "Epoch 9/80\n",
      " - 40s - loss: 23.6214 - val_loss: 21.7097\n",
      "Epoch 10/80\n",
      " - 36s - loss: 23.0741 - val_loss: 22.2416\n",
      "Epoch 11/80\n",
      " - 40s - loss: 22.5979 - val_loss: 21.7711\n",
      "Epoch 12/80\n",
      " - 40s - loss: 22.1984 - val_loss: 21.6049\n",
      "Epoch 13/80\n",
      " - 40s - loss: 21.7621 - val_loss: 21.1141\n",
      "Epoch 14/80\n",
      " - 40s - loss: 21.5129 - val_loss: 20.5536\n",
      "Epoch 15/80\n"
     ]
    },
    {
     "ename": "KeyboardInterrupt",
     "evalue": "",
     "output_type": "error",
     "traceback": [
      "\u001b[1;31m---------------------------------------------------------------------------\u001b[0m",
      "\u001b[1;31mKeyboardInterrupt\u001b[0m                         Traceback (most recent call last)",
      "\u001b[1;32m<ipython-input-91-0445ea7cde62>\u001b[0m in \u001b[0;36m<module>\u001b[1;34m()\u001b[0m\n\u001b[0;32m    131\u001b[0m \u001b[1;33m\u001b[0m\u001b[0m\n\u001b[0;32m    132\u001b[0m \u001b[0mmodel\u001b[0m\u001b[1;33m=\u001b[0m\u001b[0mcreate_model\u001b[0m\u001b[1;33m(\u001b[0m\u001b[1;33m)\u001b[0m\u001b[1;33m\u001b[0m\u001b[0m\n\u001b[1;32m--> 133\u001b[1;33m \u001b[0mhistory\u001b[0m\u001b[1;33m=\u001b[0m\u001b[0mmodel\u001b[0m\u001b[1;33m.\u001b[0m\u001b[0mfit\u001b[0m\u001b[1;33m(\u001b[0m\u001b[1;33m[\u001b[0m\u001b[0mtime_m\u001b[0m\u001b[1;33m,\u001b[0m\u001b[0mw_m\u001b[0m\u001b[1;33m,\u001b[0m\u001b[0mwea_m\u001b[0m\u001b[1;33m,\u001b[0m\u001b[0mge_m\u001b[0m\u001b[1;33m,\u001b[0m\u001b[0msd_m\u001b[0m\u001b[1;33m]\u001b[0m\u001b[1;33m,\u001b[0m\u001b[0mtd\u001b[0m\u001b[1;33m,\u001b[0m \u001b[0mepochs\u001b[0m\u001b[1;33m=\u001b[0m\u001b[1;36m80\u001b[0m\u001b[1;33m,\u001b[0m \u001b[0mbatch_size\u001b[0m\u001b[1;33m=\u001b[0m\u001b[1;36m128\u001b[0m\u001b[1;33m,\u001b[0m\u001b[0mverbose\u001b[0m\u001b[1;33m=\u001b[0m\u001b[1;36m2\u001b[0m\u001b[1;33m,\u001b[0m\u001b[0mvalidation_split\u001b[0m\u001b[1;33m=\u001b[0m\u001b[1;36m0.2\u001b[0m\u001b[1;33m,\u001b[0m\u001b[0mshuffle\u001b[0m\u001b[1;33m=\u001b[0m\u001b[1;32mTrue\u001b[0m\u001b[1;33m)\u001b[0m\u001b[1;33m\u001b[0m\u001b[0m\n\u001b[0m\u001b[0;32m    134\u001b[0m \u001b[1;31m# 绘制训练 & 验证的损失值\u001b[0m\u001b[1;33m\u001b[0m\u001b[1;33m\u001b[0m\u001b[0m\n\u001b[0;32m    135\u001b[0m \u001b[0mplt\u001b[0m\u001b[1;33m.\u001b[0m\u001b[0mplot\u001b[0m\u001b[1;33m(\u001b[0m\u001b[0mhistory\u001b[0m\u001b[1;33m.\u001b[0m\u001b[0mhistory\u001b[0m\u001b[1;33m[\u001b[0m\u001b[1;34m'loss'\u001b[0m\u001b[1;33m]\u001b[0m\u001b[1;33m)\u001b[0m\u001b[1;33m\u001b[0m\u001b[0m\n",
      "\u001b[1;32mD:\\Program Files (x86)\\Anaconda3\\envs\\tensorflow\\lib\\site-packages\\keras\\engine\\training.py\u001b[0m in \u001b[0;36mfit\u001b[1;34m(self, x, y, batch_size, epochs, verbose, callbacks, validation_split, validation_data, shuffle, class_weight, sample_weight, initial_epoch, steps_per_epoch, validation_steps, **kwargs)\u001b[0m\n\u001b[0;32m   1037\u001b[0m                                         \u001b[0minitial_epoch\u001b[0m\u001b[1;33m=\u001b[0m\u001b[0minitial_epoch\u001b[0m\u001b[1;33m,\u001b[0m\u001b[1;33m\u001b[0m\u001b[0m\n\u001b[0;32m   1038\u001b[0m                                         \u001b[0msteps_per_epoch\u001b[0m\u001b[1;33m=\u001b[0m\u001b[0msteps_per_epoch\u001b[0m\u001b[1;33m,\u001b[0m\u001b[1;33m\u001b[0m\u001b[0m\n\u001b[1;32m-> 1039\u001b[1;33m                                         validation_steps=validation_steps)\n\u001b[0m\u001b[0;32m   1040\u001b[0m \u001b[1;33m\u001b[0m\u001b[0m\n\u001b[0;32m   1041\u001b[0m     def evaluate(self, x=None, y=None,\n",
      "\u001b[1;32mD:\\Program Files (x86)\\Anaconda3\\envs\\tensorflow\\lib\\site-packages\\keras\\engine\\training_arrays.py\u001b[0m in \u001b[0;36mfit_loop\u001b[1;34m(model, f, ins, out_labels, batch_size, epochs, verbose, callbacks, val_f, val_ins, shuffle, callback_metrics, initial_epoch, steps_per_epoch, validation_steps)\u001b[0m\n\u001b[0;32m    197\u001b[0m                     \u001b[0mins_batch\u001b[0m\u001b[1;33m[\u001b[0m\u001b[0mi\u001b[0m\u001b[1;33m]\u001b[0m \u001b[1;33m=\u001b[0m \u001b[0mins_batch\u001b[0m\u001b[1;33m[\u001b[0m\u001b[0mi\u001b[0m\u001b[1;33m]\u001b[0m\u001b[1;33m.\u001b[0m\u001b[0mtoarray\u001b[0m\u001b[1;33m(\u001b[0m\u001b[1;33m)\u001b[0m\u001b[1;33m\u001b[0m\u001b[0m\n\u001b[0;32m    198\u001b[0m \u001b[1;33m\u001b[0m\u001b[0m\n\u001b[1;32m--> 199\u001b[1;33m                 \u001b[0mouts\u001b[0m \u001b[1;33m=\u001b[0m \u001b[0mf\u001b[0m\u001b[1;33m(\u001b[0m\u001b[0mins_batch\u001b[0m\u001b[1;33m)\u001b[0m\u001b[1;33m\u001b[0m\u001b[0m\n\u001b[0m\u001b[0;32m    200\u001b[0m                 \u001b[0mouts\u001b[0m \u001b[1;33m=\u001b[0m \u001b[0mto_list\u001b[0m\u001b[1;33m(\u001b[0m\u001b[0mouts\u001b[0m\u001b[1;33m)\u001b[0m\u001b[1;33m\u001b[0m\u001b[0m\n\u001b[0;32m    201\u001b[0m                 \u001b[1;32mfor\u001b[0m \u001b[0ml\u001b[0m\u001b[1;33m,\u001b[0m \u001b[0mo\u001b[0m \u001b[1;32min\u001b[0m \u001b[0mzip\u001b[0m\u001b[1;33m(\u001b[0m\u001b[0mout_labels\u001b[0m\u001b[1;33m,\u001b[0m \u001b[0mouts\u001b[0m\u001b[1;33m)\u001b[0m\u001b[1;33m:\u001b[0m\u001b[1;33m\u001b[0m\u001b[0m\n",
      "\u001b[1;32mD:\\Program Files (x86)\\Anaconda3\\envs\\tensorflow\\lib\\site-packages\\keras\\backend\\tensorflow_backend.py\u001b[0m in \u001b[0;36m__call__\u001b[1;34m(self, inputs)\u001b[0m\n\u001b[0;32m   2713\u001b[0m                 \u001b[1;32mreturn\u001b[0m \u001b[0mself\u001b[0m\u001b[1;33m.\u001b[0m\u001b[0m_legacy_call\u001b[0m\u001b[1;33m(\u001b[0m\u001b[0minputs\u001b[0m\u001b[1;33m)\u001b[0m\u001b[1;33m\u001b[0m\u001b[0m\n\u001b[0;32m   2714\u001b[0m \u001b[1;33m\u001b[0m\u001b[0m\n\u001b[1;32m-> 2715\u001b[1;33m             \u001b[1;32mreturn\u001b[0m \u001b[0mself\u001b[0m\u001b[1;33m.\u001b[0m\u001b[0m_call\u001b[0m\u001b[1;33m(\u001b[0m\u001b[0minputs\u001b[0m\u001b[1;33m)\u001b[0m\u001b[1;33m\u001b[0m\u001b[0m\n\u001b[0m\u001b[0;32m   2716\u001b[0m         \u001b[1;32melse\u001b[0m\u001b[1;33m:\u001b[0m\u001b[1;33m\u001b[0m\u001b[0m\n\u001b[0;32m   2717\u001b[0m             \u001b[1;32mif\u001b[0m \u001b[0mpy_any\u001b[0m\u001b[1;33m(\u001b[0m\u001b[0mis_tensor\u001b[0m\u001b[1;33m(\u001b[0m\u001b[0mx\u001b[0m\u001b[1;33m)\u001b[0m \u001b[1;32mfor\u001b[0m \u001b[0mx\u001b[0m \u001b[1;32min\u001b[0m \u001b[0minputs\u001b[0m\u001b[1;33m)\u001b[0m\u001b[1;33m:\u001b[0m\u001b[1;33m\u001b[0m\u001b[0m\n",
      "\u001b[1;32mD:\\Program Files (x86)\\Anaconda3\\envs\\tensorflow\\lib\\site-packages\\keras\\backend\\tensorflow_backend.py\u001b[0m in \u001b[0;36m_call\u001b[1;34m(self, inputs)\u001b[0m\n\u001b[0;32m   2673\u001b[0m             \u001b[0mfetched\u001b[0m \u001b[1;33m=\u001b[0m \u001b[0mself\u001b[0m\u001b[1;33m.\u001b[0m\u001b[0m_callable_fn\u001b[0m\u001b[1;33m(\u001b[0m\u001b[1;33m*\u001b[0m\u001b[0marray_vals\u001b[0m\u001b[1;33m,\u001b[0m \u001b[0mrun_metadata\u001b[0m\u001b[1;33m=\u001b[0m\u001b[0mself\u001b[0m\u001b[1;33m.\u001b[0m\u001b[0mrun_metadata\u001b[0m\u001b[1;33m)\u001b[0m\u001b[1;33m\u001b[0m\u001b[0m\n\u001b[0;32m   2674\u001b[0m         \u001b[1;32melse\u001b[0m\u001b[1;33m:\u001b[0m\u001b[1;33m\u001b[0m\u001b[0m\n\u001b[1;32m-> 2675\u001b[1;33m             \u001b[0mfetched\u001b[0m \u001b[1;33m=\u001b[0m \u001b[0mself\u001b[0m\u001b[1;33m.\u001b[0m\u001b[0m_callable_fn\u001b[0m\u001b[1;33m(\u001b[0m\u001b[1;33m*\u001b[0m\u001b[0marray_vals\u001b[0m\u001b[1;33m)\u001b[0m\u001b[1;33m\u001b[0m\u001b[0m\n\u001b[0m\u001b[0;32m   2676\u001b[0m         \u001b[1;32mreturn\u001b[0m \u001b[0mfetched\u001b[0m\u001b[1;33m[\u001b[0m\u001b[1;33m:\u001b[0m\u001b[0mlen\u001b[0m\u001b[1;33m(\u001b[0m\u001b[0mself\u001b[0m\u001b[1;33m.\u001b[0m\u001b[0moutputs\u001b[0m\u001b[1;33m)\u001b[0m\u001b[1;33m]\u001b[0m\u001b[1;33m\u001b[0m\u001b[0m\n\u001b[0;32m   2677\u001b[0m \u001b[1;33m\u001b[0m\u001b[0m\n",
      "\u001b[1;32mD:\\Program Files (x86)\\Anaconda3\\envs\\tensorflow\\lib\\site-packages\\tensorflow\\python\\client\\session.py\u001b[0m in \u001b[0;36m__call__\u001b[1;34m(self, *args, **kwargs)\u001b[0m\n\u001b[0;32m   1380\u001b[0m           ret = tf_session.TF_SessionRunCallable(\n\u001b[0;32m   1381\u001b[0m               \u001b[0mself\u001b[0m\u001b[1;33m.\u001b[0m\u001b[0m_session\u001b[0m\u001b[1;33m.\u001b[0m\u001b[0m_session\u001b[0m\u001b[1;33m,\u001b[0m \u001b[0mself\u001b[0m\u001b[1;33m.\u001b[0m\u001b[0m_handle\u001b[0m\u001b[1;33m,\u001b[0m \u001b[0margs\u001b[0m\u001b[1;33m,\u001b[0m \u001b[0mstatus\u001b[0m\u001b[1;33m,\u001b[0m\u001b[1;33m\u001b[0m\u001b[0m\n\u001b[1;32m-> 1382\u001b[1;33m               run_metadata_ptr)\n\u001b[0m\u001b[0;32m   1383\u001b[0m         \u001b[1;32mif\u001b[0m \u001b[0mrun_metadata\u001b[0m\u001b[1;33m:\u001b[0m\u001b[1;33m\u001b[0m\u001b[0m\n\u001b[0;32m   1384\u001b[0m           \u001b[0mproto_data\u001b[0m \u001b[1;33m=\u001b[0m \u001b[0mtf_session\u001b[0m\u001b[1;33m.\u001b[0m\u001b[0mTF_GetBuffer\u001b[0m\u001b[1;33m(\u001b[0m\u001b[0mrun_metadata_ptr\u001b[0m\u001b[1;33m)\u001b[0m\u001b[1;33m\u001b[0m\u001b[0m\n",
      "\u001b[1;31mKeyboardInterrupt\u001b[0m: "
     ]
    }
   ],
   "source": [
    "from keras.layers import LeakyReLU\n",
    "class AttentionLayer(Layer):\n",
    "    def __init__(self, **kwargs):\n",
    "        super(AttentionLayer, self).__init__(** kwargs)\n",
    "    \n",
    "    def build(self, input_shape):\n",
    "        assert len(input_shape)==3\n",
    "        # W.shape = (time_steps, time_steps)\n",
    "        self.W = self.add_weight(name='att_weight', \n",
    "                                 shape=(input_shape[1], input_shape[1]),\n",
    "                                 initializer='uniform',\n",
    "                                 trainable=True)\n",
    "        super(AttentionLayer, self).build(input_shape)\n",
    "\n",
    "    def call(self, inputs, mask=None):\n",
    "        x = K.permute_dimensions(inputs, (0, 2, 1))\n",
    "        # x.shape = (batch_size, seq_len, time_steps)\n",
    "        # general\n",
    "        a = K.softmax(K.tanh(K.dot(x, self.W)))\n",
    "        a = K.permute_dimensions(a, (0, 2, 1))\n",
    "        outputs = a * inputs\n",
    "        outputs = K.sum(outputs, axis=1)\n",
    "        return outputs\n",
    "\n",
    "    def compute_output_shape(self, input_shape):\n",
    "        return input_shape[0], input_shape[2]\n",
    "\n",
    "def create_model(learn_rate=0.001, neurons=24, traffic_n=3):\n",
    "#     时间戳模块    \n",
    "    inp_time=Input(shape=(3,))\n",
    "    inp_time1 = Reshape((3,1))(inp_time)\n",
    "    embed_time = Dense(3)(inp_time1)\n",
    "#     embed_time = Dense(3)(embed_time)\n",
    "    embed_time=Flatten()(embed_time)\n",
    "    embed_time=BatchNormalization()(embed_time)\n",
    "    tm=Model(inputs=inp_time, outputs=embed_time)\n",
    "    \n",
    "#     离散型气象数据模块\n",
    "    inp_w=Input(shape=(3,))\n",
    "    embed_w = Reshape((3,1))(inp_w)\n",
    "    embed_w1 = Dense(3)(embed_w)\n",
    "#     embed_w1 = Dense(3)(embed_w1)\n",
    "#     embed_w = Embedding(18, 2, input_length=3)(inp_w)\n",
    "#     embed_w = AttentionLayer()(embed_w)\n",
    "    embed_w2=Flatten()(embed_w1)\n",
    "    embed_w3=BatchNormalization()(embed_w2)\n",
    "    wm=Model(inputs=inp_w, outputs=embed_w3)\n",
    "    \n",
    "#     连续型气象数据模块\n",
    "    inp_we=Input(shape=(5,))\n",
    "#     embed_we = Reshape((5,1))(inp_we)\n",
    "    embed_we=BatchNormalization()(inp_we)\n",
    "#     embed_we = AttentionLayer()(embed_we)\n",
    "#     input_we_time=keras.layers.concatenate([embed_time,embed_w,embed_we])\n",
    "    weam=Model(inputs=inp_we, outputs=embed_we)\n",
    "    \n",
    "    \n",
    "#     交通指数数据模块\n",
    "    inp=Input(shape=(16, 16, 3))\n",
    "    out=Conv2D(filters=1, kernel_size=2, strides=1)(inp)\n",
    "#     print(out.shape)\n",
    "    out=BatchNormalization()(out)\n",
    "    out=LeakyReLU('0.05')(out)\n",
    "#     out=Activation('relu')(out)\n",
    "    # out=MaxPooling2D(pool_size=(3, 3), strides=2)(out)\n",
    "    # print(out.shape)\n",
    "    out=AveragePooling2D()(out)\n",
    "#     out=GlobalAveragePooling2D()(out)\n",
    "    out=Flatten()(out)\n",
    "    out=Dense(traffic_n)(out)\n",
    "    tra=Model(inputs=inp, outputs=out)\n",
    "    \n",
    "#     特征组件\n",
    "    sentence_input = Input(shape=(54+traffic_n,))\n",
    "    # s_input=keras.layers.concatenate([sentence_input])\n",
    "    embed = Reshape((54+traffic_n,1))(sentence_input)\n",
    "    l_dense = TimeDistributed(Dense(32))(embed)\n",
    "    l_att = AttentionLayer()(l_dense)\n",
    "\n",
    "    sentEncoder = Model(sentence_input, l_att)\n",
    "\n",
    "    \n",
    "    review_input = Input(shape=(MAX_SENTS,54))\n",
    "    r_input = Input(shape=(MAX_SENTS,16, 16, 3))\n",
    "    r_encoder = TimeDistributed(tra)(r_input)\n",
    "    s_input=keras.layers.concatenate([r_encoder,review_input])\n",
    "    \n",
    "    review_encoder = TimeDistributed(sentEncoder)(s_input)\n",
    "    \n",
    "    time_input=Input(shape=(MAX_SENTS,3))\n",
    "    t_encoder = TimeDistributed(tm)(time_input)\n",
    "\n",
    "    w_input=Input(shape=(MAX_SENTS,3))\n",
    "    w_encoder = TimeDistributed(wm)(w_input)\n",
    "\n",
    "    wea_input=Input(shape=(MAX_SENTS,5))\n",
    "    wea_encoder = TimeDistributed(weam)(wea_input)\n",
    "#     we_time_encoder=keras.layers.concatenate([wea_input,review_encoder])\n",
    "#     we_time_encoder=keras.layers.concatenate([t_encoder,w_encoder,wea_input,review_encoder])\n",
    "\n",
    "#     l_lstm_sent = Bidirectional(GRU(50, return_sequences=True))(we_time_encoder)\n",
    "\n",
    "#     l_lstm_sent = Bidirectional(GRU(32, return_sequences=True))(review_encoder)\n",
    "    l_lstm_sent=TCN(padding='same',return_sequences=True)(review_encoder)\n",
    "    we_time_encoder=keras.layers.concatenate([t_encoder,w_encoder,wea_input,l_lstm_sent])\n",
    "\n",
    "    l_dense_sent = TimeDistributed(Dense(64))(we_time_encoder)\n",
    "#     l_dense_sent = TCN(padding='same',return_sequences=True)(we_time_encoder)\n",
    "#     l_att_sent = AttentionLayer()(l_dense_sent)\n",
    "#     l_dense_sent1 = Lambda(lambda x: K.permute_dimensions(x, (0, 2, 1)))(l_dense_sent)\n",
    "#     l_dense_sent2=Activation('tanh')(l_dense_sent1)\n",
    "#     l_dense_sent3=Activation('relu')(l_dense_sent2)\n",
    "    \n",
    "# #     a = K.permute_dimensions(a, (0, 2, 1))\n",
    "#     l_dense_sent4 = Lambda(lambda x: K.permute_dimensions(x, (0, 2, 1)))(l_dense_sent3)\n",
    "#     l_att_sent1 = Dot(axes=1)([l_dense_sent4 ,l_dense_sent])\n",
    "# #     outputs2 = K.sum(outputs1, axis=1)\n",
    "#     l_att_sent = Lambda(lambda x: K.sum(x, axis=1))(l_att_sent1)    \n",
    "    \n",
    "    \n",
    "#     l_dense_sent = Bidirectional(GRU(32, return_sequences=True))(we_time_encoder)\n",
    "\n",
    "    \n",
    "#     l_dense_sent = TimeDistributed(Dense(64))(we_time_encoder)\n",
    "    l_att_sent = AttentionLayer()(l_dense_sent)\n",
    "    preds = Dense(futrue_time)(l_att_sent)\n",
    "    model_1 = Model([time_input,w_input,wea_input,r_input,review_input], preds)\n",
    "    model_1.compile(optimizer=Adam(lr=learn_rate, beta_1=0.99, beta_2=0.999, decay=0.0006),\n",
    "                        loss='mae')\n",
    "    return model_1\n",
    "\n",
    "model=create_model()\n",
    "history=model.fit([time_m,w_m,wea_m,ge_m,sd_m],td, epochs=80, batch_size=128,verbose=2,validation_split=0.2,shuffle=True)\n",
    "# 绘制训练 & 验证的损失值\n",
    "plt.plot(history.history['loss'])\n",
    "plt.plot(history.history['val_loss'])\n",
    "plt.title('Model loss')\n",
    "plt.ylabel('Loss')\n",
    "plt.xlabel('Epoch')\n",
    "plt.legend(['Train', 'Test'], loc='upper left')\n",
    "plt.show()"
   ]
  },
  {
   "cell_type": "code",
   "execution_count": 92,
   "metadata": {},
   "outputs": [
    {
     "name": "stdout",
     "output_type": "stream",
     "text": [
      "__________________________________________________________________________________________________\n",
      "Layer (type)                    Output Shape         Param #     Connected to                     \n",
      "==================================================================================================\n",
      "input_47 (InputLayer)           (None, 24, 16, 16, 3 0                                            \n",
      "__________________________________________________________________________________________________\n",
      "time_distributed_29 (TimeDistri (None, 24, 3)        167         input_47[0][0]                   \n",
      "__________________________________________________________________________________________________\n",
      "input_46 (InputLayer)           (None, 24, 54)       0                                            \n",
      "__________________________________________________________________________________________________\n",
      "concatenate_9 (Concatenate)     (None, 24, 57)       0           time_distributed_29[0][0]        \n",
      "                                                                 input_46[0][0]                   \n",
      "__________________________________________________________________________________________________\n",
      "time_distributed_30 (TimeDistri (None, 24, 32)       3313        concatenate_9[0][0]              \n",
      "__________________________________________________________________________________________________\n",
      "conv1d_1 (Conv1D)               (None, 24, 64)       2112        time_distributed_30[0][0]        \n",
      "__________________________________________________________________________________________________\n",
      "conv1d_2 (Conv1D)               (None, 24, 64)       8256        conv1d_1[0][0]                   \n",
      "__________________________________________________________________________________________________\n",
      "activation_2 (Activation)       (None, 24, 64)       0           conv1d_2[0][0]                   \n",
      "__________________________________________________________________________________________________\n",
      "lambda_1 (Lambda)               (None, 24, 64)       0           activation_2[0][0]               \n",
      "__________________________________________________________________________________________________\n",
      "spatial_dropout1d_1 (SpatialDro (None, 24, 64)       0           lambda_1[0][0]                   \n",
      "__________________________________________________________________________________________________\n",
      "conv1d_3 (Conv1D)               (None, 24, 64)       4160        spatial_dropout1d_1[0][0]        \n",
      "__________________________________________________________________________________________________\n",
      "add_1 (Add)                     (None, 24, 64)       0           conv1d_1[0][0]                   \n",
      "                                                                 conv1d_3[0][0]                   \n",
      "__________________________________________________________________________________________________\n",
      "conv1d_4 (Conv1D)               (None, 24, 64)       8256        add_1[0][0]                      \n",
      "__________________________________________________________________________________________________\n",
      "activation_3 (Activation)       (None, 24, 64)       0           conv1d_4[0][0]                   \n",
      "__________________________________________________________________________________________________\n",
      "lambda_2 (Lambda)               (None, 24, 64)       0           activation_3[0][0]               \n",
      "__________________________________________________________________________________________________\n",
      "spatial_dropout1d_2 (SpatialDro (None, 24, 64)       0           lambda_2[0][0]                   \n",
      "__________________________________________________________________________________________________\n",
      "conv1d_5 (Conv1D)               (None, 24, 64)       4160        spatial_dropout1d_2[0][0]        \n",
      "__________________________________________________________________________________________________\n",
      "add_2 (Add)                     (None, 24, 64)       0           add_1[0][0]                      \n",
      "                                                                 conv1d_5[0][0]                   \n",
      "__________________________________________________________________________________________________\n",
      "conv1d_6 (Conv1D)               (None, 24, 64)       8256        add_2[0][0]                      \n",
      "__________________________________________________________________________________________________\n",
      "activation_4 (Activation)       (None, 24, 64)       0           conv1d_6[0][0]                   \n",
      "__________________________________________________________________________________________________\n",
      "lambda_3 (Lambda)               (None, 24, 64)       0           activation_4[0][0]               \n",
      "__________________________________________________________________________________________________\n",
      "spatial_dropout1d_3 (SpatialDro (None, 24, 64)       0           lambda_3[0][0]                   \n",
      "__________________________________________________________________________________________________\n",
      "conv1d_7 (Conv1D)               (None, 24, 64)       4160        spatial_dropout1d_3[0][0]        \n",
      "__________________________________________________________________________________________________\n",
      "add_3 (Add)                     (None, 24, 64)       0           add_2[0][0]                      \n",
      "                                                                 conv1d_7[0][0]                   \n",
      "__________________________________________________________________________________________________\n",
      "conv1d_8 (Conv1D)               (None, 24, 64)       8256        add_3[0][0]                      \n",
      "__________________________________________________________________________________________________\n",
      "activation_5 (Activation)       (None, 24, 64)       0           conv1d_8[0][0]                   \n",
      "__________________________________________________________________________________________________\n",
      "lambda_4 (Lambda)               (None, 24, 64)       0           activation_5[0][0]               \n",
      "__________________________________________________________________________________________________\n",
      "spatial_dropout1d_4 (SpatialDro (None, 24, 64)       0           lambda_4[0][0]                   \n",
      "__________________________________________________________________________________________________\n",
      "conv1d_9 (Conv1D)               (None, 24, 64)       4160        spatial_dropout1d_4[0][0]        \n",
      "__________________________________________________________________________________________________\n",
      "add_4 (Add)                     (None, 24, 64)       0           add_3[0][0]                      \n",
      "                                                                 conv1d_9[0][0]                   \n",
      "__________________________________________________________________________________________________\n",
      "conv1d_10 (Conv1D)              (None, 24, 64)       8256        add_4[0][0]                      \n",
      "__________________________________________________________________________________________________\n",
      "activation_6 (Activation)       (None, 24, 64)       0           conv1d_10[0][0]                  \n",
      "__________________________________________________________________________________________________\n",
      "lambda_5 (Lambda)               (None, 24, 64)       0           activation_6[0][0]               \n",
      "__________________________________________________________________________________________________\n",
      "spatial_dropout1d_5 (SpatialDro (None, 24, 64)       0           lambda_5[0][0]                   \n",
      "__________________________________________________________________________________________________\n",
      "conv1d_11 (Conv1D)              (None, 24, 64)       4160        spatial_dropout1d_5[0][0]        \n",
      "__________________________________________________________________________________________________\n",
      "add_5 (Add)                     (None, 24, 64)       0           add_4[0][0]                      \n",
      "                                                                 conv1d_11[0][0]                  \n",
      "__________________________________________________________________________________________________\n",
      "conv1d_12 (Conv1D)              (None, 24, 64)       8256        add_5[0][0]                      \n"
     ]
    },
    {
     "name": "stdout",
     "output_type": "stream",
     "text": [
      "__________________________________________________________________________________________________\n",
      "activation_7 (Activation)       (None, 24, 64)       0           conv1d_12[0][0]                  \n",
      "__________________________________________________________________________________________________\n",
      "lambda_6 (Lambda)               (None, 24, 64)       0           activation_7[0][0]               \n",
      "__________________________________________________________________________________________________\n",
      "spatial_dropout1d_6 (SpatialDro (None, 24, 64)       0           lambda_6[0][0]                   \n",
      "__________________________________________________________________________________________________\n",
      "conv1d_13 (Conv1D)              (None, 24, 64)       4160        spatial_dropout1d_6[0][0]        \n",
      "__________________________________________________________________________________________________\n",
      "input_48 (InputLayer)           (None, 24, 3)        0                                            \n",
      "__________________________________________________________________________________________________\n",
      "input_49 (InputLayer)           (None, 24, 3)        0                                            \n",
      "__________________________________________________________________________________________________\n",
      "add_7 (Add)                     (None, 24, 64)       0           conv1d_3[0][0]                   \n",
      "                                                                 conv1d_5[0][0]                   \n",
      "                                                                 conv1d_7[0][0]                   \n",
      "                                                                 conv1d_9[0][0]                   \n",
      "                                                                 conv1d_11[0][0]                  \n",
      "                                                                 conv1d_13[0][0]                  \n",
      "__________________________________________________________________________________________________\n",
      "time_distributed_31 (TimeDistri (None, 24, 9)        42          input_48[0][0]                   \n",
      "__________________________________________________________________________________________________\n",
      "time_distributed_32 (TimeDistri (None, 24, 9)        42          input_49[0][0]                   \n",
      "__________________________________________________________________________________________________\n",
      "input_50 (InputLayer)           (None, 24, 5)        0                                            \n",
      "__________________________________________________________________________________________________\n",
      "activation_8 (Activation)       (None, 24, 64)       0           add_7[0][0]                      \n",
      "__________________________________________________________________________________________________\n",
      "concatenate_10 (Concatenate)    (None, 24, 87)       0           time_distributed_31[0][0]        \n",
      "                                                                 time_distributed_32[0][0]        \n",
      "                                                                 input_50[0][0]                   \n",
      "                                                                 activation_8[0][0]               \n",
      "__________________________________________________________________________________________________\n",
      "time_distributed_34 (TimeDistri (None, 24, 64)       5632        concatenate_10[0][0]             \n",
      "__________________________________________________________________________________________________\n",
      "attention_layer_7 (AttentionLay (None, 64)           576         time_distributed_34[0][0]        \n",
      "__________________________________________________________________________________________________\n",
      "dense_35 (Dense)                (None, 24)           1560        attention_layer_7[0][0]          \n",
      "==================================================================================================\n",
      "Total params: 87,940\n",
      "Trainable params: 87,902\n",
      "Non-trainable params: 38\n",
      "__________________________________________________________________________________________________\n"
     ]
    }
   ],
   "source": [
    "model.summary()"
   ]
  },
  {
   "cell_type": "code",
   "execution_count": 81,
   "metadata": {},
   "outputs": [
    {
     "name": "stdout",
     "output_type": "stream",
     "text": [
      "22.67 29.187\n"
     ]
    }
   ],
   "source": [
    "pre_test=model.predict([time_m_test,w_m_test,wea_m_test,ge_m_test,sd_m_test])\n",
    "\n",
    "import numpy as np\n",
    "from sklearn.metrics import mean_absolute_error\n",
    "from sklearn.metrics import mean_squared_error\n",
    "print(np.round(mean_absolute_error(pre_test,td_test[:145]),3),np.round(np.sqrt(mean_squared_error(pre_test,td_test[:145])),3))\n",
    "# mean_absolute_error(pre_test,td_test[:145]),np.sqrt(mean_squared_error(pre_test,td_test[:145]))\n"
   ]
  },
  {
   "cell_type": "code",
   "execution_count": 64,
   "metadata": {},
   "outputs": [],
   "source": [
    "# f = K.function(model.inputs, [model.get_layer('dense_21').get_output_at(0) for t in range(24)])\n",
    "# f = K.function(model.inputs, [model.get_layer('attention_weights3').output])\n",
    "\n",
    "f = K.function(model.inputs, [model.get_layer('concatenate_6').output])\n",
    "\n",
    "t=22\n",
    "\n",
    "# r = f([time_m_test[1].reshape(1,24,3),w_m_test[1].reshape(1,24,3),wea_m_test[1].reshape(1,24,5),ge_m_test[1].reshape(1,24,16,16,3),sd_m_test[1].reshape(1,24,55)])\n",
    "\n",
    "r = f([time_m_test[t].reshape(1,24,3),w_m_test[t].reshape(1,24,3),wea_m_test[t].reshape(1,24,5),ge_m_test[t].reshape(1,24,16,16,3),sd_m_test[t].reshape(1,24,54)])\n",
    "\n",
    "# r = f([time_m,w_m,wea_m,ge_m,sd_m])\n",
    "\n"
   ]
  },
  {
   "cell_type": "code",
   "execution_count": 65,
   "metadata": {},
   "outputs": [
    {
     "data": {
      "text/plain": [
       "array([-1.60565114, -1.61168814, -1.60759902, -1.07545018, -1.25474048,\n",
       "       -1.1862427 , -1.9904629 , -2.90479803, -2.04758644,  0.34356499,\n",
       "        0.34838223, -0.67036569,  1.65496063,  1.31778765, -1.70392609,\n",
       "        0.12959051,  0.13021564, -0.13372993,  0.1201181 ,  1.00378025,\n",
       "       -1.24483192, -0.3540802 ,  2.27805638, -0.21498449,  0.2120931 ,\n",
       "       -0.20067246, -0.26316139,  0.28022641, -0.27509746,  0.24655509,\n",
       "       -0.1759035 ,  0.2690005 , -0.0428311 ,  0.12576929, -0.19226445,\n",
       "        0.17452338,  0.10024634, -0.18406463, -0.22333506,  0.25296929,\n",
       "       -0.24071747,  0.05770342, -0.11601439, -0.24185684,  0.16680843,\n",
       "        0.28006658, -0.1369556 ,  0.1928222 ,  0.14782353, -0.23274067,\n",
       "       -0.22320944, -0.14893307,  0.26807362,  0.14763112,  0.25975823,\n",
       "        0.99990451, -0.99979311,  0.9996978 ,  0.999735  , -0.9998799 ,\n",
       "       -0.99996322,  0.99993932, -0.99996531,  0.99980038,  0.99975097,\n",
       "        0.99964315, -0.99981707, -0.99986398,  0.99986184, -0.99991977,\n",
       "        0.99978501,  0.9998666 , -0.99904025,  0.99967605,  0.99998486,\n",
       "        0.99894798,  0.99954355, -0.9999181 ,  0.9999395 ,  0.99997669,\n",
       "        0.99964666, -0.99995571,  0.99279892, -0.99979532, -0.99997413,\n",
       "        0.99985754,  0.99978685], dtype=float32)"
      ]
     },
     "execution_count": 65,
     "metadata": {},
     "output_type": "execute_result"
    }
   ],
   "source": [
    "r[0][0][0]"
   ]
  },
  {
   "cell_type": "code",
   "execution_count": null,
   "metadata": {},
   "outputs": [],
   "source": []
  },
  {
   "cell_type": "code",
   "execution_count": null,
   "metadata": {},
   "outputs": [],
   "source": []
  },
  {
   "cell_type": "code",
   "execution_count": 20,
   "metadata": {},
   "outputs": [],
   "source": [
    "import innvestigate"
   ]
  },
  {
   "cell_type": "code",
   "execution_count": 93,
   "metadata": {},
   "outputs": [],
   "source": [
    "# analyzer = innvestigate.create_analyzer(\"lrp.z\", model, allow_lambda_layers = True)\n",
    "analyzer = innvestigate.create_analyzer(\"lrp.z\", model, allow_lambda_layers = True)"
   ]
  },
  {
   "cell_type": "code",
   "execution_count": 94,
   "metadata": {},
   "outputs": [],
   "source": [
    "tem=sd_m[0].reshape(1,24,54)\n",
    "tem1=ge_m[0].reshape(1,24, 16, 16, 3)\n",
    "tem2=time_m[0].reshape(1,24, 3)\n",
    "tem3=w_m[0].reshape(1,24, 3)\n",
    "tem4=wea_m[0].reshape(1,24,5)"
   ]
  },
  {
   "cell_type": "code",
   "execution_count": 95,
   "metadata": {},
   "outputs": [],
   "source": [
    "analysis = analyzer.analyze([tem2,tem3,tem4,tem1,tem])"
   ]
  },
  {
   "cell_type": "code",
   "execution_count": 119,
   "metadata": {},
   "outputs": [],
   "source": [
    "a=analysis[0]\n",
    "a = a.sum(axis=np.argmax(np.asarray(a.shape) == 3))\n",
    "a /= np.max(np.abs(a))"
   ]
  },
  {
   "cell_type": "code",
   "execution_count": 135,
   "metadata": {},
   "outputs": [
    {
     "data": {
      "text/plain": [
       "(24, 5)"
      ]
     },
     "execution_count": 135,
     "metadata": {},
     "output_type": "execute_result"
    }
   ],
   "source": [
    "np.shape(a2)"
   ]
  },
  {
   "cell_type": "code",
   "execution_count": 128,
   "metadata": {},
   "outputs": [
    {
     "data": {
      "text/plain": [
       "array([[-0.49735832, -0.5265522 , -0.52103627, -0.51862955, -0.52315205,\n",
       "        -0.51850593, -0.51739514, -0.51968604,  0.98840296,  0.9996708 ,\n",
       "         0.99372292,  0.99956232, -0.51374751,  0.99716723,  0.99405044,\n",
       "         0.99603361, -0.50925744, -0.51431334, -0.512025  , -0.51035821,\n",
       "        -0.50560743, -0.50662416, -0.50433177,  1.        ]], dtype=float32)"
      ]
     },
     "execution_count": 128,
     "metadata": {},
     "output_type": "execute_result"
    }
   ],
   "source": [
    "a0"
   ]
  },
  {
   "cell_type": "code",
   "execution_count": 122,
   "metadata": {},
   "outputs": [],
   "source": [
    "from IPython.display import display, HTML\n",
    "from heatmap import html_heatmap"
   ]
  },
  {
   "cell_type": "code",
   "execution_count": 129,
   "metadata": {},
   "outputs": [
    {
     "data": {
      "text/plain": [
       "<matplotlib.image.AxesImage at 0x26ce87dd438>"
      ]
     },
     "execution_count": 129,
     "metadata": {},
     "output_type": "execute_result"
    },
    {
     "data": {
      "image/png": "[encoded data removed]",
      "text/plain": [
       "<Figure size 432x288 with 1 Axes>"
      ]
     },
     "metadata": {
      "needs_background": "light"
     },
     "output_type": "display_data"
    }
   ],
   "source": [
    "a0=analysis[0]\n",
    "a0 = a0.sum(axis=np.argmax(np.asarray(a0.shape) == 3))\n",
    "a0 /= np.max(np.abs(a0))\n",
    "plt.imshow(a0, cmap=\"seismic\", clim=(-1, 1))"
   ]
  },
  {
   "cell_type": "code",
   "execution_count": 130,
   "metadata": {},
   "outputs": [
    {
     "data": {
      "text/plain": [
       "<matplotlib.image.AxesImage at 0x26ce882a0b8>"
      ]
     },
     "execution_count": 130,
     "metadata": {},
     "output_type": "execute_result"
    },
    {
     "data": {
      "image/png": "[encoded data removed]",
      "text/plain": [
       "<Figure size 432x288 with 1 Axes>"
      ]
     },
     "metadata": {
      "needs_background": "light"
     },
     "output_type": "display_data"
    }
   ],
   "source": [
    "a1=analysis[1]\n",
    "a1 = a1.sum(axis=np.argmax(np.asarray(a1.shape) == 3))\n",
    "a1 /= np.max(np.abs(a1))\n",
    "plt.imshow(a1, cmap=\"seismic\", clim=(-1, 1))"
   ]
  },
  {
   "cell_type": "code",
   "execution_count": 132,
   "metadata": {},
   "outputs": [
    {
     "data": {
      "text/plain": [
       "<matplotlib.image.AxesImage at 0x26ce88c6978>"
      ]
     },
     "execution_count": 132,
     "metadata": {},
     "output_type": "execute_result"
    },
    {
     "data": {
      "image/png": "[encoded data removed]",
      "text/plain": [
       "<Figure size 432x288 with 1 Axes>"
      ]
     },
     "metadata": {
      "needs_background": "light"
     },
     "output_type": "display_data"
    }
   ],
   "source": [
    "a2=analysis[2]\n",
    "a2 = a2.sum(axis=np.argmax(np.asarray(a2.shape) == 3))\n",
    "a2 /= np.max(np.abs(a2))\n",
    "plt.imshow(a2, cmap=\"seismic\", clim=(-1, 1))"
   ]
  },
  {
   "cell_type": "code",
   "execution_count": 139,
   "metadata": {},
   "outputs": [
    {
     "data": {
      "text/plain": [
       "<matplotlib.image.AxesImage at 0x26ce8a31828>"
      ]
     },
     "execution_count": 139,
     "metadata": {},
     "output_type": "execute_result"
    },
    {
     "data": {
      "image/png": "[encoded data removed]",
      "text/plain": [
       "<Figure size 432x288 with 1 Axes>"
      ]
     },
     "metadata": {
      "needs_background": "light"
     },
     "output_type": "display_data"
    }
   ],
   "source": [
    "a3=analysis[3]\n",
    "a3 = a3.sum(axis=np.argmax(np.asarray(a3.shape) == 3))\n",
    "a3 /= np.max(np.abs(a3))\n",
    "# plt.imshow(a2, cmap=\"seismic\", clim=(-1, 1))\n",
    "plt.imshow(a3[0][12], cmap=\"seismic\", clim=(-1, 1))"
   ]
  },
  {
   "cell_type": "code",
   "execution_count": 143,
   "metadata": {},
   "outputs": [
    {
     "data": {
      "text/html": [
       "<span style=\"background-color:#8e8eff\">0</span> <span style=\"background-color:#bebeff\">1</span> <span style=\"background-color:#7070ff\">2</span> <span style=\"background-color:#8888ff\">3</span> <span style=\"background-color:#5151ff\">4</span> <span style=\"background-color:#f6f6ff\">5</span> <span style=\"background-color:#d0d0ff\">6</span> <span style=\"background-color:#9a9aff\">7</span> <span style=\"background-color:#a3a3ff\">8</span> <span style=\"background-color:#b0b0ff\">9</span> <span style=\"background-color:#c2c2ff\">10</span> <span style=\"background-color:#9a9aff\">11</span> <span style=\"background-color:#bcbcff\">12</span> <span style=\"background-color:#6969ff\">13</span> <span style=\"background-color:#ffe2e2\">14</span> <span style=\"background-color:#ff5050\">15</span> <span style=\"background-color:#b0b0ff\">16</span> <span style=\"background-color:#f6f6ff\">17</span> <span style=\"background-color:#ff3636\">18</span> <span style=\"background-color:#ff7c7c\">19</span> <span style=\"background-color:#ff9c9c\">20</span> <span style=\"background-color:#ffb6b6\">21</span> <span style=\"background-color:#ff6666\">22</span> <span style=\"background-color:#fffafa\">23</span> <span style=\"background-color:#ffd3d3\">24</span> <span style=\"background-color:#ff9090\">25</span> <span style=\"background-color:#ffb8b8\">26</span> <span style=\"background-color:#ff2c2c\">27</span> <span style=\"background-color:#ff4444\">28</span> <span style=\"background-color:#a0a0ff\">29</span> <span style=\"background-color:#ff9e9e\">30</span> <span style=\"background-color:#dedeff\">31</span> <span style=\"background-color:#ffaaaa\">32</span> <span style=\"background-color:#fcfcff\">33</span> <span style=\"background-color:#ceceff\">34</span> <span style=\"background-color:#ff9a9a\">35</span> <span style=\"background-color:#ff9c9c\">36</span> <span style=\"background-color:#ffe2e2\">37</span> <span style=\"background-color:#ff7474\">38</span> <span style=\"background-color:#ff8e8e\">39</span> <span style=\"background-color:#ff0c0c\">40</span> <span style=\"background-color:#ff9090\">41</span> <span style=\"background-color:#ff8080\">42</span> <span style=\"background-color:#ff9696\">43</span> <span style=\"background-color:#ff8383\">44</span> <span style=\"background-color:#ff6161\">45</span> <span style=\"background-color:#ffa6a6\">46</span> <span style=\"background-color:#e2e2ff\">47</span> <span style=\"background-color:#ffacac\">48</span> <span style=\"background-color:#8c8cff\">49</span> <span style=\"background-color:#ff4e4e\">50</span> <span style=\"background-color:#ff3030\">51</span> <span style=\"background-color:#ff0000\">52</span> <span style=\"background-color:#fff4f4\">53</span> \n"
      ],
      "text/plain": [
       "<IPython.core.display.HTML object>"
      ]
     },
     "metadata": {},
     "output_type": "display_data"
    },
    {
     "data": {
      "image/png": "[encoded data removed]",
      "text/plain": [
       "<Figure size 432x288 with 1 Axes>"
      ]
     },
     "metadata": {
      "needs_background": "light"
     },
     "output_type": "display_data"
    }
   ],
   "source": [
    "a4=analysis[4]\n",
    "a4 = a4.sum(axis=np.argmax(np.asarray(a4.shape) == 3))\n",
    "a4 /= np.max(np.abs(a4))\n",
    "plt.imshow(a4, cmap=\"seismic\", clim=(-1, 1))\n",
    "\n",
    "\n",
    "display(HTML(html_heatmap([str(i) for i in range(54)], a4[0])))"
   ]
  },
  {
   "cell_type": "code",
   "execution_count": null,
   "metadata": {},
   "outputs": [],
   "source": []
  },
  {
   "cell_type": "code",
   "execution_count": null,
   "metadata": {},
   "outputs": [],
   "source": []
  },
  {
   "cell_type": "code",
   "execution_count": 90,
   "metadata": {},
   "outputs": [],
   "source": [
    "import keras.backend as K\n",
    "import keras.layers\n",
    "from keras import optimizers\n",
    "from keras.engine.topology import Layer\n",
    "from keras.layers import Activation, Lambda\n",
    "from keras.layers import Conv1D, SpatialDropout1D\n",
    "from keras.layers import Convolution1D, Dense\n",
    "from keras.models import Input, Model\n",
    "from typing import List, Tuple\n",
    "\n",
    "\n",
    "def channel_normalization(x):\n",
    "    # type: (Layer) -> Layer\n",
    "    \"\"\" Normalize a layer to the maximum activation\n",
    "\n",
    "    This keeps a layers values between zero and one.\n",
    "    It helps with relu's unbounded activation\n",
    "\n",
    "    Args:\n",
    "        x: The layer to normalize\n",
    "\n",
    "    Returns:\n",
    "        A maximal normalized layer\n",
    "    \"\"\"\n",
    "    max_values = K.max(K.abs(x), 2, keepdims=True) + 1e-5\n",
    "    out = x / max_values\n",
    "    return out\n",
    "\n",
    "\n",
    "def wave_net_activation(x):\n",
    "    # type: (Layer) -> Layer\n",
    "    \"\"\"This method defines the activation used for WaveNet\n",
    "\n",
    "    described in https://deepmind.com/blog/wavenet-generative-model-raw-audio/\n",
    "\n",
    "    Args:\n",
    "        x: The layer we want to apply the activation to\n",
    "\n",
    "    Returns:\n",
    "        A new layer with the wavenet activation applied\n",
    "    \"\"\"\n",
    "    tanh_out = Activation('tanh')(x)\n",
    "    sigm_out = Activation('sigmoid')(x)\n",
    "    return keras.layers.multiply([tanh_out, sigm_out])\n",
    "\n",
    "\n",
    "def residual_block(x, s, i, c, activation, nb_filters, kernel_size, padding, dropout_rate=0):\n",
    "    # type: (Layer, int, int, int, str, int, int, str, float, str) -> Tuple[Layer, Layer]\n",
    "    \"\"\"Defines the residual block for the WaveNet TCN\n",
    "\n",
    "    Args:\n",
    "        x: The previous layer in the model\n",
    "        s: The stack index i.e. which stack in the overall TCN\n",
    "        i: The dilation power of 2 we are using for this residual block\n",
    "        c: The dilation name to make it unique. In case we have same dilation twice: [1, 1, 2, 4].\n",
    "        activation: The name of the type of activation to use\n",
    "        nb_filters: The number of convolutional filters to use in this block\n",
    "        kernel_size: The size of the convolutional kernel\n",
    "        padding: The padding used in the convolutional layers, 'same' or 'causal'.\n",
    "        dropout_rate: Float between 0 and 1. Fraction of the input units to drop.\n",
    "        name: Name of the model. Useful when having multiple TCN.\n",
    "\n",
    "    Returns:\n",
    "        A tuple where the first element is the residual model layer, and the second\n",
    "        is the skip connection.\n",
    "    \"\"\"\n",
    "\n",
    "    original_x = x\n",
    "    conv = Conv1D(filters=nb_filters, kernel_size=kernel_size,\n",
    "                  dilation_rate=i, padding=padding)(x)\n",
    "    if activation == 'norm_relu':\n",
    "        x = Activation('relu')(conv)\n",
    "        x = Lambda(channel_normalization)(x)\n",
    "    elif activation == 'wavenet':\n",
    "        x = wave_net_activation(conv)\n",
    "    else:\n",
    "        x = Activation(activation)(conv)\n",
    "\n",
    "    x = SpatialDropout1D(dropout_rate)(x)\n",
    "\n",
    "    # 1x1 conv.\n",
    "    x = Convolution1D(nb_filters, 1, padding='same')(x)\n",
    "    res_x = keras.layers.add([original_x, x])\n",
    "    return res_x, x\n",
    "\n",
    "\n",
    "def process_dilations(dilations):\n",
    "    def is_power_of_two(num):\n",
    "        return num != 0 and ((num & (num - 1)) == 0)\n",
    "\n",
    "    if all([is_power_of_two(i) for i in dilations]):\n",
    "        return dilations\n",
    "\n",
    "    else:\n",
    "        new_dilations = [2 ** i for i in dilations]\n",
    "        # print(f'Updated dilations from {dilations} to {new_dilations} because of backwards compatibility.')\n",
    "        return new_dilations\n",
    "\n",
    "\n",
    "class TCN:\n",
    "    \"\"\"Creates a TCN layer.\n",
    "\n",
    "        Input shape:\n",
    "            A tensor of shape (batch_size, timesteps, input_dim).\n",
    "\n",
    "        Args:\n",
    "            nb_filters: The number of filters to use in the convolutional layers.\n",
    "            kernel_size: The size of the kernel to use in each convolutional layer.\n",
    "            dilations: The list of the dilations. Example is: [1, 2, 4, 8, 16, 32, 64].\n",
    "            nb_stacks : The number of stacks of residual blocks to use.\n",
    "            activation: The activations to use (norm_relu, wavenet, relu...).\n",
    "            padding: The padding to use in the convolutional layers, 'causal' or 'same'.\n",
    "            use_skip_connections: Boolean. If we want to add skip connections from input to each residual block.\n",
    "            return_sequences: Boolean. Whether to return the last output in the output sequence, or the full sequence.\n",
    "            dropout_rate: Float between 0 and 1. Fraction of the input units to drop.\n",
    "            name: Name of the model. Useful when having multiple TCN.\n",
    "\n",
    "        Returns:\n",
    "            A TCN layer.\n",
    "        \"\"\"\n",
    "\n",
    "    def __init__(self,\n",
    "                 nb_filters=64,\n",
    "                 kernel_size=2,\n",
    "                 nb_stacks=1,\n",
    "                 dilations=[1, 2, 4, 8, 16, 32],\n",
    "                 activation='norm_relu',\n",
    "                 padding='causal',\n",
    "                 use_skip_connections=True,\n",
    "                 dropout_rate=0.0,\n",
    "                 return_sequences=True):\n",
    "        self.return_sequences = return_sequences\n",
    "        self.dropout_rate = dropout_rate\n",
    "        self.use_skip_connections = use_skip_connections\n",
    "        self.activation = activation\n",
    "        self.dilations = dilations\n",
    "        self.nb_stacks = nb_stacks\n",
    "        self.kernel_size = kernel_size\n",
    "        self.nb_filters = nb_filters\n",
    "        self.padding = padding\n",
    "\n",
    "        if padding != 'causal' and padding != 'same':\n",
    "            raise ValueError(\"Only 'causal' or 'same' padding are compatible for this layer.\")\n",
    "\n",
    "        if not isinstance(nb_filters, int):\n",
    "            print('An interface change occurred after the version 2.1.2.')\n",
    "            print('Before: tcn.TCN(i, return_sequences=False, ...)')\n",
    "            print('Now should be: tcn.TCN(return_sequences=False, ...)(i)')\n",
    "            print('Second solution is to pip install keras-tcn==2.1.2 to downgrade.')\n",
    "            raise Exception()\n",
    "\n",
    "    def __call__(self, inputs):\n",
    "        x = inputs\n",
    "        x = Convolution1D(self.nb_filters, 1, padding=self.padding)(x)\n",
    "        skip_connections = []\n",
    "        for s in range(self.nb_stacks):\n",
    "            for i, d in enumerate(self.dilations):\n",
    "                x, skip_out = residual_block(x, s, d, i, self.activation, self.nb_filters,\n",
    "                                             self.kernel_size, self.padding, self.dropout_rate)\n",
    "                skip_connections.append(skip_out)\n",
    "        if self.use_skip_connections:\n",
    "            x = keras.layers.add(skip_connections)\n",
    "        x = Activation('relu')(x)\n",
    "\n",
    "        if not self.return_sequences:\n",
    "            output_slice_index = -1\n",
    "            x = Lambda(lambda tt: tt[:, output_slice_index, :])(x)\n",
    "        return x\n",
    "\n",
    "\n",
    "def compiled_tcn(num_feat,  # type: int\n",
    "                 num_classes,  # type: int\n",
    "                 nb_filters,  # type: int\n",
    "                 kernel_size,  # type: int\n",
    "                 dilations,  # type: List[int]\n",
    "                 nb_stacks,  # type: int\n",
    "                 max_len,  # type: int\n",
    "                 activation='norm_relu',  # type: str\n",
    "                 padding='causal',  # type: str\n",
    "                 use_skip_connections=True,  # type: bool\n",
    "                 return_sequences=True,\n",
    "                 regression=False,  # type: bool\n",
    "                 dropout_rate=0.05,  # type: float\n",
    "                 ):\n",
    "    # type: (...) -> keras.Model\n",
    "    \"\"\"Creates a compiled TCN model for a given task (i.e. regression or classification).\n",
    "\n",
    "    Args:\n",
    "        num_feat: The number of features of your input, i.e. the last dimension of: (batch_size, timesteps, input_dim).\n",
    "        num_classes: The size of the final dense layer, how many classes we are predicting.\n",
    "        nb_filters: The number of filters to use in the convolutional layers.\n",
    "        kernel_size: The size of the kernel to use in each convolutional layer.\n",
    "        dilations: The list of the dilations. Example is: [1, 2, 4, 8, 16, 32, 64].\n",
    "        nb_stacks : The number of stacks of residual blocks to use.\n",
    "        max_len: The maximum sequence length, use None if the sequence length is dynamic.\n",
    "        activation: The activations to use.\n",
    "        padding: The padding to use in the convolutional layers.\n",
    "        use_skip_connections: Boolean. If we want to add skip connections from input to each residual block.\n",
    "        return_sequences: Boolean. Whether to return the last output in the output sequence, or the full sequence.\n",
    "        regression: Whether the output should be continuous or discrete.\n",
    "        dropout_rate: Float between 0 and 1. Fraction of the input units to drop.\n",
    "        name: Name of the model. Useful when having multiple TCN.\n",
    "\n",
    "    Returns:\n",
    "        A compiled keras TCN.\n",
    "    \"\"\"\n",
    "\n",
    "    dilations = process_dilations(dilations)\n",
    "\n",
    "    input_layer = Input(shape=(max_len, num_feat))\n",
    "\n",
    "    x = TCN(nb_filters, kernel_size, nb_stacks, dilations, activation,\n",
    "            padding, use_skip_connections, dropout_rate, return_sequences)(input_layer)\n",
    "\n",
    "    print('x.shape=', x.shape)\n",
    "\n",
    "    if not regression:\n",
    "        # classification\n",
    "        x = Dense(num_classes)(x)\n",
    "        x = Activation('softmax')(x)\n",
    "        output_layer = x\n",
    "        print(f'model.x = {input_layer.shape}')\n",
    "        print(f'model.y = {output_layer.shape}')\n",
    "        model = Model(input_layer, output_layer)\n",
    "\n",
    "        # https://github.com/keras-team/keras/pull/11373\n",
    "        # It's now in Keras@master but still not available with pip.\n",
    "        # TODO To remove later.\n",
    "        def accuracy(y_true, y_pred):\n",
    "            # reshape in case it's in shape (num_samples, 1) instead of (num_samples,)\n",
    "            if K.ndim(y_true) == K.ndim(y_pred):\n",
    "                y_true = K.squeeze(y_true, -1)\n",
    "            # convert dense predictions to labels\n",
    "            y_pred_labels = K.argmax(y_pred, axis=-1)\n",
    "            y_pred_labels = K.cast(y_pred_labels, K.floatx())\n",
    "            return K.cast(K.equal(y_true, y_pred_labels), K.floatx())\n",
    "\n",
    "        adam = optimizers.Adam(lr=0.002, clipnorm=1.)\n",
    "        model.compile(adam, loss='sparse_categorical_crossentropy', metrics=[accuracy])\n",
    "        print('Adam with norm clipping.')\n",
    "    else:\n",
    "        # regression\n",
    "        x = Dense(1)(x)\n",
    "        x = Activation('linear')(x)\n",
    "        output_layer = x\n",
    "        print(f'model.x = {input_layer.shape}')\n",
    "        print(f'model.y = {output_layer.shape}')\n",
    "        model = Model(input_layer, output_layer)\n",
    "        adam = optimizers.Adam(lr=0.002, clipnorm=1.)\n",
    "        model.compile(adam, loss='mean_squared_error')\n",
    "\n",
    "    return model\n"
   ]
  },
  {
   "cell_type": "code",
   "execution_count": null,
   "metadata": {},
   "outputs": [],
   "source": []
  }
 ],
 "metadata": {
  "kernelspec": {
   "display_name": "Python 3",
   "language": "python",
   "name": "python3"
  },
  "language_info": {
   "codemirror_mode": {
    "name": "ipython",
    "version": 3
   },
   "file_extension": ".py",
   "mimetype": "text/x-python",
   "name": "python",
   "nbconvert_exporter": "python",
   "pygments_lexer": "ipython3",
   "version": "3.6.6"
  }
 },
 "nbformat": 4,
 "nbformat_minor": 2
}
