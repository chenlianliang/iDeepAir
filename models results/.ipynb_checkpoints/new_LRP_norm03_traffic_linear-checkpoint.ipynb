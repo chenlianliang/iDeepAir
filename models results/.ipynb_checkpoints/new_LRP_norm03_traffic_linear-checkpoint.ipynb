{
 "cells": [
  {
   "cell_type": "code",
   "execution_count": 1,
   "metadata": {},
   "outputs": [
    {
     "name": "stderr",
     "output_type": "stream",
     "text": [
      "Using TensorFlow backend.\n"
     ]
    }
   ],
   "source": [
    "import warnings\n",
    "warnings.filterwarnings(\"ignore\")\n",
    "from keras.engine.topology import Layer\n",
    "from keras.layers import Bidirectional, Concatenate, Permute, Dot, Input, LSTM, GRU, Multiply, Reshape\n",
    "from keras.layers import RepeatVector, Dense, Activation, Lambda, Embedding\n",
    "from keras.optimizers import Adam\n",
    "from keras.utils import to_categorical\n",
    "from keras.models import load_model, Model\n",
    "import keras.backend as K\n",
    "import keras\n",
    "import numpy as np\n",
    "import random\n",
    "import tqdm\n",
    "import matplotlib.pyplot as plt\n",
    "from keras.utils import to_categorical\n",
    "import pandas as pd\n",
    "# from tcn import TCN\n",
    "%matplotlib inline\n",
    "from keras.layers import merge, Input, Dense, TimeDistributed, Lambda                                   \n",
    "import keras\n",
    "from keras.models import Sequential, Model\n",
    "from keras.layers import Conv2D, GlobalMaxPooling2D,MaxPooling2D, Flatten, Dense, BatchNormalization, Activation, Input, GlobalAveragePooling2D,AveragePooling2D, Add\n",
    "from keras.optimizers import Adam, rmsprop\n",
    "from keras.callbacks import EarlyStopping\n",
    "from sklearn.model_selection import GridSearchCV\n",
    "from keras.models import Sequential\n",
    "from keras.layers import Dropout\n",
    "from keras.wrappers.scikit_learn import KerasRegressor\n",
    "from keras.constraints import maxnorm\n",
    "MAX_SENT_LENGTH = 55\n",
    "MAX_SENTS = 24\n",
    "VALIDATION_SPLIT = 0.2"
   ]
  },
  {
   "cell_type": "code",
   "execution_count": 2,
   "metadata": {},
   "outputs": [],
   "source": [
    "from sklearn.preprocessing import MinMaxScaler  \n",
    "from sklearn.preprocessing import StandardScaler  \n",
    "from pandas import concat\n",
    "\n",
    "std = StandardScaler()"
   ]
  },
  {
   "cell_type": "code",
   "execution_count": 3,
   "metadata": {},
   "outputs": [],
   "source": [
    "import pandas as pd\n",
    "#matplotlib inline\n",
    "#参数初始化\n",
    "discfile = '../data/data_wea_time_unify.csv'\n",
    "\n",
    "data = pd.read_csv(discfile)"
   ]
  },
  {
   "cell_type": "code",
   "execution_count": 4,
   "metadata": {},
   "outputs": [],
   "source": [
    "futrue_time=24\n",
    "\n",
    "time_step=24"
   ]
  },
  {
   "cell_type": "code",
   "execution_count": 5,
   "metadata": {},
   "outputs": [],
   "source": [
    "for i in range(24,96):\n",
    "    data['PM25_m'+str(i)]=data['PM25_mean'].shift(-i)\n",
    "data=data.dropna(how='any')"
   ]
  },
  {
   "cell_type": "code",
   "execution_count": 6,
   "metadata": {},
   "outputs": [],
   "source": [
    "target_data=data.iloc[:,76:]\n",
    "source_data=data.iloc[:,4:58]\n",
    "\n",
    "import copy\n",
    "sd=copy.deepcopy(source_data)\n",
    "td=copy.deepcopy(target_data)\n",
    "\n",
    "td=td.dropna(how='any')\n",
    "# td=std.fit_transform(td)\n",
    "sd=std.fit_transform(sd)\n",
    "# sd=sd.values\n",
    "td=td.values\n",
    "td_test=td[5801:,:futrue_time]   \n",
    "td=td[:5801,:futrue_time]\n",
    "sd_m=[]\n",
    "for i in range(1,MAX_SENTS+1):\n",
    "    locals()['sd'+str(i)]=sd[i-1:5800+i]\n",
    "\n",
    "    sd_m.append(locals()['sd'+str(i)])\n",
    "sd_m=(np.array(sd_m).swapaxes(0,1))\n",
    "\n",
    "\n",
    "######test\n",
    "sd_m_test=[]\n",
    "for i in range(1,25):\n",
    "    locals()['sd_t'+str(i)]=sd[5800+i:5969-24+i]\n",
    "    \n",
    "    sd_m_test.append(locals()['sd_t'+str(i)])\n",
    "\n",
    "sd_m_test=(np.array(sd_m_test).swapaxes(0,1))"
   ]
  },
  {
   "cell_type": "code",
   "execution_count": 7,
   "metadata": {},
   "outputs": [],
   "source": [
    "wea_data=data.iloc[:,67:75]\n",
    "# wea_data=std.fit_transform(wea_data)\n",
    "# wea_data=pd.DataFrame(wea_data)\n",
    "w=wea_data[['Conditions','Wind Dir','Quality evaluation']]\n",
    "# w=std.fit_transform(w)\n",
    "w_m=[]\n",
    "for i in range(1,25):\n",
    "    locals()['w'+str(i)]=w[i-1:5800+i].values\n",
    "    \n",
    "    w_m.append(locals()['w'+str(i)])\n",
    "    \n",
    "wea=wea_data[['Dew Point','Humidity','Pressure','Temp.','Wind Speed']]\n",
    "wea=std.fit_transform(wea)\n",
    "wea_m=[]\n",
    "for i in range(1,25):\n",
    "    locals()['wea'+str(i)]=wea[i-1:5800+i]\n",
    "    \n",
    "    wea_m.append(locals()['wea'+str(i)])"
   ]
  },
  {
   "cell_type": "code",
   "execution_count": 8,
   "metadata": {},
   "outputs": [],
   "source": [
    "time_data=data.iloc[:,64:67]\n",
    "# time_data=std.fit_transform(time_data)\n",
    "time_m=[]\n",
    "for i in range(1,25):\n",
    "    locals()['time'+str(i)]=time_data[i-1:5800+i].values\n",
    "    \n",
    "    time_m.append(locals()['time'+str(i)])"
   ]
  },
  {
   "cell_type": "code",
   "execution_count": 9,
   "metadata": {},
   "outputs": [],
   "source": [
    "time_m=(np.array(time_m).swapaxes(0,1))\n",
    "w_m=(np.array(w_m).swapaxes(0,1))\n",
    "wea_m=(np.array(wea_m).swapaxes(0,1))"
   ]
  },
  {
   "cell_type": "code",
   "execution_count": 10,
   "metadata": {},
   "outputs": [],
   "source": [
    "time_m_test=[]\n",
    "for i in range(1,25):\n",
    "    locals()['time_t'+str(i)]=time_data[5800+i:5969-24+i].values\n",
    "    \n",
    "    time_m_test.append(locals()['time_t'+str(i)])\n",
    "\n",
    "time_m_test=(np.array(time_m_test).swapaxes(0,1))\n",
    "\n",
    "w_m_test=[]\n",
    "for i in range(1,25):\n",
    "    locals()['w_t'+str(i)]=w[5800+i:5969-24+i].values\n",
    "    \n",
    "    w_m_test.append(locals()['w_t'+str(i)])\n",
    "\n",
    "w_m_test=(np.array(w_m_test).swapaxes(0,1))\n",
    "\n",
    "wea_m_test=[]\n",
    "for i in range(1,25):\n",
    "    locals()['wea_t'+str(i)]=wea[5800+i:5969-24+i]\n",
    "    \n",
    "    wea_m_test.append(locals()['wea_t'+str(i)])\n",
    "\n",
    "wea_m_test=(np.array(wea_m_test).swapaxes(0,1))"
   ]
  },
  {
   "cell_type": "code",
   "execution_count": 11,
   "metadata": {},
   "outputs": [],
   "source": [
    "import h5py\n",
    "import os\n",
    "\n",
    "ground = h5py.File('../data/inte_g_12_linear.h5', 'r')\n",
    "g = ground['X']\n",
    "\n",
    "ele_zs = h5py.File('../data/inte_e_zs_12_new_linear.h5', 'r')\n",
    "ezs = ele_zs['X']\n",
    "\n",
    "ele_sd = h5py.File('../data/inte_e_sd_12_new_linear.h5', 'r')\n",
    "esd = ele_sd['X']\n",
    "\n",
    "g_m=[]\n",
    "for i in range(1,25):\n",
    "    locals()['g'+str(i)]=g[i-1:5800+i]\n",
    "    \n",
    "    g_m.append(locals()['g'+str(i)])\n",
    "g_m=(np.array(g_m).swapaxes(0,1))\n",
    "g_m=g_m.reshape(5801, 24, 16,16,1)\n",
    "\n",
    "ezs_m=[]\n",
    "for i in range(1,25):\n",
    "    locals()['ezs'+str(i)]=ezs[i-1:5800+i]\n",
    "    \n",
    "    ezs_m.append(locals()['ezs'+str(i)])\n",
    "ezs_m=(np.array(ezs_m).swapaxes(0,1))\n",
    "\n",
    "ezs_m=ezs_m.reshape(5801, 24, 16,16,1)\n",
    "\n",
    "esd_m=[]\n",
    "for i in range(1,25):\n",
    "    locals()['esd'+str(i)]=esd[i-1:5800+i]\n",
    "    \n",
    "    esd_m.append(locals()['esd'+str(i)])\n",
    "esd_m=(np.array(esd_m).swapaxes(0,1))\n",
    "\n",
    "esd_m=esd_m.reshape(5801, 24, 16,16,1)\n",
    "\n",
    "ge_m=[ezs_m,esd_m,g_m]\n",
    "\n",
    "ge_m=np.array(ge_m).reshape(5801, 24, 16,16,3)"
   ]
  },
  {
   "cell_type": "code",
   "execution_count": 12,
   "metadata": {},
   "outputs": [],
   "source": [
    "#####test\n",
    "g_m_test=[]\n",
    "for i in range(1,25):\n",
    "    locals()['g_t'+str(i)]=g[5800+i:5969-24+i]\n",
    "    \n",
    "    g_m_test.append(locals()['g_t'+str(i)])\n",
    "g_m_test=(np.array(g_m_test).swapaxes(0,1))\n",
    "\n",
    "g_m_test=g_m_test.reshape(145, 24, 16,16,1)\n",
    "\n",
    "ezs_m_test=[]\n",
    "for i in range(1,25):\n",
    "    locals()['ezs_t'+str(i)]=ezs[5800+i:5969-24+i]\n",
    "    \n",
    "    ezs_m_test.append(locals()['ezs_t'+str(i)])\n",
    "ezs_m_test=(np.array(ezs_m_test).swapaxes(0,1))\n",
    "\n",
    "ezs_m_test=ezs_m_test.reshape(145, 24, 16,16,1)\n",
    "\n",
    "esd_m_test=[]\n",
    "for i in range(1,25):\n",
    "    locals()['esd_t'+str(i)]=esd[5800+i:5969-24+i]\n",
    "    \n",
    "    esd_m_test.append(locals()['esd_t'+str(i)])\n",
    "esd_m_test=(np.array(esd_m_test).swapaxes(0,1))\n",
    "\n",
    "esd_m_test=esd_m_test.reshape(145, 24, 16,16,1)\n",
    "ge_m_test=[ezs_m_test,esd_m_test,g_m_test]\n",
    "\n",
    "ge_m_test=np.array(ge_m_test).reshape(145, 24, 16,16,3)"
   ]
  },
  {
   "cell_type": "code",
   "execution_count": 14,
   "metadata": {},
   "outputs": [
    {
     "name": "stdout",
     "output_type": "stream",
     "text": [
      "Train on 4640 samples, validate on 1161 samples\n",
      "Epoch 1/80\n",
      " - 246s - loss: 40.0467 - val_loss: 24.4830\n",
      "Epoch 2/80\n",
      " - 257s - loss: 27.5807 - val_loss: 23.6958\n",
      "Epoch 3/80\n",
      " - 253s - loss: 26.1823 - val_loss: 22.1292\n",
      "Epoch 4/80\n",
      " - 235s - loss: 25.0052 - val_loss: 21.6531\n",
      "Epoch 5/80\n",
      " - 235s - loss: 24.2291 - val_loss: 20.8580\n",
      "Epoch 6/80\n",
      " - 236s - loss: 23.6363 - val_loss: 20.8586\n",
      "Epoch 7/80\n",
      " - 234s - loss: 23.2175 - val_loss: 20.7167\n",
      "Epoch 8/80\n",
      " - 234s - loss: 22.9550 - val_loss: 19.9080\n",
      "Epoch 9/80\n",
      " - 236s - loss: 22.6464 - val_loss: 20.1689\n",
      "Epoch 10/80\n",
      " - 235s - loss: 22.4615 - val_loss: 20.1424\n",
      "Epoch 11/80\n",
      " - 236s - loss: 22.2837 - val_loss: 19.6558\n",
      "Epoch 12/80\n",
      " - 236s - loss: 22.2618 - val_loss: 20.4909\n",
      "Epoch 13/80\n",
      " - 210s - loss: 21.9313 - val_loss: 19.6130\n",
      "Epoch 14/80\n",
      " - 199s - loss: 21.8937 - val_loss: 19.7216\n",
      "Epoch 15/80\n",
      " - 198s - loss: 21.8072 - val_loss: 20.2819\n",
      "Epoch 16/80\n",
      " - 197s - loss: 21.7374 - val_loss: 19.6667\n",
      "Epoch 17/80\n",
      " - 196s - loss: 21.6520 - val_loss: 20.0280\n",
      "Epoch 18/80\n",
      " - 200s - loss: 21.4605 - val_loss: 19.5462\n",
      "Epoch 19/80\n",
      " - 203s - loss: 21.3387 - val_loss: 19.6492\n",
      "Epoch 20/80\n",
      " - 198s - loss: 21.2140 - val_loss: 19.5337\n",
      "Epoch 21/80\n",
      " - 197s - loss: 21.1318 - val_loss: 19.4123\n",
      "Epoch 22/80\n",
      " - 197s - loss: 21.0812 - val_loss: 19.4389\n",
      "Epoch 23/80\n",
      " - 198s - loss: 20.9485 - val_loss: 19.2895\n",
      "Epoch 24/80\n",
      " - 200s - loss: 20.7951 - val_loss: 19.7832\n",
      "Epoch 25/80\n",
      " - 194s - loss: 20.8547 - val_loss: 19.7077\n",
      "Epoch 26/80\n",
      " - 191s - loss: 20.8342 - val_loss: 19.5926\n",
      "Epoch 27/80\n",
      " - 197s - loss: 20.6125 - val_loss: 19.2579\n",
      "Epoch 28/80\n",
      " - 192s - loss: 20.4411 - val_loss: 19.7314\n",
      "Epoch 29/80\n",
      " - 197s - loss: 20.3284 - val_loss: 19.4081\n",
      "Epoch 30/80\n",
      " - 199s - loss: 20.1624 - val_loss: 19.4395\n",
      "Epoch 31/80\n",
      " - 203s - loss: 20.0186 - val_loss: 19.4281\n",
      "Epoch 32/80\n",
      " - 193s - loss: 19.9299 - val_loss: 19.4233\n",
      "Epoch 33/80\n",
      " - 176s - loss: 19.7986 - val_loss: 19.3623\n",
      "Epoch 34/80\n",
      " - 180s - loss: 19.6661 - val_loss: 19.4769\n",
      "Epoch 35/80\n",
      " - 187s - loss: 19.4908 - val_loss: 19.6130\n",
      "Epoch 36/80\n"
     ]
    },
    {
     "ename": "KeyboardInterrupt",
     "evalue": "",
     "output_type": "error",
     "traceback": [
      "\u001b[1;31m---------------------------------------------------------------------------\u001b[0m",
      "\u001b[1;31mKeyboardInterrupt\u001b[0m                         Traceback (most recent call last)",
      "\u001b[1;32m<ipython-input-14-f0f759141c2e>\u001b[0m in \u001b[0;36m<module>\u001b[1;34m()\u001b[0m\n\u001b[0;32m    125\u001b[0m \u001b[1;33m\u001b[0m\u001b[0m\n\u001b[0;32m    126\u001b[0m \u001b[0mmodel\u001b[0m\u001b[1;33m=\u001b[0m\u001b[0mcreate_model\u001b[0m\u001b[1;33m(\u001b[0m\u001b[1;33m)\u001b[0m\u001b[1;33m\u001b[0m\u001b[0m\n\u001b[1;32m--> 127\u001b[1;33m \u001b[0mhistory\u001b[0m\u001b[1;33m=\u001b[0m\u001b[0mmodel\u001b[0m\u001b[1;33m.\u001b[0m\u001b[0mfit\u001b[0m\u001b[1;33m(\u001b[0m\u001b[1;33m[\u001b[0m\u001b[0mw_m\u001b[0m\u001b[1;33m,\u001b[0m\u001b[0mwea_m\u001b[0m\u001b[1;33m,\u001b[0m\u001b[0mge_m\u001b[0m\u001b[1;33m,\u001b[0m\u001b[0msd_m\u001b[0m\u001b[1;33m]\u001b[0m\u001b[1;33m,\u001b[0m\u001b[0mtd\u001b[0m\u001b[1;33m,\u001b[0m \u001b[0mepochs\u001b[0m\u001b[1;33m=\u001b[0m\u001b[1;36m80\u001b[0m\u001b[1;33m,\u001b[0m \u001b[0mbatch_size\u001b[0m\u001b[1;33m=\u001b[0m\u001b[1;36m68\u001b[0m\u001b[1;33m,\u001b[0m\u001b[0mverbose\u001b[0m\u001b[1;33m=\u001b[0m\u001b[1;36m2\u001b[0m\u001b[1;33m,\u001b[0m\u001b[0mvalidation_split\u001b[0m\u001b[1;33m=\u001b[0m\u001b[1;36m0.2\u001b[0m\u001b[1;33m,\u001b[0m\u001b[0mshuffle\u001b[0m\u001b[1;33m=\u001b[0m\u001b[1;32mTrue\u001b[0m\u001b[1;33m)\u001b[0m\u001b[1;33m\u001b[0m\u001b[0m\n\u001b[0m\u001b[0;32m    128\u001b[0m \u001b[1;31m# 绘制训练 & 验证的损失值\u001b[0m\u001b[1;33m\u001b[0m\u001b[1;33m\u001b[0m\u001b[0m\n\u001b[0;32m    129\u001b[0m \u001b[0mplt\u001b[0m\u001b[1;33m.\u001b[0m\u001b[0mplot\u001b[0m\u001b[1;33m(\u001b[0m\u001b[0mhistory\u001b[0m\u001b[1;33m.\u001b[0m\u001b[0mhistory\u001b[0m\u001b[1;33m[\u001b[0m\u001b[1;34m'loss'\u001b[0m\u001b[1;33m]\u001b[0m\u001b[1;33m)\u001b[0m\u001b[1;33m\u001b[0m\u001b[0m\n",
      "\u001b[1;32mD:\\Program Files (x86)\\Anaconda3\\envs\\tensorflow\\lib\\site-packages\\keras\\engine\\training.py\u001b[0m in \u001b[0;36mfit\u001b[1;34m(self, x, y, batch_size, epochs, verbose, callbacks, validation_split, validation_data, shuffle, class_weight, sample_weight, initial_epoch, steps_per_epoch, validation_steps, **kwargs)\u001b[0m\n\u001b[0;32m   1037\u001b[0m                                         \u001b[0minitial_epoch\u001b[0m\u001b[1;33m=\u001b[0m\u001b[0minitial_epoch\u001b[0m\u001b[1;33m,\u001b[0m\u001b[1;33m\u001b[0m\u001b[0m\n\u001b[0;32m   1038\u001b[0m                                         \u001b[0msteps_per_epoch\u001b[0m\u001b[1;33m=\u001b[0m\u001b[0msteps_per_epoch\u001b[0m\u001b[1;33m,\u001b[0m\u001b[1;33m\u001b[0m\u001b[0m\n\u001b[1;32m-> 1039\u001b[1;33m                                         validation_steps=validation_steps)\n\u001b[0m\u001b[0;32m   1040\u001b[0m \u001b[1;33m\u001b[0m\u001b[0m\n\u001b[0;32m   1041\u001b[0m     def evaluate(self, x=None, y=None,\n",
      "\u001b[1;32mD:\\Program Files (x86)\\Anaconda3\\envs\\tensorflow\\lib\\site-packages\\keras\\engine\\training_arrays.py\u001b[0m in \u001b[0;36mfit_loop\u001b[1;34m(model, f, ins, out_labels, batch_size, epochs, verbose, callbacks, val_f, val_ins, shuffle, callback_metrics, initial_epoch, steps_per_epoch, validation_steps)\u001b[0m\n\u001b[0;32m    197\u001b[0m                     \u001b[0mins_batch\u001b[0m\u001b[1;33m[\u001b[0m\u001b[0mi\u001b[0m\u001b[1;33m]\u001b[0m \u001b[1;33m=\u001b[0m \u001b[0mins_batch\u001b[0m\u001b[1;33m[\u001b[0m\u001b[0mi\u001b[0m\u001b[1;33m]\u001b[0m\u001b[1;33m.\u001b[0m\u001b[0mtoarray\u001b[0m\u001b[1;33m(\u001b[0m\u001b[1;33m)\u001b[0m\u001b[1;33m\u001b[0m\u001b[0m\n\u001b[0;32m    198\u001b[0m \u001b[1;33m\u001b[0m\u001b[0m\n\u001b[1;32m--> 199\u001b[1;33m                 \u001b[0mouts\u001b[0m \u001b[1;33m=\u001b[0m \u001b[0mf\u001b[0m\u001b[1;33m(\u001b[0m\u001b[0mins_batch\u001b[0m\u001b[1;33m)\u001b[0m\u001b[1;33m\u001b[0m\u001b[0m\n\u001b[0m\u001b[0;32m    200\u001b[0m                 \u001b[0mouts\u001b[0m \u001b[1;33m=\u001b[0m \u001b[0mto_list\u001b[0m\u001b[1;33m(\u001b[0m\u001b[0mouts\u001b[0m\u001b[1;33m)\u001b[0m\u001b[1;33m\u001b[0m\u001b[0m\n\u001b[0;32m    201\u001b[0m                 \u001b[1;32mfor\u001b[0m \u001b[0ml\u001b[0m\u001b[1;33m,\u001b[0m \u001b[0mo\u001b[0m \u001b[1;32min\u001b[0m \u001b[0mzip\u001b[0m\u001b[1;33m(\u001b[0m\u001b[0mout_labels\u001b[0m\u001b[1;33m,\u001b[0m \u001b[0mouts\u001b[0m\u001b[1;33m)\u001b[0m\u001b[1;33m:\u001b[0m\u001b[1;33m\u001b[0m\u001b[0m\n",
      "\u001b[1;32mD:\\Program Files (x86)\\Anaconda3\\envs\\tensorflow\\lib\\site-packages\\keras\\backend\\tensorflow_backend.py\u001b[0m in \u001b[0;36m__call__\u001b[1;34m(self, inputs)\u001b[0m\n\u001b[0;32m   2713\u001b[0m                 \u001b[1;32mreturn\u001b[0m \u001b[0mself\u001b[0m\u001b[1;33m.\u001b[0m\u001b[0m_legacy_call\u001b[0m\u001b[1;33m(\u001b[0m\u001b[0minputs\u001b[0m\u001b[1;33m)\u001b[0m\u001b[1;33m\u001b[0m\u001b[0m\n\u001b[0;32m   2714\u001b[0m \u001b[1;33m\u001b[0m\u001b[0m\n\u001b[1;32m-> 2715\u001b[1;33m             \u001b[1;32mreturn\u001b[0m \u001b[0mself\u001b[0m\u001b[1;33m.\u001b[0m\u001b[0m_call\u001b[0m\u001b[1;33m(\u001b[0m\u001b[0minputs\u001b[0m\u001b[1;33m)\u001b[0m\u001b[1;33m\u001b[0m\u001b[0m\n\u001b[0m\u001b[0;32m   2716\u001b[0m         \u001b[1;32melse\u001b[0m\u001b[1;33m:\u001b[0m\u001b[1;33m\u001b[0m\u001b[0m\n\u001b[0;32m   2717\u001b[0m             \u001b[1;32mif\u001b[0m \u001b[0mpy_any\u001b[0m\u001b[1;33m(\u001b[0m\u001b[0mis_tensor\u001b[0m\u001b[1;33m(\u001b[0m\u001b[0mx\u001b[0m\u001b[1;33m)\u001b[0m \u001b[1;32mfor\u001b[0m \u001b[0mx\u001b[0m \u001b[1;32min\u001b[0m \u001b[0minputs\u001b[0m\u001b[1;33m)\u001b[0m\u001b[1;33m:\u001b[0m\u001b[1;33m\u001b[0m\u001b[0m\n",
      "\u001b[1;32mD:\\Program Files (x86)\\Anaconda3\\envs\\tensorflow\\lib\\site-packages\\keras\\backend\\tensorflow_backend.py\u001b[0m in \u001b[0;36m_call\u001b[1;34m(self, inputs)\u001b[0m\n\u001b[0;32m   2673\u001b[0m             \u001b[0mfetched\u001b[0m \u001b[1;33m=\u001b[0m \u001b[0mself\u001b[0m\u001b[1;33m.\u001b[0m\u001b[0m_callable_fn\u001b[0m\u001b[1;33m(\u001b[0m\u001b[1;33m*\u001b[0m\u001b[0marray_vals\u001b[0m\u001b[1;33m,\u001b[0m \u001b[0mrun_metadata\u001b[0m\u001b[1;33m=\u001b[0m\u001b[0mself\u001b[0m\u001b[1;33m.\u001b[0m\u001b[0mrun_metadata\u001b[0m\u001b[1;33m)\u001b[0m\u001b[1;33m\u001b[0m\u001b[0m\n\u001b[0;32m   2674\u001b[0m         \u001b[1;32melse\u001b[0m\u001b[1;33m:\u001b[0m\u001b[1;33m\u001b[0m\u001b[0m\n\u001b[1;32m-> 2675\u001b[1;33m             \u001b[0mfetched\u001b[0m \u001b[1;33m=\u001b[0m \u001b[0mself\u001b[0m\u001b[1;33m.\u001b[0m\u001b[0m_callable_fn\u001b[0m\u001b[1;33m(\u001b[0m\u001b[1;33m*\u001b[0m\u001b[0marray_vals\u001b[0m\u001b[1;33m)\u001b[0m\u001b[1;33m\u001b[0m\u001b[0m\n\u001b[0m\u001b[0;32m   2676\u001b[0m         \u001b[1;32mreturn\u001b[0m \u001b[0mfetched\u001b[0m\u001b[1;33m[\u001b[0m\u001b[1;33m:\u001b[0m\u001b[0mlen\u001b[0m\u001b[1;33m(\u001b[0m\u001b[0mself\u001b[0m\u001b[1;33m.\u001b[0m\u001b[0moutputs\u001b[0m\u001b[1;33m)\u001b[0m\u001b[1;33m]\u001b[0m\u001b[1;33m\u001b[0m\u001b[0m\n\u001b[0;32m   2677\u001b[0m \u001b[1;33m\u001b[0m\u001b[0m\n",
      "\u001b[1;32mD:\\Program Files (x86)\\Anaconda3\\envs\\tensorflow\\lib\\site-packages\\tensorflow\\python\\client\\session.py\u001b[0m in \u001b[0;36m__call__\u001b[1;34m(self, *args, **kwargs)\u001b[0m\n\u001b[0;32m   1380\u001b[0m           ret = tf_session.TF_SessionRunCallable(\n\u001b[0;32m   1381\u001b[0m               \u001b[0mself\u001b[0m\u001b[1;33m.\u001b[0m\u001b[0m_session\u001b[0m\u001b[1;33m.\u001b[0m\u001b[0m_session\u001b[0m\u001b[1;33m,\u001b[0m \u001b[0mself\u001b[0m\u001b[1;33m.\u001b[0m\u001b[0m_handle\u001b[0m\u001b[1;33m,\u001b[0m \u001b[0margs\u001b[0m\u001b[1;33m,\u001b[0m \u001b[0mstatus\u001b[0m\u001b[1;33m,\u001b[0m\u001b[1;33m\u001b[0m\u001b[0m\n\u001b[1;32m-> 1382\u001b[1;33m               run_metadata_ptr)\n\u001b[0m\u001b[0;32m   1383\u001b[0m         \u001b[1;32mif\u001b[0m \u001b[0mrun_metadata\u001b[0m\u001b[1;33m:\u001b[0m\u001b[1;33m\u001b[0m\u001b[0m\n\u001b[0;32m   1384\u001b[0m           \u001b[0mproto_data\u001b[0m \u001b[1;33m=\u001b[0m \u001b[0mtf_session\u001b[0m\u001b[1;33m.\u001b[0m\u001b[0mTF_GetBuffer\u001b[0m\u001b[1;33m(\u001b[0m\u001b[0mrun_metadata_ptr\u001b[0m\u001b[1;33m)\u001b[0m\u001b[1;33m\u001b[0m\u001b[0m\n",
      "\u001b[1;31mKeyboardInterrupt\u001b[0m: "
     ]
    }
   ],
   "source": [
    "from attention_keras import *\n",
    "from keras.layers import LeakyReLU\n",
    "class AttentionLayer(Layer):\n",
    "    def __init__(self, **kwargs):\n",
    "        super(AttentionLayer, self).__init__(** kwargs)\n",
    "    \n",
    "    def build(self, input_shape):\n",
    "        assert len(input_shape)==3\n",
    "        # W.shape = (time_steps, time_steps)\n",
    "        self.W = self.add_weight(name='att_weight', \n",
    "                                 shape=(input_shape[1], input_shape[1]),\n",
    "                                 initializer='uniform',\n",
    "                                 trainable=True)\n",
    "        super(AttentionLayer, self).build(input_shape)\n",
    "\n",
    "    def call(self, inputs, mask=None):\n",
    "        x = K.permute_dimensions(inputs, (0, 2, 1))\n",
    "        # x.shape = (batch_size, seq_len, time_steps)\n",
    "        # general\n",
    "        a = K.softmax(K.tanh(K.dot(x, self.W)))\n",
    "        a = K.permute_dimensions(a, (0, 2, 1))\n",
    "        outputs = a * inputs\n",
    "        outputs = K.sum(outputs, axis=1)\n",
    "        return outputs\n",
    "\n",
    "    def compute_output_shape(self, input_shape):\n",
    "        return input_shape[0], input_shape[2]\n",
    "\n",
    "def create_model(learn_rate=0.001, neurons=24, traffic_n=3):\n",
    "#     时间戳模块    \n",
    "    inp_time=Input(shape=(3,))\n",
    "    inp_time1 = Reshape((3,1))(inp_time)\n",
    "    embed_time = Dense(3)(inp_time1)\n",
    "#     embed_time = Embedding(24,3, input_length=3)(inp_time)\n",
    "    embed_time=Flatten()(embed_time)\n",
    "    embed_time=BatchNormalization()(embed_time)\n",
    "    tm=Model(inputs=inp_time, outputs=embed_time)\n",
    "    \n",
    "#     离散型气象数据模块\n",
    "    inp_w=Input(shape=(3,))\n",
    "    embed_w = Reshape((3,1))(inp_w)\n",
    "    embed_w1 = Dense(3)(embed_w)\n",
    "#     embed_w1 = Dense(3)(embed_w1)\n",
    "#     embed_w = Embedding(18, 2, input_length=3)(inp_w)\n",
    "#     embed_w = AttentionLayer()(embed_w)\n",
    "    embed_w2=Flatten()(embed_w1)\n",
    "    embed_w3=BatchNormalization()(embed_w2)\n",
    "    wm=Model(inputs=inp_w, outputs=embed_w3)\n",
    "    \n",
    "#     连续型气象数据模块\n",
    "    inp_we=Input(shape=(5,))\n",
    "    embed_we = Reshape((5,1))(inp_we)\n",
    "    embed_we=BatchNormalization()(embed_we)\n",
    "    embed_we = AttentionLayer()(embed_we)\n",
    "#     input_we_time=keras.layers.concatenate([embed_time,embed_w,embed_we])\n",
    "    weam=Model(inputs=inp_we, outputs=embed_we)\n",
    "    \n",
    "    \n",
    "#     交通指数数据模块\n",
    "    inp=Input(shape=(16, 16, 3))\n",
    "    out=Conv2D(filters=1, kernel_size=2, strides=1)(inp)\n",
    "#     print(out.shape)\n",
    "    out=BatchNormalization()(out)\n",
    "    out=LeakyReLU('0.05')(out)\n",
    "#     out=Activation('relu')(out)\n",
    "    # out=MaxPooling2D(pool_size=(3, 3), strides=2)(out)\n",
    "    # print(out.shape)\n",
    "    out=AveragePooling2D()(out)\n",
    "#     out=GlobalAveragePooling2D()(out)\n",
    "    out=Flatten()(out)\n",
    "    out=Dense(traffic_n)(out)\n",
    "    tra=Model(inputs=inp, outputs=out)\n",
    "    \n",
    "#     特征组件\n",
    "    sentence_input = Input(shape=(54+traffic_n,))\n",
    "    # s_input=keras.layers.concatenate([sentence_input])\n",
    "    embed = Reshape((54+traffic_n,1))(sentence_input)\n",
    "    l_lstm=Attention(8,16)([embed,embed,embed])\n",
    "#     l_lstm = Bidirectional(GRU(32, return_sequences=True))(embed)\n",
    "#     embed = Reshape((54+traffic_n,1))(l_lstm)\n",
    "    l_dense = TimeDistributed(Dense(32))(l_lstm)\n",
    "#     l_dense = Bidirectional(GRU(32, return_sequences=True))(l_lstm)\n",
    "\n",
    "    l_att = AttentionLayer()(l_dense)\n",
    "\n",
    "    sentEncoder = Model(sentence_input, l_att)\n",
    "\n",
    "    \n",
    "    review_input = Input(shape=(MAX_SENTS,54))\n",
    "    r_input = Input(shape=(MAX_SENTS,16, 16, 3))\n",
    "    r_encoder = TimeDistributed(tra)(r_input)\n",
    "    s_input=keras.layers.concatenate([r_encoder,review_input])\n",
    "    \n",
    "    review_encoder = TimeDistributed(sentEncoder)(s_input)\n",
    "    \n",
    "#     time_input=Input(shape=(MAX_SENTS,3))\n",
    "#     t_encoder = TimeDistributed(tm)(time_input)\n",
    "\n",
    "    w_input=Input(shape=(MAX_SENTS,3))\n",
    "    w_encoder = TimeDistributed(wm)(w_input)\n",
    "\n",
    "    wea_input=Input(shape=(MAX_SENTS,5))\n",
    "    wea_encoder = TimeDistributed(weam)(wea_input)\n",
    "#     we_time_encoder=keras.layers.concatenate([wea_input,review_encoder])\n",
    "#     we_time_encoder=keras.layers.concatenate([t_encoder,w_encoder,wea_input,review_encoder])\n",
    "\n",
    "#     l_lstm_sent = Bidirectional(GRU(50, return_sequences=True))(we_time_encoder)\n",
    "\n",
    "#     l_lstm_sent = Bidirectional(GRU(32, return_sequences=True))(review_encoder)\n",
    "    l_lstm_sent=TCN(padding='same',return_sequences=True)(review_encoder)\n",
    "#     review_encoder = Position_Embedding()(review_encoder) # 增加Position_Embedding能轻微提高准确率\n",
    "#     l_lstm_sent=Attention(8,16)([review_encoder,review_encoder,review_encoder])\n",
    "    we_time_encoder=keras.layers.concatenate([w_encoder,wea_input,l_lstm_sent])\n",
    "\n",
    "    l_dense_sent = TimeDistributed(Dense(64))(we_time_encoder)\n",
    "#     l_dense_sent = TCN(padding='same',return_sequences=True)(we_time_encoder)\n",
    "#     l_dense_sent = Bidirectional(GRU(32, return_sequences=True))(we_time_encoder)\n",
    "#     l_dense_sent = TimeDistributed(Dense(64))(we_time_encoder)\n",
    "    l_att_sent = AttentionLayer()(l_dense_sent)\n",
    "    preds = Dense(futrue_time)(l_att_sent)\n",
    "    model_1 = Model([w_input,wea_input,r_input,review_input], preds)\n",
    "    model_1.compile(optimizer=Adam(lr=learn_rate, beta_1=0.99, beta_2=0.999, decay=0.0006),\n",
    "                        loss='mae')\n",
    "    return model_1\n",
    "\n",
    "model=create_model()\n",
    "history=model.fit([w_m,wea_m,ge_m,sd_m],td, epochs=80, batch_size=68,verbose=2,validation_split=0.2,shuffle=True)\n",
    "# 绘制训练 & 验证的损失值\n",
    "plt.plot(history.history['loss'])\n",
    "plt.plot(history.history['val_loss'])\n",
    "plt.title('Model loss')\n",
    "plt.ylabel('Loss')\n",
    "plt.xlabel('Epoch')\n",
    "plt.legend(['Train', 'Test'], loc='upper left')\n",
    "plt.show()"
   ]
  },
  {
   "cell_type": "code",
   "execution_count": 194,
   "metadata": {},
   "outputs": [
    {
     "name": "stdout",
     "output_type": "stream",
     "text": [
      "__________________________________________________________________________________________________\n",
      "Layer (type)                    Output Shape         Param #     Connected to                     \n",
      "==================================================================================================\n",
      "input_53 (InputLayer)           (None, 24, 16, 16, 3 0                                            \n",
      "__________________________________________________________________________________________________\n",
      "time_distributed_33 (TimeDistri (None, 24, 3)        167         input_53[0][0]                   \n",
      "__________________________________________________________________________________________________\n",
      "input_52 (InputLayer)           (None, 24, 54)       0                                            \n",
      "__________________________________________________________________________________________________\n",
      "concatenate_11 (Concatenate)    (None, 24, 57)       0           time_distributed_33[0][0]        \n",
      "                                                                 input_52[0][0]                   \n",
      "__________________________________________________________________________________________________\n",
      "time_distributed_34 (TimeDistri (None, 24, 32)       4961        concatenate_11[0][0]             \n",
      "__________________________________________________________________________________________________\n",
      "input_54 (InputLayer)           (None, 24, 3)        0                                            \n",
      "__________________________________________________________________________________________________\n",
      "position__embedding_1 (Position (None, 24, 32)       0           time_distributed_34[0][0]        \n",
      "__________________________________________________________________________________________________\n",
      "time_distributed_35 (TimeDistri (None, 24, 9)        42          input_54[0][0]                   \n",
      "__________________________________________________________________________________________________\n",
      "input_55 (InputLayer)           (None, 24, 5)        0                                            \n",
      "__________________________________________________________________________________________________\n",
      "attention_8 (Attention)         (None, 24, 48)       4608        position__embedding_1[0][0]      \n",
      "                                                                 position__embedding_1[0][0]      \n",
      "                                                                 position__embedding_1[0][0]      \n",
      "__________________________________________________________________________________________________\n",
      "concatenate_12 (Concatenate)    (None, 24, 62)       0           time_distributed_35[0][0]        \n",
      "                                                                 input_55[0][0]                   \n",
      "                                                                 attention_8[0][0]                \n",
      "__________________________________________________________________________________________________\n",
      "time_distributed_37 (TimeDistri (None, 24, 64)       4032        concatenate_12[0][0]             \n",
      "__________________________________________________________________________________________________\n",
      "attention_layer_18 (AttentionLa (None, 64)           576         time_distributed_37[0][0]        \n",
      "__________________________________________________________________________________________________\n",
      "dense_36 (Dense)                (None, 24)           1560        attention_layer_18[0][0]         \n",
      "==================================================================================================\n",
      "Total params: 15,946\n",
      "Trainable params: 15,926\n",
      "Non-trainable params: 20\n",
      "__________________________________________________________________________________________________\n"
     ]
    }
   ],
   "source": [
    "model.summary()"
   ]
  },
  {
   "cell_type": "code",
   "execution_count": 15,
   "metadata": {},
   "outputs": [
    {
     "name": "stdout",
     "output_type": "stream",
     "text": [
      "17.843 23.218\n"
     ]
    }
   ],
   "source": [
    "pre_test=model.predict([w_m_test,wea_m_test,ge_m_test,sd_m_test])\n",
    "\n",
    "import numpy as np\n",
    "from sklearn.metrics import mean_absolute_error\n",
    "from sklearn.metrics import mean_squared_error\n",
    "print(np.round(mean_absolute_error(pre_test,td_test[:145]),3),np.round(np.sqrt(mean_squared_error(pre_test,td_test[:145])),3))\n",
    "# mean_absolute_error(pre_test,td_test[:145]),np.sqrt(mean_squared_error(pre_test,td_test[:145]))\n"
   ]
  },
  {
   "cell_type": "code",
   "execution_count": 22,
   "metadata": {},
   "outputs": [],
   "source": [
    "from keras.models import load_model\n",
    "\n",
    "model.save('new_LRP_norm02_model_17.651_22.44new_At_TCN.h5')  # creates a HDF5 file 'my_model.h5'\n",
    "\n",
    "# returns a compiled model\n",
    "# identical to the previous one\n",
    "# model = load_model('air_traff_model.h5',custom_objects={'AttentionLayer': AttentionLayer})"
   ]
  },
  {
   "cell_type": "code",
   "execution_count": 176,
   "metadata": {},
   "outputs": [],
   "source": [
    "# f = K.function(model.inputs, [model.get_layer('dense_21').get_output_at(0) for t in range(24)])\n",
    "# f = K.function(model.inputs, [model.get_layer('attention_weights3').output])\n",
    "\n",
    "f = K.function(model.inputs, [model.get_layer('concatenate_8').output])\n",
    "\n",
    "t=22\n",
    "\n",
    "# r = f([time_m_test[1].reshape(1,24,3),w_m_test[1].reshape(1,24,3),wea_m_test[1].reshape(1,24,5),ge_m_test[1].reshape(1,24,16,16,3),sd_m_test[1].reshape(1,24,55)])\n",
    "\n",
    "# r = f([time_m_test[t].reshape(1,24,3),w_m_test[t].reshape(1,24,3),wea_m_test[t].reshape(1,24,5),ge_m_test[t].reshape(1,24,16,16,3),sd_m_test[t].reshape(1,24,54)])\n",
    "r = f([w_m_test[t].reshape(1,24,3),wea_m_test[t].reshape(1,24,5),ge_m_test[t].reshape(1,24,16,16,3),sd_m_test[t].reshape(1,24,54)])\n",
    "\n",
    "# r = f([time_m,w_m,wea_m,ge_m,sd_m])\n",
    "\n"
   ]
  },
  {
   "cell_type": "code",
   "execution_count": 177,
   "metadata": {},
   "outputs": [
    {
     "data": {
      "text/plain": [
       "array([ 0.32682979,  0.54507756, -0.30751556,  1.10538816,  1.30223846,\n",
       "       -1.37183332, -0.1928184 , -0.03377199,  0.04389238,  0.1201181 ,\n",
       "        1.00378025, -1.24483192, -0.3540802 ,  2.27805638,  0.        ,\n",
       "        3.76776481,  1.7313453 ,  1.66965914,  3.3993721 ,  2.37434125,\n",
       "        5.13138437,  0.30587277,  3.84024286,  3.69034266,  0.        ,\n",
       "        0.38770697,  0.        ,  0.        ,  2.39867377,  0.        ,\n",
       "        0.        ,  0.75867277,  0.        ,  2.85236025,  0.        ,\n",
       "        0.        ,  3.45588541,  0.99129105,  3.01035452,  0.        ,\n",
       "        4.88146067,  3.38616037,  5.81438255,  1.3623929 ,  0.01638078,\n",
       "        0.        ,  0.        ,  5.46834517,  0.48497123,  0.58318943,\n",
       "        0.        ,  4.86927605,  3.92084479,  4.39471245,  0.02253062,\n",
       "        0.02326581,  2.97521138,  0.        ,  0.        ,  0.79415482,\n",
       "        1.98963976,  4.26739645,  3.48198771,  3.11769938,  1.03383303,\n",
       "        5.45237446,  1.79314458,  3.11861682,  0.        ,  0.        ,\n",
       "        0.88007236,  0.        ,  3.77942848,  2.362957  ,  0.        ,\n",
       "        2.31187654,  2.44758272,  0.        ], dtype=float32)"
      ]
     },
     "execution_count": 177,
     "metadata": {},
     "output_type": "execute_result"
    }
   ],
   "source": [
    "r[0][0][0]"
   ]
  },
  {
   "cell_type": "code",
   "execution_count": null,
   "metadata": {},
   "outputs": [],
   "source": []
  },
  {
   "cell_type": "code",
   "execution_count": null,
   "metadata": {},
   "outputs": [],
   "source": []
  },
  {
   "cell_type": "code",
   "execution_count": 16,
   "metadata": {},
   "outputs": [],
   "source": [
    "import innvestigate"
   ]
  },
  {
   "cell_type": "code",
   "execution_count": 198,
   "metadata": {},
   "outputs": [],
   "source": [
    "# analyzer = innvestigate.create_analyzer(\"lrp.z\", model, allow_lambda_layers = True)\n",
    "analyzer = innvestigate.create_analyzer(\"lrp.z\", model, allow_lambda_layers = True)"
   ]
  },
  {
   "cell_type": "code",
   "execution_count": 199,
   "metadata": {},
   "outputs": [],
   "source": [
    "tem=sd_m[0].reshape(1,24,54)\n",
    "tem1=ge_m[0].reshape(1,24, 16, 16, 3)\n",
    "tem2=time_m[0].reshape(1,24, 3)\n",
    "tem3=w_m[0].reshape(1,24, 3)\n",
    "tem4=wea_m[0].reshape(1,24,5)"
   ]
  },
  {
   "cell_type": "code",
   "execution_count": 200,
   "metadata": {},
   "outputs": [],
   "source": [
    "# analysis = analyzer.analyze([tem2,tem3,tem4,tem1,tem])\n",
    "analysis = analyzer.analyze([tem3,tem4,tem1,tem])\n"
   ]
  },
  {
   "cell_type": "code",
   "execution_count": 201,
   "metadata": {},
   "outputs": [],
   "source": [
    "a=analysis[0]\n",
    "a = a.sum(axis=np.argmax(np.asarray(a.shape) == 3))\n",
    "a /= np.max(np.abs(a))"
   ]
  },
  {
   "cell_type": "code",
   "execution_count": 202,
   "metadata": {},
   "outputs": [
    {
     "data": {
      "text/plain": [
       "(1, 24)"
      ]
     },
     "execution_count": 202,
     "metadata": {},
     "output_type": "execute_result"
    }
   ],
   "source": [
    "np.shape(a)"
   ]
  },
  {
   "cell_type": "code",
   "execution_count": 203,
   "metadata": {},
   "outputs": [
    {
     "data": {
      "text/plain": [
       "array([[ 0.74777168, -0.00140886,  0.29295728,  0.1155754 ,  0.01974818,\n",
       "         0.35886157,  0.28346869,  0.29421994, -0.18812802, -0.20952418,\n",
       "        -0.17956927,  0.55327868,  0.74277741,  0.70093048, -0.10708781,\n",
       "        -0.19736324, -0.02342966, -0.14885452,  0.86464667,  0.85137188,\n",
       "         0.84537232,  0.74085164,  1.        ,  0.42010924]], dtype=float32)"
      ]
     },
     "execution_count": 203,
     "metadata": {},
     "output_type": "execute_result"
    }
   ],
   "source": [
    "a0"
   ]
  },
  {
   "cell_type": "code",
   "execution_count": 59,
   "metadata": {},
   "outputs": [],
   "source": [
    "from IPython.display import display, HTML\n",
    "from heatmap import html_heatmap"
   ]
  },
  {
   "cell_type": "code",
   "execution_count": 204,
   "metadata": {},
   "outputs": [
    {
     "data": {
      "text/plain": [
       "<matplotlib.image.AxesImage at 0x1c120908710>"
      ]
     },
     "execution_count": 204,
     "metadata": {},
     "output_type": "execute_result"
    },
    {
     "data": {
      "image/png": "[encoded data removed]",
      "text/plain": [
       "<Figure size 432x288 with 1 Axes>"
      ]
     },
     "metadata": {
      "needs_background": "light"
     },
     "output_type": "display_data"
    }
   ],
   "source": [
    "a0=analysis[0]\n",
    "a0 = a0.sum(axis=np.argmax(np.asarray(a0.shape) == 3))\n",
    "a0 /= np.max(np.abs(a0))\n",
    "plt.imshow(a0, cmap=\"seismic\", clim=(-1, 1))"
   ]
  },
  {
   "cell_type": "code",
   "execution_count": 205,
   "metadata": {},
   "outputs": [
    {
     "data": {
      "text/plain": [
       "<matplotlib.image.AxesImage at 0x1c12094c0f0>"
      ]
     },
     "execution_count": 205,
     "metadata": {},
     "output_type": "execute_result"
    },
    {
     "data": {
      "image/png": "[encoded data removed]",
      "text/plain": [
       "<Figure size 432x288 with 1 Axes>"
      ]
     },
     "metadata": {
      "needs_background": "light"
     },
     "output_type": "display_data"
    }
   ],
   "source": [
    "a1=analysis[1]\n",
    "a1 = a1.sum(axis=np.argmax(np.asarray(a1.shape) == 3))\n",
    "a1 /= np.max(np.abs(a1))\n",
    "plt.imshow(a1, cmap=\"seismic\", clim=(-1, 1))"
   ]
  },
  {
   "cell_type": "code",
   "execution_count": 184,
   "metadata": {},
   "outputs": [
    {
     "data": {
      "text/plain": [
       "(16, 16, 3)"
      ]
     },
     "execution_count": 184,
     "metadata": {},
     "output_type": "execute_result"
    }
   ],
   "source": [
    "temp=analysis[2].sum(axis=np.argmax(np.asarray(analysis[2].shape) == 24))/ np.max(np.abs(analysis[2]))\n",
    "# np.shape(temp[0].reshape( 3,16, 16)[0])\n",
    "np.shape(temp[0])"
   ]
  },
  {
   "cell_type": "code",
   "execution_count": 163,
   "metadata": {},
   "outputs": [
    {
     "data": {
      "text/plain": [
       "0.00014808623"
      ]
     },
     "execution_count": 163,
     "metadata": {},
     "output_type": "execute_result"
    }
   ],
   "source": [
    "np.max(np.abs(analysis[2]))"
   ]
  },
  {
   "cell_type": "code",
   "execution_count": 164,
   "metadata": {
    "collapsed": true
   },
   "outputs": [
    {
     "data": {
      "text/plain": [
       "array([[ -2.30955146e-03,   7.08404754e-04,  -6.77420059e-04,\n",
       "         -5.31641440e-03,   1.77428150e-03,  -1.27566198e-03,\n",
       "         -5.78096928e-03,   1.91679865e-03,  -1.41191145e-03,\n",
       "         -6.38575014e-03,   2.13121623e-03,  -1.53223274e-03,\n",
       "         -4.71878191e-03,   1.61989254e-03,  -1.04331074e-03,\n",
       "         -1.21665925e-01],\n",
       "       [  3.73870470e-02,  -3.55497859e-02,  -1.13603197e-01,\n",
       "          4.23216447e-02,  -1.85526907e-02,   9.87947062e-02,\n",
       "         -3.29720043e-02,   2.37053782e-02,   5.58360815e-02,\n",
       "         -1.97954308e-02,   1.11051984e-02,  -8.54035665e-04,\n",
       "          2.64445902e-04,  -2.45569507e-04,  -1.73314777e-03,\n",
       "          5.81467466e-04],\n",
       "       [ -4.09852684e-04,   1.18807727e-03,  -3.21553904e-04,\n",
       "          4.33138863e-04,  -3.32061425e-02,   1.00555345e-02,\n",
       "         -9.99584794e-03,  -4.78873551e-02,   1.69222169e-02,\n",
       "         -9.63333249e-03,  -1.45979191e-03,   5.17480599e-04,\n",
       "         -2.90440454e-04,   0.00000000e+00,   0.00000000e+00,\n",
       "          0.00000000e+00],\n",
       "       [ -4.49409569e-03,   1.28379045e-03,  -3.46901617e-03,\n",
       "         -2.55082875e-01,   7.34003782e-02,  -7.91916847e-02,\n",
       "         -8.14480305e-01,   2.60399163e-01,  -2.13211015e-01,\n",
       "         -6.37802720e-01,   2.19888493e-01,  -1.32927328e-01,\n",
       "         -5.01178810e-03,  -4.20829980e-03,  -5.17048826e-03,\n",
       "         -1.15961164e-01],\n",
       "       [  2.83659212e-02,  -1.47041753e-01,   6.85749948e-02,\n",
       "         -2.73719728e-01,  -7.02373460e-02,  -3.38348538e-01,\n",
       "          1.96600467e-01,  -1.22993058e-02,  -4.85138774e-01,\n",
       "          2.62237400e-01,  -5.11679538e-02,  -2.59325909e-03,\n",
       "          7.27549836e-04,  -1.45235122e-03,  -2.16707122e-03,\n",
       "         -1.01114076e-03],\n",
       "       [ -2.04906845e-03,   5.73274505e-04,  -1.50659890e-03,\n",
       "          1.44702487e-03,  -7.13611916e-02,   2.48737447e-02,\n",
       "         -5.20363785e-02,  -3.91825996e-02,  -6.18383400e-02,\n",
       "         -4.71026339e-02,  -1.15496304e-03,  -1.94969331e-03,\n",
       "         -1.41770928e-03,   0.00000000e+00,   0.00000000e+00,\n",
       "          0.00000000e+00],\n",
       "       [  8.21072012e-02,  -2.52791531e-02,   2.19319835e-02,\n",
       "         -1.12836450e-01,   1.42108956e-02,  -2.79262543e-01,\n",
       "         -3.77617061e-01,  -4.35308754e-01,  -8.37202311e-01,\n",
       "          1.21236488e-01,  -1.06662905e+00,  -4.94298875e-01,\n",
       "         -8.26922432e-03,  -3.15608666e-03,  -6.02108333e-03,\n",
       "          1.96917534e-01],\n",
       "       [ -6.25867844e-02,   5.59250377e-02,   3.01531345e-01,\n",
       "         -1.07520893e-01,   5.94021976e-02,  -6.72642648e-01,\n",
       "          1.81955472e-01,  -5.44009924e-01,  -6.67881727e-01,\n",
       "         -5.39813876e-01,  -5.43381155e-01,  -3.48977149e-01,\n",
       "          1.21833585e-01,  -7.13370219e-02,  -4.78462037e-03,\n",
       "         -1.01425998e-04],\n",
       "       [ -2.60579423e-03,   4.68104742e-02,  -1.57788359e-02,\n",
       "          1.24716265e-02,   2.81108338e-02,  -1.45802610e-02,\n",
       "         -3.19340266e-02,   5.33875776e-03,  -7.76371285e-02,\n",
       "         -3.82770374e-02,  -1.59897411e-03,  -1.79229502e-03,\n",
       "         -1.50604465e-03,   0.00000000e+00,   0.00000000e+00,\n",
       "          0.00000000e+00],\n",
       "       [  7.84753785e-02,  -2.06157248e-02,   1.01517573e-01,\n",
       "          3.66815217e-02,   1.67834535e-01,   1.15181349e-01,\n",
       "          5.19851632e-02,   1.00105740e-02,   2.08630711e-02,\n",
       "         -1.07963197e-02,  -4.29183850e-03,  -1.00363996e-02,\n",
       "         -1.00668138e-02,  -4.50021261e-03,  -9.47321020e-03,\n",
       "         -6.24456108e-02],\n",
       "       [  2.07444392e-02,   1.66580141e-01,  -1.95476875e-01,\n",
       "          5.04625201e-01,   2.31075913e-01,  -3.56730551e-01,\n",
       "          1.72382876e-01,  -4.35291708e-01,  -3.73168588e-01,\n",
       "         -6.98958516e-01,  -7.52616346e-01,   6.40478432e-02,\n",
       "         -5.82073450e-01,  -2.71563739e-01,  -8.04120526e-02,\n",
       "          1.94428377e-02],\n",
       "       [ -2.70068645e-02,  -2.01496750e-01,   6.63102195e-02,\n",
       "         -5.50337834e-03,  -2.08534583e-01,   1.76126018e-01,\n",
       "          8.44209921e-03,  -4.35165828e-03,  -1.72990805e-03,\n",
       "         -4.04534908e-03,  -1.50624732e-03,  -2.54274393e-03,\n",
       "         -1.84895180e-03,   0.00000000e+00,   0.00000000e+00,\n",
       "          0.00000000e+00],\n",
       "       [ -4.51023597e-03,   1.33211294e-03,  -2.48832279e-03,\n",
       "          3.82938907e-02,  -1.22116366e-02,   5.51921166e-02,\n",
       "         -2.26778202e-02,   1.09101251e-01,   4.27054651e-02,\n",
       "         -6.60208380e-03,  -5.69164474e-03,  -9.02995467e-03,\n",
       "         -6.91742124e-03,  -5.57952281e-03,  -8.77333153e-03,\n",
       "         -3.15298736e-01],\n",
       "       [  7.97290653e-02,  -3.28583807e-01,  -3.80123556e-02,\n",
       "         -5.06985962e-01,  -1.37365222e-01,  -3.91856968e-01,\n",
       "          4.30675477e-01,  -9.91190448e-02,   4.06211838e-02,\n",
       "         -3.76315564e-01,  -1.76721349e-01,  -4.98337671e-03,\n",
       "         -3.82057088e-03,  -6.36735000e-03,  -7.38410428e-02,\n",
       "          1.42553002e-02],\n",
       "       [ -9.57444310e-02,  -1.11117423e-01,  -1.34568527e-01,\n",
       "         -2.53600299e-01,  -2.91799549e-02,  -3.04547131e-01,\n",
       "         -1.71294346e-01,  -1.03424251e-01,   3.34311426e-02,\n",
       "         -2.36766003e-02,  -4.03064623e-04,  -2.93380162e-03,\n",
       "         -1.62945816e-03,   0.00000000e+00,   0.00000000e+00,\n",
       "          0.00000000e+00],\n",
       "       [ -5.29970881e-03,   1.48919807e-03,  -4.65252576e-03,\n",
       "         -8.37193709e-03,  -4.47698496e-03,  -8.89889151e-03,\n",
       "         -6.94039091e-03,  -4.78077587e-03,  -6.91852672e-03,\n",
       "         -5.37387561e-03,  -2.13621533e-03,  -4.99558635e-03,\n",
       "         -6.67787204e-03,  -1.76377315e-03,  -6.00216677e-03,\n",
       "         -7.73289055e-02]], dtype=float32)"
      ]
     },
     "execution_count": 164,
     "metadata": {},
     "output_type": "execute_result"
    }
   ],
   "source": [
    "temp[0].reshape( 3,16, 16)[0]"
   ]
  },
  {
   "cell_type": "code",
   "execution_count": 217,
   "metadata": {},
   "outputs": [
    {
     "data": {
      "text/plain": [
       "<matplotlib.image.AxesImage at 0x1c120c78748>"
      ]
     },
     "execution_count": 217,
     "metadata": {},
     "output_type": "execute_result"
    },
    {
     "data": {
      "image/png": "[encoded data removed]",
      "text/plain": [
       "<Figure size 432x288 with 1 Axes>"
      ]
     },
     "metadata": {
      "needs_background": "light"
     },
     "output_type": "display_data"
    }
   ],
   "source": [
    "a2=analysis[2]\n",
    "a2 = a2.sum(axis=np.argmax(np.asarray(a2.shape) == 3))\n",
    "a2 /= np.max(np.abs(a2))\n",
    "plt.imshow(temp[0].reshape( 3,16, 16)[2], cmap=\"seismic\", clim=(-1, 1))"
   ]
  },
  {
   "cell_type": "code",
   "execution_count": 213,
   "metadata": {},
   "outputs": [],
   "source": [
    "a3=analysis[2]\n",
    "a3 = a3.sum(axis=np.argmax(np.asarray(a3.shape) == 3))\n",
    "a3 /= np.max(np.abs(a3))"
   ]
  },
  {
   "cell_type": "code",
   "execution_count": 214,
   "metadata": {},
   "outputs": [
    {
     "data": {
      "text/plain": [
       "<matplotlib.image.AxesImage at 0x1c120cef208>"
      ]
     },
     "execution_count": 214,
     "metadata": {},
     "output_type": "execute_result"
    },
    {
     "data": {
      "image/png": "[encoded data removed]",
      "text/plain": [
       "<Figure size 432x288 with 1 Axes>"
      ]
     },
     "metadata": {
      "needs_background": "light"
     },
     "output_type": "display_data"
    }
   ],
   "source": [
    "plt.imshow(a3[0][12], cmap=\"seismic\", clim=(-1, 1))"
   ]
  },
  {
   "cell_type": "code",
   "execution_count": 235,
   "metadata": {},
   "outputs": [],
   "source": [
    "np.shape(ge_m[0][0])\n",
    "aaaa=tem1[0][0]\n",
    "aaaa /= np.max(np.abs(tem1[0][0]))"
   ]
  },
  {
   "cell_type": "code",
   "execution_count": 236,
   "metadata": {},
   "outputs": [
    {
     "data": {
      "text/plain": [
       "<matplotlib.image.AxesImage at 0x1c12ca69128>"
      ]
     },
     "execution_count": 236,
     "metadata": {},
     "output_type": "execute_result"
    },
    {
     "data": {
      "image/png": "[encoded data removed]",
      "text/plain": [
       "<Figure size 432x288 with 1 Axes>"
      ]
     },
     "metadata": {
      "needs_background": "light"
     },
     "output_type": "display_data"
    }
   ],
   "source": [
    "plt.imshow(aaaa.reshape( 3,16, 16)[0], cmap=\"seismic\", clim=(-1, 1))"
   ]
  },
  {
   "cell_type": "code",
   "execution_count": 212,
   "metadata": {},
   "outputs": [
    {
     "data": {
      "image/png": "[encoded data removed]",
      "text/plain": [
       "<Figure size 432x288 with 2 Axes>"
      ]
     },
     "metadata": {
      "needs_background": "light"
     },
     "output_type": "display_data"
    }
   ],
   "source": [
    "a3=analysis[2]\n",
    "a3 = a3.sum(axis=np.argmax(np.asarray(a3.shape) == 3))\n",
    "a3 /= np.max(np.abs(a3))\n",
    "# plt.imshow(a3, cmap=\"seismic\", clim=(-1, 1))\n",
    "# for i in range(24):\n",
    "plt.imshow(a3[0][23], cmap=\"seismic\", clim=(-1, 1))\n",
    "plt.colorbar()\n",
    "plt.show()"
   ]
  },
  {
   "cell_type": "code",
   "execution_count": 72,
   "metadata": {},
   "outputs": [
    {
     "data": {
      "text/plain": [
       "array([ 0.54542023,  0.57280326,  0.55741411,  0.57771832,  0.54373825,\n",
       "        0.56012601,  0.57107681,  0.67498314,  0.53773439,  0.51392424,\n",
       "        0.5373767 ,  0.54387432,  0.59930599,  0.5904485 ,  0.51380193,\n",
       "        0.53012234,  0.54785943,  0.54836625,  0.69688088,  0.66262096,\n",
       "        0.56907833,  0.61679125,  0.63201761,  0.59093076,  0.66319609,\n",
       "        0.6526587 ,  0.59249604,  0.52867889,  0.53133935,  0.50027472,\n",
       "        0.48201811,  0.53025818,  0.48370934,  0.526034  ,  0.50285012,\n",
       "        0.52767736,  0.5644325 ,  0.58794188,  0.63757896,  0.66826689,\n",
       "        0.58520281,  0.61605316,  0.59635681,  0.5669595 ,  0.61807096,\n",
       "        0.56563544,  0.5251984 ,  0.44894886,  0.58414102,  0.68314332,\n",
       "        0.59698343,  0.62983155,  0.57871026,  0.58209383], dtype=float32)"
      ]
     },
     "execution_count": 72,
     "metadata": {},
     "output_type": "execute_result"
    }
   ],
   "source": [
    "a4[0]"
   ]
  },
  {
   "cell_type": "code",
   "execution_count": 206,
   "metadata": {},
   "outputs": [
    {
     "data": {
      "image/png": "[encoded data removed]",
      "text/plain": [
       "<Figure size 432x288 with 2 Axes>"
      ]
     },
     "metadata": {
      "needs_background": "light"
     },
     "output_type": "display_data"
    }
   ],
   "source": [
    "a4=analysis[3]\n",
    "a4 = a4.sum(axis=np.argmax(np.asarray(a4.shape) == 3))\n",
    "a4 /= np.max(np.abs(a4))\n",
    "plt.imshow(a4, cmap=\"seismic\", clim=(-1, 1))\n",
    "plt.colorbar()\n",
    "plt.show()\n",
    "# for j in range(24):\n",
    "#     display(HTML(html_heatmap([str(i) for i in range(54)], a4[j])))\n"
   ]
  },
  {
   "cell_type": "code",
   "execution_count": 82,
   "metadata": {},
   "outputs": [],
   "source": [
    "import matplotlib\n",
    "import matplotlib.pyplot as plt\n",
    "import matplotlib.colors as colors\n",
    "import numpy as np\n",
    "# set the colormap and centre the colorbar\n",
    "class MidpointNormalize(colors.Normalize):\n",
    "\t\"\"\"\n",
    "\tNormalise the colorbar so that diverging bars work there way either side from a prescribed midpoint value)\n",
    "\n",
    "\te.g. im=ax1.imshow(array, norm=MidpointNormalize(midpoint=0.,vmin=-100, vmax=100))\n",
    "\t\"\"\"\n",
    "\tdef __init__(self, vmin=None, vmax=None, midpoint=None, clip=False):\n",
    "\t\tself.midpoint = midpoint\n",
    "\t\tcolors.Normalize.__init__(self, vmin, vmax, clip)\n",
    "\n",
    "\tdef __call__(self, value, clip=None):\n",
    "\t\t# I'm ignoring masked values and all kinds of edge cases to make a\n",
    "\t\t# simple example...\n",
    "\t\tx, y = [self.vmin, self.midpoint, self.vmax], [0, 0.5, 1]\n",
    "\t\treturn np.ma.masked_array(np.interp(value, x, y), np.isnan(value))"
   ]
  },
  {
   "cell_type": "code",
   "execution_count": 91,
   "metadata": {},
   "outputs": [
    {
     "data": {
      "image/png": "[encoded data removed]",
      "text/plain": [
       "<Figure size 432x288 with 2 Axes>"
      ]
     },
     "metadata": {
      "needs_background": "light"
     },
     "output_type": "display_data"
    }
   ],
   "source": [
    "elev_min=-1\n",
    "elev_max=1\n",
    "mid_val=-0.05\n",
    "cmap=matplotlib.cm.RdBu_r # set the colormap to soemthing diverging\n",
    "plt.imshow(a4, cmap=\"seismic\", clim=(elev_min, elev_max), norm=MidpointNormalize(midpoint=mid_val,vmin=elev_min, vmax=elev_max))\n",
    "plt.colorbar()\n",
    "plt.show()"
   ]
  },
  {
   "cell_type": "code",
   "execution_count": null,
   "metadata": {},
   "outputs": [],
   "source": []
  },
  {
   "cell_type": "code",
   "execution_count": 13,
   "metadata": {},
   "outputs": [],
   "source": [
    "import keras.backend as K\n",
    "import keras.layers\n",
    "from keras import optimizers\n",
    "from keras.engine.topology import Layer\n",
    "from keras.layers import Activation, Lambda\n",
    "from keras.layers import Conv1D, SpatialDropout1D\n",
    "from keras.layers import Convolution1D, Dense\n",
    "from keras.models import Input, Model\n",
    "from typing import List, Tuple\n",
    "\n",
    "\n",
    "def channel_normalization(x):\n",
    "    # type: (Layer) -> Layer\n",
    "    \"\"\" Normalize a layer to the maximum activation\n",
    "\n",
    "    This keeps a layers values between zero and one.\n",
    "    It helps with relu's unbounded activation\n",
    "\n",
    "    Args:\n",
    "        x: The layer to normalize\n",
    "\n",
    "    Returns:\n",
    "        A maximal normalized layer\n",
    "    \"\"\"\n",
    "    max_values = K.max(K.abs(x), 2, keepdims=True) + 1e-5\n",
    "    out = x / max_values\n",
    "    return out\n",
    "\n",
    "\n",
    "def wave_net_activation(x):\n",
    "    # type: (Layer) -> Layer\n",
    "    \"\"\"This method defines the activation used for WaveNet\n",
    "\n",
    "    described in https://deepmind.com/blog/wavenet-generative-model-raw-audio/\n",
    "\n",
    "    Args:\n",
    "        x: The layer we want to apply the activation to\n",
    "\n",
    "    Returns:\n",
    "        A new layer with the wavenet activation applied\n",
    "    \"\"\"\n",
    "    tanh_out = Activation('tanh')(x)\n",
    "    sigm_out = Activation('sigmoid')(x)\n",
    "    return keras.layers.multiply([tanh_out, sigm_out])\n",
    "\n",
    "\n",
    "def residual_block(x, s, i, c, activation, nb_filters, kernel_size, padding, dropout_rate=0):\n",
    "    # type: (Layer, int, int, int, str, int, int, str, float, str) -> Tuple[Layer, Layer]\n",
    "    \"\"\"Defines the residual block for the WaveNet TCN\n",
    "\n",
    "    Args:\n",
    "        x: The previous layer in the model\n",
    "        s: The stack index i.e. which stack in the overall TCN\n",
    "        i: The dilation power of 2 we are using for this residual block\n",
    "        c: The dilation name to make it unique. In case we have same dilation twice: [1, 1, 2, 4].\n",
    "        activation: The name of the type of activation to use\n",
    "        nb_filters: The number of convolutional filters to use in this block\n",
    "        kernel_size: The size of the convolutional kernel\n",
    "        padding: The padding used in the convolutional layers, 'same' or 'causal'.\n",
    "        dropout_rate: Float between 0 and 1. Fraction of the input units to drop.\n",
    "        name: Name of the model. Useful when having multiple TCN.\n",
    "\n",
    "    Returns:\n",
    "        A tuple where the first element is the residual model layer, and the second\n",
    "        is the skip connection.\n",
    "    \"\"\"\n",
    "\n",
    "    original_x = x\n",
    "    conv = Conv1D(filters=nb_filters, kernel_size=kernel_size,\n",
    "                  dilation_rate=i, padding=padding)(x)\n",
    "    if activation == 'norm_relu':\n",
    "        x = Activation('relu')(conv)\n",
    "        x = Lambda(channel_normalization)(x)\n",
    "    elif activation == 'wavenet':\n",
    "        x = wave_net_activation(conv)\n",
    "    else:\n",
    "        x = Activation(activation)(conv)\n",
    "\n",
    "    x = SpatialDropout1D(dropout_rate)(x)\n",
    "\n",
    "    # 1x1 conv.\n",
    "    x = Convolution1D(nb_filters, 1, padding='same')(x)\n",
    "    res_x = keras.layers.add([original_x, x])\n",
    "    return res_x, x\n",
    "\n",
    "\n",
    "def process_dilations(dilations):\n",
    "    def is_power_of_two(num):\n",
    "        return num != 0 and ((num & (num - 1)) == 0)\n",
    "\n",
    "    if all([is_power_of_two(i) for i in dilations]):\n",
    "        return dilations\n",
    "\n",
    "    else:\n",
    "        new_dilations = [2 ** i for i in dilations]\n",
    "        # print(f'Updated dilations from {dilations} to {new_dilations} because of backwards compatibility.')\n",
    "        return new_dilations\n",
    "\n",
    "\n",
    "class TCN:\n",
    "    \"\"\"Creates a TCN layer.\n",
    "\n",
    "        Input shape:\n",
    "            A tensor of shape (batch_size, timesteps, input_dim).\n",
    "\n",
    "        Args:\n",
    "            nb_filters: The number of filters to use in the convolutional layers.\n",
    "            kernel_size: The size of the kernel to use in each convolutional layer.\n",
    "            dilations: The list of the dilations. Example is: [1, 2, 4, 8, 16, 32, 64].\n",
    "            nb_stacks : The number of stacks of residual blocks to use.\n",
    "            activation: The activations to use (norm_relu, wavenet, relu...).\n",
    "            padding: The padding to use in the convolutional layers, 'causal' or 'same'.\n",
    "            use_skip_connections: Boolean. If we want to add skip connections from input to each residual block.\n",
    "            return_sequences: Boolean. Whether to return the last output in the output sequence, or the full sequence.\n",
    "            dropout_rate: Float between 0 and 1. Fraction of the input units to drop.\n",
    "            name: Name of the model. Useful when having multiple TCN.\n",
    "\n",
    "        Returns:\n",
    "            A TCN layer.\n",
    "        \"\"\"\n",
    "\n",
    "    def __init__(self,\n",
    "                 nb_filters=64,\n",
    "                 kernel_size=2,\n",
    "                 nb_stacks=1,\n",
    "                 dilations=[1, 2, 4, 8, 16, 32],\n",
    "                 activation='norm_relu',\n",
    "                 padding='causal',\n",
    "                 use_skip_connections=True,\n",
    "                 dropout_rate=0.0,\n",
    "                 return_sequences=True):\n",
    "        self.return_sequences = return_sequences\n",
    "        self.dropout_rate = dropout_rate\n",
    "        self.use_skip_connections = use_skip_connections\n",
    "        self.activation = activation\n",
    "        self.dilations = dilations\n",
    "        self.nb_stacks = nb_stacks\n",
    "        self.kernel_size = kernel_size\n",
    "        self.nb_filters = nb_filters\n",
    "        self.padding = padding\n",
    "\n",
    "        if padding != 'causal' and padding != 'same':\n",
    "            raise ValueError(\"Only 'causal' or 'same' padding are compatible for this layer.\")\n",
    "\n",
    "        if not isinstance(nb_filters, int):\n",
    "            print('An interface change occurred after the version 2.1.2.')\n",
    "            print('Before: tcn.TCN(i, return_sequences=False, ...)')\n",
    "            print('Now should be: tcn.TCN(return_sequences=False, ...)(i)')\n",
    "            print('Second solution is to pip install keras-tcn==2.1.2 to downgrade.')\n",
    "            raise Exception()\n",
    "\n",
    "    def __call__(self, inputs):\n",
    "        x = inputs\n",
    "        x = Convolution1D(self.nb_filters, 1, padding=self.padding)(x)\n",
    "        skip_connections = []\n",
    "        for s in range(self.nb_stacks):\n",
    "            for i, d in enumerate(self.dilations):\n",
    "                x, skip_out = residual_block(x, s, d, i, self.activation, self.nb_filters,\n",
    "                                             self.kernel_size, self.padding, self.dropout_rate)\n",
    "                skip_connections.append(skip_out)\n",
    "        if self.use_skip_connections:\n",
    "            x = keras.layers.add(skip_connections)\n",
    "        x = Activation('relu')(x)\n",
    "\n",
    "        if not self.return_sequences:\n",
    "            output_slice_index = -1\n",
    "            x = Lambda(lambda tt: tt[:, output_slice_index, :])(x)\n",
    "        return x\n",
    "\n",
    "\n",
    "def compiled_tcn(num_feat,  # type: int\n",
    "                 num_classes,  # type: int\n",
    "                 nb_filters,  # type: int\n",
    "                 kernel_size,  # type: int\n",
    "                 dilations,  # type: List[int]\n",
    "                 nb_stacks,  # type: int\n",
    "                 max_len,  # type: int\n",
    "                 activation='norm_relu',  # type: str\n",
    "                 padding='causal',  # type: str\n",
    "                 use_skip_connections=True,  # type: bool\n",
    "                 return_sequences=True,\n",
    "                 regression=False,  # type: bool\n",
    "                 dropout_rate=0.05,  # type: float\n",
    "                 ):\n",
    "    # type: (...) -> keras.Model\n",
    "    \"\"\"Creates a compiled TCN model for a given task (i.e. regression or classification).\n",
    "\n",
    "    Args:\n",
    "        num_feat: The number of features of your input, i.e. the last dimension of: (batch_size, timesteps, input_dim).\n",
    "        num_classes: The size of the final dense layer, how many classes we are predicting.\n",
    "        nb_filters: The number of filters to use in the convolutional layers.\n",
    "        kernel_size: The size of the kernel to use in each convolutional layer.\n",
    "        dilations: The list of the dilations. Example is: [1, 2, 4, 8, 16, 32, 64].\n",
    "        nb_stacks : The number of stacks of residual blocks to use.\n",
    "        max_len: The maximum sequence length, use None if the sequence length is dynamic.\n",
    "        activation: The activations to use.\n",
    "        padding: The padding to use in the convolutional layers.\n",
    "        use_skip_connections: Boolean. If we want to add skip connections from input to each residual block.\n",
    "        return_sequences: Boolean. Whether to return the last output in the output sequence, or the full sequence.\n",
    "        regression: Whether the output should be continuous or discrete.\n",
    "        dropout_rate: Float between 0 and 1. Fraction of the input units to drop.\n",
    "        name: Name of the model. Useful when having multiple TCN.\n",
    "\n",
    "    Returns:\n",
    "        A compiled keras TCN.\n",
    "    \"\"\"\n",
    "\n",
    "    dilations = process_dilations(dilations)\n",
    "\n",
    "    input_layer = Input(shape=(max_len, num_feat))\n",
    "\n",
    "    x = TCN(nb_filters, kernel_size, nb_stacks, dilations, activation,\n",
    "            padding, use_skip_connections, dropout_rate, return_sequences)(input_layer)\n",
    "\n",
    "    print('x.shape=', x.shape)\n",
    "\n",
    "    if not regression:\n",
    "        # classification\n",
    "        x = Dense(num_classes)(x)\n",
    "        x = Activation('softmax')(x)\n",
    "        output_layer = x\n",
    "        print(f'model.x = {input_layer.shape}')\n",
    "        print(f'model.y = {output_layer.shape}')\n",
    "        model = Model(input_layer, output_layer)\n",
    "\n",
    "        # https://github.com/keras-team/keras/pull/11373\n",
    "        # It's now in Keras@master but still not available with pip.\n",
    "        # TODO To remove later.\n",
    "        def accuracy(y_true, y_pred):\n",
    "            # reshape in case it's in shape (num_samples, 1) instead of (num_samples,)\n",
    "            if K.ndim(y_true) == K.ndim(y_pred):\n",
    "                y_true = K.squeeze(y_true, -1)\n",
    "            # convert dense predictions to labels\n",
    "            y_pred_labels = K.argmax(y_pred, axis=-1)\n",
    "            y_pred_labels = K.cast(y_pred_labels, K.floatx())\n",
    "            return K.cast(K.equal(y_true, y_pred_labels), K.floatx())\n",
    "\n",
    "        adam = optimizers.Adam(lr=0.002, clipnorm=1.)\n",
    "        model.compile(adam, loss='sparse_categorical_crossentropy', metrics=[accuracy])\n",
    "        print('Adam with norm clipping.')\n",
    "    else:\n",
    "        # regression\n",
    "        x = Dense(1)(x)\n",
    "        x = Activation('linear')(x)\n",
    "        output_layer = x\n",
    "        print(f'model.x = {input_layer.shape}')\n",
    "        print(f'model.y = {output_layer.shape}')\n",
    "        model = Model(input_layer, output_layer)\n",
    "        adam = optimizers.Adam(lr=0.002, clipnorm=1.)\n",
    "        model.compile(adam, loss='mean_squared_error')\n",
    "\n",
    "    return model\n"
   ]
  },
  {
   "cell_type": "code",
   "execution_count": null,
   "metadata": {},
   "outputs": [],
   "source": []
  }
 ],
 "metadata": {
  "kernelspec": {
   "display_name": "Python 3",
   "language": "python",
   "name": "python3"
  },
  "language_info": {
   "codemirror_mode": {
    "name": "ipython",
    "version": 3
   },
   "file_extension": ".py",
   "mimetype": "text/x-python",
   "name": "python",
   "nbconvert_exporter": "python",
   "pygments_lexer": "ipython3",
   "version": "3.6.6"
  }
 },
 "nbformat": 4,
 "nbformat_minor": 2
}
