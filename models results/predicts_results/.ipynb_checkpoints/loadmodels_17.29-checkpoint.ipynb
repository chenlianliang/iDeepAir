{
 "cells": [
  {
   "cell_type": "code",
   "execution_count": 1,
   "metadata": {},
   "outputs": [
    {
     "name": "stderr",
     "output_type": "stream",
     "text": [
      "Using TensorFlow backend.\n"
     ]
    }
   ],
   "source": [
    "import warnings\n",
    "warnings.filterwarnings(\"ignore\")\n",
    "from keras.engine.topology import Layer\n",
    "from keras.layers import Bidirectional, Concatenate, Permute, Dot, Input, LSTM, GRU, Multiply, Reshape\n",
    "from keras.layers import RepeatVector, Dense, Activation, Lambda, Embedding\n",
    "from keras.optimizers import Adam\n",
    "from keras.utils import to_categorical\n",
    "from keras.models import load_model, Model\n",
    "import keras.backend as K\n",
    "import keras\n",
    "import numpy as np\n",
    "import random\n",
    "import tqdm\n",
    "import matplotlib.pyplot as plt\n",
    "from keras.utils import to_categorical\n",
    "import pandas as pd\n",
    "# from tcn import TCN\n",
    "%matplotlib inline\n",
    "from keras.layers import merge, Input, Dense, TimeDistributed, Lambda                                   \n",
    "import keras\n",
    "from keras.models import Sequential, Model\n",
    "from keras.layers import Conv2D, GlobalMaxPooling2D,MaxPooling2D, Flatten, Dense, BatchNormalization, Activation, Input, GlobalAveragePooling2D,AveragePooling2D, Add\n",
    "from keras.optimizers import Adam, rmsprop\n",
    "from keras.callbacks import EarlyStopping\n",
    "from sklearn.model_selection import GridSearchCV\n",
    "from keras.models import Sequential\n",
    "from keras.layers import Dropout\n",
    "from keras.wrappers.scikit_learn import KerasRegressor\n",
    "from keras.constraints import maxnorm\n",
    "MAX_SENT_LENGTH = 55\n",
    "MAX_SENTS = 24\n",
    "VALIDATION_SPLIT = 0.2"
   ]
  },
  {
   "cell_type": "code",
   "execution_count": 2,
   "metadata": {},
   "outputs": [],
   "source": [
    "from sklearn.preprocessing import MinMaxScaler  \n",
    "from sklearn.preprocessing import StandardScaler  \n",
    "from pandas import concat\n",
    "\n",
    "std = StandardScaler()"
   ]
  },
  {
   "cell_type": "code",
   "execution_count": 4,
   "metadata": {},
   "outputs": [],
   "source": [
    "import pandas as pd\n",
    "#matplotlib inline\n",
    "#参数初始化\n",
    "discfile = '../../data/data_wea_time_unify.csv'\n",
    "\n",
    "data = pd.read_csv(discfile)"
   ]
  },
  {
   "cell_type": "code",
   "execution_count": 5,
   "metadata": {},
   "outputs": [],
   "source": [
    "futrue_time=24\n",
    "\n",
    "time_step=24"
   ]
  },
  {
   "cell_type": "code",
   "execution_count": 6,
   "metadata": {},
   "outputs": [],
   "source": [
    "for i in range(24,96):\n",
    "    data['PM25_m'+str(i)]=data['PM25_mean'].shift(-i)\n",
    "data=data.dropna(how='any')"
   ]
  },
  {
   "cell_type": "code",
   "execution_count": 7,
   "metadata": {},
   "outputs": [],
   "source": [
    "target_data=data.iloc[:,76:]\n",
    "source_data=data.iloc[:,4:58]\n",
    "\n",
    "import copy\n",
    "sd=copy.deepcopy(source_data)\n",
    "td=copy.deepcopy(target_data)\n",
    "\n",
    "td=td.dropna(how='any')\n",
    "# td=std.fit_transform(td)\n",
    "sd=std.fit_transform(sd)\n",
    "# sd=sd.values\n",
    "td=td.values\n",
    "td_test=td[5801:,:futrue_time]   \n",
    "td=td[:5801,:futrue_time]\n",
    "sd_m=[]\n",
    "for i in range(1,MAX_SENTS+1):\n",
    "    locals()['sd'+str(i)]=sd[i-1:5800+i]\n",
    "\n",
    "    sd_m.append(locals()['sd'+str(i)])\n",
    "sd_m=(np.array(sd_m).swapaxes(0,1))\n",
    "\n",
    "\n",
    "######test\n",
    "sd_m_test=[]\n",
    "for i in range(1,25):\n",
    "    locals()['sd_t'+str(i)]=sd[5800+i:5969-24+i]\n",
    "    \n",
    "    sd_m_test.append(locals()['sd_t'+str(i)])\n",
    "\n",
    "sd_m_test=(np.array(sd_m_test).swapaxes(0,1))"
   ]
  },
  {
   "cell_type": "code",
   "execution_count": 10,
   "metadata": {},
   "outputs": [
    {
     "data": {
      "text/plain": [
       "((5969, 54), (145, 24, 54), (5801, 24, 54))"
      ]
     },
     "execution_count": 10,
     "metadata": {},
     "output_type": "execute_result"
    }
   ],
   "source": [
    "np.shape(sd[:,:]),np.shape(sd_m_test),np.shape(sd_m)"
   ]
  },
  {
   "cell_type": "code",
   "execution_count": 11,
   "metadata": {},
   "outputs": [],
   "source": [
    "wea_data=data.iloc[:,67:75]\n",
    "# wea_data=std.fit_transform(wea_data)\n",
    "# wea_data=pd.DataFrame(wea_data)\n",
    "w=wea_data[['Conditions','Wind Dir','Quality evaluation']]\n",
    "# w=std.fit_transform(w)\n",
    "w_m=[]\n",
    "for i in range(1,25):\n",
    "    locals()['w'+str(i)]=w[i-1:5800+i].values\n",
    "    \n",
    "    w_m.append(locals()['w'+str(i)])\n",
    "    \n",
    "wea=wea_data[['Dew Point','Humidity','Pressure','Temp.','Wind Speed']]\n",
    "wea=std.fit_transform(wea)\n",
    "wea_m=[]\n",
    "for i in range(1,25):\n",
    "    locals()['wea'+str(i)]=wea[i-1:5800+i]\n",
    "    \n",
    "    wea_m.append(locals()['wea'+str(i)])"
   ]
  },
  {
   "cell_type": "code",
   "execution_count": 12,
   "metadata": {},
   "outputs": [],
   "source": [
    "time_data=data.iloc[:,64:67]\n",
    "# time_data=std.fit_transform(time_data)\n",
    "time_m=[]\n",
    "for i in range(1,25):\n",
    "    locals()['time'+str(i)]=time_data[i-1:5800+i].values\n",
    "    \n",
    "    time_m.append(locals()['time'+str(i)])"
   ]
  },
  {
   "cell_type": "code",
   "execution_count": 13,
   "metadata": {},
   "outputs": [],
   "source": [
    "time_m=(np.array(time_m).swapaxes(0,1))\n",
    "w_m=(np.array(w_m).swapaxes(0,1))\n",
    "wea_m=(np.array(wea_m).swapaxes(0,1))"
   ]
  },
  {
   "cell_type": "code",
   "execution_count": 14,
   "metadata": {},
   "outputs": [],
   "source": [
    "time_m_test=[]\n",
    "for i in range(1,25):\n",
    "    locals()['time_t'+str(i)]=time_data[5800+i:5969-24+i].values\n",
    "    \n",
    "    time_m_test.append(locals()['time_t'+str(i)])\n",
    "\n",
    "time_m_test=(np.array(time_m_test).swapaxes(0,1))\n",
    "\n",
    "w_m_test=[]\n",
    "for i in range(1,25):\n",
    "    locals()['w_t'+str(i)]=w[5800+i:5969-24+i].values\n",
    "    \n",
    "    w_m_test.append(locals()['w_t'+str(i)])\n",
    "\n",
    "w_m_test=(np.array(w_m_test).swapaxes(0,1))\n",
    "\n",
    "wea_m_test=[]\n",
    "for i in range(1,25):\n",
    "    locals()['wea_t'+str(i)]=wea[5800+i:5969-24+i]\n",
    "    \n",
    "    wea_m_test.append(locals()['wea_t'+str(i)])\n",
    "\n",
    "wea_m_test=(np.array(wea_m_test).swapaxes(0,1))"
   ]
  },
  {
   "cell_type": "code",
   "execution_count": 16,
   "metadata": {},
   "outputs": [],
   "source": [
    "import h5py\n",
    "import os\n",
    "\n",
    "ground = h5py.File('../../data/inte_g_12_linear.h5', 'r')\n",
    "g = ground['X']\n",
    "\n",
    "ele_zs = h5py.File('../../data/inte_e_zs_12_new_linear.h5', 'r')\n",
    "ezs = ele_zs['X']\n",
    "\n",
    "ele_sd = h5py.File('../../data/inte_e_sd_12_new_linear.h5', 'r')\n",
    "esd = ele_sd['X']\n",
    "\n",
    "g_m=[]\n",
    "for i in range(1,25):\n",
    "    locals()['g'+str(i)]=g[i-1:5800+i]\n",
    "    \n",
    "    g_m.append(locals()['g'+str(i)])\n",
    "g_m=(np.array(g_m).swapaxes(0,1))\n",
    "g_m=g_m.reshape(5801, 24, 16,16,1)\n",
    "\n",
    "ezs_m=[]\n",
    "for i in range(1,25):\n",
    "    locals()['ezs'+str(i)]=ezs[i-1:5800+i]\n",
    "    \n",
    "    ezs_m.append(locals()['ezs'+str(i)])\n",
    "ezs_m=(np.array(ezs_m).swapaxes(0,1))\n",
    "\n",
    "ezs_m=ezs_m.reshape(5801, 24, 16,16,1)\n",
    "\n",
    "esd_m=[]\n",
    "for i in range(1,25):\n",
    "    locals()['esd'+str(i)]=esd[i-1:5800+i]\n",
    "    \n",
    "    esd_m.append(locals()['esd'+str(i)])\n",
    "esd_m=(np.array(esd_m).swapaxes(0,1))\n",
    "\n",
    "esd_m=esd_m.reshape(5801, 24, 16,16,1)\n",
    "\n",
    "ge_m=[ezs_m,esd_m,g_m]\n",
    "\n",
    "ge_m=np.array(ge_m).reshape(5801, 24, 16,16,3)"
   ]
  },
  {
   "cell_type": "code",
   "execution_count": 17,
   "metadata": {},
   "outputs": [],
   "source": [
    "#####test\n",
    "g_m_test=[]\n",
    "for i in range(1,25):\n",
    "    locals()['g_t'+str(i)]=g[5800+i:5969-24+i]\n",
    "    \n",
    "    g_m_test.append(locals()['g_t'+str(i)])\n",
    "g_m_test=(np.array(g_m_test).swapaxes(0,1))\n",
    "\n",
    "g_m_test=g_m_test.reshape(145, 24, 16,16,1)\n",
    "\n",
    "ezs_m_test=[]\n",
    "for i in range(1,25):\n",
    "    locals()['ezs_t'+str(i)]=ezs[5800+i:5969-24+i]\n",
    "    \n",
    "    ezs_m_test.append(locals()['ezs_t'+str(i)])\n",
    "ezs_m_test=(np.array(ezs_m_test).swapaxes(0,1))\n",
    "\n",
    "ezs_m_test=ezs_m_test.reshape(145, 24, 16,16,1)\n",
    "\n",
    "esd_m_test=[]\n",
    "for i in range(1,25):\n",
    "    locals()['esd_t'+str(i)]=esd[5800+i:5969-24+i]\n",
    "    \n",
    "    esd_m_test.append(locals()['esd_t'+str(i)])\n",
    "esd_m_test=(np.array(esd_m_test).swapaxes(0,1))\n",
    "\n",
    "esd_m_test=esd_m_test.reshape(145, 24, 16,16,1)\n",
    "ge_m_test=[ezs_m_test,esd_m_test,g_m_test]\n",
    "\n",
    "ge_m_test=np.array(ge_m_test).reshape(145, 24, 16,16,3)"
   ]
  },
  {
   "cell_type": "code",
   "execution_count": 150,
   "metadata": {},
   "outputs": [
    {
     "name": "stdout",
     "output_type": "stream",
     "text": [
      "Train on 4640 samples, validate on 1161 samples\n",
      "Epoch 1/20\n",
      " - 246s - loss: 39.8452 - val_loss: 25.0529\n",
      "Epoch 2/20\n",
      " - 124s - loss: 27.9924 - val_loss: 23.8543\n",
      "Epoch 3/20\n",
      " - 122s - loss: 26.8238 - val_loss: 22.5495\n",
      "Epoch 4/20\n",
      " - 122s - loss: 25.6935 - val_loss: 22.1911\n",
      "Epoch 5/20\n",
      " - 121s - loss: 24.7465 - val_loss: 21.5477\n",
      "Epoch 6/20\n",
      " - 121s - loss: 24.0661 - val_loss: 21.0890\n",
      "Epoch 7/20\n",
      " - 121s - loss: 23.5810 - val_loss: 22.3238\n",
      "Epoch 8/20\n",
      " - 121s - loss: 23.3132 - val_loss: 20.8358\n",
      "Epoch 9/20\n",
      " - 121s - loss: 22.8305 - val_loss: 20.3604\n",
      "Epoch 10/20\n",
      " - 121s - loss: 22.4854 - val_loss: 19.8463\n",
      "Epoch 11/20\n",
      " - 122s - loss: 22.3515 - val_loss: 20.1241\n",
      "Epoch 12/20\n",
      " - 120s - loss: 22.1573 - val_loss: 19.3608\n",
      "Epoch 13/20\n",
      " - 121s - loss: 21.9268 - val_loss: 19.9161\n",
      "Epoch 14/20\n",
      " - 121s - loss: 21.7479 - val_loss: 19.2590\n",
      "Epoch 15/20\n",
      " - 121s - loss: 21.5495 - val_loss: 19.2080\n",
      "Epoch 16/20\n",
      " - 122s - loss: 21.3237 - val_loss: 19.2901\n",
      "Epoch 17/20\n",
      " - 121s - loss: 21.0931 - val_loss: 18.8640\n",
      "Epoch 18/20\n",
      " - 122s - loss: 20.8533 - val_loss: 18.8679\n",
      "Epoch 19/20\n",
      " - 121s - loss: 20.8752 - val_loss: 18.6030\n",
      "Epoch 20/20\n",
      " - 120s - loss: 20.6240 - val_loss: 18.6962\n"
     ]
    },
    {
     "data": {
      "image/png": "[encoded data removed]",
      "text/plain": [
       "<Figure size 432x288 with 1 Axes>"
      ]
     },
     "metadata": {
      "needs_background": "light"
     },
     "output_type": "display_data"
    }
   ],
   "source": [
    "from keras.layers import *\n",
    "import keras.backend as K\n",
    "\n",
    "\n",
    "def to_mask(x, mask, mode='mul'):\n",
    "    \"\"\"通用mask函数\n",
    "    \"\"\"\n",
    "    if mask is None:\n",
    "        return x\n",
    "    else:\n",
    "        for _ in range(K.ndim(x) - K.ndim(mask)):\n",
    "            mask = K.expand_dims(mask, K.ndim(mask))\n",
    "        if mode == 'mul':\n",
    "            return x * mask\n",
    "        else:\n",
    "            return x - (1 - mask) * 1e10\n",
    "\n",
    "class OurLayer(Layer):\n",
    "    \"\"\"定义新的Layer，增加reuse方法，允许在定义Layer时调用现成的层\n",
    "    \"\"\"\n",
    "    def reuse(self, layer, *args, **kwargs):\n",
    "        if not layer.built:\n",
    "            if len(args) > 0:\n",
    "                inputs = args[0]\n",
    "            else:\n",
    "                inputs = kwargs['inputs']\n",
    "            if isinstance(inputs, list):\n",
    "                input_shape = [K.int_shape(x) for x in inputs]\n",
    "            else:\n",
    "                input_shape = K.int_shape(inputs)\n",
    "            layer.build(input_shape)\n",
    "        outputs = layer.call(*args, **kwargs)\n",
    "        for w in layer.trainable_weights:\n",
    "            if w not in self._trainable_weights:\n",
    "                self._trainable_weights.append(w)\n",
    "        for w in layer.non_trainable_weights:\n",
    "            if w not in self._non_trainable_weights:\n",
    "                self._non_trainable_weights.append(w)\n",
    "        return outputs\n",
    "class MAttention(OurLayer):\n",
    "    \"\"\"多头注意力机制\n",
    "    \"\"\"\n",
    "    def __init__(self, heads=8, size_per_head=16, key_size=None,\n",
    "                 mask_right=False, **kwargs):\n",
    "        super(MAttention, self).__init__(**kwargs)\n",
    "        self.heads = heads\n",
    "        self.size_per_head = size_per_head\n",
    "        self.out_dim = heads * size_per_head\n",
    "        self.key_size = key_size if key_size else size_per_head\n",
    "        self.mask_right = mask_right\n",
    "    def build(self, input_shape):\n",
    "        super(MAttention, self).build(input_shape)\n",
    "        self.q_dense = Dense(self.key_size * self.heads, use_bias=False)\n",
    "        self.k_dense = Dense(self.key_size * self.heads, use_bias=False)\n",
    "        self.v_dense = Dense(self.out_dim, use_bias=False)\n",
    "    def get_config(self):\n",
    "        config = {'heads': self.heads,'size_per_head': self.size_per_head}\n",
    "        base_config = super(MAttention, self).get_config()\n",
    "        return dict(list(base_config.items()) + list(config.items()))\n",
    "\n",
    "    def call(self, inputs):\n",
    "        q, k, v = inputs[: 3]\n",
    "        v_mask, q_mask = None, None\n",
    "        if len(inputs) > 3:\n",
    "            v_mask = inputs[3]\n",
    "            if len(inputs) > 4:\n",
    "                q_mask = inputs[4]\n",
    "        # 线性变换\n",
    "        qw = self.reuse(self.q_dense, q)\n",
    "        kw = self.reuse(self.k_dense, k)\n",
    "        vw = self.reuse(self.v_dense, v)\n",
    "        # 形状变换\n",
    "        qw = K.reshape(qw, (-1, K.shape(qw)[1], self.heads, self.key_size))\n",
    "        kw = K.reshape(kw, (-1, K.shape(kw)[1], self.heads, self.key_size))\n",
    "        vw = K.reshape(vw, (-1, K.shape(vw)[1], self.heads, self.size_per_head))\n",
    "        # 维度置换\n",
    "        qw = K.permute_dimensions(qw, (0, 2, 1, 3))\n",
    "        kw = K.permute_dimensions(kw, (0, 2, 1, 3))\n",
    "        vw = K.permute_dimensions(vw, (0, 2, 1, 3))\n",
    "        # Attention\n",
    "        a = K.batch_dot(qw, kw, [3, 3]) / self.key_size**0.5\n",
    "        a = K.permute_dimensions(a, (0, 3, 2, 1))\n",
    "        a = to_mask(a, v_mask, 'add')\n",
    "        a = K.permute_dimensions(a, (0, 3, 2, 1))\n",
    "        if (self.mask_right is not False) or (self.mask_right is not None):\n",
    "            if self.mask_right is True:\n",
    "                ones = K.ones_like(a[: 1, : 1])\n",
    "                mask = (ones - K.tf.matrix_band_part(ones, -1, 0)) * 1e10\n",
    "                a = a - mask\n",
    "            else:\n",
    "                # 这种情况下，mask_right是外部传入的0/1矩阵，shape=[q_len, k_len]\n",
    "                mask = (1 - K.constant(self.mask_right)) * 1e10\n",
    "                mask = K.expand_dims(K.expand_dims(mask, 0), 0)\n",
    "                self.mask = mask\n",
    "                a = a - mask\n",
    "        a = K.softmax(a)\n",
    "        self.a = a\n",
    "        # 完成输出\n",
    "        o = K.batch_dot(a, vw, [3, 2])\n",
    "        o = K.permute_dimensions(o, (0, 2, 1, 3))\n",
    "        o = K.reshape(o, (-1, K.shape(o)[1], self.out_dim))\n",
    "        o = to_mask(o, q_mask, 'mul')\n",
    "        return o\n",
    "    def compute_output_shape(self, input_shape):\n",
    "        return (input_shape[0][0], input_shape[0][1], self.out_dim)\n",
    "class AttentionLayer(Layer):\n",
    "    def __init__(self, **kwargs):\n",
    "        super(AttentionLayer, self).__init__(** kwargs)\n",
    "    \n",
    "    def build(self, input_shape):\n",
    "        assert len(input_shape)==3\n",
    "        # W.shape = (time_steps, time_steps)\n",
    "        self.W = self.add_weight(name='att_weight', \n",
    "                                 shape=(input_shape[1], input_shape[1]),\n",
    "                                 initializer='uniform',\n",
    "                                 trainable=True)\n",
    "        super(AttentionLayer, self).build(input_shape)\n",
    "\n",
    "    def call(self, inputs, mask=None):\n",
    "        x = K.permute_dimensions(inputs, (0, 2, 1))\n",
    "        # x.shape = (batch_size, seq_len, time_steps)\n",
    "        # general\n",
    "        a = K.softmax(K.tanh(K.dot(x, self.W)))\n",
    "        a = K.permute_dimensions(a, (0, 2, 1))\n",
    "        outputs = a * inputs\n",
    "        outputs = K.sum(outputs, axis=1)\n",
    "        return outputs\n",
    "\n",
    "    def compute_output_shape(self, input_shape):\n",
    "        return input_shape[0], input_shape[2]"
   ]
  },
  {
   "cell_type": "code",
   "execution_count": 40,
   "metadata": {},
   "outputs": [
    {
     "name": "stdout",
     "output_type": "stream",
     "text": [
      "__________________________________________________________________________________________________\n",
      "Layer (type)                    Output Shape         Param #     Connected to                     \n",
      "==================================================================================================\n",
      "input_115 (InputLayer)          (None, 24, 16, 16, 3 0                                            \n",
      "__________________________________________________________________________________________________\n",
      "time_distributed_73 (TimeDistri (None, 24, 3)        167         input_115[0][0]                  \n",
      "__________________________________________________________________________________________________\n",
      "input_114 (InputLayer)          (None, 24, 54)       0                                            \n",
      "__________________________________________________________________________________________________\n",
      "concatenate_25 (Concatenate)    (None, 24, 57)       0           time_distributed_73[0][0]        \n",
      "                                                                 input_114[0][0]                  \n",
      "__________________________________________________________________________________________________\n",
      "time_distributed_74 (TimeDistri (None, 24, 36)       8277        concatenate_25[0][0]             \n",
      "__________________________________________________________________________________________________\n",
      "conv1d_157 (Conv1D)             (None, 24, 64)       2368        time_distributed_74[0][0]        \n",
      "__________________________________________________________________________________________________\n",
      "conv1d_158 (Conv1D)             (None, 24, 64)       8256        conv1d_157[0][0]                 \n",
      "__________________________________________________________________________________________________\n",
      "activation_85 (Activation)      (None, 24, 64)       0           conv1d_158[0][0]                 \n",
      "__________________________________________________________________________________________________\n",
      "lambda_73 (Lambda)              (None, 24, 64)       0           activation_85[0][0]              \n",
      "__________________________________________________________________________________________________\n",
      "spatial_dropout1d_73 (SpatialDr (None, 24, 64)       0           lambda_73[0][0]                  \n",
      "__________________________________________________________________________________________________\n",
      "conv1d_159 (Conv1D)             (None, 24, 64)       4160        spatial_dropout1d_73[0][0]       \n",
      "__________________________________________________________________________________________________\n",
      "add_85 (Add)                    (None, 24, 64)       0           conv1d_157[0][0]                 \n",
      "                                                                 conv1d_159[0][0]                 \n",
      "__________________________________________________________________________________________________\n",
      "conv1d_160 (Conv1D)             (None, 24, 64)       8256        add_85[0][0]                     \n",
      "__________________________________________________________________________________________________\n",
      "activation_86 (Activation)      (None, 24, 64)       0           conv1d_160[0][0]                 \n",
      "__________________________________________________________________________________________________\n",
      "lambda_74 (Lambda)              (None, 24, 64)       0           activation_86[0][0]              \n",
      "__________________________________________________________________________________________________\n",
      "spatial_dropout1d_74 (SpatialDr (None, 24, 64)       0           lambda_74[0][0]                  \n",
      "__________________________________________________________________________________________________\n",
      "conv1d_161 (Conv1D)             (None, 24, 64)       4160        spatial_dropout1d_74[0][0]       \n",
      "__________________________________________________________________________________________________\n",
      "add_86 (Add)                    (None, 24, 64)       0           add_85[0][0]                     \n",
      "                                                                 conv1d_161[0][0]                 \n",
      "__________________________________________________________________________________________________\n",
      "conv1d_162 (Conv1D)             (None, 24, 64)       8256        add_86[0][0]                     \n",
      "__________________________________________________________________________________________________\n",
      "activation_87 (Activation)      (None, 24, 64)       0           conv1d_162[0][0]                 \n",
      "__________________________________________________________________________________________________\n",
      "lambda_75 (Lambda)              (None, 24, 64)       0           activation_87[0][0]              \n",
      "__________________________________________________________________________________________________\n",
      "spatial_dropout1d_75 (SpatialDr (None, 24, 64)       0           lambda_75[0][0]                  \n",
      "__________________________________________________________________________________________________\n",
      "conv1d_163 (Conv1D)             (None, 24, 64)       4160        spatial_dropout1d_75[0][0]       \n",
      "__________________________________________________________________________________________________\n",
      "add_87 (Add)                    (None, 24, 64)       0           add_86[0][0]                     \n",
      "                                                                 conv1d_163[0][0]                 \n",
      "__________________________________________________________________________________________________\n",
      "conv1d_164 (Conv1D)             (None, 24, 64)       8256        add_87[0][0]                     \n",
      "__________________________________________________________________________________________________\n",
      "activation_88 (Activation)      (None, 24, 64)       0           conv1d_164[0][0]                 \n",
      "__________________________________________________________________________________________________\n",
      "lambda_76 (Lambda)              (None, 24, 64)       0           activation_88[0][0]              \n",
      "__________________________________________________________________________________________________\n",
      "spatial_dropout1d_76 (SpatialDr (None, 24, 64)       0           lambda_76[0][0]                  \n",
      "__________________________________________________________________________________________________\n",
      "conv1d_165 (Conv1D)             (None, 24, 64)       4160        spatial_dropout1d_76[0][0]       \n",
      "__________________________________________________________________________________________________\n",
      "add_88 (Add)                    (None, 24, 64)       0           add_87[0][0]                     \n",
      "                                                                 conv1d_165[0][0]                 \n",
      "__________________________________________________________________________________________________\n",
      "conv1d_166 (Conv1D)             (None, 24, 64)       8256        add_88[0][0]                     \n",
      "__________________________________________________________________________________________________\n",
      "activation_89 (Activation)      (None, 24, 64)       0           conv1d_166[0][0]                 \n",
      "__________________________________________________________________________________________________\n",
      "lambda_77 (Lambda)              (None, 24, 64)       0           activation_89[0][0]              \n",
      "__________________________________________________________________________________________________\n",
      "spatial_dropout1d_77 (SpatialDr (None, 24, 64)       0           lambda_77[0][0]                  \n",
      "__________________________________________________________________________________________________\n",
      "conv1d_167 (Conv1D)             (None, 24, 64)       4160        spatial_dropout1d_77[0][0]       \n",
      "__________________________________________________________________________________________________\n",
      "add_89 (Add)                    (None, 24, 64)       0           add_88[0][0]                     \n",
      "                                                                 conv1d_167[0][0]                 \n",
      "__________________________________________________________________________________________________\n",
      "conv1d_168 (Conv1D)             (None, 24, 64)       8256        add_89[0][0]                     \n",
      "__________________________________________________________________________________________________\n",
      "activation_90 (Activation)      (None, 24, 64)       0           conv1d_168[0][0]                 \n",
      "__________________________________________________________________________________________________\n",
      "lambda_78 (Lambda)              (None, 24, 64)       0           activation_90[0][0]              \n",
      "__________________________________________________________________________________________________\n",
      "spatial_dropout1d_78 (SpatialDr (None, 24, 64)       0           lambda_78[0][0]                  \n",
      "__________________________________________________________________________________________________\n",
      "conv1d_169 (Conv1D)             (None, 24, 64)       4160        spatial_dropout1d_78[0][0]       \n",
      "__________________________________________________________________________________________________\n",
      "input_116 (InputLayer)          (None, 24, 3)        0                                            \n",
      "__________________________________________________________________________________________________\n",
      "add_91 (Add)                    (None, 24, 64)       0           conv1d_159[0][0]                 \n",
      "                                                                 conv1d_161[0][0]                 \n",
      "                                                                 conv1d_163[0][0]                 \n",
      "                                                                 conv1d_165[0][0]                 \n",
      "                                                                 conv1d_167[0][0]                 \n",
      "                                                                 conv1d_169[0][0]                 \n",
      "__________________________________________________________________________________________________\n",
      "time_distributed_75 (TimeDistri (None, 24, 9)        42          input_116[0][0]                  \n",
      "__________________________________________________________________________________________________\n",
      "input_117 (InputLayer)          (None, 24, 5)        0                                            \n",
      "__________________________________________________________________________________________________\n",
      "activation_91 (Activation)      (None, 24, 64)       0           add_91[0][0]                     \n",
      "__________________________________________________________________________________________________\n",
      "concatenate_26 (Concatenate)    (None, 24, 78)       0           time_distributed_75[0][0]        \n",
      "                                                                 input_117[0][0]                  \n",
      "                                                                 activation_91[0][0]              \n",
      "__________________________________________________________________________________________________\n",
      "time_distributed_77 (TimeDistri (None, 24, 64)       5056        concatenate_26[0][0]             \n",
      "__________________________________________________________________________________________________\n",
      "attention_layer_34 (AttentionLa (None, 64)           576         time_distributed_77[0][0]        \n",
      "__________________________________________________________________________________________________\n",
      "dense_80 (Dense)                (None, 24)           1560        attention_layer_34[0][0]         \n",
      "==================================================================================================\n",
      "Total params: 92,542\n",
      "Trainable params: 92,522\n",
      "Non-trainable params: 20\n",
      "__________________________________________________________________________________________________\n"
     ]
    }
   ],
   "source": [
    "model.summary()"
   ]
  },
  {
   "cell_type": "code",
   "execution_count": 151,
   "metadata": {},
   "outputs": [
    {
     "name": "stdout",
     "output_type": "stream",
     "text": [
      "17.455 22.708\n"
     ]
    }
   ],
   "source": [
    "pre_test=model.predict([w_m_test,wea_m_test,ge_m_test,sd_m_test])\n",
    "\n",
    "import numpy as np\n",
    "from sklearn.metrics import mean_absolute_error\n",
    "from sklearn.metrics import mean_squared_error\n",
    "print(np.round(mean_absolute_error(pre_test,td_test[:145]),3),np.round(np.sqrt(mean_squared_error(pre_test,td_test[:145])),3))\n",
    "# mean_absolute_error(pre_test,td_test[:145]),np.sqrt(mean_squared_error(pre_test,td_test[:145]))\n"
   ]
  },
  {
   "cell_type": "code",
   "execution_count": 84,
   "metadata": {},
   "outputs": [],
   "source": [
    "sd_sum=np.append(sd_m,sd_m_test,axis=0)"
   ]
  },
  {
   "cell_type": "code",
   "execution_count": 86,
   "metadata": {},
   "outputs": [],
   "source": [
    "ge_sum=np.append(ge_m,ge_m_test,axis=0)"
   ]
  },
  {
   "cell_type": "code",
   "execution_count": 87,
   "metadata": {},
   "outputs": [],
   "source": [
    "wea_sum=np.append(wea_m,wea_m_test,axis=0)"
   ]
  },
  {
   "cell_type": "code",
   "execution_count": 88,
   "metadata": {},
   "outputs": [],
   "source": [
    "w_sum=np.append(w_m,w_m_test,axis=0)"
   ]
  },
  {
   "cell_type": "code",
   "execution_count": 94,
   "metadata": {},
   "outputs": [],
   "source": [
    "td_sum=np.append(td,td_test[:145],axis=0)"
   ]
  },
  {
   "cell_type": "code",
   "execution_count": 85,
   "metadata": {},
   "outputs": [
    {
     "data": {
      "text/plain": [
       "(5946, 24, 54)"
      ]
     },
     "execution_count": 85,
     "metadata": {},
     "output_type": "execute_result"
    }
   ],
   "source": [
    "np.shape(sd_sum)"
   ]
  },
  {
   "cell_type": "code",
   "execution_count": 92,
   "metadata": {},
   "outputs": [
    {
     "data": {
      "text/plain": [
       "(5801, 24)"
      ]
     },
     "execution_count": 92,
     "metadata": {},
     "output_type": "execute_result"
    }
   ],
   "source": [
    "np.shape(td)"
   ]
  },
  {
   "cell_type": "code",
   "execution_count": 93,
   "metadata": {},
   "outputs": [
    {
     "data": {
      "text/plain": [
       "(168, 24)"
      ]
     },
     "execution_count": 93,
     "metadata": {},
     "output_type": "execute_result"
    }
   ],
   "source": [
    "np.shape(td_test)"
   ]
  },
  {
   "cell_type": "markdown",
   "metadata": {},
   "source": [
    "## 春(4965-5946)\n",
    "\n",
    " 四季\t      Spring\t      Summer\t     Autumn\t        Winter\n",
    " \n",
    "起始日期\t2015年3月13日\t2014年8月1日\t2014年10月4日\t2014年12月1日\n",
    "\n",
    "终止日期\t2015年4月30日\t2014年10月3日\t2014年11月30日\t2015年3月12日"
   ]
  },
  {
   "cell_type": "code",
   "execution_count": 89,
   "metadata": {},
   "outputs": [],
   "source": [
    "pre_Spring=model.predict([w_sum[4965:],wea_sum[4965:],ge_sum[4965:],sd_sum[4965:]])\n",
    "# [w_m,wea_m,ge_m,sd_m]"
   ]
  },
  {
   "cell_type": "code",
   "execution_count": 96,
   "metadata": {},
   "outputs": [
    {
     "data": {
      "text/plain": [
       "(981, 24)"
      ]
     },
     "execution_count": 96,
     "metadata": {},
     "output_type": "execute_result"
    }
   ],
   "source": [
    "np.shape(pre_Spring)"
   ]
  },
  {
   "cell_type": "code",
   "execution_count": 118,
   "metadata": {},
   "outputs": [
    {
     "data": {
      "text/plain": [
       "(981,)"
      ]
     },
     "execution_count": 118,
     "metadata": {},
     "output_type": "execute_result"
    }
   ],
   "source": [
    "np.shape(np.sum(td_sum[4965:],axis=1)/24)"
   ]
  },
  {
   "cell_type": "code",
   "execution_count": 123,
   "metadata": {},
   "outputs": [],
   "source": [
    "pd.DataFrame(pre_Spring).to_csv('spring_pre.csv')"
   ]
  },
  {
   "cell_type": "code",
   "execution_count": 124,
   "metadata": {},
   "outputs": [],
   "source": [
    "pd.DataFrame(td_sum[4965:]).to_csv('spring_true.csv')"
   ]
  },
  {
   "cell_type": "code",
   "execution_count": 207,
   "metadata": {},
   "outputs": [],
   "source": [
    "tips = sns.load_dataset(\"tips\")"
   ]
  },
  {
   "cell_type": "code",
   "execution_count": 196,
   "metadata": {},
   "outputs": [
    {
     "data": {
      "text/plain": [
       "(pandas.core.frame.DataFrame, (244, 7))"
      ]
     },
     "execution_count": 196,
     "metadata": {},
     "output_type": "execute_result"
    }
   ],
   "source": [
    "type(tips), np.shape(tips)"
   ]
  },
  {
   "cell_type": "code",
   "execution_count": 197,
   "metadata": {
    "collapsed": true
   },
   "outputs": [
    {
     "data": {
      "text/html": [
       "<div>\n",
       "<style scoped>\n",
       "    .dataframe tbody tr th:only-of-type {\n",
       "        vertical-align: middle;\n",
       "    }\n",
       "\n",
       "    .dataframe tbody tr th {\n",
       "        vertical-align: top;\n",
       "    }\n",
       "\n",
       "    .dataframe thead th {\n",
       "        text-align: right;\n",
       "    }\n",
       "</style>\n",
       "<table border=\"1\" class=\"dataframe\">\n",
       "  <thead>\n",
       "    <tr style=\"text-align: right;\">\n",
       "      <th></th>\n",
       "      <th>total_bill</th>\n",
       "      <th>tip</th>\n",
       "      <th>sex</th>\n",
       "      <th>smoker</th>\n",
       "      <th>day</th>\n",
       "      <th>time</th>\n",
       "      <th>size</th>\n",
       "    </tr>\n",
       "  </thead>\n",
       "  <tbody>\n",
       "    <tr>\n",
       "      <th>0</th>\n",
       "      <td>16.99</td>\n",
       "      <td>1.01</td>\n",
       "      <td>Female</td>\n",
       "      <td>No</td>\n",
       "      <td>Sun</td>\n",
       "      <td>Dinner</td>\n",
       "      <td>2</td>\n",
       "    </tr>\n",
       "    <tr>\n",
       "      <th>1</th>\n",
       "      <td>10.34</td>\n",
       "      <td>1.66</td>\n",
       "      <td>Male</td>\n",
       "      <td>No</td>\n",
       "      <td>Sun</td>\n",
       "      <td>Dinner</td>\n",
       "      <td>3</td>\n",
       "    </tr>\n",
       "    <tr>\n",
       "      <th>2</th>\n",
       "      <td>21.01</td>\n",
       "      <td>3.50</td>\n",
       "      <td>Male</td>\n",
       "      <td>No</td>\n",
       "      <td>Sun</td>\n",
       "      <td>Dinner</td>\n",
       "      <td>3</td>\n",
       "    </tr>\n",
       "    <tr>\n",
       "      <th>3</th>\n",
       "      <td>23.68</td>\n",
       "      <td>3.31</td>\n",
       "      <td>Male</td>\n",
       "      <td>No</td>\n",
       "      <td>Sun</td>\n",
       "      <td>Dinner</td>\n",
       "      <td>2</td>\n",
       "    </tr>\n",
       "    <tr>\n",
       "      <th>4</th>\n",
       "      <td>24.59</td>\n",
       "      <td>3.61</td>\n",
       "      <td>Female</td>\n",
       "      <td>No</td>\n",
       "      <td>Sun</td>\n",
       "      <td>Dinner</td>\n",
       "      <td>4</td>\n",
       "    </tr>\n",
       "    <tr>\n",
       "      <th>5</th>\n",
       "      <td>25.29</td>\n",
       "      <td>4.71</td>\n",
       "      <td>Male</td>\n",
       "      <td>No</td>\n",
       "      <td>Sun</td>\n",
       "      <td>Dinner</td>\n",
       "      <td>4</td>\n",
       "    </tr>\n",
       "    <tr>\n",
       "      <th>6</th>\n",
       "      <td>8.77</td>\n",
       "      <td>2.00</td>\n",
       "      <td>Male</td>\n",
       "      <td>No</td>\n",
       "      <td>Sun</td>\n",
       "      <td>Dinner</td>\n",
       "      <td>2</td>\n",
       "    </tr>\n",
       "    <tr>\n",
       "      <th>7</th>\n",
       "      <td>26.88</td>\n",
       "      <td>3.12</td>\n",
       "      <td>Male</td>\n",
       "      <td>No</td>\n",
       "      <td>Sun</td>\n",
       "      <td>Dinner</td>\n",
       "      <td>4</td>\n",
       "    </tr>\n",
       "    <tr>\n",
       "      <th>8</th>\n",
       "      <td>15.04</td>\n",
       "      <td>1.96</td>\n",
       "      <td>Male</td>\n",
       "      <td>No</td>\n",
       "      <td>Sun</td>\n",
       "      <td>Dinner</td>\n",
       "      <td>2</td>\n",
       "    </tr>\n",
       "    <tr>\n",
       "      <th>9</th>\n",
       "      <td>14.78</td>\n",
       "      <td>3.23</td>\n",
       "      <td>Male</td>\n",
       "      <td>No</td>\n",
       "      <td>Sun</td>\n",
       "      <td>Dinner</td>\n",
       "      <td>2</td>\n",
       "    </tr>\n",
       "    <tr>\n",
       "      <th>10</th>\n",
       "      <td>10.27</td>\n",
       "      <td>1.71</td>\n",
       "      <td>Male</td>\n",
       "      <td>No</td>\n",
       "      <td>Sun</td>\n",
       "      <td>Dinner</td>\n",
       "      <td>2</td>\n",
       "    </tr>\n",
       "    <tr>\n",
       "      <th>11</th>\n",
       "      <td>35.26</td>\n",
       "      <td>5.00</td>\n",
       "      <td>Female</td>\n",
       "      <td>No</td>\n",
       "      <td>Sun</td>\n",
       "      <td>Dinner</td>\n",
       "      <td>4</td>\n",
       "    </tr>\n",
       "    <tr>\n",
       "      <th>12</th>\n",
       "      <td>15.42</td>\n",
       "      <td>1.57</td>\n",
       "      <td>Male</td>\n",
       "      <td>No</td>\n",
       "      <td>Sun</td>\n",
       "      <td>Dinner</td>\n",
       "      <td>2</td>\n",
       "    </tr>\n",
       "    <tr>\n",
       "      <th>13</th>\n",
       "      <td>18.43</td>\n",
       "      <td>3.00</td>\n",
       "      <td>Male</td>\n",
       "      <td>No</td>\n",
       "      <td>Sun</td>\n",
       "      <td>Dinner</td>\n",
       "      <td>4</td>\n",
       "    </tr>\n",
       "    <tr>\n",
       "      <th>14</th>\n",
       "      <td>14.83</td>\n",
       "      <td>3.02</td>\n",
       "      <td>Female</td>\n",
       "      <td>No</td>\n",
       "      <td>Sun</td>\n",
       "      <td>Dinner</td>\n",
       "      <td>2</td>\n",
       "    </tr>\n",
       "    <tr>\n",
       "      <th>15</th>\n",
       "      <td>21.58</td>\n",
       "      <td>3.92</td>\n",
       "      <td>Male</td>\n",
       "      <td>No</td>\n",
       "      <td>Sun</td>\n",
       "      <td>Dinner</td>\n",
       "      <td>2</td>\n",
       "    </tr>\n",
       "    <tr>\n",
       "      <th>16</th>\n",
       "      <td>10.33</td>\n",
       "      <td>1.67</td>\n",
       "      <td>Female</td>\n",
       "      <td>No</td>\n",
       "      <td>Sun</td>\n",
       "      <td>Dinner</td>\n",
       "      <td>3</td>\n",
       "    </tr>\n",
       "    <tr>\n",
       "      <th>17</th>\n",
       "      <td>16.29</td>\n",
       "      <td>3.71</td>\n",
       "      <td>Male</td>\n",
       "      <td>No</td>\n",
       "      <td>Sun</td>\n",
       "      <td>Dinner</td>\n",
       "      <td>3</td>\n",
       "    </tr>\n",
       "    <tr>\n",
       "      <th>18</th>\n",
       "      <td>16.97</td>\n",
       "      <td>3.50</td>\n",
       "      <td>Female</td>\n",
       "      <td>No</td>\n",
       "      <td>Sun</td>\n",
       "      <td>Dinner</td>\n",
       "      <td>3</td>\n",
       "    </tr>\n",
       "    <tr>\n",
       "      <th>19</th>\n",
       "      <td>20.65</td>\n",
       "      <td>3.35</td>\n",
       "      <td>Male</td>\n",
       "      <td>No</td>\n",
       "      <td>Sat</td>\n",
       "      <td>Dinner</td>\n",
       "      <td>3</td>\n",
       "    </tr>\n",
       "    <tr>\n",
       "      <th>20</th>\n",
       "      <td>17.92</td>\n",
       "      <td>4.08</td>\n",
       "      <td>Male</td>\n",
       "      <td>No</td>\n",
       "      <td>Sat</td>\n",
       "      <td>Dinner</td>\n",
       "      <td>2</td>\n",
       "    </tr>\n",
       "    <tr>\n",
       "      <th>21</th>\n",
       "      <td>20.29</td>\n",
       "      <td>2.75</td>\n",
       "      <td>Female</td>\n",
       "      <td>No</td>\n",
       "      <td>Sat</td>\n",
       "      <td>Dinner</td>\n",
       "      <td>2</td>\n",
       "    </tr>\n",
       "    <tr>\n",
       "      <th>22</th>\n",
       "      <td>15.77</td>\n",
       "      <td>2.23</td>\n",
       "      <td>Female</td>\n",
       "      <td>No</td>\n",
       "      <td>Sat</td>\n",
       "      <td>Dinner</td>\n",
       "      <td>2</td>\n",
       "    </tr>\n",
       "    <tr>\n",
       "      <th>23</th>\n",
       "      <td>39.42</td>\n",
       "      <td>7.58</td>\n",
       "      <td>Male</td>\n",
       "      <td>No</td>\n",
       "      <td>Sat</td>\n",
       "      <td>Dinner</td>\n",
       "      <td>4</td>\n",
       "    </tr>\n",
       "    <tr>\n",
       "      <th>24</th>\n",
       "      <td>19.82</td>\n",
       "      <td>3.18</td>\n",
       "      <td>Male</td>\n",
       "      <td>No</td>\n",
       "      <td>Sat</td>\n",
       "      <td>Dinner</td>\n",
       "      <td>2</td>\n",
       "    </tr>\n",
       "    <tr>\n",
       "      <th>25</th>\n",
       "      <td>17.81</td>\n",
       "      <td>2.34</td>\n",
       "      <td>Male</td>\n",
       "      <td>No</td>\n",
       "      <td>Sat</td>\n",
       "      <td>Dinner</td>\n",
       "      <td>4</td>\n",
       "    </tr>\n",
       "    <tr>\n",
       "      <th>26</th>\n",
       "      <td>13.37</td>\n",
       "      <td>2.00</td>\n",
       "      <td>Male</td>\n",
       "      <td>No</td>\n",
       "      <td>Sat</td>\n",
       "      <td>Dinner</td>\n",
       "      <td>2</td>\n",
       "    </tr>\n",
       "    <tr>\n",
       "      <th>27</th>\n",
       "      <td>12.69</td>\n",
       "      <td>2.00</td>\n",
       "      <td>Male</td>\n",
       "      <td>No</td>\n",
       "      <td>Sat</td>\n",
       "      <td>Dinner</td>\n",
       "      <td>2</td>\n",
       "    </tr>\n",
       "    <tr>\n",
       "      <th>28</th>\n",
       "      <td>21.70</td>\n",
       "      <td>4.30</td>\n",
       "      <td>Male</td>\n",
       "      <td>No</td>\n",
       "      <td>Sat</td>\n",
       "      <td>Dinner</td>\n",
       "      <td>2</td>\n",
       "    </tr>\n",
       "    <tr>\n",
       "      <th>29</th>\n",
       "      <td>19.65</td>\n",
       "      <td>3.00</td>\n",
       "      <td>Female</td>\n",
       "      <td>No</td>\n",
       "      <td>Sat</td>\n",
       "      <td>Dinner</td>\n",
       "      <td>2</td>\n",
       "    </tr>\n",
       "    <tr>\n",
       "      <th>...</th>\n",
       "      <td>...</td>\n",
       "      <td>...</td>\n",
       "      <td>...</td>\n",
       "      <td>...</td>\n",
       "      <td>...</td>\n",
       "      <td>...</td>\n",
       "      <td>...</td>\n",
       "    </tr>\n",
       "    <tr>\n",
       "      <th>214</th>\n",
       "      <td>28.17</td>\n",
       "      <td>6.50</td>\n",
       "      <td>Female</td>\n",
       "      <td>Yes</td>\n",
       "      <td>Sat</td>\n",
       "      <td>Dinner</td>\n",
       "      <td>3</td>\n",
       "    </tr>\n",
       "    <tr>\n",
       "      <th>215</th>\n",
       "      <td>12.90</td>\n",
       "      <td>1.10</td>\n",
       "      <td>Female</td>\n",
       "      <td>Yes</td>\n",
       "      <td>Sat</td>\n",
       "      <td>Dinner</td>\n",
       "      <td>2</td>\n",
       "    </tr>\n",
       "    <tr>\n",
       "      <th>216</th>\n",
       "      <td>28.15</td>\n",
       "      <td>3.00</td>\n",
       "      <td>Male</td>\n",
       "      <td>Yes</td>\n",
       "      <td>Sat</td>\n",
       "      <td>Dinner</td>\n",
       "      <td>5</td>\n",
       "    </tr>\n",
       "    <tr>\n",
       "      <th>217</th>\n",
       "      <td>11.59</td>\n",
       "      <td>1.50</td>\n",
       "      <td>Male</td>\n",
       "      <td>Yes</td>\n",
       "      <td>Sat</td>\n",
       "      <td>Dinner</td>\n",
       "      <td>2</td>\n",
       "    </tr>\n",
       "    <tr>\n",
       "      <th>218</th>\n",
       "      <td>7.74</td>\n",
       "      <td>1.44</td>\n",
       "      <td>Male</td>\n",
       "      <td>Yes</td>\n",
       "      <td>Sat</td>\n",
       "      <td>Dinner</td>\n",
       "      <td>2</td>\n",
       "    </tr>\n",
       "    <tr>\n",
       "      <th>219</th>\n",
       "      <td>30.14</td>\n",
       "      <td>3.09</td>\n",
       "      <td>Female</td>\n",
       "      <td>Yes</td>\n",
       "      <td>Sat</td>\n",
       "      <td>Dinner</td>\n",
       "      <td>4</td>\n",
       "    </tr>\n",
       "    <tr>\n",
       "      <th>220</th>\n",
       "      <td>12.16</td>\n",
       "      <td>2.20</td>\n",
       "      <td>Male</td>\n",
       "      <td>Yes</td>\n",
       "      <td>Fri</td>\n",
       "      <td>Lunch</td>\n",
       "      <td>2</td>\n",
       "    </tr>\n",
       "    <tr>\n",
       "      <th>221</th>\n",
       "      <td>13.42</td>\n",
       "      <td>3.48</td>\n",
       "      <td>Female</td>\n",
       "      <td>Yes</td>\n",
       "      <td>Fri</td>\n",
       "      <td>Lunch</td>\n",
       "      <td>2</td>\n",
       "    </tr>\n",
       "    <tr>\n",
       "      <th>222</th>\n",
       "      <td>8.58</td>\n",
       "      <td>1.92</td>\n",
       "      <td>Male</td>\n",
       "      <td>Yes</td>\n",
       "      <td>Fri</td>\n",
       "      <td>Lunch</td>\n",
       "      <td>1</td>\n",
       "    </tr>\n",
       "    <tr>\n",
       "      <th>223</th>\n",
       "      <td>15.98</td>\n",
       "      <td>3.00</td>\n",
       "      <td>Female</td>\n",
       "      <td>No</td>\n",
       "      <td>Fri</td>\n",
       "      <td>Lunch</td>\n",
       "      <td>3</td>\n",
       "    </tr>\n",
       "    <tr>\n",
       "      <th>224</th>\n",
       "      <td>13.42</td>\n",
       "      <td>1.58</td>\n",
       "      <td>Male</td>\n",
       "      <td>Yes</td>\n",
       "      <td>Fri</td>\n",
       "      <td>Lunch</td>\n",
       "      <td>2</td>\n",
       "    </tr>\n",
       "    <tr>\n",
       "      <th>225</th>\n",
       "      <td>16.27</td>\n",
       "      <td>2.50</td>\n",
       "      <td>Female</td>\n",
       "      <td>Yes</td>\n",
       "      <td>Fri</td>\n",
       "      <td>Lunch</td>\n",
       "      <td>2</td>\n",
       "    </tr>\n",
       "    <tr>\n",
       "      <th>226</th>\n",
       "      <td>10.09</td>\n",
       "      <td>2.00</td>\n",
       "      <td>Female</td>\n",
       "      <td>Yes</td>\n",
       "      <td>Fri</td>\n",
       "      <td>Lunch</td>\n",
       "      <td>2</td>\n",
       "    </tr>\n",
       "    <tr>\n",
       "      <th>227</th>\n",
       "      <td>20.45</td>\n",
       "      <td>3.00</td>\n",
       "      <td>Male</td>\n",
       "      <td>No</td>\n",
       "      <td>Sat</td>\n",
       "      <td>Dinner</td>\n",
       "      <td>4</td>\n",
       "    </tr>\n",
       "    <tr>\n",
       "      <th>228</th>\n",
       "      <td>13.28</td>\n",
       "      <td>2.72</td>\n",
       "      <td>Male</td>\n",
       "      <td>No</td>\n",
       "      <td>Sat</td>\n",
       "      <td>Dinner</td>\n",
       "      <td>2</td>\n",
       "    </tr>\n",
       "    <tr>\n",
       "      <th>229</th>\n",
       "      <td>22.12</td>\n",
       "      <td>2.88</td>\n",
       "      <td>Female</td>\n",
       "      <td>Yes</td>\n",
       "      <td>Sat</td>\n",
       "      <td>Dinner</td>\n",
       "      <td>2</td>\n",
       "    </tr>\n",
       "    <tr>\n",
       "      <th>230</th>\n",
       "      <td>24.01</td>\n",
       "      <td>2.00</td>\n",
       "      <td>Male</td>\n",
       "      <td>Yes</td>\n",
       "      <td>Sat</td>\n",
       "      <td>Dinner</td>\n",
       "      <td>4</td>\n",
       "    </tr>\n",
       "    <tr>\n",
       "      <th>231</th>\n",
       "      <td>15.69</td>\n",
       "      <td>3.00</td>\n",
       "      <td>Male</td>\n",
       "      <td>Yes</td>\n",
       "      <td>Sat</td>\n",
       "      <td>Dinner</td>\n",
       "      <td>3</td>\n",
       "    </tr>\n",
       "    <tr>\n",
       "      <th>232</th>\n",
       "      <td>11.61</td>\n",
       "      <td>3.39</td>\n",
       "      <td>Male</td>\n",
       "      <td>No</td>\n",
       "      <td>Sat</td>\n",
       "      <td>Dinner</td>\n",
       "      <td>2</td>\n",
       "    </tr>\n",
       "    <tr>\n",
       "      <th>233</th>\n",
       "      <td>10.77</td>\n",
       "      <td>1.47</td>\n",
       "      <td>Male</td>\n",
       "      <td>No</td>\n",
       "      <td>Sat</td>\n",
       "      <td>Dinner</td>\n",
       "      <td>2</td>\n",
       "    </tr>\n",
       "    <tr>\n",
       "      <th>234</th>\n",
       "      <td>15.53</td>\n",
       "      <td>3.00</td>\n",
       "      <td>Male</td>\n",
       "      <td>Yes</td>\n",
       "      <td>Sat</td>\n",
       "      <td>Dinner</td>\n",
       "      <td>2</td>\n",
       "    </tr>\n",
       "    <tr>\n",
       "      <th>235</th>\n",
       "      <td>10.07</td>\n",
       "      <td>1.25</td>\n",
       "      <td>Male</td>\n",
       "      <td>No</td>\n",
       "      <td>Sat</td>\n",
       "      <td>Dinner</td>\n",
       "      <td>2</td>\n",
       "    </tr>\n",
       "    <tr>\n",
       "      <th>236</th>\n",
       "      <td>12.60</td>\n",
       "      <td>1.00</td>\n",
       "      <td>Male</td>\n",
       "      <td>Yes</td>\n",
       "      <td>Sat</td>\n",
       "      <td>Dinner</td>\n",
       "      <td>2</td>\n",
       "    </tr>\n",
       "    <tr>\n",
       "      <th>237</th>\n",
       "      <td>32.83</td>\n",
       "      <td>1.17</td>\n",
       "      <td>Male</td>\n",
       "      <td>Yes</td>\n",
       "      <td>Sat</td>\n",
       "      <td>Dinner</td>\n",
       "      <td>2</td>\n",
       "    </tr>\n",
       "    <tr>\n",
       "      <th>238</th>\n",
       "      <td>35.83</td>\n",
       "      <td>4.67</td>\n",
       "      <td>Female</td>\n",
       "      <td>No</td>\n",
       "      <td>Sat</td>\n",
       "      <td>Dinner</td>\n",
       "      <td>3</td>\n",
       "    </tr>\n",
       "    <tr>\n",
       "      <th>239</th>\n",
       "      <td>29.03</td>\n",
       "      <td>5.92</td>\n",
       "      <td>Male</td>\n",
       "      <td>No</td>\n",
       "      <td>Sat</td>\n",
       "      <td>Dinner</td>\n",
       "      <td>3</td>\n",
       "    </tr>\n",
       "    <tr>\n",
       "      <th>240</th>\n",
       "      <td>27.18</td>\n",
       "      <td>2.00</td>\n",
       "      <td>Female</td>\n",
       "      <td>Yes</td>\n",
       "      <td>Sat</td>\n",
       "      <td>Dinner</td>\n",
       "      <td>2</td>\n",
       "    </tr>\n",
       "    <tr>\n",
       "      <th>241</th>\n",
       "      <td>22.67</td>\n",
       "      <td>2.00</td>\n",
       "      <td>Male</td>\n",
       "      <td>Yes</td>\n",
       "      <td>Sat</td>\n",
       "      <td>Dinner</td>\n",
       "      <td>2</td>\n",
       "    </tr>\n",
       "    <tr>\n",
       "      <th>242</th>\n",
       "      <td>17.82</td>\n",
       "      <td>1.75</td>\n",
       "      <td>Male</td>\n",
       "      <td>No</td>\n",
       "      <td>Sat</td>\n",
       "      <td>Dinner</td>\n",
       "      <td>2</td>\n",
       "    </tr>\n",
       "    <tr>\n",
       "      <th>243</th>\n",
       "      <td>18.78</td>\n",
       "      <td>3.00</td>\n",
       "      <td>Female</td>\n",
       "      <td>No</td>\n",
       "      <td>Thur</td>\n",
       "      <td>Dinner</td>\n",
       "      <td>2</td>\n",
       "    </tr>\n",
       "  </tbody>\n",
       "</table>\n",
       "<p>244 rows × 7 columns</p>\n",
       "</div>"
      ],
      "text/plain": [
       "     total_bill   tip     sex smoker   day    time  size\n",
       "0         16.99  1.01  Female     No   Sun  Dinner     2\n",
       "1         10.34  1.66    Male     No   Sun  Dinner     3\n",
       "2         21.01  3.50    Male     No   Sun  Dinner     3\n",
       "3         23.68  3.31    Male     No   Sun  Dinner     2\n",
       "4         24.59  3.61  Female     No   Sun  Dinner     4\n",
       "5         25.29  4.71    Male     No   Sun  Dinner     4\n",
       "6          8.77  2.00    Male     No   Sun  Dinner     2\n",
       "7         26.88  3.12    Male     No   Sun  Dinner     4\n",
       "8         15.04  1.96    Male     No   Sun  Dinner     2\n",
       "9         14.78  3.23    Male     No   Sun  Dinner     2\n",
       "10        10.27  1.71    Male     No   Sun  Dinner     2\n",
       "11        35.26  5.00  Female     No   Sun  Dinner     4\n",
       "12        15.42  1.57    Male     No   Sun  Dinner     2\n",
       "13        18.43  3.00    Male     No   Sun  Dinner     4\n",
       "14        14.83  3.02  Female     No   Sun  Dinner     2\n",
       "15        21.58  3.92    Male     No   Sun  Dinner     2\n",
       "16        10.33  1.67  Female     No   Sun  Dinner     3\n",
       "17        16.29  3.71    Male     No   Sun  Dinner     3\n",
       "18        16.97  3.50  Female     No   Sun  Dinner     3\n",
       "19        20.65  3.35    Male     No   Sat  Dinner     3\n",
       "20        17.92  4.08    Male     No   Sat  Dinner     2\n",
       "21        20.29  2.75  Female     No   Sat  Dinner     2\n",
       "22        15.77  2.23  Female     No   Sat  Dinner     2\n",
       "23        39.42  7.58    Male     No   Sat  Dinner     4\n",
       "24        19.82  3.18    Male     No   Sat  Dinner     2\n",
       "25        17.81  2.34    Male     No   Sat  Dinner     4\n",
       "26        13.37  2.00    Male     No   Sat  Dinner     2\n",
       "27        12.69  2.00    Male     No   Sat  Dinner     2\n",
       "28        21.70  4.30    Male     No   Sat  Dinner     2\n",
       "29        19.65  3.00  Female     No   Sat  Dinner     2\n",
       "..          ...   ...     ...    ...   ...     ...   ...\n",
       "214       28.17  6.50  Female    Yes   Sat  Dinner     3\n",
       "215       12.90  1.10  Female    Yes   Sat  Dinner     2\n",
       "216       28.15  3.00    Male    Yes   Sat  Dinner     5\n",
       "217       11.59  1.50    Male    Yes   Sat  Dinner     2\n",
       "218        7.74  1.44    Male    Yes   Sat  Dinner     2\n",
       "219       30.14  3.09  Female    Yes   Sat  Dinner     4\n",
       "220       12.16  2.20    Male    Yes   Fri   Lunch     2\n",
       "221       13.42  3.48  Female    Yes   Fri   Lunch     2\n",
       "222        8.58  1.92    Male    Yes   Fri   Lunch     1\n",
       "223       15.98  3.00  Female     No   Fri   Lunch     3\n",
       "224       13.42  1.58    Male    Yes   Fri   Lunch     2\n",
       "225       16.27  2.50  Female    Yes   Fri   Lunch     2\n",
       "226       10.09  2.00  Female    Yes   Fri   Lunch     2\n",
       "227       20.45  3.00    Male     No   Sat  Dinner     4\n",
       "228       13.28  2.72    Male     No   Sat  Dinner     2\n",
       "229       22.12  2.88  Female    Yes   Sat  Dinner     2\n",
       "230       24.01  2.00    Male    Yes   Sat  Dinner     4\n",
       "231       15.69  3.00    Male    Yes   Sat  Dinner     3\n",
       "232       11.61  3.39    Male     No   Sat  Dinner     2\n",
       "233       10.77  1.47    Male     No   Sat  Dinner     2\n",
       "234       15.53  3.00    Male    Yes   Sat  Dinner     2\n",
       "235       10.07  1.25    Male     No   Sat  Dinner     2\n",
       "236       12.60  1.00    Male    Yes   Sat  Dinner     2\n",
       "237       32.83  1.17    Male    Yes   Sat  Dinner     2\n",
       "238       35.83  4.67  Female     No   Sat  Dinner     3\n",
       "239       29.03  5.92    Male     No   Sat  Dinner     3\n",
       "240       27.18  2.00  Female    Yes   Sat  Dinner     2\n",
       "241       22.67  2.00    Male    Yes   Sat  Dinner     2\n",
       "242       17.82  1.75    Male     No   Sat  Dinner     2\n",
       "243       18.78  3.00  Female     No  Thur  Dinner     2\n",
       "\n",
       "[244 rows x 7 columns]"
      ]
     },
     "execution_count": 197,
     "metadata": {},
     "output_type": "execute_result"
    }
   ],
   "source": [
    "tips"
   ]
  },
  {
   "cell_type": "code",
   "execution_count": 208,
   "metadata": {},
   "outputs": [
    {
     "name": "stderr",
     "output_type": "stream",
     "text": [
      "D:\\Program Files (x86)\\Anaconda3\\envs\\tensorflow\\lib\\site-packages\\seaborn\\axisgrid.py:1847: UserWarning: JointGrid annotation is deprecated and will be removed in a future release.\n",
      "  warnings.warn(UserWarning(msg))\n"
     ]
    },
    {
     "data": {
      "text/plain": [
       "<seaborn.axisgrid.JointGrid at 0x2d8773d4390>"
      ]
     },
     "execution_count": 208,
     "metadata": {},
     "output_type": "execute_result"
    },
    {
     "data": {
      "image/png": "[encoded data removed]",
      "text/plain": [
       "<Figure size 432x432 with 3 Axes>"
      ]
     },
     "metadata": {},
     "output_type": "display_data"
    }
   ],
   "source": [
    "from scipy import stats\n",
    "g = sns.JointGrid(x=\"total_bill\", y=\"tip\", data=tips,space=0)\n",
    "# 创建一个绘图表格区域，设置好x、y对应数据\n",
    "\n",
    "g = g.plot_joint(sns.regplot)     # 绘制密度图\n",
    "plt.grid(linestyle = '--')\n",
    "g.plot_marginals(sns.distplot, color=\"r\",bins=20,hist_kws={'edgecolor':'k'})  # 绘制x，y轴密度图\n",
    "g.annotate(stats.pearsonr)"
   ]
  },
  {
   "cell_type": "code",
   "execution_count": 199,
   "metadata": {},
   "outputs": [],
   "source": [
    "tips = pd.DataFrame([np.sum(pre_Spring,axis=1)/24,np.sum(td_sum[4965:],axis=1)/24]).T"
   ]
  },
  {
   "cell_type": "code",
   "execution_count": 204,
   "metadata": {},
   "outputs": [
    {
     "data": {
      "image/png": "[encoded data removed]",
      "text/plain": [
       "<Figure size 504x504 with 3 Axes>"
      ]
     },
     "metadata": {},
     "output_type": "display_data"
    }
   ],
   "source": [
    "#导入各种需要的包#\n",
    "import numpy as np\n",
    "import matplotlib.pyplot as plt\n",
    "from scipy import optimize\n",
    "\n",
    "\n",
    "import seaborn as sns\n",
    "sns.set()\n",
    "# In[*]\n",
    "\n",
    "\n",
    "import seaborn as sns\n",
    "sns.set(style=\"darkgrid\")\n",
    "\n",
    "tips = pd.DataFrame([np.sum(pre_Spring,axis=1)/24,np.sum(td_sum[4965:],axis=1)/24]).T\n",
    "g = sns.jointplot(0, 1, data=tips, kind=\"reg\",\n",
    "                  xlim=(30, 120), ylim=(30, 120), color=\"m\", height=7)\n"
   ]
  },
  {
   "cell_type": "code",
   "execution_count": null,
   "metadata": {},
   "outputs": [],
   "source": []
  },
  {
   "cell_type": "code",
   "execution_count": 121,
   "metadata": {},
   "outputs": [
    {
     "data": {
      "image/png": "[encoded data removed]",
      "text/plain": [
       "<Figure size 840x510 with 1 Axes>"
      ]
     },
     "metadata": {
      "needs_background": "light"
     },
     "output_type": "display_data"
    }
   ],
   "source": [
    "import matplotlib.pyplot as plt\n",
    "from matplotlib.pyplot import figure\n",
    "import numpy as np\n",
    "\n",
    "figure(num=None, figsize=(2.8, 1.7), dpi=300)\n",
    "# figsize的2.8和1.7指的是英寸，dpi指定图片分辨率。那么图片就是（2.8*300）*（1.7*300）像素大小\n",
    "\n",
    "plt.plot(np.sum(pre_Spring,axis=1)/24, 'r', label='Prediction')\n",
    "plt.plot(np.sum(td_sum[4965:],axis=1)/24, 'cyan', label='Ground Truth')\n",
    "# 画图，并指定颜色\n",
    "\n",
    "plt.xticks(fontproperties = 'Times New Roman', fontsize=8)\n",
    "plt.yticks(np.arange(0, 200, 50), fontproperties = 'Times New Roman', fontsize=8)\n",
    "# 指定横纵坐标的字体以及字体大小，记住是fontsize不是size。yticks上我还用numpy指定了坐标轴的变化范围。\n",
    "\n",
    "plt.legend(loc='upper right', prop={'family':'Times New Roman', 'size':5})\n",
    "# 图上的legend，记住字体是要用prop以字典形式设置的，而且字的大小是size不是fontsize，这个容易和xticks的命令弄混\n",
    "\n",
    "# plt.title('1000 samples', fontdict={'family' : 'Times New Roman', 'size':8})\n",
    "# 指定图上标题的字体及大小\n",
    "\n",
    "plt.xlabel('Time [Spring]', fontdict={'family' : 'Times New Roman', 'size':8})\n",
    "plt.ylabel('Pollution [PM2.5]', fontdict={'family' : 'Times New Roman', 'size':8})\n",
    "# 指定横纵坐标描述的字体及大小\n",
    "\n",
    "# my_y_ticks = np.arange(0, 232)\n",
    "# plt.ylim((0, 231))\n",
    "# plt.yticks(my_y_ticks)\n",
    "plt.show()\n",
    "# 记住，如果你要show()的话，一定要先savefig，再show。如果你先show了，存出来的就是一张白纸。"
   ]
  },
  {
   "cell_type": "markdown",
   "metadata": {},
   "source": [
    "## 夏天(0-1347)"
   ]
  },
  {
   "cell_type": "code",
   "execution_count": 126,
   "metadata": {},
   "outputs": [],
   "source": [
    "pre_Summer=model.predict([w_sum[0:1347],wea_sum[0:1347],ge_sum[0:1347],sd_sum[0:1347]])"
   ]
  },
  {
   "cell_type": "code",
   "execution_count": 127,
   "metadata": {},
   "outputs": [
    {
     "data": {
      "image/png": "[encoded data removed]",
      "text/plain": [
       "<Figure size 840x510 with 1 Axes>"
      ]
     },
     "metadata": {
      "needs_background": "light"
     },
     "output_type": "display_data"
    }
   ],
   "source": [
    "import matplotlib.pyplot as plt\n",
    "from matplotlib.pyplot import figure\n",
    "import numpy as np\n",
    "\n",
    "figure(num=None, figsize=(2.8, 1.7), dpi=300)\n",
    "# figsize的2.8和1.7指的是英寸，dpi指定图片分辨率。那么图片就是（2.8*300）*（1.7*300）像素大小\n",
    "\n",
    "plt.plot(np.sum(pre_Summer,axis=1)/24, 'r', label='Prediction')\n",
    "plt.plot(np.sum(td_sum[0:1347],axis=1)/24, 'cyan', label='Ground Truth')\n",
    "# 画图，并指定颜色\n",
    "\n",
    "plt.xticks(fontproperties = 'Times New Roman', fontsize=8)\n",
    "plt.yticks(np.arange(0, 200, 50), fontproperties = 'Times New Roman', fontsize=8)\n",
    "# 指定横纵坐标的字体以及字体大小，记住是fontsize不是size。yticks上我还用numpy指定了坐标轴的变化范围。\n",
    "\n",
    "plt.legend(loc='upper right', prop={'family':'Times New Roman', 'size':5})\n",
    "# 图上的legend，记住字体是要用prop以字典形式设置的，而且字的大小是size不是fontsize，这个容易和xticks的命令弄混\n",
    "\n",
    "# plt.title('1000 samples', fontdict={'family' : 'Times New Roman', 'size':8})\n",
    "# 指定图上标题的字体及大小\n",
    "\n",
    "plt.xlabel('Time [Summer]', fontdict={'family' : 'Times New Roman', 'size':8})\n",
    "plt.ylabel('Pollution [PM2.5]', fontdict={'family' : 'Times New Roman', 'size':8})\n",
    "# 指定横纵坐标描述的字体及大小\n",
    "\n",
    "# my_y_ticks = np.arange(0, 232)\n",
    "# plt.ylim((0, 231))\n",
    "# plt.yticks(my_y_ticks)\n",
    "plt.show()\n",
    "# 记住，如果你要show()的话，一定要先savefig，再show。如果你先show了，存出来的就是一张白纸。"
   ]
  },
  {
   "cell_type": "code",
   "execution_count": 128,
   "metadata": {},
   "outputs": [],
   "source": [
    "pd.DataFrame(pre_Summer).to_csv('Summer_pre.csv')\n",
    "pd.DataFrame(td_sum[0:1347]).to_csv('Summer_true.csv')"
   ]
  },
  {
   "cell_type": "markdown",
   "metadata": {},
   "source": [
    "## 秋天（1348-2691）"
   ]
  },
  {
   "cell_type": "code",
   "execution_count": 129,
   "metadata": {},
   "outputs": [],
   "source": [
    "pre_Autumn=model.predict([w_sum[1348:2691],wea_sum[1348:2691],ge_sum[1348:2691],sd_sum[1348:2691]])"
   ]
  },
  {
   "cell_type": "code",
   "execution_count": 135,
   "metadata": {},
   "outputs": [
    {
     "data": {
      "image/png": "[encoded data removed]",
      "text/plain": [
       "<Figure size 840x510 with 1 Axes>"
      ]
     },
     "metadata": {
      "needs_background": "light"
     },
     "output_type": "display_data"
    }
   ],
   "source": [
    "import matplotlib.pyplot as plt\n",
    "from matplotlib.pyplot import figure\n",
    "import numpy as np\n",
    "\n",
    "figure(num=None, figsize=(2.8, 1.7), dpi=300)\n",
    "# figsize的2.8和1.7指的是英寸，dpi指定图片分辨率。那么图片就是（2.8*300）*（1.7*300）像素大小\n",
    "\n",
    "plt.plot(np.sum(pre_Autumn,axis=1)/24, 'r', label='Prediction')\n",
    "plt.plot(np.sum(td_sum[1348:2691],axis=1)/24, 'cyan', label='Ground Truth')\n",
    "# 画图，并指定颜色\n",
    "\n",
    "plt.xticks(fontproperties = 'Times New Roman', fontsize=8)\n",
    "plt.yticks(np.arange(0, 200, 50), fontproperties = 'Times New Roman', fontsize=8)\n",
    "# 指定横纵坐标的字体以及字体大小，记住是fontsize不是size。yticks上我还用numpy指定了坐标轴的变化范围。\n",
    "\n",
    "plt.legend(loc='upper right', prop={'family':'Times New Roman', 'size':5})\n",
    "# 图上的legend，记住字体是要用prop以字典形式设置的，而且字的大小是size不是fontsize，这个容易和xticks的命令弄混\n",
    "\n",
    "# plt.title('1000 samples', fontdict={'family' : 'Times New Roman', 'size':8})\n",
    "# 指定图上标题的字体及大小\n",
    "\n",
    "plt.xlabel('Time [Autumn]', fontdict={'family' : 'Times New Roman', 'size':8})\n",
    "plt.ylabel('Pollution [PM2.5]', fontdict={'family' : 'Times New Roman', 'size':8})\n",
    "# 指定横纵坐标描述的字体及大小\n",
    "\n",
    "# my_y_ticks = np.arange(0, 232)\n",
    "# plt.ylim((0, 231))\n",
    "# plt.yticks(my_y_ticks)\n",
    "plt.show()\n",
    "# 记住，如果你要show()的话，一定要先savefig，再show。如果你先show了，存出来的就是一张白纸。"
   ]
  },
  {
   "cell_type": "code",
   "execution_count": 131,
   "metadata": {},
   "outputs": [],
   "source": [
    "pd.DataFrame(pre_Autumn).to_csv('Autumn_pre.csv')\n",
    "pd.DataFrame(td_sum[1348:2691]).to_csv('Autumn_true.csv')"
   ]
  },
  {
   "cell_type": "markdown",
   "metadata": {},
   "source": [
    "## Winter（2692-4964）"
   ]
  },
  {
   "cell_type": "code",
   "execution_count": 132,
   "metadata": {},
   "outputs": [],
   "source": [
    "pre_Winter=model.predict([w_sum[2692:4964],wea_sum[2692:4964],ge_sum[2692:4964],sd_sum[2692:4964]])"
   ]
  },
  {
   "cell_type": "code",
   "execution_count": 133,
   "metadata": {},
   "outputs": [
    {
     "data": {
      "image/png": "[encoded data removed]",
      "text/plain": [
       "<Figure size 840x510 with 1 Axes>"
      ]
     },
     "metadata": {
      "needs_background": "light"
     },
     "output_type": "display_data"
    }
   ],
   "source": [
    "import matplotlib.pyplot as plt\n",
    "from matplotlib.pyplot import figure\n",
    "import numpy as np\n",
    "\n",
    "figure(num=None, figsize=(2.8, 1.7), dpi=300)\n",
    "# figsize的2.8和1.7指的是英寸，dpi指定图片分辨率。那么图片就是（2.8*300）*（1.7*300）像素大小\n",
    "\n",
    "plt.plot(np.sum(pre_Winter,axis=1)/24, 'r', label='Prediction')\n",
    "plt.plot(np.sum(td_sum[2692:4964],axis=1)/24, 'cyan', label='Ground Truth')\n",
    "# 画图，并指定颜色\n",
    "\n",
    "plt.xticks(fontproperties = 'Times New Roman', fontsize=8)\n",
    "plt.yticks(np.arange(0, 200, 50), fontproperties = 'Times New Roman', fontsize=8)\n",
    "# 指定横纵坐标的字体以及字体大小，记住是fontsize不是size。yticks上我还用numpy指定了坐标轴的变化范围。\n",
    "\n",
    "plt.legend(loc='upper right', prop={'family':'Times New Roman', 'size':5})\n",
    "# 图上的legend，记住字体是要用prop以字典形式设置的，而且字的大小是size不是fontsize，这个容易和xticks的命令弄混\n",
    "\n",
    "# plt.title('1000 samples', fontdict={'family' : 'Times New Roman', 'size':8})\n",
    "# 指定图上标题的字体及大小\n",
    "\n",
    "plt.xlabel('Time [Winter]', fontdict={'family' : 'Times New Roman', 'size':8})\n",
    "plt.ylabel('Pollution [PM2.5]', fontdict={'family' : 'Times New Roman', 'size':8})\n",
    "# 指定横纵坐标描述的字体及大小\n",
    "\n",
    "# my_y_ticks = np.arange(0, 232)\n",
    "# plt.ylim((0, 231))\n",
    "# plt.yticks(my_y_ticks)\n",
    "plt.show()\n",
    "# 记住，如果你要show()的话，一定要先savefig，再show。如果你先show了，存出来的就是一张白纸。"
   ]
  },
  {
   "cell_type": "code",
   "execution_count": 134,
   "metadata": {},
   "outputs": [],
   "source": [
    "pd.DataFrame(pre_Winter).to_csv('Winter_pre.csv')\n",
    "pd.DataFrame(td_sum[2692:4964]).to_csv('Winter_true.csv')"
   ]
  },
  {
   "cell_type": "markdown",
   "metadata": {},
   "source": [
    "## 保存模型（但是由于自定义层自带的参数问题，不能加载处理）"
   ]
  },
  {
   "cell_type": "code",
   "execution_count": 176,
   "metadata": {},
   "outputs": [],
   "source": [
    "from keras.models import load_model\n",
    "\n",
    "model.save('new_LRP_norm03_model_17.455_22.708new_At_TCNkeyong.h5')  # creates a HDF5 file 'my_model.h5'\n",
    "\n",
    "# returns a compiled model\n",
    "# identical to the previous one\n",
    "# model = load_model('air_traff_model.h5',custom_objects={'AttentionLayer': AttentionLayer})"
   ]
  },
  {
   "cell_type": "code",
   "execution_count": 41,
   "metadata": {},
   "outputs": [],
   "source": [
    "# f = K.function(model.inputs, [model.get_layer('dense_21').get_output_at(0) for t in range(24)])\n",
    "# f = K.function(model.inputs, [model.get_layer('attention_weights3').output])\n",
    "\n",
    "f = K.function(model.inputs, [model.get_layer('concatenate_26').output])\n",
    "\n",
    "t=22\n",
    "\n",
    "# r = f([time_m_test[1].reshape(1,24,3),w_m_test[1].reshape(1,24,3),wea_m_test[1].reshape(1,24,5),ge_m_test[1].reshape(1,24,16,16,3),sd_m_test[1].reshape(1,24,55)])\n",
    "# r = f([time_m_test[t].reshape(1,24,3),w_m_test[t].reshape(1,24,3),wea_m_test[t].reshape(1,24,5),ge_m_test[t].reshape(1,24,16,16,3),sd_m_test[t].reshape(1,24,54)])\n",
    "r = f([w_m_test[t].reshape(1,24,3),wea_m_test[t].reshape(1,24,5),ge_m_test[t].reshape(1,24,16,16,3),sd_m_test[t].reshape(1,24,54)])\n"
   ]
  },
  {
   "cell_type": "code",
   "execution_count": 42,
   "metadata": {},
   "outputs": [
    {
     "data": {
      "text/plain": [
       "array([-0.25520742,  0.26021409, -0.26532352, -1.31634235,  1.22131157,\n",
       "       -0.95133877,  0.03025794, -0.26601934,  0.06061554,  0.1201181 ,\n",
       "        1.00378025, -1.24483192, -0.3540802 ,  2.27805638,  0.55345571,\n",
       "        0.        ,  4.94554615,  3.87307119,  2.74235487,  1.7714417 ,\n",
       "        4.4441185 ,  0.        ,  0.        ,  4.60873032,  1.07654285,\n",
       "        6.36005497,  7.09612656,  6.13391113,  3.98703003,  0.        ,\n",
       "        0.20651105,  0.        ,  7.03804016,  6.36492395,  6.39535904,\n",
       "        5.89958382,  0.        ,  0.        ,  6.32953978,  3.81421232,\n",
       "        0.        ,  0.        ,  6.62288237,  3.24309158,  7.05099869,\n",
       "        3.39233828,  1.37290537,  5.38501167,  0.        ,  5.61325932,\n",
       "        4.95606852,  0.84747952,  6.46008301,  5.40974236,  3.97930574,\n",
       "        0.0259659 ,  5.03352594,  4.92921591,  5.72541857,  0.        ,\n",
       "        3.29771852,  3.55443668,  5.85475302,  4.95981979,  0.        ,\n",
       "        0.        ,  4.98061132,  6.14749908,  1.14824319,  1.69542301,\n",
       "        0.        ,  6.85914898,  0.        ,  6.3932333 ,  0.257727  ,\n",
       "        0.        ,  6.73491096,  4.80017042], dtype=float32)"
      ]
     },
     "execution_count": 42,
     "metadata": {},
     "output_type": "execute_result"
    }
   ],
   "source": [
    "r[0][0][0]"
   ]
  },
  {
   "cell_type": "code",
   "execution_count": null,
   "metadata": {},
   "outputs": [],
   "source": []
  },
  {
   "cell_type": "code",
   "execution_count": null,
   "metadata": {},
   "outputs": [],
   "source": []
  },
  {
   "cell_type": "code",
   "execution_count": null,
   "metadata": {},
   "outputs": [],
   "source": []
  },
  {
   "cell_type": "code",
   "execution_count": null,
   "metadata": {},
   "outputs": [],
   "source": []
  },
  {
   "cell_type": "code",
   "execution_count": null,
   "metadata": {},
   "outputs": [],
   "source": []
  },
  {
   "cell_type": "code",
   "execution_count": null,
   "metadata": {},
   "outputs": [],
   "source": []
  },
  {
   "cell_type": "code",
   "execution_count": null,
   "metadata": {},
   "outputs": [],
   "source": []
  },
  {
   "cell_type": "code",
   "execution_count": null,
   "metadata": {},
   "outputs": [],
   "source": []
  },
  {
   "cell_type": "code",
   "execution_count": null,
   "metadata": {},
   "outputs": [],
   "source": []
  },
  {
   "cell_type": "code",
   "execution_count": null,
   "metadata": {},
   "outputs": [],
   "source": []
  },
  {
   "cell_type": "code",
   "execution_count": null,
   "metadata": {},
   "outputs": [],
   "source": []
  },
  {
   "cell_type": "code",
   "execution_count": null,
   "metadata": {},
   "outputs": [],
   "source": []
  },
  {
   "cell_type": "code",
   "execution_count": null,
   "metadata": {},
   "outputs": [],
   "source": []
  },
  {
   "cell_type": "code",
   "execution_count": null,
   "metadata": {},
   "outputs": [],
   "source": []
  },
  {
   "cell_type": "code",
   "execution_count": 43,
   "metadata": {},
   "outputs": [],
   "source": [
    "import innvestigate"
   ]
  },
  {
   "cell_type": "code",
   "execution_count": 158,
   "metadata": {},
   "outputs": [],
   "source": [
    "# analyzer = innvestigate.create_analyzer(\"lrp.z\", model, allow_lambda_layers = True)\n",
    "analyzer = innvestigate.create_analyzer(\"lrp.z\", model, allow_lambda_layers = True)"
   ]
  },
  {
   "cell_type": "code",
   "execution_count": 159,
   "metadata": {},
   "outputs": [
    {
     "data": {
      "text/plain": [
       "<innvestigate.analyzer.relevance_based.relevance_analyzer.LRPZ at 0x2d84e8d2e10>"
      ]
     },
     "execution_count": 159,
     "metadata": {},
     "output_type": "execute_result"
    }
   ],
   "source": [
    "analyzer"
   ]
  },
  {
   "cell_type": "code",
   "execution_count": null,
   "metadata": {},
   "outputs": [],
   "source": []
  },
  {
   "cell_type": "code",
   "execution_count": null,
   "metadata": {},
   "outputs": [],
   "source": []
  },
  {
   "cell_type": "code",
   "execution_count": 160,
   "metadata": {},
   "outputs": [],
   "source": [
    "tem=sd_m[0].reshape(1,24,54)\n",
    "tem1=ge_m[0].reshape(1,24, 16, 16, 3)\n",
    "tem2=time_m[0].reshape(1,24, 3)\n",
    "tem3=w_m[0].reshape(1,24, 3)\n",
    "tem4=wea_m[0].reshape(1,24,5)"
   ]
  },
  {
   "cell_type": "code",
   "execution_count": 161,
   "metadata": {},
   "outputs": [],
   "source": [
    "# analysis = analyzer.analyze([tem2,tem3,tem4,tem1,tem])\n",
    "analysis = analyzer.analyze([tem3,tem4,tem1,tem])\n"
   ]
  },
  {
   "cell_type": "code",
   "execution_count": 162,
   "metadata": {},
   "outputs": [],
   "source": [
    "a=analysis[0]\n",
    "a = a.sum(axis=np.argmax(np.asarray(a.shape) == 3))\n",
    "a /= np.max(np.abs(a))"
   ]
  },
  {
   "cell_type": "code",
   "execution_count": 163,
   "metadata": {},
   "outputs": [
    {
     "data": {
      "text/plain": [
       "(1, 24)"
      ]
     },
     "execution_count": 163,
     "metadata": {},
     "output_type": "execute_result"
    }
   ],
   "source": [
    "np.shape(a)"
   ]
  },
  {
   "cell_type": "code",
   "execution_count": 164,
   "metadata": {},
   "outputs": [
    {
     "data": {
      "text/plain": [
       "array([[-0.77501929,  0.44169977, -0.77810645],\n",
       "       [-0.00832704, -0.17035905,  0.34670064],\n",
       "       [-0.80177504,  0.42203668, -0.78341794],\n",
       "       [ 0.17842638, -0.14337957,  0.4426403 ],\n",
       "       [-0.72184092,  0.47661218, -0.80781698],\n",
       "       [-0.70017201,  0.46936628, -0.8068648 ],\n",
       "       [-1.        ,  0.3072913 , -0.76554585],\n",
       "       [-0.77663267,  0.42491412, -0.81476903],\n",
       "       [ 0.12241533, -0.10561787,  0.34503457],\n",
       "       [ 0.12592913, -0.1118335 ,  0.35737541],\n",
       "       [ 0.0454786 , -0.14489059,  0.3473208 ],\n",
       "       [ 0.13945597, -0.10553318,  0.36429501],\n",
       "       [ 0.04171392, -0.1034766 ,  0.28725296],\n",
       "       [ 0.07656525, -0.10226475,  0.31350082],\n",
       "       [ 0.10975324, -0.05717632,  0.29686251],\n",
       "       [ 0.04501155, -0.10915694,  0.28682336],\n",
       "       [-0.70021498,  0.56854063, -0.89747697],\n",
       "       [ 0.11490959, -0.04730123,  0.26855829],\n",
       "       [-0.61912006,  0.63995349, -0.9147433 ],\n",
       "       [-0.57024956,  0.65295368, -0.88234514],\n",
       "       [-0.65563035,  0.69741648, -0.9853909 ],\n",
       "       [-0.57573211,  0.75484353, -1.        ],\n",
       "       [-0.24516641,  0.95927298, -0.95673925],\n",
       "       [-0.12558912,  1.        , -0.90788746]], dtype=float32)"
      ]
     },
     "execution_count": 164,
     "metadata": {},
     "output_type": "execute_result"
    }
   ],
   "source": [
    "a0"
   ]
  },
  {
   "cell_type": "code",
   "execution_count": 165,
   "metadata": {},
   "outputs": [],
   "source": [
    "from IPython.display import display, HTML\n",
    "from heatmap import html_heatmap"
   ]
  },
  {
   "cell_type": "code",
   "execution_count": 166,
   "metadata": {},
   "outputs": [
    {
     "data": {
      "text/plain": [
       "array([[-0.77501929,  0.44169977, -0.77810645],\n",
       "       [-0.00832704, -0.17035905,  0.34670064],\n",
       "       [-0.80177504,  0.42203668, -0.78341794],\n",
       "       [ 0.17842638, -0.14337957,  0.4426403 ],\n",
       "       [-0.72184092,  0.47661218, -0.80781698],\n",
       "       [-0.70017201,  0.46936628, -0.8068648 ],\n",
       "       [-1.        ,  0.3072913 , -0.76554585],\n",
       "       [-0.77663267,  0.42491412, -0.81476903],\n",
       "       [ 0.12241533, -0.10561787,  0.34503457],\n",
       "       [ 0.12592913, -0.1118335 ,  0.35737541],\n",
       "       [ 0.0454786 , -0.14489059,  0.3473208 ],\n",
       "       [ 0.13945597, -0.10553318,  0.36429501],\n",
       "       [ 0.04171392, -0.1034766 ,  0.28725296],\n",
       "       [ 0.07656525, -0.10226475,  0.31350082],\n",
       "       [ 0.10975324, -0.05717632,  0.29686251],\n",
       "       [ 0.04501155, -0.10915694,  0.28682336],\n",
       "       [-0.70021498,  0.56854063, -0.89747697],\n",
       "       [ 0.11490959, -0.04730123,  0.26855829],\n",
       "       [-0.61912006,  0.63995349, -0.9147433 ],\n",
       "       [-0.57024956,  0.65295368, -0.88234514],\n",
       "       [-0.65563035,  0.69741648, -0.9853909 ],\n",
       "       [-0.57573211,  0.75484353, -1.        ],\n",
       "       [-0.24516641,  0.95927298, -0.95673925],\n",
       "       [-0.12558912,  1.        , -0.90788746]], dtype=float32)"
      ]
     },
     "execution_count": 166,
     "metadata": {},
     "output_type": "execute_result"
    }
   ],
   "source": [
    "a0"
   ]
  },
  {
   "cell_type": "code",
   "execution_count": 167,
   "metadata": {},
   "outputs": [
    {
     "data": {
      "text/plain": [
       "<matplotlib.image.AxesImage at 0x2d84eaa3be0>"
      ]
     },
     "execution_count": 167,
     "metadata": {},
     "output_type": "execute_result"
    },
    {
     "data": {
      "image/png": "[encoded data removed]",
      "text/plain": [
       "<Figure size 432x288 with 1 Axes>"
      ]
     },
     "metadata": {
      "needs_background": "light"
     },
     "output_type": "display_data"
    }
   ],
   "source": [
    "a0=analysis[0]\n",
    "a0 = a0.sum(axis=np.argmax(np.asarray(a0.shape) == 1))\n",
    "a0 /= np.max(np.abs(a0),axis=0)\n",
    "plt.imshow(a0, cmap=\"seismic\", clim=(-1, 1))"
   ]
  },
  {
   "cell_type": "code",
   "execution_count": 168,
   "metadata": {},
   "outputs": [
    {
     "data": {
      "text/plain": [
       "array([[[-0.31409025,  0.15025528,  0.08434638, -0.3549653 , -0.13933432],\n",
       "        [ 0.29616106, -0.29728812, -0.0812997 ,  0.34920314,  0.26317704],\n",
       "        [-0.3038809 ,  0.14025836,  0.07964718, -0.33793283, -0.12983233],\n",
       "        [ 0.2897242 , -0.28241324, -0.09366231,  0.32231283,  0.23670027],\n",
       "        [-0.33819869,  0.17356704,  0.08384973, -0.38409907, -0.17076808],\n",
       "        [-0.33729976,  0.16957954,  0.08254135, -0.38224468, -0.17250556],\n",
       "        [-0.24200521,  0.07643652,  0.07692343, -0.24998215, -0.05084584],\n",
       "        [-0.31556627,  0.1437206 ,  0.08304277, -0.34998992, -0.14196222],\n",
       "        [ 0.25178841, -0.26009113, -0.07055902,  0.28799078,  0.22677994],\n",
       "        [ 0.2680634 , -0.26438451, -0.08089397,  0.30144194,  0.22034553],\n",
       "        [ 0.28620109, -0.28307092, -0.08341791,  0.33346689,  0.24366271],\n",
       "        [ 0.26614475, -0.26142997, -0.08335447,  0.2995815 ,  0.214651  ],\n",
       "        [ 0.25749421, -0.25854498, -0.07169947,  0.29707259,  0.21614543],\n",
       "        [ 0.25957984, -0.25910196, -0.0755507 ,  0.29779637,  0.21535793],\n",
       "        [ 0.23395085, -0.23281907, -0.07048647,  0.26082882,  0.18717201],\n",
       "        [ 0.25490382, -0.2605882 , -0.06675109,  0.29715884,  0.22728078],\n",
       "        [-0.40420029,  0.21441868,  0.11086217, -0.4747723 , -0.22156671],\n",
       "        [ 0.22113591, -0.22391458, -0.06417052,  0.24212413,  0.1725778 ],\n",
       "        [-0.4456051 ,  0.25438541,  0.11560389, -0.53184843, -0.27147818],\n",
       "        [-0.44941103,  0.26283878,  0.11151692, -0.53964144, -0.27952808],\n",
       "        [-0.48143294,  0.28849801,  0.12884463, -0.574229  , -0.29974329],\n",
       "        [-0.51657546,  0.31926975,  0.13443047, -0.62611371, -0.34253532],\n",
       "        [-0.61981678,  0.43388963,  0.13499449, -0.78343993, -0.48093256],\n",
       "        [-0.63466662,  0.45722014,  0.12432508, -0.81294018, -0.51517493]]], dtype=float32)"
      ]
     },
     "execution_count": 168,
     "metadata": {},
     "output_type": "execute_result"
    }
   ],
   "source": [
    "analysis[1]"
   ]
  },
  {
   "cell_type": "code",
   "execution_count": 169,
   "metadata": {},
   "outputs": [
    {
     "data": {
      "text/plain": [
       "<matplotlib.image.AxesImage at 0x2d84eae66d8>"
      ]
     },
     "execution_count": 169,
     "metadata": {},
     "output_type": "execute_result"
    },
    {
     "data": {
      "image/png": "[encoded data removed]",
      "text/plain": [
       "<Figure size 432x288 with 1 Axes>"
      ]
     },
     "metadata": {
      "needs_background": "light"
     },
     "output_type": "display_data"
    }
   ],
   "source": [
    "a1=analysis[1]\n",
    "a1 = a1.sum(axis=np.argmax(np.asarray(a1.shape) == 3))\n",
    "a1 /= np.max(np.abs(a1))\n",
    "plt.imshow(a1, cmap=\"seismic\", clim=(-1, 1))"
   ]
  },
  {
   "cell_type": "code",
   "execution_count": 177,
   "metadata": {},
   "outputs": [
    {
     "data": {
      "text/plain": [
       "(16, 16, 3)"
      ]
     },
     "execution_count": 177,
     "metadata": {},
     "output_type": "execute_result"
    }
   ],
   "source": [
    "temp=analysis[2].sum(axis=np.argmax(np.asarray(analysis[2].shape) == 24))/ np.max(np.abs(analysis[2]))\n",
    "# np.shape(temp[0].reshape( 3,16, 16)[0])\n",
    "np.shape(temp[0])"
   ]
  },
  {
   "cell_type": "code",
   "execution_count": 178,
   "metadata": {},
   "outputs": [
    {
     "data": {
      "text/plain": [
       "0.00058482296"
      ]
     },
     "execution_count": 178,
     "metadata": {},
     "output_type": "execute_result"
    }
   ],
   "source": [
    "np.max(np.abs(analysis[2]))"
   ]
  },
  {
   "cell_type": "code",
   "execution_count": 179,
   "metadata": {
    "collapsed": true
   },
   "outputs": [
    {
     "data": {
      "text/plain": [
       "array([[ -7.66949430e-02,  -1.21969797e-01,   8.71990249e-02,\n",
       "         -2.67021582e-02,  -5.47490530e-02,   2.57999040e-02,\n",
       "         -4.55719195e-02,  -7.37024918e-02,   5.13574667e-02,\n",
       "         -1.52037004e-02,  -3.11730653e-02,   1.46899726e-02,\n",
       "         -9.38580632e-02,  -1.49964154e-01,   1.06453210e-01,\n",
       "         -1.15797311e-01],\n",
       "       [ -1.99014604e-01,   1.26141593e-01,  -1.29031450e-01,\n",
       "         -2.20061138e-01,   1.41188249e-01,  -2.44390350e-02,\n",
       "         -5.58449514e-02,   2.14841738e-02,  -8.19098298e-03,\n",
       "         -1.27271069e-02,   9.42386873e-03,  -8.86934176e-02,\n",
       "         -1.42437398e-01,   1.00326300e-01,  -3.70988920e-02,\n",
       "         -7.28609487e-02],\n",
       "       [  3.70349847e-02,  -1.94983464e-02,  -3.35107669e-02,\n",
       "          2.12401506e-02,   5.60435420e-03,   6.41070912e-03,\n",
       "         -7.30061531e-03,  -2.61063743e-02,  -3.99990156e-02,\n",
       "          3.02455146e-02,  -7.06244912e-03,  -1.57897845e-02,\n",
       "          6.33786991e-03,   0.00000000e+00,   0.00000000e+00,\n",
       "          0.00000000e+00],\n",
       "       [  1.67755067e-01,   3.84354405e-02,  -1.10872619e-01,\n",
       "         -7.73576647e-02,  -1.21660434e-01,   4.28806692e-02,\n",
       "          2.60602403e-02,  -9.96526629e-02,   5.52414032e-03,\n",
       "         -5.58475144e-02,  -9.56562087e-02,   3.50061879e-02,\n",
       "          5.92602184e-03,  -2.73107767e-01,   8.39891583e-02,\n",
       "         -3.93160507e-02],\n",
       "       [ -3.39033335e-01,   6.61499947e-02,  -1.10408187e-01,\n",
       "         -4.91495520e-01,   1.60758764e-01,  -1.92484707e-01,\n",
       "         -3.12682360e-01,   1.26648173e-01,  -1.01783708e-01,\n",
       "         -2.04909414e-01,   1.19835593e-01,   5.95096536e-02,\n",
       "         -1.75541237e-01,   1.08139338e-02,  -3.40973735e-02,\n",
       "         -9.02612433e-02],\n",
       "       [ -1.10858995e-02,  -6.62017195e-03,  -5.70875481e-02,\n",
       "          1.11385640e-02,  -4.95378785e-02,  -5.06004691e-02,\n",
       "          3.37962285e-02,   2.12556100e-03,  -8.74009877e-02,\n",
       "          3.26408371e-02,  -1.77034810e-02,  -2.82413773e-02,\n",
       "         -2.92507466e-03,   0.00000000e+00,   0.00000000e+00,\n",
       "          0.00000000e+00],\n",
       "       [ -1.26812309e-01,   2.41691619e-02,   6.51993901e-02,\n",
       "          6.64618984e-02,  -1.40323445e-01,   5.90930618e-02,\n",
       "         -1.53949961e-01,  -2.52972603e-01,   1.19346328e-01,\n",
       "         -9.82939824e-02,  -3.04769576e-01,   1.46852031e-01,\n",
       "          1.23603679e-01,  -9.19120833e-02,  -8.38052928e-02,\n",
       "          1.49353281e-01],\n",
       "       [ -1.47773894e-02,  -1.39373347e-01,   1.93188354e-01,\n",
       "         -2.03949064e-01,  -9.86755639e-02,   5.73660843e-02,\n",
       "         -1.96476385e-01,  -8.98604095e-02,   1.08797830e-02,\n",
       "         -2.24037915e-01,  -1.94168137e-03,  -7.47911185e-02,\n",
       "         -1.71795592e-01,   3.72276269e-02,  -7.17320964e-02,\n",
       "         -1.65968671e-01],\n",
       "       [  8.00652951e-02,  -7.46033341e-02,  -1.73926502e-01,\n",
       "          8.51946473e-02,   4.60907724e-03,  -8.61752629e-02,\n",
       "          8.50039348e-03,   2.12820489e-02,  -4.74196598e-02,\n",
       "         -1.62973534e-02,  -1.07963486e-02,  -1.27988625e-02,\n",
       "         -9.12355725e-03,   0.00000000e+00,   0.00000000e+00,\n",
       "          0.00000000e+00],\n",
       "       [ -1.59301106e-02,  -1.32278949e-01,   5.55124991e-02,\n",
       "         -1.01949172e-02,  -1.53665006e-01,   2.78643612e-02,\n",
       "         -2.02923897e-03,  -3.57326835e-01,   9.07683223e-02,\n",
       "         -5.05853221e-02,  -4.36211169e-01,   8.51107836e-02,\n",
       "         -8.58303383e-02,   3.69660445e-02,  -5.98980449e-02,\n",
       "         -3.29057723e-02],\n",
       "       [  1.21677488e-01,   2.39143837e-02,   2.24036667e-02,\n",
       "          2.07012277e-02,   2.04482023e-02,  -8.35982442e-04,\n",
       "         -7.20890658e-03,   1.40655600e-03,   9.22242552e-03,\n",
       "         -1.42246664e-01,   4.27899100e-02,  -2.23332401e-02,\n",
       "         -1.92585737e-01,   3.75760756e-02,  -1.68924361e-01,\n",
       "         -4.77484941e-01],\n",
       "       [  2.22349852e-01,  -4.20388067e-03,  -2.39610419e-01,\n",
       "          1.20643843e-02,  -2.67908648e-02,  -5.14083467e-02,\n",
       "         -1.60681717e-02,  -9.40240268e-03,  -1.68355424e-02,\n",
       "          6.27184007e-03,  -1.78724516e-03,  -3.74643947e-03,\n",
       "          1.19014969e-03,   0.00000000e+00,   0.00000000e+00,\n",
       "          0.00000000e+00],\n",
       "       [  1.23165220e-01,   2.02923361e-02,  -7.86301792e-02,\n",
       "          1.44636643e-03,  -8.69712010e-02,  -5.38660819e-03,\n",
       "          1.06298558e-01,  -1.85923770e-01,  -2.54649073e-02,\n",
       "          8.44102651e-02,  -2.04844311e-01,  -6.21825606e-02,\n",
       "         -1.14255704e-01,   9.24290530e-03,  -2.10907925e-02,\n",
       "          3.82528342e-02],\n",
       "       [  5.43129668e-02,  -2.64995004e-04,  -2.05197018e-02,\n",
       "         -3.59644592e-02,   2.69228481e-02,  -7.87028112e-03,\n",
       "         -2.24485062e-02,   7.90001452e-03,   7.66759291e-02,\n",
       "         -3.50946821e-02,  -3.39468494e-02,   5.38276173e-02,\n",
       "         -6.06314279e-02,  -4.49946076e-02,   1.83094561e-01,\n",
       "         -3.54872793e-01],\n",
       "       [ -1.81247555e-02,  -1.51666775e-01,  -2.38550201e-01,\n",
       "          1.11485180e-02,   1.40273580e-02,  -5.20301377e-03,\n",
       "         -1.86764468e-02,   1.38013540e-02,   8.27220920e-03,\n",
       "         -1.23968916e-02,  -1.72429252e-03,  -1.36132713e-03,\n",
       "         -2.58992868e-03,   0.00000000e+00,   0.00000000e+00,\n",
       "          0.00000000e+00],\n",
       "       [ -9.38044339e-02,   7.13427644e-03,   5.19860461e-02,\n",
       "          5.14591997e-03,  -1.01997197e-01,   6.56368062e-02,\n",
       "         -2.05394253e-02,  -8.02137703e-02,   1.20272990e-02,\n",
       "         -1.24510080e-02,  -5.02629019e-02,   1.24620777e-02,\n",
       "          1.76741891e-02,   3.58230472e-02,  -3.16570736e-02,\n",
       "          1.70284323e-02]], dtype=float32)"
      ]
     },
     "execution_count": 179,
     "metadata": {},
     "output_type": "execute_result"
    }
   ],
   "source": [
    "temp[0].reshape( 3,16, 16)[0]"
   ]
  },
  {
   "cell_type": "code",
   "execution_count": 180,
   "metadata": {},
   "outputs": [
    {
     "data": {
      "text/plain": [
       "<matplotlib.image.AxesImage at 0x2d8504246a0>"
      ]
     },
     "execution_count": 180,
     "metadata": {},
     "output_type": "execute_result"
    },
    {
     "data": {
      "image/png": "[encoded data removed]",
      "text/plain": [
       "<Figure size 432x288 with 1 Axes>"
      ]
     },
     "metadata": {
      "needs_background": "light"
     },
     "output_type": "display_data"
    }
   ],
   "source": [
    "a2=analysis[2]\n",
    "a2 = a2.sum(axis=np.argmax(np.asarray(a2.shape) == 3))\n",
    "a2 /= np.max(np.abs(a2))\n",
    "plt.imshow(temp[0].reshape( 3,16, 16)[2], cmap=\"seismic\", clim=(-1, 1))"
   ]
  },
  {
   "cell_type": "code",
   "execution_count": 170,
   "metadata": {},
   "outputs": [],
   "source": [
    "a3=analysis[2]\n",
    "a3 = a3.sum(axis=np.argmax(np.asarray(a3.shape) == 3))\n",
    "a3 /= np.max(np.abs(a3))"
   ]
  },
  {
   "cell_type": "code",
   "execution_count": 174,
   "metadata": {},
   "outputs": [
    {
     "data": {
      "text/plain": [
       "array([[ 0.09458551,  0.04722356,  0.05811184,  0.02712792,  0.11688975,\n",
       "         0.16052453,  0.17507653,  0.06454159,  0.01595103,  0.11220391,\n",
       "         0.05855216,  0.02165048,  0.03959086,  0.04675389,  0.01334079,\n",
       "         0.        ],\n",
       "       [ 0.02212232,  0.17361905,  0.0578724 ,  0.09973671,  0.15602471,\n",
       "         0.26562545,  0.16578066,  0.23728937,  0.17106739,  0.17386158,\n",
       "         0.14502668,  0.03582579,  0.05616815,  0.07736526,  0.03947859,\n",
       "         0.        ],\n",
       "       [ 0.04455653,  0.04167625,  0.22367199,  0.2175331 ,  0.04643786,\n",
       "         0.00686023,  0.06516577,  0.02983507,  0.18475068,  0.19468606,\n",
       "         0.19672273,  0.13017736,  0.05497951,  0.03325854,  0.02634949,\n",
       "         0.        ],\n",
       "       [ 0.010125  ,  0.07946243,  0.1876078 ,  0.34088829,  0.09434267,\n",
       "        -0.16256227, -0.08099688,  0.0039957 ,  0.07969999,  0.15858519,\n",
       "         0.1749256 ,  0.19195257,  0.10396313,  0.01163768,  0.00253172,\n",
       "         0.        ],\n",
       "       [ 0.00439476,  0.0488573 ,  0.08401209,  0.14247108,  0.10279039,\n",
       "        -0.10160775, -0.03515171,  0.01848343, -0.0035648 ,  0.04114815,\n",
       "         0.13396353,  0.18152456,  0.06538804, -0.01026905,  0.00293795,\n",
       "         0.        ],\n",
       "       [ 0.03866241,  0.06147681,  0.0623164 ,  0.03337057, -0.02907508,\n",
       "        -0.05777552, -0.00397629,  0.07430767,  0.0125549 , -0.03019495,\n",
       "         0.06731247,  0.17469698,  0.08205964, -0.05561333, -0.01446687,\n",
       "         0.        ],\n",
       "       [ 0.07596385,  0.13409889,  0.15575801,  0.14768119,  0.11954673,\n",
       "         0.07110207,  0.02006647,  0.05049389,  0.01975595, -0.0201751 ,\n",
       "        -0.00797661,  0.05684728,  0.18966328,  0.18353926,  0.03050444,\n",
       "         0.        ],\n",
       "       [ 0.08034251,  0.16406085,  0.19210365,  0.22132476,  0.13031466,\n",
       "         0.14531495,  0.10355876,  0.03223128,  0.00275179, -0.02796635,\n",
       "        -0.0262333 , -0.01902131,  0.13999018,  0.31434289,  0.16040549,\n",
       "         0.        ],\n",
       "       [-0.01542671,  0.05247605,  0.01696517,  0.06247617,  0.08230684,\n",
       "         0.02771409, -0.00395049, -0.08147278,  0.08683105,  0.13508151,\n",
       "         0.0242244 , -0.01983768,  0.08181316,  0.16204457,  0.1092128 ,\n",
       "         0.        ],\n",
       "       [-0.02824896, -0.05468285, -0.06889181, -0.11032949, -0.01431288,\n",
       "         0.0197847 , -0.06625932, -0.0953133 ,  0.06306354,  0.24183455,\n",
       "         0.11609352, -0.0149309 ,  0.01002661,  0.13848576,  0.03602473,\n",
       "         0.        ],\n",
       "       [ 0.09410961,  0.1135276 ,  0.00599426, -0.05541743,  0.03324012,\n",
       "         0.11149977, -0.00748751, -0.10218585,  0.00377109,  0.18849635,\n",
       "         0.09743949, -0.03254103, -0.01032521,  0.02961173,  0.06424295,\n",
       "         0.        ],\n",
       "       [ 0.11049181,  0.22562629,  0.10754444, -0.00947451,  0.07850588,\n",
       "         0.17154877,  0.04815081, -0.04916822,  0.06187958,  0.14380868,\n",
       "         0.10099463, -0.03723138, -0.00922741,  0.00930935,  0.01075941,\n",
       "         0.        ],\n",
       "       [ 0.01828595,  0.14375928,  0.09594386, -0.00851319,  0.00381582,\n",
       "         0.02257305,  0.08972669,  0.04766126,  0.14424981,  0.13844524,\n",
       "         0.1029885 ,  0.03639727,  0.08471058,  0.13118328,  0.03548464,\n",
       "         0.        ],\n",
       "       [ 0.05309453,  0.03727146,  0.03997107, -0.00493872, -0.04776937,\n",
       "        -0.07019956,  0.00954587,  0.12460195,  0.19231553,  0.24919385,\n",
       "         0.08697683,  0.06690847,  0.13200864,  0.12216498,  0.0709633 ,\n",
       "         0.        ],\n",
       "       [ 0.00701475,  0.04168658,  0.00368816, -0.0028079 , -0.00823031,\n",
       "        -0.03991186, -0.0268741 ,  0.04930167,  0.05729714,  0.10401234,\n",
       "         0.0926808 ,  0.0264739 ,  0.03416079,  0.06867278,  0.00675172,\n",
       "         0.        ],\n",
       "       [ 0.        ,  0.        ,  0.        ,  0.        ,  0.        ,\n",
       "         0.        ,  0.        ,  0.        ,  0.        ,  0.        ,\n",
       "         0.        ,  0.        ,  0.        ,  0.        ,  0.        ,\n",
       "         0.        ]], dtype=float32)"
      ]
     },
     "execution_count": 174,
     "metadata": {},
     "output_type": "execute_result"
    }
   ],
   "source": [
    "a3[0][23]"
   ]
  },
  {
   "cell_type": "code",
   "execution_count": 175,
   "metadata": {
    "scrolled": true
   },
   "outputs": [
    {
     "data": {
      "text/plain": [
       "<matplotlib.image.AxesImage at 0x2d8503b3908>"
      ]
     },
     "execution_count": 175,
     "metadata": {},
     "output_type": "execute_result"
    },
    {
     "data": {
      "image/png": "[encoded data removed]",
      "text/plain": [
       "<Figure size 432x288 with 1 Axes>"
      ]
     },
     "metadata": {
      "needs_background": "light"
     },
     "output_type": "display_data"
    }
   ],
   "source": [
    "plt.imshow(a3[0][23], cmap=\"seismic\", clim=(-1, 1))"
   ]
  },
  {
   "cell_type": "code",
   "execution_count": 235,
   "metadata": {},
   "outputs": [],
   "source": [
    "np.shape(ge_m[0][0])\n",
    "aaaa=tem1[0][0]\n",
    "aaaa /= np.max(np.abs(tem1[0][0]))"
   ]
  },
  {
   "cell_type": "code",
   "execution_count": 236,
   "metadata": {},
   "outputs": [
    {
     "data": {
      "text/plain": [
       "<matplotlib.image.AxesImage at 0x1c12ca69128>"
      ]
     },
     "execution_count": 236,
     "metadata": {},
     "output_type": "execute_result"
    },
    {
     "data": {
      "image/png": "[encoded data removed]",
      "text/plain": [
       "<Figure size 432x288 with 1 Axes>"
      ]
     },
     "metadata": {
      "needs_background": "light"
     },
     "output_type": "display_data"
    }
   ],
   "source": [
    "plt.imshow(aaaa.reshape( 3,16, 16)[0], cmap=\"seismic\", clim=(-1, 1))"
   ]
  },
  {
   "cell_type": "code",
   "execution_count": 148,
   "metadata": {},
   "outputs": [
    {
     "data": {
      "image/png": "[encoded data removed]",
      "text/plain": [
       "<Figure size 432x288 with 2 Axes>"
      ]
     },
     "metadata": {
      "needs_background": "light"
     },
     "output_type": "display_data"
    }
   ],
   "source": [
    "a3=analysis[2]\n",
    "a3 = a3.sum(axis=np.argmax(np.asarray(a3.shape) == 3))\n",
    "a3 /= np.max(np.abs(a3))\n",
    "# plt.imshow(a3, cmap=\"seismic\", clim=(-1, 1))\n",
    "# for i in range(24):\n",
    "plt.imshow(a3[0][21], cmap=\"seismic\", clim=(-1, 1))\n",
    "plt.colorbar()\n",
    "plt.show()"
   ]
  },
  {
   "cell_type": "code",
   "execution_count": 72,
   "metadata": {},
   "outputs": [
    {
     "data": {
      "text/plain": [
       "array([ 0.54542023,  0.57280326,  0.55741411,  0.57771832,  0.54373825,\n",
       "        0.56012601,  0.57107681,  0.67498314,  0.53773439,  0.51392424,\n",
       "        0.5373767 ,  0.54387432,  0.59930599,  0.5904485 ,  0.51380193,\n",
       "        0.53012234,  0.54785943,  0.54836625,  0.69688088,  0.66262096,\n",
       "        0.56907833,  0.61679125,  0.63201761,  0.59093076,  0.66319609,\n",
       "        0.6526587 ,  0.59249604,  0.52867889,  0.53133935,  0.50027472,\n",
       "        0.48201811,  0.53025818,  0.48370934,  0.526034  ,  0.50285012,\n",
       "        0.52767736,  0.5644325 ,  0.58794188,  0.63757896,  0.66826689,\n",
       "        0.58520281,  0.61605316,  0.59635681,  0.5669595 ,  0.61807096,\n",
       "        0.56563544,  0.5251984 ,  0.44894886,  0.58414102,  0.68314332,\n",
       "        0.59698343,  0.62983155,  0.57871026,  0.58209383], dtype=float32)"
      ]
     },
     "execution_count": 72,
     "metadata": {},
     "output_type": "execute_result"
    }
   ],
   "source": [
    "a4[0]"
   ]
  },
  {
   "cell_type": "code",
   "execution_count": 181,
   "metadata": {},
   "outputs": [
    {
     "data": {
      "image/png": "[encoded data removed]",
      "text/plain": [
       "<Figure size 432x288 with 2 Axes>"
      ]
     },
     "metadata": {
      "needs_background": "light"
     },
     "output_type": "display_data"
    }
   ],
   "source": [
    "a4=analysis[3]\n",
    "a4 = a4.sum(axis=np.argmax(np.asarray(a4.shape) == 3))\n",
    "a4 /= np.max(np.abs(a4))\n",
    "plt.imshow(a4, cmap=\"seismic\", clim=(-1, 1))\n",
    "plt.colorbar()\n",
    "plt.show()\n",
    "# for j in range(24):\n",
    "#     display(HTML(html_heatmap([str(i) for i in range(54)], a4[j])))\n"
   ]
  },
  {
   "cell_type": "code",
   "execution_count": 82,
   "metadata": {},
   "outputs": [],
   "source": [
    "import matplotlib\n",
    "import matplotlib.pyplot as plt\n",
    "import matplotlib.colors as colors\n",
    "import numpy as np\n",
    "# set the colormap and centre the colorbar\n",
    "class MidpointNormalize(colors.Normalize):\n",
    "\t\"\"\"\n",
    "\tNormalise the colorbar so that diverging bars work there way either side from a prescribed midpoint value)\n",
    "\n",
    "\te.g. im=ax1.imshow(array, norm=MidpointNormalize(midpoint=0.,vmin=-100, vmax=100))\n",
    "\t\"\"\"\n",
    "\tdef __init__(self, vmin=None, vmax=None, midpoint=None, clip=False):\n",
    "\t\tself.midpoint = midpoint\n",
    "\t\tcolors.Normalize.__init__(self, vmin, vmax, clip)\n",
    "\n",
    "\tdef __call__(self, value, clip=None):\n",
    "\t\t# I'm ignoring masked values and all kinds of edge cases to make a\n",
    "\t\t# simple example...\n",
    "\t\tx, y = [self.vmin, self.midpoint, self.vmax], [0, 0.5, 1]\n",
    "\t\treturn np.ma.masked_array(np.interp(value, x, y), np.isnan(value))"
   ]
  },
  {
   "cell_type": "code",
   "execution_count": 91,
   "metadata": {},
   "outputs": [
    {
     "data": {
      "image/png": "[encoded data removed]",
      "text/plain": [
       "<Figure size 432x288 with 2 Axes>"
      ]
     },
     "metadata": {
      "needs_background": "light"
     },
     "output_type": "display_data"
    }
   ],
   "source": [
    "elev_min=-1\n",
    "elev_max=1\n",
    "mid_val=-0.05\n",
    "cmap=matplotlib.cm.RdBu_r # set the colormap to soemthing diverging\n",
    "plt.imshow(a4, cmap=\"seismic\", clim=(elev_min, elev_max), norm=MidpointNormalize(midpoint=mid_val,vmin=elev_min, vmax=elev_max))\n",
    "plt.colorbar()\n",
    "plt.show()"
   ]
  },
  {
   "cell_type": "code",
   "execution_count": null,
   "metadata": {},
   "outputs": [],
   "source": []
  },
  {
   "cell_type": "code",
   "execution_count": 13,
   "metadata": {},
   "outputs": [],
   "source": [
    "import keras.backend as K\n",
    "import keras.layers\n",
    "from keras import optimizers\n",
    "from keras.engine.topology import Layer\n",
    "from keras.layers import Activation, Lambda\n",
    "from keras.layers import Conv1D, SpatialDropout1D\n",
    "from keras.layers import Convolution1D, Dense\n",
    "from keras.models import Input, Model\n",
    "from typing import List, Tuple\n",
    "\n",
    "\n",
    "def channel_normalization(x):\n",
    "    # type: (Layer) -> Layer\n",
    "    \"\"\" Normalize a layer to the maximum activation\n",
    "\n",
    "    This keeps a layers values between zero and one.\n",
    "    It helps with relu's unbounded activation\n",
    "\n",
    "    Args:\n",
    "        x: The layer to normalize\n",
    "\n",
    "    Returns:\n",
    "        A maximal normalized layer\n",
    "    \"\"\"\n",
    "    max_values = K.max(K.abs(x), 2, keepdims=True) + 1e-5\n",
    "    out = x / max_values\n",
    "    return out\n",
    "\n",
    "\n",
    "def wave_net_activation(x):\n",
    "    # type: (Layer) -> Layer\n",
    "    \"\"\"This method defines the activation used for WaveNet\n",
    "\n",
    "    described in https://deepmind.com/blog/wavenet-generative-model-raw-audio/\n",
    "\n",
    "    Args:\n",
    "        x: The layer we want to apply the activation to\n",
    "\n",
    "    Returns:\n",
    "        A new layer with the wavenet activation applied\n",
    "    \"\"\"\n",
    "    tanh_out = Activation('tanh')(x)\n",
    "    sigm_out = Activation('sigmoid')(x)\n",
    "    return keras.layers.multiply([tanh_out, sigm_out])\n",
    "\n",
    "\n",
    "def residual_block(x, s, i, c, activation, nb_filters, kernel_size, padding, dropout_rate=0):\n",
    "    # type: (Layer, int, int, int, str, int, int, str, float, str) -> Tuple[Layer, Layer]\n",
    "    \"\"\"Defines the residual block for the WaveNet TCN\n",
    "\n",
    "    Args:\n",
    "        x: The previous layer in the model\n",
    "        s: The stack index i.e. which stack in the overall TCN\n",
    "        i: The dilation power of 2 we are using for this residual block\n",
    "        c: The dilation name to make it unique. In case we have same dilation twice: [1, 1, 2, 4].\n",
    "        activation: The name of the type of activation to use\n",
    "        nb_filters: The number of convolutional filters to use in this block\n",
    "        kernel_size: The size of the convolutional kernel\n",
    "        padding: The padding used in the convolutional layers, 'same' or 'causal'.\n",
    "        dropout_rate: Float between 0 and 1. Fraction of the input units to drop.\n",
    "        name: Name of the model. Useful when having multiple TCN.\n",
    "\n",
    "    Returns:\n",
    "        A tuple where the first element is the residual model layer, and the second\n",
    "        is the skip connection.\n",
    "    \"\"\"\n",
    "\n",
    "    original_x = x\n",
    "    conv = Conv1D(filters=nb_filters, kernel_size=kernel_size,\n",
    "                  dilation_rate=i, padding=padding)(x)\n",
    "    if activation == 'norm_relu':\n",
    "        x = Activation('relu')(conv)\n",
    "        x = Lambda(channel_normalization)(x)\n",
    "    elif activation == 'wavenet':\n",
    "        x = wave_net_activation(conv)\n",
    "    else:\n",
    "        x = Activation(activation)(conv)\n",
    "\n",
    "    x = SpatialDropout1D(dropout_rate)(x)\n",
    "\n",
    "    # 1x1 conv.\n",
    "    x = Convolution1D(nb_filters, 1, padding='same')(x)\n",
    "    res_x = keras.layers.add([original_x, x])\n",
    "    return res_x, x\n",
    "\n",
    "\n",
    "def process_dilations(dilations):\n",
    "    def is_power_of_two(num):\n",
    "        return num != 0 and ((num & (num - 1)) == 0)\n",
    "\n",
    "    if all([is_power_of_two(i) for i in dilations]):\n",
    "        return dilations\n",
    "\n",
    "    else:\n",
    "        new_dilations = [2 ** i for i in dilations]\n",
    "        # print(f'Updated dilations from {dilations} to {new_dilations} because of backwards compatibility.')\n",
    "        return new_dilations\n",
    "\n",
    "\n",
    "class TCN:\n",
    "    \"\"\"Creates a TCN layer.\n",
    "\n",
    "        Input shape:\n",
    "            A tensor of shape (batch_size, timesteps, input_dim).\n",
    "\n",
    "        Args:\n",
    "            nb_filters: The number of filters to use in the convolutional layers.\n",
    "            kernel_size: The size of the kernel to use in each convolutional layer.\n",
    "            dilations: The list of the dilations. Example is: [1, 2, 4, 8, 16, 32, 64].\n",
    "            nb_stacks : The number of stacks of residual blocks to use.\n",
    "            activation: The activations to use (norm_relu, wavenet, relu...).\n",
    "            padding: The padding to use in the convolutional layers, 'causal' or 'same'.\n",
    "            use_skip_connections: Boolean. If we want to add skip connections from input to each residual block.\n",
    "            return_sequences: Boolean. Whether to return the last output in the output sequence, or the full sequence.\n",
    "            dropout_rate: Float between 0 and 1. Fraction of the input units to drop.\n",
    "            name: Name of the model. Useful when having multiple TCN.\n",
    "\n",
    "        Returns:\n",
    "            A TCN layer.\n",
    "        \"\"\"\n",
    "\n",
    "    def __init__(self,\n",
    "                 nb_filters=64,\n",
    "                 kernel_size=2,\n",
    "                 nb_stacks=1,\n",
    "                 dilations=[1, 2, 4, 8, 16, 32],\n",
    "                 activation='norm_relu',\n",
    "                 padding='causal',\n",
    "                 use_skip_connections=True,\n",
    "                 dropout_rate=0.0,\n",
    "                 return_sequences=True):\n",
    "        self.return_sequences = return_sequences\n",
    "        self.dropout_rate = dropout_rate\n",
    "        self.use_skip_connections = use_skip_connections\n",
    "        self.activation = activation\n",
    "        self.dilations = dilations\n",
    "        self.nb_stacks = nb_stacks\n",
    "        self.kernel_size = kernel_size\n",
    "        self.nb_filters = nb_filters\n",
    "        self.padding = padding\n",
    "\n",
    "        if padding != 'causal' and padding != 'same':\n",
    "            raise ValueError(\"Only 'causal' or 'same' padding are compatible for this layer.\")\n",
    "\n",
    "        if not isinstance(nb_filters, int):\n",
    "            print('An interface change occurred after the version 2.1.2.')\n",
    "            print('Before: tcn.TCN(i, return_sequences=False, ...)')\n",
    "            print('Now should be: tcn.TCN(return_sequences=False, ...)(i)')\n",
    "            print('Second solution is to pip install keras-tcn==2.1.2 to downgrade.')\n",
    "            raise Exception()\n",
    "\n",
    "    def __call__(self, inputs):\n",
    "        x = inputs\n",
    "        x = Convolution1D(self.nb_filters, 1, padding=self.padding)(x)\n",
    "        skip_connections = []\n",
    "        for s in range(self.nb_stacks):\n",
    "            for i, d in enumerate(self.dilations):\n",
    "                x, skip_out = residual_block(x, s, d, i, self.activation, self.nb_filters,\n",
    "                                             self.kernel_size, self.padding, self.dropout_rate)\n",
    "                skip_connections.append(skip_out)\n",
    "        if self.use_skip_connections:\n",
    "            x = keras.layers.add(skip_connections)\n",
    "        x = Activation('relu')(x)\n",
    "\n",
    "        if not self.return_sequences:\n",
    "            output_slice_index = -1\n",
    "            x = Lambda(lambda tt: tt[:, output_slice_index, :])(x)\n",
    "        return x\n",
    "\n",
    "\n",
    "def compiled_tcn(num_feat,  # type: int\n",
    "                 num_classes,  # type: int\n",
    "                 nb_filters,  # type: int\n",
    "                 kernel_size,  # type: int\n",
    "                 dilations,  # type: List[int]\n",
    "                 nb_stacks,  # type: int\n",
    "                 max_len,  # type: int\n",
    "                 activation='norm_relu',  # type: str\n",
    "                 padding='causal',  # type: str\n",
    "                 use_skip_connections=True,  # type: bool\n",
    "                 return_sequences=True,\n",
    "                 regression=False,  # type: bool\n",
    "                 dropout_rate=0.05,  # type: float\n",
    "                 ):\n",
    "    # type: (...) -> keras.Model\n",
    "    \"\"\"Creates a compiled TCN model for a given task (i.e. regression or classification).\n",
    "\n",
    "    Args:\n",
    "        num_feat: The number of features of your input, i.e. the last dimension of: (batch_size, timesteps, input_dim).\n",
    "        num_classes: The size of the final dense layer, how many classes we are predicting.\n",
    "        nb_filters: The number of filters to use in the convolutional layers.\n",
    "        kernel_size: The size of the kernel to use in each convolutional layer.\n",
    "        dilations: The list of the dilations. Example is: [1, 2, 4, 8, 16, 32, 64].\n",
    "        nb_stacks : The number of stacks of residual blocks to use.\n",
    "        max_len: The maximum sequence length, use None if the sequence length is dynamic.\n",
    "        activation: The activations to use.\n",
    "        padding: The padding to use in the convolutional layers.\n",
    "        use_skip_connections: Boolean. If we want to add skip connections from input to each residual block.\n",
    "        return_sequences: Boolean. Whether to return the last output in the output sequence, or the full sequence.\n",
    "        regression: Whether the output should be continuous or discrete.\n",
    "        dropout_rate: Float between 0 and 1. Fraction of the input units to drop.\n",
    "        name: Name of the model. Useful when having multiple TCN.\n",
    "\n",
    "    Returns:\n",
    "        A compiled keras TCN.\n",
    "    \"\"\"\n",
    "\n",
    "    dilations = process_dilations(dilations)\n",
    "\n",
    "    input_layer = Input(shape=(max_len, num_feat))\n",
    "\n",
    "    x = TCN(nb_filters, kernel_size, nb_stacks, dilations, activation,\n",
    "            padding, use_skip_connections, dropout_rate, return_sequences)(input_layer)\n",
    "\n",
    "    print('x.shape=', x.shape)\n",
    "\n",
    "    if not regression:\n",
    "        # classification\n",
    "        x = Dense(num_classes)(x)\n",
    "        x = Activation('softmax')(x)\n",
    "        output_layer = x\n",
    "        print(f'model.x = {input_layer.shape}')\n",
    "        print(f'model.y = {output_layer.shape}')\n",
    "        model = Model(input_layer, output_layer)\n",
    "\n",
    "        # https://github.com/keras-team/keras/pull/11373\n",
    "        # It's now in Keras@master but still not available with pip.\n",
    "        # TODO To remove later.\n",
    "        def accuracy(y_true, y_pred):\n",
    "            # reshape in case it's in shape (num_samples, 1) instead of (num_samples,)\n",
    "            if K.ndim(y_true) == K.ndim(y_pred):\n",
    "                y_true = K.squeeze(y_true, -1)\n",
    "            # convert dense predictions to labels\n",
    "            y_pred_labels = K.argmax(y_pred, axis=-1)\n",
    "            y_pred_labels = K.cast(y_pred_labels, K.floatx())\n",
    "            return K.cast(K.equal(y_true, y_pred_labels), K.floatx())\n",
    "\n",
    "        adam = optimizers.Adam(lr=0.002, clipnorm=1.)\n",
    "        model.compile(adam, loss='sparse_categorical_crossentropy', metrics=[accuracy])\n",
    "        print('Adam with norm clipping.')\n",
    "    else:\n",
    "        # regression\n",
    "        x = Dense(1)(x)\n",
    "        x = Activation('linear')(x)\n",
    "        output_layer = x\n",
    "        print(f'model.x = {input_layer.shape}')\n",
    "        print(f'model.y = {output_layer.shape}')\n",
    "        model = Model(input_layer, output_layer)\n",
    "        adam = optimizers.Adam(lr=0.002, clipnorm=1.)\n",
    "        model.compile(adam, loss='mean_squared_error')\n",
    "\n",
    "    return model\n"
   ]
  },
  {
   "cell_type": "code",
   "execution_count": 149,
   "metadata": {},
   "outputs": [],
   "source": [
    "from keras.layers import *\n",
    "import keras.backend as K\n",
    "\n",
    "\n",
    "def to_mask(x, mask, mode='mul'):\n",
    "    \"\"\"通用mask函数\n",
    "    \"\"\"\n",
    "    if mask is None:\n",
    "        return x\n",
    "    else:\n",
    "        for _ in range(K.ndim(x) - K.ndim(mask)):\n",
    "            mask = K.expand_dims(mask, K.ndim(mask))\n",
    "        if mode == 'mul':\n",
    "            return x * mask\n",
    "        else:\n",
    "            return x - (1 - mask) * 1e10\n",
    "\n",
    "class OurLayer(Layer):\n",
    "    \"\"\"定义新的Layer，增加reuse方法，允许在定义Layer时调用现成的层\n",
    "    \"\"\"\n",
    "    def reuse(self, layer, *args, **kwargs):\n",
    "        if not layer.built:\n",
    "            if len(args) > 0:\n",
    "                inputs = args[0]\n",
    "            else:\n",
    "                inputs = kwargs['inputs']\n",
    "            if isinstance(inputs, list):\n",
    "                input_shape = [K.int_shape(x) for x in inputs]\n",
    "            else:\n",
    "                input_shape = K.int_shape(inputs)\n",
    "            layer.build(input_shape)\n",
    "        outputs = layer.call(*args, **kwargs)\n",
    "        for w in layer.trainable_weights:\n",
    "            if w not in self._trainable_weights:\n",
    "                self._trainable_weights.append(w)\n",
    "        for w in layer.non_trainable_weights:\n",
    "            if w not in self._non_trainable_weights:\n",
    "                self._non_trainable_weights.append(w)\n",
    "        return outputs\n",
    "class MAttention(OurLayer):\n",
    "    \"\"\"多头注意力机制\n",
    "    \"\"\"\n",
    "    def __init__(self, heads=8, size_per_head=16, key_size=None,\n",
    "                 mask_right=False, **kwargs):\n",
    "        super(MAttention, self).__init__(**kwargs)\n",
    "        self.heads = heads\n",
    "        self.size_per_head = size_per_head\n",
    "        self.out_dim = heads * size_per_head\n",
    "        self.key_size = key_size if key_size else size_per_head\n",
    "        self.mask_right = mask_right\n",
    "    def build(self, input_shape):\n",
    "        super(MAttention, self).build(input_shape)\n",
    "        self.q_dense = Dense(self.key_size * self.heads, use_bias=False)\n",
    "        self.k_dense = Dense(self.key_size * self.heads, use_bias=False)\n",
    "        self.v_dense = Dense(self.out_dim, use_bias=False)\n",
    "    def get_config(self):\n",
    "        config = {'heads': self.heads,'size_per_head': self.size_per_head}\n",
    "        base_config = super(MAttention, self).get_config()\n",
    "        return dict(list(base_config.items()) + list(config.items()))\n",
    "\n",
    "    def call(self, inputs):\n",
    "        q, k, v = inputs[: 3]\n",
    "        v_mask, q_mask = None, None\n",
    "        if len(inputs) > 3:\n",
    "            v_mask = inputs[3]\n",
    "            if len(inputs) > 4:\n",
    "                q_mask = inputs[4]\n",
    "        # 线性变换\n",
    "        qw = self.reuse(self.q_dense, q)\n",
    "        kw = self.reuse(self.k_dense, k)\n",
    "        vw = self.reuse(self.v_dense, v)\n",
    "        # 形状变换\n",
    "        qw = K.reshape(qw, (-1, K.shape(qw)[1], self.heads, self.key_size))\n",
    "        kw = K.reshape(kw, (-1, K.shape(kw)[1], self.heads, self.key_size))\n",
    "        vw = K.reshape(vw, (-1, K.shape(vw)[1], self.heads, self.size_per_head))\n",
    "        # 维度置换\n",
    "        qw = K.permute_dimensions(qw, (0, 2, 1, 3))\n",
    "        kw = K.permute_dimensions(kw, (0, 2, 1, 3))\n",
    "        vw = K.permute_dimensions(vw, (0, 2, 1, 3))\n",
    "        # Attention\n",
    "        a = K.batch_dot(qw, kw, [3, 3]) / self.key_size**0.5\n",
    "        a = K.permute_dimensions(a, (0, 3, 2, 1))\n",
    "        a = to_mask(a, v_mask, 'add')\n",
    "        a = K.permute_dimensions(a, (0, 3, 2, 1))\n",
    "        if (self.mask_right is not False) or (self.mask_right is not None):\n",
    "            if self.mask_right is True:\n",
    "                ones = K.ones_like(a[: 1, : 1])\n",
    "                mask = (ones - K.tf.matrix_band_part(ones, -1, 0)) * 1e10\n",
    "                a = a - mask\n",
    "            else:\n",
    "                # 这种情况下，mask_right是外部传入的0/1矩阵，shape=[q_len, k_len]\n",
    "                mask = (1 - K.constant(self.mask_right)) * 1e10\n",
    "                mask = K.expand_dims(K.expand_dims(mask, 0), 0)\n",
    "                self.mask = mask\n",
    "                a = a - mask\n",
    "        a = K.softmax(a)\n",
    "        self.a = a\n",
    "        # 完成输出\n",
    "        o = K.batch_dot(a, vw, [3, 2])\n",
    "        o = K.permute_dimensions(o, (0, 2, 1, 3))\n",
    "        o = K.reshape(o, (-1, K.shape(o)[1], self.out_dim))\n",
    "        o = to_mask(o, q_mask, 'mul')\n",
    "        return o\n",
    "    def compute_output_shape(self, input_shape):\n",
    "        return (input_shape[0][0], input_shape[0][1], self.out_dim)\n"
   ]
  },
  {
   "cell_type": "code",
   "execution_count": null,
   "metadata": {},
   "outputs": [],
   "source": []
  }
 ],
 "metadata": {
  "kernelspec": {
   "display_name": "Python 3",
   "language": "python",
   "name": "python3"
  },
  "language_info": {
   "codemirror_mode": {
    "name": "ipython",
    "version": 3
   },
   "file_extension": ".py",
   "mimetype": "text/x-python",
   "name": "python",
   "nbconvert_exporter": "python",
   "pygments_lexer": "ipython3",
   "version": "3.6.6"
  }
 },
 "nbformat": 4,
 "nbformat_minor": 2
}
