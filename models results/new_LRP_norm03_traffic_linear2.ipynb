{
 "cells": [
  {
   "cell_type": "code",
   "execution_count": 1,
   "metadata": {},
   "outputs": [
    {
     "name": "stderr",
     "output_type": "stream",
     "text": [
      "Using TensorFlow backend.\n"
     ]
    }
   ],
   "source": [
    "import warnings\n",
    "warnings.filterwarnings(\"ignore\")\n",
    "from keras.engine.topology import Layer\n",
    "from keras.layers import Bidirectional, Concatenate, Permute, Dot, Input, LSTM, GRU, Multiply, Reshape\n",
    "from keras.layers import RepeatVector, Dense, Activation, Lambda, Embedding\n",
    "from keras.optimizers import Adam\n",
    "from keras.utils import to_categorical\n",
    "from keras.models import load_model, Model\n",
    "import keras.backend as K\n",
    "import keras\n",
    "import numpy as np\n",
    "import random\n",
    "import tqdm\n",
    "import matplotlib.pyplot as plt\n",
    "from keras.utils import to_categorical\n",
    "import pandas as pd\n",
    "# from tcn import TCN\n",
    "%matplotlib inline\n",
    "from keras.layers import merge, Input, Dense, TimeDistributed, Lambda                                   \n",
    "import keras\n",
    "from keras.models import Sequential, Model\n",
    "from keras.layers import Conv2D, GlobalMaxPooling2D,MaxPooling2D, Flatten, Dense, BatchNormalization, Activation, Input, GlobalAveragePooling2D,AveragePooling2D, Add\n",
    "from keras.optimizers import Adam, rmsprop\n",
    "from keras.callbacks import EarlyStopping\n",
    "from sklearn.model_selection import GridSearchCV\n",
    "from keras.models import Sequential\n",
    "from keras.layers import Dropout\n",
    "from keras.wrappers.scikit_learn import KerasRegressor\n",
    "from keras.constraints import maxnorm\n",
    "MAX_SENT_LENGTH = 55\n",
    "MAX_SENTS = 24\n",
    "VALIDATION_SPLIT = 0.2"
   ]
  },
  {
   "cell_type": "code",
   "execution_count": 2,
   "metadata": {},
   "outputs": [],
   "source": [
    "from sklearn.preprocessing import MinMaxScaler  \n",
    "from sklearn.preprocessing import StandardScaler  \n",
    "from pandas import concat\n",
    "\n",
    "std = StandardScaler()"
   ]
  },
  {
   "cell_type": "code",
   "execution_count": 3,
   "metadata": {},
   "outputs": [],
   "source": [
    "import pandas as pd\n",
    "#matplotlib inline\n",
    "#参数初始化\n",
    "discfile = '../data/data_wea_time_unify.csv'\n",
    "\n",
    "data = pd.read_csv(discfile)"
   ]
  },
  {
   "cell_type": "code",
   "execution_count": 4,
   "metadata": {},
   "outputs": [],
   "source": [
    "futrue_time=24\n",
    "\n",
    "time_step=24"
   ]
  },
  {
   "cell_type": "code",
   "execution_count": 5,
   "metadata": {},
   "outputs": [],
   "source": [
    "for i in range(24,96):\n",
    "    data['PM25_m'+str(i)]=data['PM25_mean'].shift(-i)\n",
    "data=data.dropna(how='any')"
   ]
  },
  {
   "cell_type": "code",
   "execution_count": 6,
   "metadata": {},
   "outputs": [],
   "source": [
    "target_data=data.iloc[:,76:]\n",
    "source_data=data.iloc[:,4:58]\n",
    "\n",
    "import copy\n",
    "sd=copy.deepcopy(source_data)\n",
    "td=copy.deepcopy(target_data)\n",
    "\n",
    "td=td.dropna(how='any')\n",
    "# td=std.fit_transform(td)\n",
    "sd=std.fit_transform(sd)\n",
    "# sd=sd.values\n",
    "td=td.values\n",
    "td_test=td[5801:,:futrue_time]   \n",
    "td=td[:5801,:futrue_time]\n",
    "sd_m=[]\n",
    "for i in range(1,MAX_SENTS+1):\n",
    "    locals()['sd'+str(i)]=sd[i-1:5800+i]\n",
    "\n",
    "    sd_m.append(locals()['sd'+str(i)])\n",
    "sd_m=(np.array(sd_m).swapaxes(0,1))\n",
    "\n",
    "\n",
    "######test\n",
    "sd_m_test=[]\n",
    "for i in range(1,25):\n",
    "    locals()['sd_t'+str(i)]=sd[5800+i:5969-24+i]\n",
    "    \n",
    "    sd_m_test.append(locals()['sd_t'+str(i)])\n",
    "\n",
    "sd_m_test=(np.array(sd_m_test).swapaxes(0,1))"
   ]
  },
  {
   "cell_type": "code",
   "execution_count": 7,
   "metadata": {},
   "outputs": [],
   "source": [
    "wea_data=data.iloc[:,67:75]\n",
    "# wea_data=std.fit_transform(wea_data)\n",
    "# wea_data=pd.DataFrame(wea_data)\n",
    "w=wea_data[['Conditions','Wind Dir','Quality evaluation']]\n",
    "# w=std.fit_transform(w)\n",
    "w_m=[]\n",
    "for i in range(1,25):\n",
    "    locals()['w'+str(i)]=w[i-1:5800+i].values\n",
    "    \n",
    "    w_m.append(locals()['w'+str(i)])\n",
    "    \n",
    "wea=wea_data[['Dew Point','Humidity','Pressure','Temp.','Wind Speed']]\n",
    "wea=std.fit_transform(wea)\n",
    "wea_m=[]\n",
    "for i in range(1,25):\n",
    "    locals()['wea'+str(i)]=wea[i-1:5800+i]\n",
    "    \n",
    "    wea_m.append(locals()['wea'+str(i)])"
   ]
  },
  {
   "cell_type": "code",
   "execution_count": 8,
   "metadata": {},
   "outputs": [],
   "source": [
    "time_data=data.iloc[:,64:67]\n",
    "# time_data=std.fit_transform(time_data)\n",
    "time_m=[]\n",
    "for i in range(1,25):\n",
    "    locals()['time'+str(i)]=time_data[i-1:5800+i].values\n",
    "    \n",
    "    time_m.append(locals()['time'+str(i)])"
   ]
  },
  {
   "cell_type": "code",
   "execution_count": 17,
   "metadata": {},
   "outputs": [],
   "source": [
    "time_m=(np.array(time_m).swapaxes(0,1))\n",
    "w_m=(np.array(w_m).swapaxes(0,1))\n",
    "wea_m=(np.array(wea_m).swapaxes(0,1))"
   ]
  },
  {
   "cell_type": "code",
   "execution_count": 18,
   "metadata": {},
   "outputs": [],
   "source": [
    "time_m_test=[]\n",
    "for i in range(1,25):\n",
    "    locals()['time_t'+str(i)]=time_data[5800+i:5969-24+i].values\n",
    "    \n",
    "    time_m_test.append(locals()['time_t'+str(i)])\n",
    "\n",
    "time_m_test=(np.array(time_m_test).swapaxes(0,1))\n",
    "\n",
    "w_m_test=[]\n",
    "for i in range(1,25):\n",
    "    locals()['w_t'+str(i)]=w[5800+i:5969-24+i].values\n",
    "    \n",
    "    w_m_test.append(locals()['w_t'+str(i)])\n",
    "\n",
    "w_m_test=(np.array(w_m_test).swapaxes(0,1))\n",
    "\n",
    "wea_m_test=[]\n",
    "for i in range(1,25):\n",
    "    locals()['wea_t'+str(i)]=wea[5800+i:5969-24+i]\n",
    "    \n",
    "    wea_m_test.append(locals()['wea_t'+str(i)])\n",
    "\n",
    "wea_m_test=(np.array(wea_m_test).swapaxes(0,1))"
   ]
  },
  {
   "cell_type": "code",
   "execution_count": 19,
   "metadata": {},
   "outputs": [],
   "source": [
    "import h5py\n",
    "import os\n",
    "\n",
    "ground = h5py.File('../data/inte_g_12_linear.h5', 'r')\n",
    "g = ground['X']\n",
    "\n",
    "ele_zs = h5py.File('../data/inte_e_zs_12_new_linear.h5', 'r')\n",
    "ezs = ele_zs['X']\n",
    "\n",
    "ele_sd = h5py.File('../data/inte_e_sd_12_new_linear.h5', 'r')\n",
    "esd = ele_sd['X']\n",
    "\n",
    "g_m=[]\n",
    "for i in range(1,25):\n",
    "    locals()['g'+str(i)]=g[i-1:5800+i]\n",
    "    \n",
    "    g_m.append(locals()['g'+str(i)])\n",
    "g_m=(np.array(g_m).swapaxes(0,1))\n",
    "g_m=g_m.reshape(5801, 24, 16,16,1)\n",
    "\n",
    "ezs_m=[]\n",
    "for i in range(1,25):\n",
    "    locals()['ezs'+str(i)]=ezs[i-1:5800+i]\n",
    "    \n",
    "    ezs_m.append(locals()['ezs'+str(i)])\n",
    "ezs_m=(np.array(ezs_m).swapaxes(0,1))\n",
    "\n",
    "ezs_m=ezs_m.reshape(5801, 24, 16,16,1)\n",
    "\n",
    "esd_m=[]\n",
    "for i in range(1,25):\n",
    "    locals()['esd'+str(i)]=esd[i-1:5800+i]\n",
    "    \n",
    "    esd_m.append(locals()['esd'+str(i)])\n",
    "esd_m=(np.array(esd_m).swapaxes(0,1))\n",
    "\n",
    "esd_m=esd_m.reshape(5801, 24, 16,16,1)\n",
    "\n",
    "ge_m=[ezs_m,esd_m,g_m]\n",
    "\n",
    "ge_m=np.array(ge_m).reshape(5801, 24, 16,16,3)"
   ]
  },
  {
   "cell_type": "code",
   "execution_count": 20,
   "metadata": {},
   "outputs": [],
   "source": [
    "#####test\n",
    "g_m_test=[]\n",
    "for i in range(1,25):\n",
    "    locals()['g_t'+str(i)]=g[5800+i:5969-24+i]\n",
    "    \n",
    "    g_m_test.append(locals()['g_t'+str(i)])\n",
    "g_m_test=(np.array(g_m_test).swapaxes(0,1))\n",
    "\n",
    "g_m_test=g_m_test.reshape(145, 24, 16,16,1)\n",
    "\n",
    "ezs_m_test=[]\n",
    "for i in range(1,25):\n",
    "    locals()['ezs_t'+str(i)]=ezs[5800+i:5969-24+i]\n",
    "    \n",
    "    ezs_m_test.append(locals()['ezs_t'+str(i)])\n",
    "ezs_m_test=(np.array(ezs_m_test).swapaxes(0,1))\n",
    "\n",
    "ezs_m_test=ezs_m_test.reshape(145, 24, 16,16,1)\n",
    "\n",
    "esd_m_test=[]\n",
    "for i in range(1,25):\n",
    "    locals()['esd_t'+str(i)]=esd[5800+i:5969-24+i]\n",
    "    \n",
    "    esd_m_test.append(locals()['esd_t'+str(i)])\n",
    "esd_m_test=(np.array(esd_m_test).swapaxes(0,1))\n",
    "\n",
    "esd_m_test=esd_m_test.reshape(145, 24, 16,16,1)\n",
    "ge_m_test=[ezs_m_test,esd_m_test,g_m_test]\n",
    "\n",
    "ge_m_test=np.array(ge_m_test).reshape(145, 24, 16,16,3)"
   ]
  },
  {
   "cell_type": "code",
   "execution_count": 31,
   "metadata": {},
   "outputs": [
    {
     "name": "stdout",
     "output_type": "stream",
     "text": [
      "Train on 4640 samples, validate on 1161 samples\n",
      "Epoch 1/20\n",
      " - 120s - loss: 39.2311 - val_loss: 24.9460\n",
      "Epoch 2/20\n",
      " - 118s - loss: 27.8868 - val_loss: 23.9127\n",
      "Epoch 3/20\n",
      " - 118s - loss: 26.7415 - val_loss: 22.9288\n",
      "Epoch 4/20\n",
      " - 118s - loss: 25.4892 - val_loss: 22.4538\n",
      "Epoch 5/20\n",
      " - 118s - loss: 24.4409 - val_loss: 21.5321\n",
      "Epoch 6/20\n",
      " - 118s - loss: 23.8301 - val_loss: 21.0393\n",
      "Epoch 7/20\n",
      " - 118s - loss: 23.2929 - val_loss: 21.1667\n",
      "Epoch 8/20\n",
      " - 117s - loss: 22.9370 - val_loss: 20.1589\n",
      "Epoch 9/20\n",
      " - 118s - loss: 22.6001 - val_loss: 19.8322\n",
      "Epoch 10/20\n",
      " - 119s - loss: 22.2903 - val_loss: 19.7198\n",
      "Epoch 11/20\n",
      " - 118s - loss: 22.1396 - val_loss: 19.5130\n",
      "Epoch 12/20\n",
      " - 118s - loss: 21.8466 - val_loss: 19.1255\n",
      "Epoch 13/20\n",
      " - 118s - loss: 21.6432 - val_loss: 19.0745\n",
      "Epoch 14/20\n",
      " - 119s - loss: 21.3429 - val_loss: 18.9673\n",
      "Epoch 15/20\n",
      " - 118s - loss: 21.1874 - val_loss: 18.7513\n",
      "Epoch 16/20\n",
      " - 118s - loss: 21.0630 - val_loss: 18.8755\n",
      "Epoch 17/20\n",
      " - 118s - loss: 20.9680 - val_loss: 18.5518\n",
      "Epoch 18/20\n",
      " - 119s - loss: 20.8429 - val_loss: 18.2151\n",
      "Epoch 19/20\n",
      " - 119s - loss: 20.6685 - val_loss: 19.0472\n",
      "Epoch 20/20\n",
      " - 118s - loss: 20.5517 - val_loss: 18.3226\n"
     ]
    },
    {
     "data": {
      "image/png": "[encoded data removed]",
      "text/plain": [
       "<Figure size 432x288 with 1 Axes>"
      ]
     },
     "metadata": {
      "needs_background": "light"
     },
     "output_type": "display_data"
    }
   ],
   "source": [
    "# from attention_keras import *\n",
    "from keras.layers import LeakyReLU\n",
    "class AttentionLayer(Layer):\n",
    "    def __init__(self, **kwargs):\n",
    "        super(AttentionLayer, self).__init__(** kwargs)\n",
    "    \n",
    "    def build(self, input_shape):\n",
    "        assert len(input_shape)==3\n",
    "        # W.shape = (time_steps, time_steps)\n",
    "        self.W = self.add_weight(name='att_weight', \n",
    "                                 shape=(input_shape[1], input_shape[1]),\n",
    "                                 initializer='uniform',\n",
    "                                 trainable=True)\n",
    "        super(AttentionLayer, self).build(input_shape)\n",
    "\n",
    "    def call(self, inputs, mask=None):\n",
    "        x = K.permute_dimensions(inputs, (0, 2, 1))\n",
    "        # x.shape = (batch_size, seq_len, time_steps)\n",
    "        # general\n",
    "        a = K.softmax(K.tanh(K.dot(x, self.W)))\n",
    "        a = K.permute_dimensions(a, (0, 2, 1))\n",
    "        outputs = a * inputs\n",
    "        outputs = K.sum(outputs, axis=1)\n",
    "        return outputs\n",
    "\n",
    "    def compute_output_shape(self, input_shape):\n",
    "        return input_shape[0], input_shape[2]\n",
    "\n",
    "def create_model(learn_rate=0.001, neurons=24, traffic_n=3):\n",
    "#     时间戳模块    \n",
    "    inp_time=Input(shape=(3,))\n",
    "    inp_time1 = Reshape((3,1))(inp_time)\n",
    "    embed_time = Dense(3)(inp_time1)\n",
    "#     embed_time = Embedding(24,3, input_length=3)(inp_time)\n",
    "#     embed_time=BatchNormalization()(embed_time)\n",
    "    embed_time=Flatten()(embed_time)\n",
    "    embed_time=BatchNormalization()(embed_time)\n",
    "    tm=Model(inputs=inp_time, outputs=embed_time)\n",
    "    \n",
    "#     离散型气象数据模块\n",
    "    inp_w=Input(shape=(3,))\n",
    "    embed_w = Reshape((3,1))(inp_w)\n",
    "    embed_w1 = Dense(3)(embed_w)\n",
    "#     embed_w1 = Dense(3)(embed_w1)\n",
    "#     embed_w = Embedding(18, 2, input_length=3)(inp_w)\n",
    "#     embed_w = AttentionLayer()(embed_w)\n",
    "    embed_w2=Flatten()(embed_w1)\n",
    "    embed_w3=BatchNormalization()(embed_w2)\n",
    "    wm=Model(inputs=inp_w, outputs=embed_w3)\n",
    "    \n",
    "#     连续型气象数据模块\n",
    "    inp_we=Input(shape=(5,))\n",
    "#     embed_we = Reshape((5,1))(inp_we)\n",
    "    embed_we=BatchNormalization()(inp_we)\n",
    "    embed_we = Dense(5)(inp_we)\n",
    "#     embed_we = AttentionLayer()(embed_we)\n",
    "#     input_we_time=keras.layers.concatenate([embed_time,embed_w,embed_we])\n",
    "    weam=Model(inputs=inp_we, outputs=embed_we)\n",
    "    \n",
    "    \n",
    "#     交通指数数据模块\n",
    "    inp=Input(shape=(16, 16, 3))\n",
    "    out=Conv2D(filters=1, kernel_size=2, strides=1)(inp)\n",
    "#     print(out.shape)\n",
    "    out=BatchNormalization()(out)\n",
    "    out=LeakyReLU('0.1')(out)\n",
    "#     out=Activation('relu')(out)\n",
    "    # out=MaxPooling2D(pool_size=(3, 3), strides=2)(out)\n",
    "    # print(out.shape)\n",
    "    out=AveragePooling2D()(out)\n",
    "#     out=GlobalAveragePooling2D()(out)\n",
    "    out=Flatten()(out)\n",
    "    out=Dense(traffic_n)(out)\n",
    "    tra=Model(inputs=inp, outputs=out)\n",
    "    \n",
    "#     特征组件\n",
    "    sentence_input = Input(shape=(54+traffic_n,))\n",
    "    # s_input=keras.layers.concatenate([sentence_input])\n",
    "    embed = Reshape((54+traffic_n,1))(sentence_input)\n",
    "    l_lstm=MAttention(8,16)([embed,embed,embed])\n",
    "#     l_lstm = Bidirectional(GRU(32, return_sequences=True))(embed)\n",
    "#     embed = Reshape((54+traffic_n,1))(l_lstm)\n",
    "    l_dense = TimeDistributed(Dense(32))(l_lstm)\n",
    "#     l_dense = Bidirectional(GRU(32, return_sequences=True))(l_lstm)\n",
    "\n",
    "    l_att = AttentionLayer()(l_dense)\n",
    "\n",
    "    sentEncoder = Model(sentence_input, l_att)\n",
    "\n",
    "    \n",
    "    review_input = Input(shape=(MAX_SENTS,54))\n",
    "    r_input = Input(shape=(MAX_SENTS,16, 16, 3))\n",
    "    r_encoder = TimeDistributed(tra)(r_input)\n",
    "    s_input=keras.layers.concatenate([r_encoder,review_input])\n",
    "    \n",
    "    review_encoder = TimeDistributed(sentEncoder)(s_input)\n",
    "    \n",
    "#     time_input=Input(shape=(MAX_SENTS,3))\n",
    "#     t_encoder = TimeDistributed(tm)(time_input)\n",
    "\n",
    "    w_input=Input(shape=(MAX_SENTS,3))\n",
    "    w_encoder = TimeDistributed(wm)(w_input)\n",
    "\n",
    "    wea_input=Input(shape=(MAX_SENTS,5))\n",
    "    wea_encoder = TimeDistributed(weam)(wea_input)\n",
    "#     we_time_encoder=keras.layers.concatenate([wea_input,review_encoder])\n",
    "#     we_time_encoder=keras.layers.concatenate([t_encoder,w_encoder,wea_input,review_encoder])\n",
    "\n",
    "#     l_lstm_sent = Bidirectional(GRU(50, return_sequences=True))(we_time_encoder)\n",
    "\n",
    "#     l_lstm_sent = Bidirectional(GRU(32, return_sequences=True))(review_encoder)\n",
    "    l_lstm_sent=TCN(padding='same',return_sequences=True)(review_encoder)\n",
    "#     review_encoder = Position_Embedding()(review_encoder) # 增加Position_Embedding能轻微提高准确率\n",
    "#     l_lstm_sent=Attention(8,16)([review_encoder,review_encoder,review_encoder])\n",
    "    we_time_encoder=keras.layers.concatenate([w_encoder,wea_input,l_lstm_sent])\n",
    "\n",
    "    l_dense_sent = TimeDistributed(Dense(64))(we_time_encoder)\n",
    "#     l_dense_sent = TCN(padding='same',return_sequences=True)(we_time_encoder)\n",
    "#     l_dense_sent = Bidirectional(GRU(32, return_sequences=True))(we_time_encoder)\n",
    "#     l_dense_sent = TimeDistributed(Dense(64))(we_time_encoder)\n",
    "    l_att_sent = AttentionLayer()(l_dense_sent)\n",
    "    preds = Dense(futrue_time)(l_att_sent)\n",
    "    model_1 = Model([w_input,wea_input,r_input,review_input], preds)\n",
    "    model_1.compile(optimizer=Adam(lr=learn_rate, beta_1=0.99, beta_2=0.999, decay=0.0006),\n",
    "                        loss='mae')\n",
    "    return model_1\n",
    "\n",
    "model=create_model()\n",
    "history=model.fit([w_m,wea_m,ge_m,sd_m],td, epochs=20, batch_size=68,verbose=2,validation_split=0.2,shuffle=True)\n",
    "# 绘制训练 & 验证的损失值\n",
    "plt.plot(history.history['loss'])\n",
    "plt.plot(history.history['val_loss'])\n",
    "plt.title('Model loss')\n",
    "plt.ylabel('Loss')\n",
    "plt.xlabel('Epoch')\n",
    "plt.legend(['Train', 'Test'], loc='upper left')\n",
    "plt.show()"
   ]
  },
  {
   "cell_type": "code",
   "execution_count": 194,
   "metadata": {},
   "outputs": [
    {
     "name": "stdout",
     "output_type": "stream",
     "text": [
      "__________________________________________________________________________________________________\n",
      "Layer (type)                    Output Shape         Param #     Connected to                     \n",
      "==================================================================================================\n",
      "input_53 (InputLayer)           (None, 24, 16, 16, 3 0                                            \n",
      "__________________________________________________________________________________________________\n",
      "time_distributed_33 (TimeDistri (None, 24, 3)        167         input_53[0][0]                   \n",
      "__________________________________________________________________________________________________\n",
      "input_52 (InputLayer)           (None, 24, 54)       0                                            \n",
      "__________________________________________________________________________________________________\n",
      "concatenate_11 (Concatenate)    (None, 24, 57)       0           time_distributed_33[0][0]        \n",
      "                                                                 input_52[0][0]                   \n",
      "__________________________________________________________________________________________________\n",
      "time_distributed_34 (TimeDistri (None, 24, 32)       4961        concatenate_11[0][0]             \n",
      "__________________________________________________________________________________________________\n",
      "input_54 (InputLayer)           (None, 24, 3)        0                                            \n",
      "__________________________________________________________________________________________________\n",
      "position__embedding_1 (Position (None, 24, 32)       0           time_distributed_34[0][0]        \n",
      "__________________________________________________________________________________________________\n",
      "time_distributed_35 (TimeDistri (None, 24, 9)        42          input_54[0][0]                   \n",
      "__________________________________________________________________________________________________\n",
      "input_55 (InputLayer)           (None, 24, 5)        0                                            \n",
      "__________________________________________________________________________________________________\n",
      "attention_8 (Attention)         (None, 24, 48)       4608        position__embedding_1[0][0]      \n",
      "                                                                 position__embedding_1[0][0]      \n",
      "                                                                 position__embedding_1[0][0]      \n",
      "__________________________________________________________________________________________________\n",
      "concatenate_12 (Concatenate)    (None, 24, 62)       0           time_distributed_35[0][0]        \n",
      "                                                                 input_55[0][0]                   \n",
      "                                                                 attention_8[0][0]                \n",
      "__________________________________________________________________________________________________\n",
      "time_distributed_37 (TimeDistri (None, 24, 64)       4032        concatenate_12[0][0]             \n",
      "__________________________________________________________________________________________________\n",
      "attention_layer_18 (AttentionLa (None, 64)           576         time_distributed_37[0][0]        \n",
      "__________________________________________________________________________________________________\n",
      "dense_36 (Dense)                (None, 24)           1560        attention_layer_18[0][0]         \n",
      "==================================================================================================\n",
      "Total params: 15,946\n",
      "Trainable params: 15,926\n",
      "Non-trainable params: 20\n",
      "__________________________________________________________________________________________________\n"
     ]
    }
   ],
   "source": [
    "model.summary()"
   ]
  },
  {
   "cell_type": "code",
   "execution_count": 32,
   "metadata": {},
   "outputs": [
    {
     "name": "stdout",
     "output_type": "stream",
     "text": [
      "17.29 22.509\n"
     ]
    }
   ],
   "source": [
    "pre_test=model.predict([w_m_test,wea_m_test,ge_m_test,sd_m_test])\n",
    "\n",
    "import numpy as np\n",
    "from sklearn.metrics import mean_absolute_error\n",
    "from sklearn.metrics import mean_squared_error\n",
    "print(np.round(mean_absolute_error(pre_test,td_test[:145]),3),np.round(np.sqrt(mean_squared_error(pre_test,td_test[:145])),3))\n",
    "# mean_absolute_error(pre_test,td_test[:145]),np.sqrt(mean_squared_error(pre_test,td_test[:145]))\n"
   ]
  },
  {
   "cell_type": "code",
   "execution_count": 33,
   "metadata": {},
   "outputs": [],
   "source": [
    "from keras.models import load_model\n",
    "\n",
    "model.save('new_LRP_norm03_model_17.29_22.509new_At_TCN.h5')  # creates a HDF5 file 'my_model.h5'\n",
    "\n",
    "# returns a compiled model\n",
    "# identical to the previous one\n",
    "# model = load_model('air_traff_model.h5',custom_objects={'AttentionLayer': AttentionLayer})"
   ]
  },
  {
   "cell_type": "code",
   "execution_count": 176,
   "metadata": {},
   "outputs": [],
   "source": [
    "# f = K.function(model.inputs, [model.get_layer('dense_21').get_output_at(0) for t in range(24)])\n",
    "# f = K.function(model.inputs, [model.get_layer('attention_weights3').output])\n",
    "\n",
    "f = K.function(model.inputs, [model.get_layer('concatenate_8').output])\n",
    "\n",
    "t=22\n",
    "\n",
    "# r = f([time_m_test[1].reshape(1,24,3),w_m_test[1].reshape(1,24,3),wea_m_test[1].reshape(1,24,5),ge_m_test[1].reshape(1,24,16,16,3),sd_m_test[1].reshape(1,24,55)])\n",
    "\n",
    "# r = f([time_m_test[t].reshape(1,24,3),w_m_test[t].reshape(1,24,3),wea_m_test[t].reshape(1,24,5),ge_m_test[t].reshape(1,24,16,16,3),sd_m_test[t].reshape(1,24,54)])\n",
    "r = f([w_m_test[t].reshape(1,24,3),wea_m_test[t].reshape(1,24,5),ge_m_test[t].reshape(1,24,16,16,3),sd_m_test[t].reshape(1,24,54)])\n",
    "\n",
    "# r = f([time_m,w_m,wea_m,ge_m,sd_m])\n",
    "\n"
   ]
  },
  {
   "cell_type": "code",
   "execution_count": 177,
   "metadata": {},
   "outputs": [
    {
     "data": {
      "text/plain": [
       "array([ 0.32682979,  0.54507756, -0.30751556,  1.10538816,  1.30223846,\n",
       "       -1.37183332, -0.1928184 , -0.03377199,  0.04389238,  0.1201181 ,\n",
       "        1.00378025, -1.24483192, -0.3540802 ,  2.27805638,  0.        ,\n",
       "        3.76776481,  1.7313453 ,  1.66965914,  3.3993721 ,  2.37434125,\n",
       "        5.13138437,  0.30587277,  3.84024286,  3.69034266,  0.        ,\n",
       "        0.38770697,  0.        ,  0.        ,  2.39867377,  0.        ,\n",
       "        0.        ,  0.75867277,  0.        ,  2.85236025,  0.        ,\n",
       "        0.        ,  3.45588541,  0.99129105,  3.01035452,  0.        ,\n",
       "        4.88146067,  3.38616037,  5.81438255,  1.3623929 ,  0.01638078,\n",
       "        0.        ,  0.        ,  5.46834517,  0.48497123,  0.58318943,\n",
       "        0.        ,  4.86927605,  3.92084479,  4.39471245,  0.02253062,\n",
       "        0.02326581,  2.97521138,  0.        ,  0.        ,  0.79415482,\n",
       "        1.98963976,  4.26739645,  3.48198771,  3.11769938,  1.03383303,\n",
       "        5.45237446,  1.79314458,  3.11861682,  0.        ,  0.        ,\n",
       "        0.88007236,  0.        ,  3.77942848,  2.362957  ,  0.        ,\n",
       "        2.31187654,  2.44758272,  0.        ], dtype=float32)"
      ]
     },
     "execution_count": 177,
     "metadata": {},
     "output_type": "execute_result"
    }
   ],
   "source": [
    "r[0][0][0]"
   ]
  },
  {
   "cell_type": "code",
   "execution_count": null,
   "metadata": {},
   "outputs": [],
   "source": []
  },
  {
   "cell_type": "code",
   "execution_count": null,
   "metadata": {},
   "outputs": [],
   "source": []
  },
  {
   "cell_type": "code",
   "execution_count": 34,
   "metadata": {},
   "outputs": [],
   "source": [
    "import innvestigate"
   ]
  },
  {
   "cell_type": "code",
   "execution_count": 35,
   "metadata": {},
   "outputs": [],
   "source": [
    "# analyzer = innvestigate.create_analyzer(\"lrp.z\", model, allow_lambda_layers = True)\n",
    "analyzer = innvestigate.create_analyzer(\"lrp.z\", model, allow_lambda_layers = True)"
   ]
  },
  {
   "cell_type": "code",
   "execution_count": 36,
   "metadata": {},
   "outputs": [
    {
     "data": {
      "text/plain": [
       "(24, 54)"
      ]
     },
     "execution_count": 36,
     "metadata": {},
     "output_type": "execute_result"
    }
   ],
   "source": [
    "np.shape(sd_m[0])"
   ]
  },
  {
   "cell_type": "code",
   "execution_count": 37,
   "metadata": {},
   "outputs": [],
   "source": [
    "# w=wea_data[['Conditions','Wind Dir','Quality evaluation']]\n",
    "# wea=wea_data[['Dew Point','Humidity','Pressure','Temp.','Wind Speed']]\n",
    "\n",
    "tem=sd_m[0].reshape(1,24,54)\n",
    "tem1=ge_m[0].reshape(1,24, 16, 16, 3)\n",
    "# tem2=time_m[0].reshape(1,24, 3)\n",
    "tem3=w_m[0].reshape(1,24, 3)\n",
    "tem4=wea_m[0].reshape(1,24,5)"
   ]
  },
  {
   "cell_type": "code",
   "execution_count": 38,
   "metadata": {},
   "outputs": [],
   "source": [
    "# analysis = analyzer.analyze([tem2,tem3,tem4,tem1,tem])\n",
    "analysis = analyzer.analyze([tem3,tem4,tem1,tem])\n"
   ]
  },
  {
   "cell_type": "code",
   "execution_count": 56,
   "metadata": {},
   "outputs": [],
   "source": [
    "a=analysis[0]"
   ]
  },
  {
   "cell_type": "code",
   "execution_count": 57,
   "metadata": {},
   "outputs": [
    {
     "data": {
      "text/plain": [
       "(1, 24, 3)"
      ]
     },
     "execution_count": 57,
     "metadata": {},
     "output_type": "execute_result"
    }
   ],
   "source": [
    "a.shape"
   ]
  },
  {
   "cell_type": "code",
   "execution_count": 58,
   "metadata": {},
   "outputs": [
    {
     "data": {
      "text/plain": [
       "array([False, False,  True], dtype=bool)"
      ]
     },
     "execution_count": 58,
     "metadata": {},
     "output_type": "execute_result"
    }
   ],
   "source": [
    "np.asarray(a.shape) == 3"
   ]
  },
  {
   "cell_type": "code",
   "execution_count": 59,
   "metadata": {},
   "outputs": [
    {
     "data": {
      "text/plain": [
       "2"
      ]
     },
     "execution_count": 59,
     "metadata": {},
     "output_type": "execute_result"
    }
   ],
   "source": [
    "np.argmax(np.asarray(a.shape) == 3)"
   ]
  },
  {
   "cell_type": "code",
   "execution_count": 60,
   "metadata": {},
   "outputs": [],
   "source": [
    "a = a.sum(axis=np.argmax(np.asarray(a.shape) == 1))"
   ]
  },
  {
   "cell_type": "code",
   "execution_count": 61,
   "metadata": {},
   "outputs": [
    {
     "data": {
      "text/plain": [
       "array([[ -1.04182623e-02,   5.28117418e+00,  -6.08038545e-01],\n",
       "       [ -1.67054217e-03,  -6.72920942e+00,   3.37233245e-01],\n",
       "       [ -9.52232629e-04,  -5.78067875e+00,   2.92808175e-01],\n",
       "       [ -6.56509772e-03,   7.09324884e+00,  -6.49740934e-01],\n",
       "       [ -7.85826705e-04,   9.72558689e+00,  -6.61975443e-01],\n",
       "       [ -7.22478796e-03,   8.13113022e+00,  -7.27059603e-01],\n",
       "       [  1.74690038e-03,  -4.89258862e+00,   3.05374265e-01],\n",
       "       [ -1.50623918e-03,   9.49139023e+00,  -7.03078747e-01],\n",
       "       [ -2.57897098e-03,  -6.49780273e+00,   3.20141435e-01],\n",
       "       [ -2.61562131e-03,  -6.46373034e+00,   3.25504422e-01],\n",
       "       [ -1.42688304e-03,  -6.14520836e+00,   3.09810936e-01],\n",
       "       [  5.41683286e-04,  -5.97015381e+00,   3.53190660e-01],\n",
       "       [  1.81923062e-03,  -6.02963924e+00,   3.69686753e-01],\n",
       "       [  2.18932703e-03,  -5.72592258e+00,   3.54393303e-01],\n",
       "       [  2.76733423e-03,  -5.81792450e+00,   3.56465459e-01],\n",
       "       [  4.10019327e-03,  -5.59879208e+00,   3.71996164e-01],\n",
       "       [  2.04356480e-03,   1.02219610e+01,  -6.51565313e-01],\n",
       "       [  4.45167255e-03,   1.08621178e+01,  -6.44230127e-01],\n",
       "       [  5.64666092e-03,   1.13804045e+01,  -6.55826747e-01],\n",
       "       [  8.90543312e-03,   1.19541645e+01,  -6.27087593e-01],\n",
       "       [  1.31578427e-02,   1.35288191e+01,  -6.42695308e-01],\n",
       "       [  1.46457665e-02,   1.46444130e+01,  -6.76886201e-01],\n",
       "       [  2.24905051e-02,   1.83966446e+01,  -7.48915911e-01],\n",
       "       [  2.60875020e-02,   2.01569443e+01,  -7.84941554e-01]], dtype=float32)"
      ]
     },
     "execution_count": 61,
     "metadata": {},
     "output_type": "execute_result"
    }
   ],
   "source": [
    "a"
   ]
  },
  {
   "cell_type": "code",
   "execution_count": 66,
   "metadata": {},
   "outputs": [
    {
     "data": {
      "text/plain": [
       "array([  0.0260875 ,  20.15694427,   0.78494155], dtype=float32)"
      ]
     },
     "execution_count": 66,
     "metadata": {},
     "output_type": "execute_result"
    }
   ],
   "source": [
    "np.max(np.abs(a),axis=0)"
   ]
  },
  {
   "cell_type": "code",
   "execution_count": 67,
   "metadata": {},
   "outputs": [],
   "source": [
    "\n",
    "# a = a.sum(axis=np.argmax(np.asarray(a.shape) == 3))\n",
    "a /= np.max(np.abs(a),axis=0)"
   ]
  },
  {
   "cell_type": "code",
   "execution_count": 69,
   "metadata": {},
   "outputs": [
    {
     "data": {
      "text/plain": [
       "array([[-0.39935836,  0.26200271, -0.77462906],\n",
       "       [-0.06403611, -0.33384076,  0.42962849],\n",
       "       [-0.03650149, -0.28678349,  0.37303182],\n",
       "       [-0.25165683,  0.35190099, -0.82775706],\n",
       "       [-0.03012273,  0.48249313, -0.84334362],\n",
       "       [-0.27694443,  0.403391  , -0.92625952],\n",
       "       [ 0.06696311, -0.24272472,  0.38904077],\n",
       "       [-0.05773796,  0.47087446, -0.89570838],\n",
       "       [-0.09885849, -0.32236052,  0.40785384],\n",
       "       [-0.10026339, -0.32067016,  0.4146862 ],\n",
       "       [-0.05469604, -0.30486804,  0.39469299],\n",
       "       [ 0.02076409, -0.29618347,  0.44995791],\n",
       "       [ 0.06973571, -0.29913458,  0.47097361],\n",
       "       [ 0.08392245, -0.284067  ,  0.45149004],\n",
       "       [ 0.10607893, -0.28863126,  0.45412993],\n",
       "       [ 0.15717079, -0.27775997,  0.47391576],\n",
       "       [ 0.07833501,  0.50711858, -0.83008128],\n",
       "       [ 0.17064388,  0.53887719, -0.82073641],\n",
       "       [ 0.21645081,  0.56458974, -0.83551031],\n",
       "       [ 0.34136781,  0.59305441, -0.79889721],\n",
       "       [ 0.50437343,  0.67117411, -0.81878108],\n",
       "       [ 0.56140929,  0.72651953, -0.86233962],\n",
       "       [ 0.86211801,  0.91267031, -0.95410407],\n",
       "       [ 1.        ,  1.        , -1.        ]], dtype=float32)"
      ]
     },
     "execution_count": 69,
     "metadata": {},
     "output_type": "execute_result"
    }
   ],
   "source": [
    "a"
   ]
  },
  {
   "cell_type": "code",
   "execution_count": 72,
   "metadata": {},
   "outputs": [
    {
     "data": {
      "text/plain": [
       "(24, 3)"
      ]
     },
     "execution_count": 72,
     "metadata": {},
     "output_type": "execute_result"
    }
   ],
   "source": [
    "np.shape(a)"
   ]
  },
  {
   "cell_type": "code",
   "execution_count": 73,
   "metadata": {},
   "outputs": [
    {
     "data": {
      "image/png": "[encoded data removed]",
      "text/plain": [
       "<Figure size 432x288 with 2 Axes>"
      ]
     },
     "metadata": {
      "needs_background": "light"
     },
     "output_type": "display_data"
    }
   ],
   "source": [
    "plt.imshow(a, cmap=\"seismic\", clim=(-1, 1))\n",
    "plt.colorbar()\n",
    "plt.show()"
   ]
  },
  {
   "cell_type": "code",
   "execution_count": null,
   "metadata": {},
   "outputs": [],
   "source": []
  },
  {
   "cell_type": "code",
   "execution_count": null,
   "metadata": {},
   "outputs": [],
   "source": []
  },
  {
   "cell_type": "code",
   "execution_count": 50,
   "metadata": {
    "collapsed": true
   },
   "outputs": [
    {
     "data": {
      "text/plain": [
       "array([[ -5.16857253e-04,   2.62002707e-01,  -3.01652141e-02],\n",
       "       [ -8.28767588e-05,  -3.33840758e-01,   1.67303756e-02],\n",
       "       [ -4.72409229e-05,  -2.86783487e-01,   1.45264165e-02],\n",
       "       [ -3.25699046e-04,   3.51900995e-01,  -3.22340988e-02],\n",
       "       [ -3.89854067e-05,   4.82493132e-01,  -3.28410603e-02],\n",
       "       [ -3.58426740e-04,   4.03391004e-01,  -3.60699333e-02],\n",
       "       [  8.66649425e-05,  -2.42724717e-01,   1.51498290e-02],\n",
       "       [ -7.47255690e-05,   4.70874459e-01,  -3.48802246e-02],\n",
       "       [ -1.27944542e-04,  -3.22360516e-01,   1.58824380e-02],\n",
       "       [ -1.29762790e-04,  -3.20670158e-01,   1.61485001e-02],\n",
       "       [ -7.07886575e-05,  -3.04868042e-01,   1.53699359e-02],\n",
       "       [  2.68732838e-05,  -2.96183467e-01,   1.75220333e-02],\n",
       "       [  9.02532920e-05,  -2.99134582e-01,   1.83404163e-02],\n",
       "       [  1.08614033e-04,  -2.84067005e-01,   1.75816976e-02],\n",
       "       [  1.37289375e-04,  -2.88631260e-01,   1.76844988e-02],\n",
       "       [  2.03413438e-04,  -2.77759969e-01,   1.84549876e-02],\n",
       "       [  1.01382670e-04,   5.07118583e-01,  -3.23246084e-02],\n",
       "       [  2.20850561e-04,   5.38877189e-01,  -3.19607034e-02],\n",
       "       [  2.80134758e-04,   5.64589739e-01,  -3.25360186e-02],\n",
       "       [  4.41804732e-04,   5.93054414e-01,  -3.11102513e-02],\n",
       "       [  6.52769697e-04,   6.71174109e-01,  -3.18845622e-02],\n",
       "       [  7.26586615e-04,   7.26519525e-01,  -3.35807949e-02],\n",
       "       [  1.11576961e-03,   9.12670314e-01,  -3.71542387e-02],\n",
       "       [  1.29421905e-03,   1.00000000e+00,  -3.89414951e-02]], dtype=float32)"
      ]
     },
     "execution_count": 50,
     "metadata": {},
     "output_type": "execute_result"
    }
   ],
   "source": [
    "a"
   ]
  },
  {
   "cell_type": "code",
   "execution_count": 51,
   "metadata": {},
   "outputs": [],
   "source": [
    "from IPython.display import display, HTML\n",
    "from heatmap import html_heatmap"
   ]
  },
  {
   "cell_type": "code",
   "execution_count": 204,
   "metadata": {},
   "outputs": [
    {
     "data": {
      "text/plain": [
       "<matplotlib.image.AxesImage at 0x1c120908710>"
      ]
     },
     "execution_count": 204,
     "metadata": {},
     "output_type": "execute_result"
    },
    {
     "data": {
      "image/png": "[encoded data removed]",
      "text/plain": [
       "<Figure size 432x288 with 1 Axes>"
      ]
     },
     "metadata": {
      "needs_background": "light"
     },
     "output_type": "display_data"
    }
   ],
   "source": [
    "a0=analysis[0]\n",
    "a0 = a0.sum(axis=np.argmax(np.asarray(a0.shape) == 3))\n",
    "a0 /= np.max(np.abs(a0))\n",
    "plt.imshow(a0, cmap=\"seismic\", clim=(-1, 1))"
   ]
  },
  {
   "cell_type": "code",
   "execution_count": 77,
   "metadata": {},
   "outputs": [
    {
     "data": {
      "text/plain": [
       "(24, 5)"
      ]
     },
     "execution_count": 77,
     "metadata": {},
     "output_type": "execute_result"
    }
   ],
   "source": [
    "a1.shape"
   ]
  },
  {
   "cell_type": "code",
   "execution_count": 76,
   "metadata": {},
   "outputs": [
    {
     "data": {
      "text/plain": [
       "array([False, False], dtype=bool)"
      ]
     },
     "execution_count": 76,
     "metadata": {},
     "output_type": "execute_result"
    }
   ],
   "source": [
    "np.asarray(a1.shape) == 3"
   ]
  },
  {
   "cell_type": "code",
   "execution_count": 80,
   "metadata": {},
   "outputs": [
    {
     "data": {
      "text/plain": [
       "(1, 24, 5)"
      ]
     },
     "execution_count": 80,
     "metadata": {},
     "output_type": "execute_result"
    }
   ],
   "source": [
    "np.shape(a1)"
   ]
  },
  {
   "cell_type": "code",
   "execution_count": 86,
   "metadata": {},
   "outputs": [
    {
     "data": {
      "text/plain": [
       "array([[[-1.,  1., -1., -1., -1.],\n",
       "        [ 1., -1., -1.,  1.,  1.],\n",
       "        [ 1., -1., -1.,  1.,  1.],\n",
       "        [-1.,  1., -1., -1., -1.],\n",
       "        [-1.,  1., -1., -1., -1.],\n",
       "        [-1.,  1., -1., -1., -1.],\n",
       "        [ 1., -1., -1.,  1.,  1.],\n",
       "        [-1.,  1., -1., -1., -1.],\n",
       "        [ 1., -1., -1.,  1.,  1.],\n",
       "        [ 1., -1., -1.,  1.,  1.],\n",
       "        [ 1., -1., -1.,  1.,  1.],\n",
       "        [ 1., -1., -1.,  1.,  1.],\n",
       "        [ 1., -1., -1.,  1.,  1.],\n",
       "        [ 1., -1., -1.,  1.,  1.],\n",
       "        [ 1., -1., -1.,  1.,  1.],\n",
       "        [ 1., -1., -1.,  1.,  1.],\n",
       "        [-1.,  1., -1., -1., -1.],\n",
       "        [-1.,  1., -1., -1., -1.],\n",
       "        [-1.,  1., -1., -1., -1.],\n",
       "        [-1.,  1., -1., -1., -1.],\n",
       "        [-1.,  1., -1., -1., -1.],\n",
       "        [-1.,  1., -1., -1., -1.],\n",
       "        [-1.,  1., -1., -1., -1.],\n",
       "        [-1.,  1., -1., -1., -1.]]], dtype=float32)"
      ]
     },
     "execution_count": 86,
     "metadata": {},
     "output_type": "execute_result"
    }
   ],
   "source": [
    "analysis[1]"
   ]
  },
  {
   "cell_type": "code",
   "execution_count": 87,
   "metadata": {},
   "outputs": [
    {
     "data": {
      "text/plain": [
       "<matplotlib.image.AxesImage at 0x1888bc4de48>"
      ]
     },
     "execution_count": 87,
     "metadata": {},
     "output_type": "execute_result"
    },
    {
     "data": {
      "image/png": "[encoded data removed]",
      "text/plain": [
       "<Figure size 432x288 with 1 Axes>"
      ]
     },
     "metadata": {
      "needs_background": "light"
     },
     "output_type": "display_data"
    }
   ],
   "source": [
    "a1=analysis[1]\n",
    "a1 = a1.sum(axis=np.argmax(np.asarray(a1.shape) == 1))\n",
    "a1 /= np.max(np.abs(a1),axis=0)\n",
    "plt.imshow(a1, cmap=\"seismic\", clim=(-1, 1))"
   ]
  },
  {
   "cell_type": "code",
   "execution_count": 184,
   "metadata": {},
   "outputs": [
    {
     "data": {
      "text/plain": [
       "(16, 16, 3)"
      ]
     },
     "execution_count": 184,
     "metadata": {},
     "output_type": "execute_result"
    }
   ],
   "source": [
    "temp=analysis[2].sum(axis=np.argmax(np.asarray(analysis[2].shape) == 24))/ np.max(np.abs(analysis[2]))\n",
    "# np.shape(temp[0].reshape( 3,16, 16)[0])\n",
    "np.shape(temp[0])"
   ]
  },
  {
   "cell_type": "code",
   "execution_count": 163,
   "metadata": {},
   "outputs": [
    {
     "data": {
      "text/plain": [
       "0.00014808623"
      ]
     },
     "execution_count": 163,
     "metadata": {},
     "output_type": "execute_result"
    }
   ],
   "source": [
    "np.max(np.abs(analysis[2]))"
   ]
  },
  {
   "cell_type": "code",
   "execution_count": 164,
   "metadata": {
    "collapsed": true
   },
   "outputs": [
    {
     "data": {
      "text/plain": [
       "array([[ -2.30955146e-03,   7.08404754e-04,  -6.77420059e-04,\n",
       "         -5.31641440e-03,   1.77428150e-03,  -1.27566198e-03,\n",
       "         -5.78096928e-03,   1.91679865e-03,  -1.41191145e-03,\n",
       "         -6.38575014e-03,   2.13121623e-03,  -1.53223274e-03,\n",
       "         -4.71878191e-03,   1.61989254e-03,  -1.04331074e-03,\n",
       "         -1.21665925e-01],\n",
       "       [  3.73870470e-02,  -3.55497859e-02,  -1.13603197e-01,\n",
       "          4.23216447e-02,  -1.85526907e-02,   9.87947062e-02,\n",
       "         -3.29720043e-02,   2.37053782e-02,   5.58360815e-02,\n",
       "         -1.97954308e-02,   1.11051984e-02,  -8.54035665e-04,\n",
       "          2.64445902e-04,  -2.45569507e-04,  -1.73314777e-03,\n",
       "          5.81467466e-04],\n",
       "       [ -4.09852684e-04,   1.18807727e-03,  -3.21553904e-04,\n",
       "          4.33138863e-04,  -3.32061425e-02,   1.00555345e-02,\n",
       "         -9.99584794e-03,  -4.78873551e-02,   1.69222169e-02,\n",
       "         -9.63333249e-03,  -1.45979191e-03,   5.17480599e-04,\n",
       "         -2.90440454e-04,   0.00000000e+00,   0.00000000e+00,\n",
       "          0.00000000e+00],\n",
       "       [ -4.49409569e-03,   1.28379045e-03,  -3.46901617e-03,\n",
       "         -2.55082875e-01,   7.34003782e-02,  -7.91916847e-02,\n",
       "         -8.14480305e-01,   2.60399163e-01,  -2.13211015e-01,\n",
       "         -6.37802720e-01,   2.19888493e-01,  -1.32927328e-01,\n",
       "         -5.01178810e-03,  -4.20829980e-03,  -5.17048826e-03,\n",
       "         -1.15961164e-01],\n",
       "       [  2.83659212e-02,  -1.47041753e-01,   6.85749948e-02,\n",
       "         -2.73719728e-01,  -7.02373460e-02,  -3.38348538e-01,\n",
       "          1.96600467e-01,  -1.22993058e-02,  -4.85138774e-01,\n",
       "          2.62237400e-01,  -5.11679538e-02,  -2.59325909e-03,\n",
       "          7.27549836e-04,  -1.45235122e-03,  -2.16707122e-03,\n",
       "         -1.01114076e-03],\n",
       "       [ -2.04906845e-03,   5.73274505e-04,  -1.50659890e-03,\n",
       "          1.44702487e-03,  -7.13611916e-02,   2.48737447e-02,\n",
       "         -5.20363785e-02,  -3.91825996e-02,  -6.18383400e-02,\n",
       "         -4.71026339e-02,  -1.15496304e-03,  -1.94969331e-03,\n",
       "         -1.41770928e-03,   0.00000000e+00,   0.00000000e+00,\n",
       "          0.00000000e+00],\n",
       "       [  8.21072012e-02,  -2.52791531e-02,   2.19319835e-02,\n",
       "         -1.12836450e-01,   1.42108956e-02,  -2.79262543e-01,\n",
       "         -3.77617061e-01,  -4.35308754e-01,  -8.37202311e-01,\n",
       "          1.21236488e-01,  -1.06662905e+00,  -4.94298875e-01,\n",
       "         -8.26922432e-03,  -3.15608666e-03,  -6.02108333e-03,\n",
       "          1.96917534e-01],\n",
       "       [ -6.25867844e-02,   5.59250377e-02,   3.01531345e-01,\n",
       "         -1.07520893e-01,   5.94021976e-02,  -6.72642648e-01,\n",
       "          1.81955472e-01,  -5.44009924e-01,  -6.67881727e-01,\n",
       "         -5.39813876e-01,  -5.43381155e-01,  -3.48977149e-01,\n",
       "          1.21833585e-01,  -7.13370219e-02,  -4.78462037e-03,\n",
       "         -1.01425998e-04],\n",
       "       [ -2.60579423e-03,   4.68104742e-02,  -1.57788359e-02,\n",
       "          1.24716265e-02,   2.81108338e-02,  -1.45802610e-02,\n",
       "         -3.19340266e-02,   5.33875776e-03,  -7.76371285e-02,\n",
       "         -3.82770374e-02,  -1.59897411e-03,  -1.79229502e-03,\n",
       "         -1.50604465e-03,   0.00000000e+00,   0.00000000e+00,\n",
       "          0.00000000e+00],\n",
       "       [  7.84753785e-02,  -2.06157248e-02,   1.01517573e-01,\n",
       "          3.66815217e-02,   1.67834535e-01,   1.15181349e-01,\n",
       "          5.19851632e-02,   1.00105740e-02,   2.08630711e-02,\n",
       "         -1.07963197e-02,  -4.29183850e-03,  -1.00363996e-02,\n",
       "         -1.00668138e-02,  -4.50021261e-03,  -9.47321020e-03,\n",
       "         -6.24456108e-02],\n",
       "       [  2.07444392e-02,   1.66580141e-01,  -1.95476875e-01,\n",
       "          5.04625201e-01,   2.31075913e-01,  -3.56730551e-01,\n",
       "          1.72382876e-01,  -4.35291708e-01,  -3.73168588e-01,\n",
       "         -6.98958516e-01,  -7.52616346e-01,   6.40478432e-02,\n",
       "         -5.82073450e-01,  -2.71563739e-01,  -8.04120526e-02,\n",
       "          1.94428377e-02],\n",
       "       [ -2.70068645e-02,  -2.01496750e-01,   6.63102195e-02,\n",
       "         -5.50337834e-03,  -2.08534583e-01,   1.76126018e-01,\n",
       "          8.44209921e-03,  -4.35165828e-03,  -1.72990805e-03,\n",
       "         -4.04534908e-03,  -1.50624732e-03,  -2.54274393e-03,\n",
       "         -1.84895180e-03,   0.00000000e+00,   0.00000000e+00,\n",
       "          0.00000000e+00],\n",
       "       [ -4.51023597e-03,   1.33211294e-03,  -2.48832279e-03,\n",
       "          3.82938907e-02,  -1.22116366e-02,   5.51921166e-02,\n",
       "         -2.26778202e-02,   1.09101251e-01,   4.27054651e-02,\n",
       "         -6.60208380e-03,  -5.69164474e-03,  -9.02995467e-03,\n",
       "         -6.91742124e-03,  -5.57952281e-03,  -8.77333153e-03,\n",
       "         -3.15298736e-01],\n",
       "       [  7.97290653e-02,  -3.28583807e-01,  -3.80123556e-02,\n",
       "         -5.06985962e-01,  -1.37365222e-01,  -3.91856968e-01,\n",
       "          4.30675477e-01,  -9.91190448e-02,   4.06211838e-02,\n",
       "         -3.76315564e-01,  -1.76721349e-01,  -4.98337671e-03,\n",
       "         -3.82057088e-03,  -6.36735000e-03,  -7.38410428e-02,\n",
       "          1.42553002e-02],\n",
       "       [ -9.57444310e-02,  -1.11117423e-01,  -1.34568527e-01,\n",
       "         -2.53600299e-01,  -2.91799549e-02,  -3.04547131e-01,\n",
       "         -1.71294346e-01,  -1.03424251e-01,   3.34311426e-02,\n",
       "         -2.36766003e-02,  -4.03064623e-04,  -2.93380162e-03,\n",
       "         -1.62945816e-03,   0.00000000e+00,   0.00000000e+00,\n",
       "          0.00000000e+00],\n",
       "       [ -5.29970881e-03,   1.48919807e-03,  -4.65252576e-03,\n",
       "         -8.37193709e-03,  -4.47698496e-03,  -8.89889151e-03,\n",
       "         -6.94039091e-03,  -4.78077587e-03,  -6.91852672e-03,\n",
       "         -5.37387561e-03,  -2.13621533e-03,  -4.99558635e-03,\n",
       "         -6.67787204e-03,  -1.76377315e-03,  -6.00216677e-03,\n",
       "         -7.73289055e-02]], dtype=float32)"
      ]
     },
     "execution_count": 164,
     "metadata": {},
     "output_type": "execute_result"
    }
   ],
   "source": [
    "temp[0].reshape( 3,16, 16)[0]"
   ]
  },
  {
   "cell_type": "code",
   "execution_count": 88,
   "metadata": {},
   "outputs": [
    {
     "ename": "ValueError",
     "evalue": "cannot reshape array of size 6144 into shape (3,16,16)",
     "output_type": "error",
     "traceback": [
      "\u001b[1;31m---------------------------------------------------------------------------\u001b[0m",
      "\u001b[1;31mValueError\u001b[0m                                Traceback (most recent call last)",
      "\u001b[1;32m<ipython-input-88-dc320b48d07a>\u001b[0m in \u001b[0;36m<module>\u001b[1;34m()\u001b[0m\n\u001b[0;32m      2\u001b[0m \u001b[0ma2\u001b[0m \u001b[1;33m=\u001b[0m \u001b[0ma2\u001b[0m\u001b[1;33m.\u001b[0m\u001b[0msum\u001b[0m\u001b[1;33m(\u001b[0m\u001b[0maxis\u001b[0m\u001b[1;33m=\u001b[0m\u001b[0mnp\u001b[0m\u001b[1;33m.\u001b[0m\u001b[0margmax\u001b[0m\u001b[1;33m(\u001b[0m\u001b[0mnp\u001b[0m\u001b[1;33m.\u001b[0m\u001b[0masarray\u001b[0m\u001b[1;33m(\u001b[0m\u001b[0ma2\u001b[0m\u001b[1;33m.\u001b[0m\u001b[0mshape\u001b[0m\u001b[1;33m)\u001b[0m \u001b[1;33m==\u001b[0m \u001b[1;36m3\u001b[0m\u001b[1;33m)\u001b[0m\u001b[1;33m)\u001b[0m\u001b[1;33m\u001b[0m\u001b[0m\n\u001b[0;32m      3\u001b[0m \u001b[0ma2\u001b[0m \u001b[1;33m/=\u001b[0m \u001b[0mnp\u001b[0m\u001b[1;33m.\u001b[0m\u001b[0mmax\u001b[0m\u001b[1;33m(\u001b[0m\u001b[0mnp\u001b[0m\u001b[1;33m.\u001b[0m\u001b[0mabs\u001b[0m\u001b[1;33m(\u001b[0m\u001b[0ma2\u001b[0m\u001b[1;33m)\u001b[0m\u001b[1;33m)\u001b[0m\u001b[1;33m\u001b[0m\u001b[0m\n\u001b[1;32m----> 4\u001b[1;33m \u001b[0mplt\u001b[0m\u001b[1;33m.\u001b[0m\u001b[0mimshow\u001b[0m\u001b[1;33m(\u001b[0m\u001b[0ma2\u001b[0m\u001b[1;33m[\u001b[0m\u001b[1;36m0\u001b[0m\u001b[1;33m]\u001b[0m\u001b[1;33m.\u001b[0m\u001b[0mreshape\u001b[0m\u001b[1;33m(\u001b[0m \u001b[1;36m3\u001b[0m\u001b[1;33m,\u001b[0m\u001b[1;36m16\u001b[0m\u001b[1;33m,\u001b[0m \u001b[1;36m16\u001b[0m\u001b[1;33m)\u001b[0m\u001b[1;33m[\u001b[0m\u001b[1;36m2\u001b[0m\u001b[1;33m]\u001b[0m\u001b[1;33m,\u001b[0m \u001b[0mcmap\u001b[0m\u001b[1;33m=\u001b[0m\u001b[1;34m\"seismic\"\u001b[0m\u001b[1;33m,\u001b[0m \u001b[0mclim\u001b[0m\u001b[1;33m=\u001b[0m\u001b[1;33m(\u001b[0m\u001b[1;33m-\u001b[0m\u001b[1;36m1\u001b[0m\u001b[1;33m,\u001b[0m \u001b[1;36m1\u001b[0m\u001b[1;33m)\u001b[0m\u001b[1;33m)\u001b[0m\u001b[1;33m\u001b[0m\u001b[0m\n\u001b[0m",
      "\u001b[1;31mValueError\u001b[0m: cannot reshape array of size 6144 into shape (3,16,16)"
     ]
    }
   ],
   "source": [
    "a2=analysis[2]\n",
    "a2 = a2.sum(axis=np.argmax(np.asarray(a2.shape) == 3))\n",
    "a2 /= np.max(np.abs(a2))\n",
    "plt.imshow(a2[0].reshape( 3,16, 16)[2], cmap=\"seismic\", clim=(-1, 1))"
   ]
  },
  {
   "cell_type": "code",
   "execution_count": 89,
   "metadata": {},
   "outputs": [],
   "source": [
    "a3=analysis[2]\n",
    "a3 = a3.sum(axis=np.argmax(np.asarray(a3.shape) == 3))\n",
    "a3 /= np.max(np.abs(a3))"
   ]
  },
  {
   "cell_type": "code",
   "execution_count": 90,
   "metadata": {},
   "outputs": [
    {
     "data": {
      "text/plain": [
       "<matplotlib.image.AxesImage at 0x1888bca26a0>"
      ]
     },
     "execution_count": 90,
     "metadata": {},
     "output_type": "execute_result"
    },
    {
     "data": {
      "image/png": "[encoded data removed]",
      "text/plain": [
       "<Figure size 432x288 with 1 Axes>"
      ]
     },
     "metadata": {
      "needs_background": "light"
     },
     "output_type": "display_data"
    }
   ],
   "source": [
    "plt.imshow(a3[0][12], cmap=\"seismic\", clim=(-1, 1))"
   ]
  },
  {
   "cell_type": "code",
   "execution_count": 235,
   "metadata": {},
   "outputs": [],
   "source": [
    "np.shape(ge_m[0][0])\n",
    "aaaa=tem1[0][0]\n",
    "aaaa /= np.max(np.abs(tem1[0][0]))"
   ]
  },
  {
   "cell_type": "code",
   "execution_count": 236,
   "metadata": {},
   "outputs": [
    {
     "data": {
      "text/plain": [
       "<matplotlib.image.AxesImage at 0x1c12ca69128>"
      ]
     },
     "execution_count": 236,
     "metadata": {},
     "output_type": "execute_result"
    },
    {
     "data": {
      "image/png": "[encoded data removed]",
      "text/plain": [
       "<Figure size 432x288 with 1 Axes>"
      ]
     },
     "metadata": {
      "needs_background": "light"
     },
     "output_type": "display_data"
    }
   ],
   "source": [
    "plt.imshow(aaaa.reshape( 3,16, 16)[0], cmap=\"seismic\", clim=(-1, 1))"
   ]
  },
  {
   "cell_type": "code",
   "execution_count": 99,
   "metadata": {},
   "outputs": [
    {
     "data": {
      "text/plain": [
       "(1, 24, 16, 16, 3)"
      ]
     },
     "execution_count": 99,
     "metadata": {},
     "output_type": "execute_result"
    }
   ],
   "source": [
    "np.shape(analysis[2])"
   ]
  },
  {
   "cell_type": "code",
   "execution_count": 103,
   "metadata": {},
   "outputs": [
    {
     "data": {
      "text/plain": [
       "array([[[  1.25297345e-02,   2.16839537e-02,   3.18921841e-04,\n",
       "           1.63942166e-02,   7.71892164e-03,   1.57095924e-01,\n",
       "           7.85982385e-02,   2.35570632e-02,   4.31323871e-02,\n",
       "           7.82308504e-02,   2.95233522e-02,   3.75895053e-02,\n",
       "           7.97957554e-03,   3.04818824e-02,   1.28684044e-02,\n",
       "           0.00000000e+00],\n",
       "        [  1.17692411e-01,   1.03894301e-01,   1.28580891e-02,\n",
       "           1.62599161e-02,   6.78224629e-03,   5.48432618e-02,\n",
       "           8.63304362e-02,   3.86476032e-02,   9.78965983e-02,\n",
       "           8.71954635e-02,   5.84455095e-02,   1.84044298e-02,\n",
       "           6.59226403e-02,   1.88753486e-01,   1.39124826e-01,\n",
       "           0.00000000e+00],\n",
       "        [  5.84399067e-02,   9.71426070e-02,   1.49832621e-01,\n",
       "           1.02954455e-01,   2.67310292e-01,   4.71843541e-01,\n",
       "           2.29689524e-01,   3.33428085e-02,   8.57935324e-02,\n",
       "           2.91456819e-01,   5.13640106e-01,   3.86272132e-01,\n",
       "           4.68501225e-02,   7.80440792e-02,   1.12184308e-01,\n",
       "           0.00000000e+00],\n",
       "        [  6.92133280e-03,   3.02249826e-02,   3.97706032e-02,\n",
       "           1.98700458e-01,   2.04990327e-01,   4.68184143e-01,\n",
       "           4.03369129e-01,   2.06593163e-02,   6.20716438e-02,\n",
       "           1.44095480e-01,   2.76616633e-01,   1.00000000e+00,\n",
       "           4.49067026e-01,   1.84050232e-01,   8.40727314e-02,\n",
       "           0.00000000e+00],\n",
       "        [  6.72304630e-03,   4.22962047e-02,   2.37968147e-01,\n",
       "           1.03369869e-01,   4.31685187e-02,   5.48906624e-02,\n",
       "           1.45263404e-01,   2.47708493e-04,   1.84864979e-02,\n",
       "           6.47022128e-02,   7.80672207e-02,   1.26929641e-01,\n",
       "           2.33131632e-01,   4.00938615e-02,   8.06566998e-02,\n",
       "           0.00000000e+00],\n",
       "        [  8.64517037e-03,   1.48530481e-02,   7.80703574e-02,\n",
       "           1.45311803e-01,   4.06164005e-02,   8.46599191e-02,\n",
       "           6.11308813e-02,   2.37485431e-02,   8.69122706e-03,\n",
       "           4.20057364e-02,   4.89078797e-02,   1.13076068e-01,\n",
       "           2.47026101e-01,   1.99331418e-01,   3.18132564e-02,\n",
       "           0.00000000e+00],\n",
       "        [  3.61317515e-01,   6.29404485e-01,   2.80999184e-01,\n",
       "           4.89559919e-02,   1.32481549e-02,   3.54802161e-02,\n",
       "           4.00451094e-01,   3.07257086e-01,   4.13466617e-02,\n",
       "           6.43651262e-02,   4.54746410e-02,   1.43365860e-01,\n",
       "           5.76816313e-02,   1.48341492e-01,   2.33345721e-02,\n",
       "           0.00000000e+00],\n",
       "        [  1.84389845e-01,   1.91290587e-01,   4.80950236e-01,\n",
       "           2.10777566e-01,   3.48459370e-02,   6.38848776e-03,\n",
       "           1.49365202e-01,   8.36479962e-01,   3.55549783e-01,\n",
       "           1.71355948e-01,   1.75179258e-01,   3.78603414e-02,\n",
       "           9.37400609e-02,   3.24220806e-02,   3.62714678e-02,\n",
       "           0.00000000e+00],\n",
       "        [  4.67788130e-02,   4.74513210e-02,   1.27649322e-01,\n",
       "           1.19368657e-01,   2.58842390e-02,   1.83353156e-01,\n",
       "           3.38639319e-01,   2.05368906e-01,   2.10399061e-01,\n",
       "           4.11973566e-01,   5.10926902e-01,   6.58596754e-01,\n",
       "           2.53390312e-01,   7.87234772e-03,   1.70473214e-02,\n",
       "           0.00000000e+00],\n",
       "        [  1.83276907e-01,   3.37397486e-01,   6.79011717e-02,\n",
       "           7.61111379e-02,   1.48389265e-01,   7.82963485e-02,\n",
       "           2.35944018e-01,   1.69898778e-01,   1.06103353e-01,\n",
       "           1.18220814e-01,   3.43532741e-01,   2.77108252e-01,\n",
       "           2.27821410e-01,   7.97386561e-03,   6.14789966e-03,\n",
       "           0.00000000e+00],\n",
       "        [  1.00918718e-01,   3.32986563e-02,   1.60709560e-01,\n",
       "           8.94338638e-02,   2.58754462e-01,   1.38266876e-01,\n",
       "           2.27429971e-01,   2.49053866e-01,   1.77478027e-02,\n",
       "           1.11562237e-02,   2.03616545e-01,   1.60187632e-01,\n",
       "           4.91039008e-02,   3.75435017e-02,   1.86311845e-02,\n",
       "           0.00000000e+00],\n",
       "        [  1.64464355e-01,   3.02765101e-01,   1.29081145e-01,\n",
       "           4.02615406e-02,   3.60996202e-02,   1.40240774e-01,\n",
       "           5.75765818e-02,   4.08036143e-01,   3.71945091e-02,\n",
       "           1.06211081e-02,   1.28241926e-02,   1.26379117e-01,\n",
       "           8.46086964e-02,   3.73012759e-02,   2.87595149e-02,\n",
       "           0.00000000e+00],\n",
       "        [  9.36989188e-02,   3.43586951e-01,   3.01434517e-01,\n",
       "           6.49002120e-02,   1.03583504e-02,   5.34394793e-02,\n",
       "           1.05295368e-01,   8.05890083e-01,   1.66656181e-01,\n",
       "           1.06069095e-01,   2.18613520e-02,   8.76024738e-02,\n",
       "           1.32971033e-01,   9.01250467e-02,   2.50354968e-02,\n",
       "           0.00000000e+00],\n",
       "        [  1.01375110e-01,   7.80062750e-02,   4.83596355e-01,\n",
       "           3.09363067e-01,   5.42686507e-02,   1.90797970e-01,\n",
       "           2.76555657e-01,   7.09154457e-02,   1.98525965e-01,\n",
       "           2.89187044e-01,   9.00610462e-02,   6.26970381e-02,\n",
       "           4.81972322e-02,   8.24593287e-03,   3.45562883e-02,\n",
       "           0.00000000e+00],\n",
       "        [  1.21372184e-02,   2.55161244e-02,   2.14595765e-01,\n",
       "           1.98515296e-01,   8.90868753e-02,   1.37613453e-02,\n",
       "           8.80827308e-02,   4.62169275e-02,   9.97191966e-02,\n",
       "           3.86795513e-02,   9.25789177e-02,   8.36175587e-03,\n",
       "           1.95753109e-02,   7.35763606e-05,   3.07645253e-03,\n",
       "           0.00000000e+00],\n",
       "        [  0.00000000e+00,   0.00000000e+00,   0.00000000e+00,\n",
       "           0.00000000e+00,   0.00000000e+00,   0.00000000e+00,\n",
       "           0.00000000e+00,   0.00000000e+00,   0.00000000e+00,\n",
       "           0.00000000e+00,   0.00000000e+00,   0.00000000e+00,\n",
       "           0.00000000e+00,   0.00000000e+00,   0.00000000e+00,\n",
       "           0.00000000e+00]]], dtype=float32)"
      ]
     },
     "execution_count": 103,
     "metadata": {},
     "output_type": "execute_result"
    }
   ],
   "source": [
    "np.max(np.abs(a3),axis=1)"
   ]
  },
  {
   "cell_type": "code",
   "execution_count": 109,
   "metadata": {},
   "outputs": [
    {
     "data": {
      "image/png": "[encoded data removed]",
      "text/plain": [
       "<Figure size 432x288 with 2 Axes>"
      ]
     },
     "metadata": {
      "needs_background": "light"
     },
     "output_type": "display_data"
    }
   ],
   "source": [
    "a3=analysis[2]\n",
    "a3 = a3.sum(axis=np.argmax(np.asarray(a3.shape) == 3))\n",
    "a3 /= np.max(np.abs(a3),axis=1)\n",
    "# plt.imshow(a3, cmap=\"seismic\", clim=(-1, 1))\n",
    "# for i in range(24):\n",
    "plt.imshow(a3[0][22], cmap=\"seismic\", clim=(-1, 1))\n",
    "plt.colorbar()\n",
    "plt.show()"
   ]
  },
  {
   "cell_type": "code",
   "execution_count": 72,
   "metadata": {},
   "outputs": [
    {
     "data": {
      "text/plain": [
       "array([ 0.54542023,  0.57280326,  0.55741411,  0.57771832,  0.54373825,\n",
       "        0.56012601,  0.57107681,  0.67498314,  0.53773439,  0.51392424,\n",
       "        0.5373767 ,  0.54387432,  0.59930599,  0.5904485 ,  0.51380193,\n",
       "        0.53012234,  0.54785943,  0.54836625,  0.69688088,  0.66262096,\n",
       "        0.56907833,  0.61679125,  0.63201761,  0.59093076,  0.66319609,\n",
       "        0.6526587 ,  0.59249604,  0.52867889,  0.53133935,  0.50027472,\n",
       "        0.48201811,  0.53025818,  0.48370934,  0.526034  ,  0.50285012,\n",
       "        0.52767736,  0.5644325 ,  0.58794188,  0.63757896,  0.66826689,\n",
       "        0.58520281,  0.61605316,  0.59635681,  0.5669595 ,  0.61807096,\n",
       "        0.56563544,  0.5251984 ,  0.44894886,  0.58414102,  0.68314332,\n",
       "        0.59698343,  0.62983155,  0.57871026,  0.58209383], dtype=float32)"
      ]
     },
     "execution_count": 72,
     "metadata": {},
     "output_type": "execute_result"
    }
   ],
   "source": [
    "a4[0]"
   ]
  },
  {
   "cell_type": "code",
   "execution_count": 206,
   "metadata": {},
   "outputs": [
    {
     "data": {
      "image/png": "[encoded data removed]",
      "text/plain": [
       "<Figure size 432x288 with 2 Axes>"
      ]
     },
     "metadata": {
      "needs_background": "light"
     },
     "output_type": "display_data"
    }
   ],
   "source": [
    "a4=analysis[3]\n",
    "a4 = a4.sum(axis=np.argmax(np.asarray(a4.shape) == 3))\n",
    "a4 /= np.max(np.abs(a4))\n",
    "plt.imshow(a4, cmap=\"seismic\", clim=(-1, 1))\n",
    "plt.colorbar()\n",
    "plt.show()\n",
    "# for j in range(24):\n",
    "#     display(HTML(html_heatmap([str(i) for i in range(54)], a4[j])))\n"
   ]
  },
  {
   "cell_type": "code",
   "execution_count": 82,
   "metadata": {},
   "outputs": [],
   "source": [
    "import matplotlib\n",
    "import matplotlib.pyplot as plt\n",
    "import matplotlib.colors as colors\n",
    "import numpy as np\n",
    "# set the colormap and centre the colorbar\n",
    "class MidpointNormalize(colors.Normalize):\n",
    "\t\"\"\"\n",
    "\tNormalise the colorbar so that diverging bars work there way either side from a prescribed midpoint value)\n",
    "\n",
    "\te.g. im=ax1.imshow(array, norm=MidpointNormalize(midpoint=0.,vmin=-100, vmax=100))\n",
    "\t\"\"\"\n",
    "\tdef __init__(self, vmin=None, vmax=None, midpoint=None, clip=False):\n",
    "\t\tself.midpoint = midpoint\n",
    "\t\tcolors.Normalize.__init__(self, vmin, vmax, clip)\n",
    "\n",
    "\tdef __call__(self, value, clip=None):\n",
    "\t\t# I'm ignoring masked values and all kinds of edge cases to make a\n",
    "\t\t# simple example...\n",
    "\t\tx, y = [self.vmin, self.midpoint, self.vmax], [0, 0.5, 1]\n",
    "\t\treturn np.ma.masked_array(np.interp(value, x, y), np.isnan(value))"
   ]
  },
  {
   "cell_type": "code",
   "execution_count": 91,
   "metadata": {},
   "outputs": [
    {
     "data": {
      "image/png": "[encoded data removed]",
      "text/plain": [
       "<Figure size 432x288 with 2 Axes>"
      ]
     },
     "metadata": {
      "needs_background": "light"
     },
     "output_type": "display_data"
    }
   ],
   "source": [
    "elev_min=-1\n",
    "elev_max=1\n",
    "mid_val=-0.05\n",
    "cmap=matplotlib.cm.RdBu_r # set the colormap to soemthing diverging\n",
    "plt.imshow(a4, cmap=\"seismic\", clim=(elev_min, elev_max), norm=MidpointNormalize(midpoint=mid_val,vmin=elev_min, vmax=elev_max))\n",
    "plt.colorbar()\n",
    "plt.show()"
   ]
  },
  {
   "cell_type": "code",
   "execution_count": null,
   "metadata": {},
   "outputs": [],
   "source": []
  },
  {
   "cell_type": "code",
   "execution_count": 11,
   "metadata": {},
   "outputs": [],
   "source": [
    "import keras.backend as K\n",
    "import keras.layers\n",
    "from keras import optimizers\n",
    "from keras.engine.topology import Layer\n",
    "from keras.layers import Activation, Lambda\n",
    "from keras.layers import Conv1D, SpatialDropout1D\n",
    "from keras.layers import Convolution1D, Dense\n",
    "from keras.models import Input, Model\n",
    "from typing import List, Tuple\n",
    "\n",
    "\n",
    "def channel_normalization(x):\n",
    "    # type: (Layer) -> Layer\n",
    "    \"\"\" Normalize a layer to the maximum activation\n",
    "\n",
    "    This keeps a layers values between zero and one.\n",
    "    It helps with relu's unbounded activation\n",
    "\n",
    "    Args:\n",
    "        x: The layer to normalize\n",
    "\n",
    "    Returns:\n",
    "        A maximal normalized layer\n",
    "    \"\"\"\n",
    "    max_values = K.max(K.abs(x), 2, keepdims=True) + 1e-5\n",
    "    out = x / max_values\n",
    "    return out\n",
    "\n",
    "\n",
    "def wave_net_activation(x):\n",
    "    # type: (Layer) -> Layer\n",
    "    \"\"\"This method defines the activation used for WaveNet\n",
    "\n",
    "    described in https://deepmind.com/blog/wavenet-generative-model-raw-audio/\n",
    "\n",
    "    Args:\n",
    "        x: The layer we want to apply the activation to\n",
    "\n",
    "    Returns:\n",
    "        A new layer with the wavenet activation applied\n",
    "    \"\"\"\n",
    "    tanh_out = Activation('tanh')(x)\n",
    "    sigm_out = Activation('sigmoid')(x)\n",
    "    return keras.layers.multiply([tanh_out, sigm_out])\n",
    "\n",
    "\n",
    "def residual_block(x, s, i, c, activation, nb_filters, kernel_size, padding, dropout_rate=0):\n",
    "    # type: (Layer, int, int, int, str, int, int, str, float, str) -> Tuple[Layer, Layer]\n",
    "    \"\"\"Defines the residual block for the WaveNet TCN\n",
    "\n",
    "    Args:\n",
    "        x: The previous layer in the model\n",
    "        s: The stack index i.e. which stack in the overall TCN\n",
    "        i: The dilation power of 2 we are using for this residual block\n",
    "        c: The dilation name to make it unique. In case we have same dilation twice: [1, 1, 2, 4].\n",
    "        activation: The name of the type of activation to use\n",
    "        nb_filters: The number of convolutional filters to use in this block\n",
    "        kernel_size: The size of the convolutional kernel\n",
    "        padding: The padding used in the convolutional layers, 'same' or 'causal'.\n",
    "        dropout_rate: Float between 0 and 1. Fraction of the input units to drop.\n",
    "        name: Name of the model. Useful when having multiple TCN.\n",
    "\n",
    "    Returns:\n",
    "        A tuple where the first element is the residual model layer, and the second\n",
    "        is the skip connection.\n",
    "    \"\"\"\n",
    "\n",
    "    original_x = x\n",
    "    conv = Conv1D(filters=nb_filters, kernel_size=kernel_size,\n",
    "                  dilation_rate=i, padding=padding)(x)\n",
    "    if activation == 'norm_relu':\n",
    "        x = Activation('relu')(conv)\n",
    "        x = Lambda(channel_normalization)(x)\n",
    "    elif activation == 'wavenet':\n",
    "        x = wave_net_activation(conv)\n",
    "    else:\n",
    "        x = Activation(activation)(conv)\n",
    "\n",
    "    x = SpatialDropout1D(dropout_rate)(x)\n",
    "\n",
    "    # 1x1 conv.\n",
    "    x = Convolution1D(nb_filters, 1, padding='same')(x)\n",
    "    res_x = keras.layers.add([original_x, x])\n",
    "    return res_x, x\n",
    "\n",
    "\n",
    "def process_dilations(dilations):\n",
    "    def is_power_of_two(num):\n",
    "        return num != 0 and ((num & (num - 1)) == 0)\n",
    "\n",
    "    if all([is_power_of_two(i) for i in dilations]):\n",
    "        return dilations\n",
    "\n",
    "    else:\n",
    "        new_dilations = [2 ** i for i in dilations]\n",
    "        # print(f'Updated dilations from {dilations} to {new_dilations} because of backwards compatibility.')\n",
    "        return new_dilations\n",
    "\n",
    "\n",
    "class TCN:\n",
    "    \"\"\"Creates a TCN layer.\n",
    "\n",
    "        Input shape:\n",
    "            A tensor of shape (batch_size, timesteps, input_dim).\n",
    "\n",
    "        Args:\n",
    "            nb_filters: The number of filters to use in the convolutional layers.\n",
    "            kernel_size: The size of the kernel to use in each convolutional layer.\n",
    "            dilations: The list of the dilations. Example is: [1, 2, 4, 8, 16, 32, 64].\n",
    "            nb_stacks : The number of stacks of residual blocks to use.\n",
    "            activation: The activations to use (norm_relu, wavenet, relu...).\n",
    "            padding: The padding to use in the convolutional layers, 'causal' or 'same'.\n",
    "            use_skip_connections: Boolean. If we want to add skip connections from input to each residual block.\n",
    "            return_sequences: Boolean. Whether to return the last output in the output sequence, or the full sequence.\n",
    "            dropout_rate: Float between 0 and 1. Fraction of the input units to drop.\n",
    "            name: Name of the model. Useful when having multiple TCN.\n",
    "\n",
    "        Returns:\n",
    "            A TCN layer.\n",
    "        \"\"\"\n",
    "\n",
    "    def __init__(self,\n",
    "                 nb_filters=64,\n",
    "                 kernel_size=2,\n",
    "                 nb_stacks=1,\n",
    "                 dilations=[1, 2, 4, 8, 16, 32],\n",
    "                 activation='norm_relu',\n",
    "                 padding='causal',\n",
    "                 use_skip_connections=True,\n",
    "                 dropout_rate=0.0,\n",
    "                 return_sequences=True):\n",
    "        self.return_sequences = return_sequences\n",
    "        self.dropout_rate = dropout_rate\n",
    "        self.use_skip_connections = use_skip_connections\n",
    "        self.activation = activation\n",
    "        self.dilations = dilations\n",
    "        self.nb_stacks = nb_stacks\n",
    "        self.kernel_size = kernel_size\n",
    "        self.nb_filters = nb_filters\n",
    "        self.padding = padding\n",
    "\n",
    "        if padding != 'causal' and padding != 'same':\n",
    "            raise ValueError(\"Only 'causal' or 'same' padding are compatible for this layer.\")\n",
    "\n",
    "        if not isinstance(nb_filters, int):\n",
    "            print('An interface change occurred after the version 2.1.2.')\n",
    "            print('Before: tcn.TCN(i, return_sequences=False, ...)')\n",
    "            print('Now should be: tcn.TCN(return_sequences=False, ...)(i)')\n",
    "            print('Second solution is to pip install keras-tcn==2.1.2 to downgrade.')\n",
    "            raise Exception()\n",
    "\n",
    "    def __call__(self, inputs):\n",
    "        x = inputs\n",
    "        x = Convolution1D(self.nb_filters, 1, padding=self.padding)(x)\n",
    "        skip_connections = []\n",
    "        for s in range(self.nb_stacks):\n",
    "            for i, d in enumerate(self.dilations):\n",
    "                x, skip_out = residual_block(x, s, d, i, self.activation, self.nb_filters,\n",
    "                                             self.kernel_size, self.padding, self.dropout_rate)\n",
    "                skip_connections.append(skip_out)\n",
    "        if self.use_skip_connections:\n",
    "            x = keras.layers.add(skip_connections)\n",
    "        x = Activation('relu')(x)\n",
    "\n",
    "        if not self.return_sequences:\n",
    "            output_slice_index = -1\n",
    "            x = Lambda(lambda tt: tt[:, output_slice_index, :])(x)\n",
    "        return x\n",
    "\n",
    "\n",
    "def compiled_tcn(num_feat,  # type: int\n",
    "                 num_classes,  # type: int\n",
    "                 nb_filters,  # type: int\n",
    "                 kernel_size,  # type: int\n",
    "                 dilations,  # type: List[int]\n",
    "                 nb_stacks,  # type: int\n",
    "                 max_len,  # type: int\n",
    "                 activation='norm_relu',  # type: str\n",
    "                 padding='causal',  # type: str\n",
    "                 use_skip_connections=True,  # type: bool\n",
    "                 return_sequences=True,\n",
    "                 regression=False,  # type: bool\n",
    "                 dropout_rate=0.05,  # type: float\n",
    "                 ):\n",
    "    # type: (...) -> keras.Model\n",
    "    \"\"\"Creates a compiled TCN model for a given task (i.e. regression or classification).\n",
    "\n",
    "    Args:\n",
    "        num_feat: The number of features of your input, i.e. the last dimension of: (batch_size, timesteps, input_dim).\n",
    "        num_classes: The size of the final dense layer, how many classes we are predicting.\n",
    "        nb_filters: The number of filters to use in the convolutional layers.\n",
    "        kernel_size: The size of the kernel to use in each convolutional layer.\n",
    "        dilations: The list of the dilations. Example is: [1, 2, 4, 8, 16, 32, 64].\n",
    "        nb_stacks : The number of stacks of residual blocks to use.\n",
    "        max_len: The maximum sequence length, use None if the sequence length is dynamic.\n",
    "        activation: The activations to use.\n",
    "        padding: The padding to use in the convolutional layers.\n",
    "        use_skip_connections: Boolean. If we want to add skip connections from input to each residual block.\n",
    "        return_sequences: Boolean. Whether to return the last output in the output sequence, or the full sequence.\n",
    "        regression: Whether the output should be continuous or discrete.\n",
    "        dropout_rate: Float between 0 and 1. Fraction of the input units to drop.\n",
    "        name: Name of the model. Useful when having multiple TCN.\n",
    "\n",
    "    Returns:\n",
    "        A compiled keras TCN.\n",
    "    \"\"\"\n",
    "\n",
    "    dilations = process_dilations(dilations)\n",
    "\n",
    "    input_layer = Input(shape=(max_len, num_feat))\n",
    "\n",
    "    x = TCN(nb_filters, kernel_size, nb_stacks, dilations, activation,\n",
    "            padding, use_skip_connections, dropout_rate, return_sequences)(input_layer)\n",
    "\n",
    "    print('x.shape=', x.shape)\n",
    "\n",
    "    if not regression:\n",
    "        # classification\n",
    "        x = Dense(num_classes)(x)\n",
    "        x = Activation('softmax')(x)\n",
    "        output_layer = x\n",
    "        print(f'model.x = {input_layer.shape}')\n",
    "        print(f'model.y = {output_layer.shape}')\n",
    "        model = Model(input_layer, output_layer)\n",
    "\n",
    "        # https://github.com/keras-team/keras/pull/11373\n",
    "        # It's now in Keras@master but still not available with pip.\n",
    "        # TODO To remove later.\n",
    "        def accuracy(y_true, y_pred):\n",
    "            # reshape in case it's in shape (num_samples, 1) instead of (num_samples,)\n",
    "            if K.ndim(y_true) == K.ndim(y_pred):\n",
    "                y_true = K.squeeze(y_true, -1)\n",
    "            # convert dense predictions to labels\n",
    "            y_pred_labels = K.argmax(y_pred, axis=-1)\n",
    "            y_pred_labels = K.cast(y_pred_labels, K.floatx())\n",
    "            return K.cast(K.equal(y_true, y_pred_labels), K.floatx())\n",
    "\n",
    "        adam = optimizers.Adam(lr=0.002, clipnorm=1.)\n",
    "        model.compile(adam, loss='sparse_categorical_crossentropy', metrics=[accuracy])\n",
    "        print('Adam with norm clipping.')\n",
    "    else:\n",
    "        # regression\n",
    "        x = Dense(1)(x)\n",
    "        x = Activation('linear')(x)\n",
    "        output_layer = x\n",
    "        print(f'model.x = {input_layer.shape}')\n",
    "        print(f'model.y = {output_layer.shape}')\n",
    "        model = Model(input_layer, output_layer)\n",
    "        adam = optimizers.Adam(lr=0.002, clipnorm=1.)\n",
    "        model.compile(adam, loss='mean_squared_error')\n",
    "\n",
    "    return model\n"
   ]
  },
  {
   "cell_type": "markdown",
   "metadata": {},
   "source": [
    "## self-attention"
   ]
  },
  {
   "cell_type": "code",
   "execution_count": 28,
   "metadata": {},
   "outputs": [],
   "source": [
    "from keras.layers import *\n",
    "import keras.backend as K\n",
    "\n",
    "\n",
    "def to_mask(x, mask, mode='mul'):\n",
    "    \"\"\"通用mask函数\n",
    "    \"\"\"\n",
    "    if mask is None:\n",
    "        return x\n",
    "    else:\n",
    "        for _ in range(K.ndim(x) - K.ndim(mask)):\n",
    "            mask = K.expand_dims(mask, K.ndim(mask))\n",
    "        if mode == 'mul':\n",
    "            return x * mask\n",
    "        else:\n",
    "            return x - (1 - mask) * 1e10\n",
    "\n",
    "class OurLayer(Layer):\n",
    "    \"\"\"定义新的Layer，增加reuse方法，允许在定义Layer时调用现成的层\n",
    "    \"\"\"\n",
    "    def reuse(self, layer, *args, **kwargs):\n",
    "        if not layer.built:\n",
    "            if len(args) > 0:\n",
    "                inputs = args[0]\n",
    "            else:\n",
    "                inputs = kwargs['inputs']\n",
    "            if isinstance(inputs, list):\n",
    "                input_shape = [K.int_shape(x) for x in inputs]\n",
    "            else:\n",
    "                input_shape = K.int_shape(inputs)\n",
    "            layer.build(input_shape)\n",
    "        outputs = layer.call(*args, **kwargs)\n",
    "        for w in layer.trainable_weights:\n",
    "            if w not in self._trainable_weights:\n",
    "                self._trainable_weights.append(w)\n",
    "        for w in layer.non_trainable_weights:\n",
    "            if w not in self._non_trainable_weights:\n",
    "                self._non_trainable_weights.append(w)\n",
    "        return outputs\n",
    "class MAttention(OurLayer):\n",
    "    \"\"\"多头注意力机制\n",
    "    \"\"\"\n",
    "    def __init__(self, heads=8, size_per_head=16, key_size=None,\n",
    "                 mask_right=False, **kwargs):\n",
    "        super(MAttention, self).__init__(**kwargs)\n",
    "        self.heads = heads\n",
    "        self.size_per_head = size_per_head\n",
    "        self.out_dim = heads * size_per_head\n",
    "        self.key_size = key_size if key_size else size_per_head\n",
    "        self.mask_right = mask_right\n",
    "    def build(self, input_shape):\n",
    "        super(MAttention, self).build(input_shape)\n",
    "        self.q_dense = Dense(self.key_size * self.heads, use_bias=False)\n",
    "        self.k_dense = Dense(self.key_size * self.heads, use_bias=False)\n",
    "        self.v_dense = Dense(self.out_dim, use_bias=False)\n",
    "    def get_config(self):\n",
    "        config = {'heads': self.heads,'size_per_head': self.size_per_head}\n",
    "        base_config = super(MAttention, self).get_config()\n",
    "        return dict(list(base_config.items()) + list(config.items()))\n",
    "\n",
    "    def call(self, inputs):\n",
    "        q, k, v = inputs[: 3]\n",
    "        v_mask, q_mask = None, None\n",
    "        if len(inputs) > 3:\n",
    "            v_mask = inputs[3]\n",
    "            if len(inputs) > 4:\n",
    "                q_mask = inputs[4]\n",
    "        # 线性变换\n",
    "        qw = self.reuse(self.q_dense, q)\n",
    "        kw = self.reuse(self.k_dense, k)\n",
    "        vw = self.reuse(self.v_dense, v)\n",
    "        # 形状变换\n",
    "        qw = K.reshape(qw, (-1, K.shape(qw)[1], self.heads, self.key_size))\n",
    "        kw = K.reshape(kw, (-1, K.shape(kw)[1], self.heads, self.key_size))\n",
    "        vw = K.reshape(vw, (-1, K.shape(vw)[1], self.heads, self.size_per_head))\n",
    "        # 维度置换\n",
    "        qw = K.permute_dimensions(qw, (0, 2, 1, 3))\n",
    "        kw = K.permute_dimensions(kw, (0, 2, 1, 3))\n",
    "        vw = K.permute_dimensions(vw, (0, 2, 1, 3))\n",
    "        # Attention\n",
    "        a = K.batch_dot(qw, kw, [3, 3]) / self.key_size**0.5\n",
    "        a = K.permute_dimensions(a, (0, 3, 2, 1))\n",
    "        a = to_mask(a, v_mask, 'add')\n",
    "        a = K.permute_dimensions(a, (0, 3, 2, 1))\n",
    "        if (self.mask_right is not False) or (self.mask_right is not None):\n",
    "            if self.mask_right is True:\n",
    "                ones = K.ones_like(a[: 1, : 1])\n",
    "                mask = (ones - K.tf.matrix_band_part(ones, -1, 0)) * 1e10\n",
    "                a = a - mask\n",
    "            else:\n",
    "                # 这种情况下，mask_right是外部传入的0/1矩阵，shape=[q_len, k_len]\n",
    "                mask = (1 - K.constant(self.mask_right)) * 1e10\n",
    "                mask = K.expand_dims(K.expand_dims(mask, 0), 0)\n",
    "                self.mask = mask\n",
    "                a = a - mask\n",
    "        a = K.softmax(a)\n",
    "        self.a = a\n",
    "        # 完成输出\n",
    "        o = K.batch_dot(a, vw, [3, 2])\n",
    "        o = K.permute_dimensions(o, (0, 2, 1, 3))\n",
    "        o = K.reshape(o, (-1, K.shape(o)[1], self.out_dim))\n",
    "        o = to_mask(o, q_mask, 'mul')\n",
    "        return o\n",
    "    def compute_output_shape(self, input_shape):\n",
    "        return (input_shape[0][0], input_shape[0][1], self.out_dim)\n"
   ]
  },
  {
   "cell_type": "code",
   "execution_count": null,
   "metadata": {},
   "outputs": [],
   "source": []
  }
 ],
 "metadata": {
  "kernelspec": {
   "display_name": "Python 3",
   "language": "python",
   "name": "python3"
  },
  "language_info": {
   "codemirror_mode": {
    "name": "ipython",
    "version": 3
   },
   "file_extension": ".py",
   "mimetype": "text/x-python",
   "name": "python",
   "nbconvert_exporter": "python",
   "pygments_lexer": "ipython3",
   "version": "3.6.6"
  }
 },
 "nbformat": 4,
 "nbformat_minor": 2
}
